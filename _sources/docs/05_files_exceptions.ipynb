{
 "cells": [
  {
   "cell_type": "markdown",
   "id": "ee8f4fe2-6787-46d9-8880-44845a5f9667",
   "metadata": {},
   "source": [
    "(files_exceptions)=\n",
    "# Files and Exceptions"
   ]
  },
  {
   "cell_type": "markdown",
   "id": "8180052a-a9ef-4413-86ed-7d963f41d2ab",
   "metadata": {},
   "source": [
    "We often need to read data from files. With Python we can read many different formats, for example Word documents, PDF documents, or tabular data in Excel or CSV format.\n",
    "Some of these file formats require third-party libraries.\n",
    "Here, we will look at reading from and writing to plain text files."
   ]
  },
  {
   "cell_type": "markdown",
   "id": "7d50e342-3610-477d-a23c-cc0299848ab4",
   "metadata": {},
   "source": [
    "## Opening Files\n",
    "We can open a file containing the introduction to an ECtHR case: \n",
    "{download}`LO-NTF-v-Norway.txt<./LO-NTF-v-Norway.txt>`"
   ]
  },
  {
   "cell_type": "code",
   "execution_count": null,
   "id": "200005e2-0d7d-494c-b60b-90e0cc2fc26d",
   "metadata": {},
   "outputs": [],
   "source": [
    "filename = 'LO-NTF-v-Norway.txt'"
   ]
  },
  {
   "cell_type": "markdown",
   "id": "ce1a199f-261b-4400-af1c-7fa6b84a25c4",
   "metadata": {},
   "source": [
    "We can open files with the function `open()`."
   ]
  },
  {
   "cell_type": "code",
   "execution_count": null,
   "id": "be538b02-0f21-4fc5-b1a5-2ec8ef57db9d",
   "metadata": {},
   "outputs": [],
   "source": [
    "file = open(filename)"
   ]
  },
  {
   "cell_type": "markdown",
   "id": "dacb0631-5b5f-4654-ad62-def31fe1bf59",
   "metadata": {},
   "source": [
    "We can optionally specify the text encoding, which is often UTF-8.\n"
   ]
  },
  {
   "cell_type": "code",
   "execution_count": null,
   "id": "b1ae0f7f-c4ea-4799-b1d4-44d3ea857cea",
   "metadata": {},
   "outputs": [],
   "source": [
    "file = open(filename, encoding='UTF-8')"
   ]
  },
  {
   "cell_type": "markdown",
   "id": "184da0e4-6896-4865-910a-58904d896c0a",
   "metadata": {},
   "source": [
    "We can use the `open()` function directly and assign the result to a variable, as above.\n",
    "However, open files consume system resources.\n",
    "Therefore, we must always remember to close files when we are finished with them.\n",
    "A large program or web application that keeps opening files without closing them will eventually run out of memory and crash.\n",
    "\n",
    "Python can automatically close files for us if we use the `with` statement."
   ]
  },
  {
   "cell_type": "code",
   "execution_count": null,
   "id": "88ed6a13-b1ee-463f-b405-bd621947ed62",
   "metadata": {},
   "outputs": [],
   "source": [
    "with open(filename) as file:\n",
    "    print(file)"
   ]
  },
  {
   "cell_type": "markdown",
   "id": "ba5ec33b-99ad-486d-bf05-7b36b6038b90",
   "metadata": {},
   "source": [
    "```{caution}\n",
    "*Always* use `with` when opening files.\n",
    "```"
   ]
  },
  {
   "cell_type": "markdown",
   "id": "9ca4bb3c-00be-4b51-8d64-d249c3283b21",
   "metadata": {},
   "source": [
    "```{note}\n",
    "Notice that the `print()` statement above prints a description of the file object, not the file content.\n",
    "We must use methods of this object to get the content.\n",
    "```"
   ]
  },
  {
   "cell_type": "markdown",
   "id": "5688a87d-110a-4528-bfe5-d415f8f5adc2",
   "metadata": {},
   "source": [
    "## Reading the File Content\n",
    "\n",
    "We can use the method `readline()` to read single lines from the file."
   ]
  },
  {
   "cell_type": "code",
   "execution_count": null,
   "id": "4a65abd5-a8d7-43fe-9207-095d03f95d31",
   "metadata": {},
   "outputs": [],
   "source": [
    "with open(filename) as file:\n",
    "    print(file.readline())"
   ]
  },
  {
   "cell_type": "markdown",
   "id": "d59ff2aa-c95b-47b3-b48d-b54dbb66d15d",
   "metadata": {},
   "source": [
    "We can also use a `for` loop to process the file line by line."
   ]
  },
  {
   "cell_type": "code",
   "execution_count": null,
   "id": "32e17f33-c8db-4ca4-a293-7314e17b56bf",
   "metadata": {
    "tags": [
     "hide-output"
    ]
   },
   "outputs": [],
   "source": [
    "with open(filename) as file:\n",
    "    for line in file:\n",
    "        print(line)"
   ]
  },
  {
   "cell_type": "markdown",
   "id": "ed8e49f3-7ce2-4cc9-a4fa-b42d48d09a46",
   "metadata": {},
   "source": [
    "## Removing Whitespace\n",
    "\n",
    "When we print the file content above, we get a blank line between each line.\n",
    "This is because the lines we read contain a newline, `\\n`, and the print statement also insert a newline.\n",
    "To avoid this, we should remove *leading* and *trailing* whitespace with the string method `strip()`."
   ]
  },
  {
   "cell_type": "code",
   "execution_count": null,
   "id": "f0c5f57b-dcb6-4cf3-a35c-b276c99f36de",
   "metadata": {
    "tags": [
     "hide-output"
    ]
   },
   "outputs": [],
   "source": [
    "with open(filename) as file:\n",
    "    for line in file:\n",
    "        line = line.strip()\n",
    "        print(line)"
   ]
  },
  {
   "cell_type": "markdown",
   "id": "c3c92ee9-25c8-413a-b40e-2f346366aa0f",
   "metadata": {},
   "source": [
    "## Splitting Strings\n",
    "\n",
    "Sometimes we need to process text word by word.\n",
    "To do this, we can use the string method `split()`, which splits a string on whitespace by default.\n",
    "We can also specify some other character to split on."
   ]
  },
  {
   "cell_type": "code",
   "execution_count": null,
   "id": "8453a9ef-de1c-40d7-8d60-278350fe5c6c",
   "metadata": {
    "tags": []
   },
   "outputs": [],
   "source": [
    "with open(filename) as file:\n",
    "    line = file.readline()\n",
    "    line = line.strip()\n",
    "    words = line.split()\n",
    "    print(words)"
   ]
  },
  {
   "cell_type": "markdown",
   "id": "1fd14c5a-0347-4f9a-a0aa-afcec1923e76",
   "metadata": {},
   "source": [
    "## Joining Strings\n",
    "When we have processed the information in the list, we can `join()` the items into a new string.\n",
    "We could use a new separator for joining the items.\n",
    "For example, in filenames we might use underscores instead of spaces."
   ]
  },
  {
   "cell_type": "code",
   "execution_count": null,
   "id": "6b726983-c0d3-4680-b275-58d15c727ec5",
   "metadata": {},
   "outputs": [],
   "source": [
    "line = '_'.join(words)\n",
    "print(line)"
   ]
  },
  {
   "cell_type": "markdown",
   "id": "c48f1fd2-c386-4551-96c9-be862e329351",
   "metadata": {},
   "source": [
    "## Extracting Information\n",
    "\n",
    "We want to extract the list of judges from the case into a Python list.\n",
    "The list of judges starts with the President, and ends with the Registrar.\n",
    "We can use these cues to extract the list."
   ]
  },
  {
   "cell_type": "code",
   "execution_count": null,
   "id": "6e4439c6-ddd1-42f7-970e-ade558ef5e72",
   "metadata": {
    "tags": []
   },
   "outputs": [],
   "source": [
    "found_start = False\n",
    "judges = []\n",
    "\n",
    "with open(filename) as file:\n",
    "    for line in file:\n",
    "        line = line.strip()\n",
    "        if not found_start:\n",
    "            if 'president' in line.lower():\n",
    "                found_start = True\n",
    "                judges.append(line)\n",
    "        else:\n",
    "            judges.append(line)\n",
    "            if 'registrar' in line.lower():\n",
    "                break\n",
    "\n",
    "print(judges)"
   ]
  },
  {
   "cell_type": "markdown",
   "id": "13f3801e-f241-41d3-bedc-fa4f026c6c68",
   "metadata": {},
   "source": [
    "Here, we use the statement `break` to stop the loop as soon as we find the registrar.\n",
    "This code still has room for improvement. For example, the extracted names contain commas.\n",
    "This is left as an exercise.\n",
    "\n",
    "```{note}\n",
    "We could easily extract this information by hand from a single document.\n",
    "But with Python code, we can extract the information from *thousands* of documents in a short time.\n",
    "```"
   ]
  },
  {
   "cell_type": "markdown",
   "id": "3acb927d-bf94-4e95-92f7-7b0709d8f4c9",
   "metadata": {
    "tags": []
   },
   "source": [
    "## Writing Files\n",
    "\n",
    "We can also write data to files. Let's store the list of judges in a text file."
   ]
  },
  {
   "cell_type": "code",
   "execution_count": null,
   "id": "f2154743-f3cc-43e1-b7e6-e15ba951db61",
   "metadata": {},
   "outputs": [],
   "source": [
    "output_file_name = 'judges.txt'"
   ]
  },
  {
   "cell_type": "markdown",
   "id": "d8fc3872-d5b0-46a9-8ca6-c0bd7abbc190",
   "metadata": {},
   "source": [
    "When we want to open a file for writing, we need to specify *writing mode*, with the mode parameter `'w'`.\n",
    "\n",
    "The mode has the default value `'r'` for reading, but for consistency we can specify this parameter even when reading."
   ]
  },
  {
   "cell_type": "code",
   "execution_count": null,
   "id": "7641f877-4980-4800-8f50-add6762e037a",
   "metadata": {},
   "outputs": [],
   "source": [
    "with open(output_file_name, 'w') as outfile:\n",
    "    pass"
   ]
  },
  {
   "cell_type": "markdown",
   "id": "41b09847-cdae-4f88-8b1f-2ae2e684b4db",
   "metadata": {},
   "source": [
    "```{admonition} Pass Statements\n",
    "We use `pass` statements to do nothing in the code block.\n",
    "The `with` statement and all other statements expecting an indented code block must contain at least one statement to be valid.\n",
    "```"
   ]
  },
  {
   "cell_type": "markdown",
   "id": "048ed69a-6fbd-4582-a13b-b25ced458668",
   "metadata": {},
   "source": [
    "Once the file has been opened, we can write to it with a `print()` statement.\n",
    "We must give `print()` a `file` parameter to send the text to a file instead of the console."
   ]
  },
  {
   "cell_type": "code",
   "execution_count": null,
   "id": "65f55d22-07e0-4650-97d8-a89169aeb0c7",
   "metadata": {},
   "outputs": [],
   "source": [
    "with open(output_file_name, 'w') as outfile:\n",
    "    print(judges, file=outfile)"
   ]
  },
  {
   "cell_type": "markdown",
   "id": "096116ab-05fc-4a72-b143-5a805b7be372",
   "metadata": {},
   "source": [
    "## Exceptions\n",
    "\n",
    "When something goes wrong in a program, an *exception* is *raised*.\n",
    "An exception is a \"signal\" that an error has occurred and must be handled.\n",
    "For example, exceptions can occur when user input doesn't match the expectations.\n",
    "We should handle exceptions that might occur.\n",
    "\n",
    "For example, trying to open a file that doesn't exist raises an exception:"
   ]
  },
  {
   "cell_type": "code",
   "execution_count": null,
   "id": "cd5439ba-4bdf-4cc3-b5ae-e20089e7594a",
   "metadata": {
    "tags": [
     "raises-exception"
    ]
   },
   "outputs": [],
   "source": [
    "filename = 'non-existing-file.txt' # often from user input\n",
    "with open(filename) as file:\n",
    "    print(file)"
   ]
  },
  {
   "cell_type": "markdown",
   "id": "5e6169d7-1da2-4a61-b0f0-9afb9b6db86a",
   "metadata": {},
   "source": [
    "In this case, we get a `FileNotFoundError` exception.\n",
    "Unhandled exceptions make the program stop or crash."
   ]
  },
  {
   "cell_type": "markdown",
   "id": "20c3d56f-5458-4aa7-8862-3d9246d940b1",
   "metadata": {},
   "source": [
    "## Handling Exceptions\n",
    "We can handle exceptions with `try` and `except` statements."
   ]
  },
  {
   "cell_type": "code",
   "execution_count": null,
   "id": "51f2747e-ec93-4bb6-afc2-61c65ba8a3eb",
   "metadata": {},
   "outputs": [],
   "source": [
    "try:\n",
    "    with open(filename) as file:\n",
    "        print(file)\n",
    "except FileNotFoundError:\n",
    "    print('no such file:', filename)"
   ]
  },
  {
   "cell_type": "markdown",
   "id": "348c686d-fa3a-4664-bdbd-24adf34e4941",
   "metadata": {},
   "source": [
    "Now, instead of crashing the program will keep running."
   ]
  },
  {
   "cell_type": "markdown",
   "id": "e21d6dcd-caa1-4edc-8e36-7e8543fa61a4",
   "metadata": {},
   "source": [
    "## Handling Multiple Exceptions\n",
    "\n",
    "We can also handle multiple exceptions. We can handle different exceptions differently."
   ]
  },
  {
   "cell_type": "code",
   "execution_count": null,
   "id": "978aa485-6560-43e6-af80-cfd22078e451",
   "metadata": {
    "tags": [
     "hide-output"
    ]
   },
   "outputs": [],
   "source": [
    "try:\n",
    "    with open(filename) as file:\n",
    "        print(file)\n",
    "except FileNotFoundError:\n",
    "    print('no such file:', filename)\n",
    "except IOError as e:\n",
    "    print('Error opening file:', e)"
   ]
  },
  {
   "cell_type": "markdown",
   "id": "f8a07f4a-bc9b-4e7c-a4b7-5a81d4a65b8e",
   "metadata": {},
   "source": [
    "We handle more specific exceptions first, then more general exceptions. The most general exception is just called `Exception`."
   ]
  },
  {
   "cell_type": "code",
   "execution_count": null,
   "id": "90126d02-1b75-47a8-a2a0-02f2b4bbf9ca",
   "metadata": {
    "tags": [
     "hide-output"
    ]
   },
   "outputs": [],
   "source": [
    "try:\n",
    "    with open(filename) as file:\n",
    "        print(file)\n",
    "except FileNotFoundError:\n",
    "    print('no such file:', filename)\n",
    "except IOError as e:\n",
    "    print('Error reading from file:', e)\n",
    "except Exception as e:\n",
    "    print('Exception:', e)"
   ]
  },
  {
   "cell_type": "markdown",
   "id": "33db0e95-c47c-4ab2-a12d-1d2472baf08b",
   "metadata": {},
   "source": [
    "## F-strings\n",
    "Printing strings that contain many variables can be cumbersome.\n",
    "For example, we could print names and phone numbers like this:"
   ]
  },
  {
   "cell_type": "code",
   "execution_count": null,
   "id": "1c5153bc-dfe4-4c17-a8e6-f7459da35326",
   "metadata": {},
   "outputs": [],
   "source": [
    "name = 'Peder Ås'\n",
    "phone = 5367\n",
    "print('Please call', name, 'at phone number', phone, 'ASAP')"
   ]
  },
  {
   "cell_type": "markdown",
   "id": "011d71b7-662a-4b0e-887a-a02b62ec0992",
   "metadata": {},
   "source": [
    "There are a lot of quotes and commas that need to be in the right place.\n",
    "Some prefer using f-strings, short for formatted strings.\n",
    "F-strings start with an \"f\" before the first quote:"
   ]
  },
  {
   "cell_type": "code",
   "execution_count": null,
   "id": "0af135e7-7e5c-48e2-8aad-869733e2bc30",
   "metadata": {},
   "outputs": [],
   "source": [
    "print(f'Please call {name} at phone number {phone} ASAP')"
   ]
  },
  {
   "cell_type": "markdown",
   "id": "892bb88f-654b-4adc-9859-380b44f0d376",
   "metadata": {},
   "source": [
    "The curly brackets can contain expressions, for example a dictionary lookup:"
   ]
  },
  {
   "cell_type": "code",
   "execution_count": null,
   "id": "58908f4f-9d65-4348-9511-bf8c18f0b479",
   "metadata": {
    "tags": [
     "raises-exception",
     "remove-output"
    ]
   },
   "outputs": [],
   "source": [
    "print(f'Please call {name} at phone number {clients[name]} ASAP')"
   ]
  },
  {
   "cell_type": "markdown",
   "id": "cc881f3c-d06a-4132-806c-d3d3c66db71d",
   "metadata": {
    "tags": []
   },
   "source": [
    "## Raising Exceptions\n",
    "We can make our own exceptions if something goes wrong.\n",
    "We signal an exception with a `raise` statement.\n",
    "The exception needs to be handled by some other part of our program.\n",
    "\n",
    "Say we have a function that is called with some user input as an argument."
   ]
  },
  {
   "cell_type": "code",
   "execution_count": null,
   "id": "8037880b-50c6-477c-89b2-68efffae5aeb",
   "metadata": {
    "tags": [
     "raises-exception",
     "hide-output"
    ]
   },
   "outputs": [],
   "source": [
    "clients = {'Peder Ås': 5664,\n",
    "           'Marte Kirkerud': 8952}\n",
    "input_from_user = 'Peder Ås'"
   ]
  },
  {
   "cell_type": "markdown",
   "id": "d3a3c9be-e787-415e-8db4-2182c02d0e9f",
   "metadata": {},
   "source": [
    "We check if the user input is correct.\n",
    "If the input is incorrect, we need to signal back to the caller with an exception.\n",
    "In many functions, we can't show an error message directly to the user because interaction with the user is handled by a different part of the program.\n"
   ]
  },
  {
   "cell_type": "code",
   "execution_count": null,
   "id": "554fec34-0113-4192-affe-477a680f156e",
   "metadata": {
    "tags": [
     "raises-exception",
     "hide-output"
    ]
   },
   "outputs": [],
   "source": [
    "if input_from_user in clients:\n",
    "    print(f'{input_from_user} has number {clients[input_from_user]}')\n",
    "else:\n",
    "    raise ValueError(f'{input_from_user} is not a client')"
   ]
  },
  {
   "cell_type": "markdown",
   "id": "2d754ba8-0611-4af2-bffd-4ba5a21688bb",
   "metadata": {
    "tags": []
   },
   "source": [
    "## Opening Multiple Files\n",
    "Some data sets store all the data in a single file.\n",
    "But the data can also be split into many smaller files.\n",
    "Then, we will need to iterate over the files the files to open them.\n",
    "Python has the library `pathlib` for working with directories (folders) and file names.\n",
    "We use `Path` from this library.\n",
    "\n",
    "First, we must import it:\n"
   ]
  },
  {
   "cell_type": "code",
   "execution_count": null,
   "id": "ba9b1a76-cdbd-4482-b98b-8226bd2f9a54",
   "metadata": {},
   "outputs": [],
   "source": [
    "from pathlib import Path"
   ]
  },
  {
   "cell_type": "markdown",
   "id": "d3112faf-cd55-4771-8e36-e547a5787184",
   "metadata": {},
   "source": [
    "We make a new `Path` object for our directory \"data\"."
   ]
  },
  {
   "cell_type": "code",
   "execution_count": null,
   "id": "6fd5bb13-dc80-47bf-9b68-99fb9cd88ff5",
   "metadata": {},
   "outputs": [],
   "source": [
    "directory = Path('data')\n"
   ]
  },
  {
   "cell_type": "markdown",
   "id": "445eef5c-e53d-4ce1-8679-a918367ea51d",
   "metadata": {},
   "source": [
    "From the object \"directory\", we can make an iterator over the files."
   ]
  },
  {
   "cell_type": "code",
   "execution_count": null,
   "id": "776448bc-50d1-4077-896c-1f7852c2126c",
   "metadata": {},
   "outputs": [],
   "source": [
    "file_iterator = directory.iterdir()"
   ]
  },
  {
   "cell_type": "markdown",
   "id": "318ab2ff-a776-4bd1-93bd-096668a137b5",
   "metadata": {},
   "source": [
    "We loop over this iterator to open the files."
   ]
  },
  {
   "cell_type": "code",
   "execution_count": null,
   "id": "0eb2068a-05f6-426f-a5b0-800bc3c60125",
   "metadata": {},
   "outputs": [],
   "source": [
    "for filename in file_iterator:\n",
    "    with open(filename) as file:\n",
    "        print(file)"
   ]
  },
  {
   "cell_type": "markdown",
   "id": "0ccbd218-13da-4fd3-b15b-f5e911b41324",
   "metadata": {},
   "source": [
    "Inside the loop, we can handle each file individually."
   ]
  },
  {
   "cell_type": "markdown",
   "id": "7f1b76d5-e79d-4d42-9071-ce1ce9532bf0",
   "metadata": {},
   "source": [
    "## Opening Files by Type\n",
    "If we have a directory that contains multiple file types, we might want to open only some of the files.\n",
    "We can filter on the *filename extension* using the method `.glob(pattern)`.\n"
   ]
  },
  {
   "cell_type": "code",
   "execution_count": null,
   "id": "35946c7c-29e7-4457-bfad-768a75edbdde",
   "metadata": {},
   "outputs": [],
   "source": [
    "filenames = directory.glob('*.txt')\n",
    "print(list(filenames))\n"
   ]
  },
  {
   "cell_type": "markdown",
   "id": "2614e9f7-51ce-4552-a228-79974f0664d2",
   "metadata": {},
   "source": [
    ":::{admonition} Filename Extensions\n",
    "Filenames usually have two parts, the *stem* and the *extension*, separated by a period.\n",
    "For example, the file \"article.docx\" has the stem \"article\" and the extension \"docx\".\n",
    "The extension identifies the file type.\n",
    ":::"
   ]
  },
  {
   "cell_type": "markdown",
   "id": "b6542374-1a7e-41da-88d8-3a59b0ccfc36",
   "metadata": {},
   "source": [
    "## Opening Only the First Few Files\n",
    "If we have large data set, it can take time to process.\n",
    "During development, we might want to run our code with only the first few files.\n",
    "We can use `range()` for this.\n",
    "Below, we open only the first five files.\n"
   ]
  },
  {
   "cell_type": "code",
   "execution_count": null,
   "id": "2438ddc2-a661-49e3-b18c-4e6b9efe5681",
   "metadata": {},
   "outputs": [],
   "source": [
    "file_iterator = directory.iterdir()\n",
    "\n",
    "for index in range(5):\n",
    "    filename = next(file_iterator)\n",
    "    with open(filename) as file:\n",
    "        print(file)"
   ]
  }
 ],
 "metadata": {
  "kernelspec": {
   "display_name": "Python 3 (ipykernel)",
   "language": "python",
   "name": "python3"
  },
  "language_info": {
   "codemirror_mode": {
    "name": "ipython",
    "version": 3
   },
   "file_extension": ".py",
   "mimetype": "text/x-python",
   "name": "python",
   "nbconvert_exporter": "python",
   "pygments_lexer": "ipython3",
   "version": "3.12.3"
  }
 },
 "nbformat": 4,
 "nbformat_minor": 5
}
