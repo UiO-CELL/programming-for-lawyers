{
 "cells": [
  {
   "cell_type": "markdown",
   "id": "86ba8402-3fe9-44c3-84a8-695bf04a9d57",
   "metadata": {
    "editable": true,
    "slideshow": {
     "slide_type": ""
    },
    "tags": []
   },
   "source": [
    "(sorting_filtering)=\n",
    "# Sorting, Filtering Data and Search\n",
    "\n",
    "There are some operations we will frequently need when working with data sets.\n",
    "*Sorting* data is useful both for increasing the readability or accessibility and for highlighting certain aspects of the data.\n",
    "*Filtering* data is useful for removing irrelevant data and is especially important with large data sets."
   ]
  },
  {
   "cell_type": "markdown",
   "id": "2734478b-547f-403f-bf45-8a6ac53a9c17",
   "metadata": {},
   "source": [
    "## Sorting Data\n",
    "\n",
    "When presenting data to the user, sorting data by the right key/property can be important.\n",
    "For example, if you're looking for a court decision by date, a list ordered by title isn't helpful.\n",
    "\n",
    "Say we have a list of judges that we want to sort."
   ]
  },
  {
   "cell_type": "code",
   "execution_count": null,
   "id": "4b95d561-be7b-415d-bf07-41b501671c8a",
   "metadata": {},
   "outputs": [],
   "source": [
    "judges = ['Síofra O’Leary, President', 'Mārtiņš Mits', 'Stéphanie Mourou-Vikström', 'Lətif Hüseynov',\n",
    "          'Jovan Ilievski', 'Ivana Jelić', 'Anne Grøstad, ad hoc judge', 'Victor Soloveytchik, Section Registrar']"
   ]
  },
  {
   "cell_type": "markdown",
   "id": "0afc0d1c-beae-440a-9f27-b91f6ad8e657",
   "metadata": {},
   "source": [
    "We can sort lists in two ways.\n",
    "Firstly, we can make a new, sorted list, while also keeping the old one."
   ]
  },
  {
   "cell_type": "code",
   "execution_count": null,
   "id": "2a9530b0-e5e9-4f64-bdde-806741d3d86a",
   "metadata": {},
   "outputs": [],
   "source": [
    "judges_sorted = sorted(judges)\n",
    "print(judges_sorted)"
   ]
  },
  {
   "cell_type": "markdown",
   "id": "05eb297f-812a-4442-9774-a31229d569f7",
   "metadata": {},
   "source": [
    "Secondly, if we don’t need the original list, it’s more efficient to sort the existing list in place:"
   ]
  },
  {
   "cell_type": "code",
   "execution_count": null,
   "id": "83fc3b8d-d820-4bb8-87a9-4c2721eb9b96",
   "metadata": {},
   "outputs": [],
   "source": [
    "print(judges)\n",
    "judges.sort()\n",
    "print(judges)"
   ]
  },
  {
   "cell_type": "markdown",
   "id": "13898184-5dc7-47b9-a176-32104028890d",
   "metadata": {},
   "source": [
    "```{admonition} Reversed Sorting\n",
    "By default, Python sorts the item from smallest to largest.\n",
    "For text, this means in lexicographic order from A to Z.\n",
    "We can reverse the sort order by giving `sort()` the argument `reverse = True`.\n",
    "```"
   ]
  },
  {
   "cell_type": "code",
   "execution_count": null,
   "id": "9ae9def3-6e2a-4944-951d-673bf33ac7bb",
   "metadata": {},
   "outputs": [],
   "source": [
    "judges.sort(reverse=True)\n",
    "print(judges)"
   ]
  },
  {
   "cell_type": "markdown",
   "id": "e954ce7b-d53b-44a4-90ac-ab7ffc1cabc2",
   "metadata": {},
   "source": [
    "## Filtering Data\n",
    "\n",
    "Let's say we want to make a list of only the ad hoc judges. We can do that by iterating over the list:"
   ]
  },
  {
   "cell_type": "code",
   "execution_count": null,
   "id": "e6741f98-b266-45aa-b0ab-427caca22d87",
   "metadata": {},
   "outputs": [],
   "source": [
    "adhoc_judges = []\n",
    "\n",
    "for judge in judges:\n",
    "    if 'ad hoc' in judge:\n",
    "        adhoc_judges.append(judge)\n",
    "\n",
    "print(adhoc_judges)"
   ]
  },
  {
   "cell_type": "markdown",
   "id": "0871c317-76d5-495c-bc8a-efe07f4451e0",
   "metadata": {},
   "source": [
    "This works, but can be written shorter and simpler with a *list comprehension*."
   ]
  },
  {
   "cell_type": "code",
   "execution_count": null,
   "id": "39bf5f37-2f53-4bc7-9276-f8f2135f3236",
   "metadata": {},
   "outputs": [],
   "source": [
    "adhoc_judges = [judge for judge in judges if 'ad hoc' in judge]\n",
    "print(adhoc_judges)"
   ]
  },
  {
   "cell_type": "markdown",
   "id": "f7bf83d5-5eed-462b-aff4-5b8a8812532e",
   "metadata": {},
   "source": [
    "## Modifying Data\n",
    "\n",
    "We can also use list comprehensions to modify each item in a list.\n",
    "For example, we can remove the titles from the list of judges.\n",
    "We split on the comma and use element 0 from the result."
   ]
  },
  {
   "cell_type": "code",
   "execution_count": null,
   "id": "b0b1ab33-f61a-4675-8b42-0bee82867166",
   "metadata": {},
   "outputs": [],
   "source": [
    "judges = [judge.split(',')[0] for judge in judges]\n",
    "print(judges)"
   ]
  },
  {
   "cell_type": "markdown",
   "id": "2f4b65fb-f19c-4d3b-8921-3a6ec5cbe9b2",
   "metadata": {},
   "source": [
    "## Sets — Avoiding Duplicates\n",
    "\n",
    "Let's say we want to collect a list of all the judges that appear in a collection of cases.\n",
    "We could do it like this:"
   ]
  },
  {
   "cell_type": "code",
   "execution_count": null,
   "id": "ccbb4f63-f57d-4310-89bc-260c531e3487",
   "metadata": {},
   "outputs": [],
   "source": [
    "import json\n",
    "\n",
    "def read_json_file(filename):\n",
    "    with open(filename, 'r') as file:\n",
    "        text_data = file.read()\n",
    "        json_data = json.loads(text_data)\n",
    "        return json_data\n",
    "\n",
    "cases = read_json_file('cases-5.json')"
   ]
  },
  {
   "cell_type": "code",
   "execution_count": null,
   "id": "8c9a62e9-7a4a-45ff-9585-0b7ca10a4716",
   "metadata": {},
   "outputs": [],
   "source": [
    "all_judges = []\n",
    "\n",
    "for case in cases:\n",
    "    for judge in case['decision_body']:\n",
    "        all_judges.append(judge['name'])\n",
    "print(all_judges)"
   ]
  },
  {
   "cell_type": "markdown",
   "id": "2a6a3b1f-4949-44eb-989a-620af907898e",
   "metadata": {},
   "source": [
    "Unfortunately, we get duplicates because the same judges appear in different cases.\n",
    "We need to remove these duplicates.\n",
    "The simplest way is to use `set()` instead of a list, because sets only store each item once."
   ]
  },
  {
   "cell_type": "code",
   "execution_count": null,
   "id": "d69429d1-3c8d-41f2-91dd-cd9a8ddbaeb1",
   "metadata": {
    "tags": []
   },
   "outputs": [],
   "source": [
    "all_judges = set()\n",
    "\n",
    "for case in cases:\n",
    "    for judge in case['decision_body']:\n",
    "        all_judges.add(judge['name'])\n",
    "print(all_judges)"
   ]
  },
  {
   "cell_type": "markdown",
   "id": "10798d26-c019-41cc-aa47-c875bf6e6ffc",
   "metadata": {},
   "source": [
    "```{note}\n",
    "A set is a collection of unique items.\n",
    "Sets are different from list in two ways: order doesn't matter, and each item can occur only once.\n",
    "```"
   ]
  },
  {
   "cell_type": "markdown",
   "id": "e2359c17-46df-485a-a2b5-4b6844180935",
   "metadata": {},
   "source": [
    "## Removing duplicates\n",
    "If we have an existing list with duplicates, we can remove the duplicates by making a set from the list.\n"
   ]
  },
  {
   "cell_type": "code",
   "execution_count": null,
   "id": "8de73b26-ea6e-460d-b2ed-3f2a08d2569f",
   "metadata": {},
   "outputs": [],
   "source": [
    "judges = ['Síofra O’Leary, President',\n",
    "          'Mārtiņš Mits', \n",
    "          'Mārtiņš Mits', ]\n",
    "judges = set(judges)\n",
    "print(judges)"
   ]
  },
  {
   "cell_type": "markdown",
   "id": "e4fd152d-4dba-4a79-a20a-5fbd99f0746e",
   "metadata": {},
   "source": [
    ":::{admonition} Changing Order\n",
    "Notice that the order of the items might change when we make a set from a list.\n",
    "Sets don't keep track of the order of the items,\n",
    "so they will be printed in arbitrary order.\n",
    ":::\n"
   ]
  },
  {
   "cell_type": "markdown",
   "id": "06d3225d-a88b-4b10-b79b-d3fc88ff0b53",
   "metadata": {},
   "source": [
    "## Tuples\n",
    "In addition to lists and sets, Python has a third collection type for storing items called *tuples*.\n",
    "Tuples are lists that cannot be modified. Like lists but unlike sets the elements have a certain order and can be repeated.\n",
    "We can make tuples by listing the items in parentheses:\n"
   ]
  },
  {
   "cell_type": "code",
   "execution_count": null,
   "id": "37e1903c-af26-4027-aec8-010a5c1e9513",
   "metadata": {},
   "outputs": [],
   "source": [
    "items = (1, 2, 3)"
   ]
  },
  {
   "cell_type": "markdown",
   "id": "706336a1-bbf1-4e94-8a57-7af51605e516",
   "metadata": {},
   "source": [
    "Tuples can be useful for returning a collection of items from a function and for making lists of items that belong together.\n",
    "A tuple with two items is called a *pair*.\n",
    "\n",
    "We can make a list of pairs, where each pair is a judge and their (optional) title:"
   ]
  },
  {
   "cell_type": "code",
   "execution_count": null,
   "id": "e8f483e5-d3c8-4c9a-87b9-b265671532e5",
   "metadata": {},
   "outputs": [],
   "source": [
    "judges = [('Síofra O’Leary', 'President'),\n",
    "          ('Anne Grøstad', 'ad hoc judge'),\n",
    "          ('Victor Soloveytchik', 'Section Registrar')]\n",
    "print(judges)"
   ]
  },
  {
   "cell_type": "markdown",
   "id": "ab64f446-81dc-4700-9261-57945663e89a",
   "metadata": {},
   "source": [
    "::::::{admonition} List vs. set vs. tuple\n",
    ":class: tip\n",
    "The differences between Python's three main one dimensional container types are summarized in the table {ref}`container-table`.\n",
    "\n",
    ":::{table} Container comparison\n",
    ":name: container-table\n",
    "\n",
    "|       | Modifiable | Allows duplicates | Ordered |\n",
    "|-------|------------|-------------------|---------|\n",
    "| List  | ✔️         | ✔️                | ✔️      |\n",
    "| Set   | ✔️         | ❌                | ❌      |\n",
    "| Tuple | ❌         | ✔️                | ✔️      |\n",
    "\n",
    ":::\n",
    "::::::\n"
   ]
  },
  {
   "cell_type": "markdown",
   "id": "46f7d15d-ba13-4ecc-a41b-086c8a32961d",
   "metadata": {},
   "source": [
    "### Unpacking Tuples\n",
    "Python has a shortcut for assigning multiple variables at once.\n",
    "This is useful for *unpacking* the values in a tuple.\n",
    "Some libraries, for example for {ref}`machine_learning`,\n",
    "return multiple values by *wrapping* (storing) them in a tuple.\n",
    "\n",
    "Let's say we have a pair:"
   ]
  },
  {
   "cell_type": "code",
   "execution_count": null,
   "id": "f928116f-46dd-4722-9eb9-3f9e74b877a8",
   "metadata": {},
   "outputs": [],
   "source": [
    "judge = ('Síofra O’Leary', 'President')"
   ]
  },
  {
   "cell_type": "markdown",
   "id": "b3c26518-b988-4d9c-9799-74e9de53292c",
   "metadata": {},
   "source": [
    "We can get the individual items like this:"
   ]
  },
  {
   "cell_type": "code",
   "execution_count": null,
   "id": "0d37fc7b-b603-40aa-bd36-6b2e919d0ca6",
   "metadata": {},
   "outputs": [],
   "source": [
    "judge_name = judge[0]\n",
    "judge_title = judge[1]"
   ]
  },
  {
   "cell_type": "markdown",
   "id": "3de5ae0e-ba30-4e5f-81ce-963e4cef59dc",
   "metadata": {},
   "source": [
    "But we can also assign both variables at once:"
   ]
  },
  {
   "cell_type": "code",
   "execution_count": null,
   "id": "b7127f10-2f6a-42bd-b751-abf4dc1584fb",
   "metadata": {},
   "outputs": [],
   "source": [
    "judge_name, judge_title = judge"
   ]
  },
  {
   "cell_type": "markdown",
   "id": "958a63eb-dc74-4307-80cd-604d90e0968a",
   "metadata": {},
   "source": [
    "This is called *unpacking* the tuple.\n",
    "The *left-hand* side and the *right-hand* side of the assignment should be tuples with the same number of elements.\n",
    "\n",
    "Unpacking is especially useful for immediately splitting a tuple that is returned by a function into separate variables, for example:"
   ]
  },
  {
   "cell_type": "code",
   "execution_count": null,
   "id": "4bd9754c-297d-4d79-9ca0-8b689ca9b200",
   "metadata": {
    "tags": [
     "remove-output",
     "raises-exception"
    ]
   },
   "outputs": [],
   "source": [
    "judge_name, judge_title = get_judge(case)"
   ]
  },
  {
   "cell_type": "markdown",
   "id": "7a7acdea-df61-4b11-980b-6fa08963b25d",
   "metadata": {},
   "source": [
    "## Sorting by a key\n",
    "\n",
    "Sometimes we want to sort items in a list in a different way than the default sort order produced by `.sort()` or `sorted()`.\n",
    "For example, we can sort strings by their length.\n",
    "We can do that by giving the sort function a *key* for sorting.\n",
    "The sorting key is the function that is applied to the items that are to be sorted.\n",
    "The return value of this function is used instead of the item itself when doing the sorting.\n",
    "\n",
    "To sort strings by their length, we use the argument `key=len`.\n"
   ]
  },
  {
   "cell_type": "code",
   "execution_count": null,
   "id": "4328e287-d391-46af-acc4-b2df148f2c60",
   "metadata": {},
   "outputs": [],
   "source": [
    "names = ['Alicia', 'Jane', 'Joe', 'Abdul']\n",
    "names.sort(key=len)\n",
    "print(names)"
   ]
  },
  {
   "cell_type": "markdown",
   "id": "be78e57c-1575-4f1c-89ca-45221d73bb93",
   "metadata": {},
   "source": [
    "## Sorting Cases\n",
    "Let's say we want to order the names of our cases by a their name or date.\n",
    "First, we make a list that contains the names (docnames) and dates as pairs.\n",
    "We can do this with a list comprehension."
   ]
  },
  {
   "cell_type": "code",
   "execution_count": null,
   "id": "1c4aa56f-6b9d-4e66-9df8-c6bda296e9e7",
   "metadata": {},
   "outputs": [],
   "source": [
    "cases_date = [(case['docname'], case['judgementdate']) for case in cases]"
   ]
  },
  {
   "cell_type": "markdown",
   "id": "2bd02108-a154-4053-bff7-90f26c2d9fb8",
   "metadata": {},
   "source": [
    "First, we will try sorting by the case name.\n",
    "For the key, we need a function that extracts the item with an index 0 from the pair.\n",
    "We can write this function ourselves:\n"
   ]
  },
  {
   "cell_type": "code",
   "execution_count": null,
   "id": "552894b2-ed57-4225-b277-59fdc4cbd21a",
   "metadata": {},
   "outputs": [],
   "source": [
    "def get_title(pair):\n",
    "    return pair[0]\n",
    "\n",
    "cases_date.sort(key=get_title)"
   ]
  },
  {
   "cell_type": "markdown",
   "id": "d6e6ba7f-5160-4596-abda-da62d2b0d1d1",
   "metadata": {},
   "source": [
    "However, if we create functions like this, our code will become littered with short functions that are only used once.\n",
    "Therefore, Python supports making *anonymous* helper functions called *lambda* expressions.\n",
    "We can use a lambda expression as sorting key.\n"
   ]
  },
  {
   "cell_type": "markdown",
   "id": "0703debf-a0f8-4c3c-ade2-6403598f11d5",
   "metadata": {},
   "source": [
    "## Lambda Expressions\n",
    "We make anonymous functions with `lambda` expressions.\n"
   ]
  },
  {
   "cell_type": "code",
   "execution_count": null,
   "id": "f9dcb466-bb51-44e2-be4b-d7bbbb3b3ed1",
   "metadata": {},
   "outputs": [],
   "source": [
    "cases_date.sort(key=lambda pair: pair[0])\n",
    "print(cases_date)"
   ]
  },
  {
   "cell_type": "markdown",
   "id": "f7d842c1-3a74-40f0-a05b-73bd12e68de6",
   "metadata": {},
   "source": [
    "::::::{admonition} Lambda Expressions Syntax\n",
    "Because lambda expressions are expressions, they can only contain a single expression, not a list of statements as a regular function.\n",
    "The general form of a lambda expression is:\n",
    "\n",
    "```\n",
    "lambda parameters: expression\n",
    "```\n",
    "\n",
    "An equivalent, regular function definition would be something like:\n",
    "```\n",
    "def <lambda>(parameters):\n",
    "    return expression\n",
    "```\n",
    "::::::\n"
   ]
  },
  {
   "cell_type": "markdown",
   "id": "55fe5ae7-6251-421f-997d-f0d13982b1b7",
   "metadata": {},
   "source": [
    "## Itemgetter\n",
    "Because sorting by a list element is such a common operation, Python has a built-in function `itemgetter()` for this.\n",
    "We can use `itemgetter()` to get the element at a given index:"
   ]
  },
  {
   "cell_type": "code",
   "execution_count": null,
   "id": "3eed612a-a512-479b-b851-2371aa09c008",
   "metadata": {},
   "outputs": [],
   "source": [
    "from operator import itemgetter\n",
    "cases_date.sort(key=itemgetter(0))\n",
    "print(cases_date)"
   ]
  },
  {
   "cell_type": "markdown",
   "id": "098ec8a9-ec0c-4987-90fb-32bb6c761c86",
   "metadata": {},
   "source": [
    "## Sorting by Date\n",
    "If we want to sort by date, we must use the element with index 1."
   ]
  },
  {
   "cell_type": "code",
   "execution_count": null,
   "id": "058cca1f-6a0b-4fb0-86f7-79c82dd2678e",
   "metadata": {},
   "outputs": [],
   "source": [
    "cases_date.sort(key=lambda pair: pair[1])\n",
    "print(cases_date)"
   ]
  },
  {
   "cell_type": "markdown",
   "id": "0a555a57-067a-4e94-b600-d129f26bca4d",
   "metadata": {},
   "source": [
    "Unfortunately, Python sorts the dates by lexicographic order.\n",
    "We will need to convert the textual date to an object that Python understands.\n",
    "\n",
    "We can do this with the Python library function `datetime.strptime()`.\n",
    "This function takes a parameter that specifies the data format, which looks a bit messy."
   ]
  },
  {
   "cell_type": "code",
   "execution_count": null,
   "id": "f0ee908c-3db5-4f7d-9241-d2286718117f",
   "metadata": {
    "editable": true,
    "slideshow": {
     "slide_type": ""
    },
    "tags": []
   },
   "outputs": [],
   "source": [
    "from datetime import datetime\n",
    "cases_date.sort(key=lambda pair: datetime.strptime(pair[1], '%d/%m/%Y %H:%M:%S'))\n",
    "print(cases_date)"
   ]
  }
 ],
 "metadata": {
  "kernelspec": {
   "display_name": "Python 3 (ipykernel)",
   "language": "python",
   "name": "python3"
  },
  "language_info": {
   "codemirror_mode": {
    "name": "ipython",
    "version": 3
   },
   "file_extension": ".py",
   "mimetype": "text/x-python",
   "name": "python",
   "nbconvert_exporter": "python",
   "pygments_lexer": "ipython3",
   "version": "3.13.5"
  }
 },
 "nbformat": 4,
 "nbformat_minor": 5
}
