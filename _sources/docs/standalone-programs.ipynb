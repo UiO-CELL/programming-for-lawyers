{
 "cells": [
  {
   "cell_type": "markdown",
   "id": "e9e8cc4b-2bf4-4866-8860-6af70adbe107",
   "metadata": {},
   "source": [
    "# Appendix: Standalone Programs\n",
    "\n"
   ]
  },
  {
   "cell_type": "markdown",
   "id": "34cc4093-9adc-4dfa-b215-80e9ead04750",
   "metadata": {},
   "source": [
    "So far, we have seen how to write code in Jupyter notebooks.\n",
    "That works well for some purposes, but sometimes we want to create *standalone* Python programs.\n",
    "Python programs are usually stored in files with names that end with `.py`.\n",
    "\n",
    "Let's go back to one of our earliest examples, and make a Python file containing this program:"
   ]
  },
  {
   "cell_type": "code",
   "execution_count": null,
   "id": "d7a68937-3c33-498f-ab86-118170eb77e9",
   "metadata": {
    "tags": [
     "remove-output"
    ]
   },
   "outputs": [],
   "source": [
    "print('See you in court')"
   ]
  },
  {
   "cell_type": "markdown",
   "id": "9f8a1444-fc1b-43de-9183-01123e73907a",
   "metadata": {},
   "source": [
    "We can save this program in the file `see_you.py`.\n",
    "\n",
    "The easiest way to run a Python program is by double-clicking the program file.\n",
    "If we want to pass arguments to the program, we must start it from a *command-line prompt*.\n",
    "\n",
    "There are different ways to open a command-line prompt.\n",
    "In Windows the command-line is called *Command Prompt* or *cmd*, while in Mac OS there is the program *Terminal*.\n",
    "However, if you use the Anaconda Python distribution, you should use *Anaconda Prompt*.\n",
    "\n",
    "After you open the command-line prompt, you must usually navigate to the correct directory with the command:"
   ]
  },
  {
   "cell_type": "code",
   "execution_count": null,
   "id": "924bd5fc-e874-4abf-bc39-588163d06cf4",
   "metadata": {
    "tags": [
     "remove-output"
    ]
   },
   "outputs": [],
   "source": [
    "cd <directory>"
   ]
  },
  {
   "cell_type": "markdown",
   "id": "c24cf1bd-7514-4256-a802-044cc87178ed",
   "metadata": {},
   "source": [
    "Then, we start Python with our program as an argument:"
   ]
  },
  {
   "cell_type": "code",
   "execution_count": null,
   "id": "b91f6e3b-4d9f-4658-96d6-97e5e01e4873",
   "metadata": {
    "tags": [
     "remove-output"
    ]
   },
   "outputs": [],
   "source": [
    "python3 see_you.py"
   ]
  }
 ],
 "metadata": {
  "kernelspec": {
   "display_name": "Python 3 (ipykernel)",
   "language": "python",
   "name": "python3"
  },
  "language_info": {
   "codemirror_mode": {
    "name": "ipython",
    "version": 3
   },
   "file_extension": ".py",
   "mimetype": "text/x-python",
   "name": "python",
   "nbconvert_exporter": "python",
   "pygments_lexer": "ipython3",
   "version": "3.9.13"
  }
 },
 "nbformat": 4,
 "nbformat_minor": 5
}
