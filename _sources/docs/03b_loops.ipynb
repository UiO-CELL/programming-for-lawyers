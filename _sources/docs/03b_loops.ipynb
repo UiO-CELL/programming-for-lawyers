{
 "cells": [
  {
   "cell_type": "markdown",
   "id": "7bae8fd3-9d4a-4535-bd20-6a470d52cb6d",
   "metadata": {},
   "source": [
    "# Loops\n",
    "\n",
    "One major motivation for making computer programs is to automate tasks, and making the computer do our work for us.\n",
    "*Loops* are powerful tools for processing large amounts of data automatically.\n",
    "\n",
    "Loops are the standard way of processing lists, among other things.\n",
    "We could access all the elements in a list manually:"
   ]
  },
  {
   "cell_type": "code",
   "execution_count": null,
   "id": "e91017d9-f750-43a2-a507-6e9ddf4cfb56",
   "metadata": {},
   "outputs": [],
   "source": [
    "judges = ['Anne Grøstad', 'Ivana Jelić', 'Jovan Ilievski', 'Lətif Hüseynov',\n",
    "          'Mārtiņš Mits', 'Stéphanie Mourou-Vikström', 'Síofra O’Leary', 'Victor Soloveytchik']"
   ]
  },
  {
   "cell_type": "code",
   "execution_count": null,
   "id": "51dfd152-ae3c-4a51-8e3f-244d6c177a34",
   "metadata": {},
   "outputs": [],
   "source": [
    "print(judges[0])\n",
    "print(judges[1])\n",
    "print(judges[2])\n",
    "# ..."
   ]
  },
  {
   "cell_type": "markdown",
   "id": "751ba3ba-563d-4656-a79e-8fffd1470376",
   "metadata": {},
   "source": [
    "But this kind of manual repetition is both tedious and error-prone, especially for long lists.\n",
    "Instead, we should get the computer to do the work with a `for` loop.\n",
    "This is called *iterating* over the list."
   ]
  },
  {
   "cell_type": "code",
   "execution_count": null,
   "id": "efe1c953-1582-469a-85dd-b91fe8fce545",
   "metadata": {},
   "outputs": [],
   "source": [
    "for judge in judges:\n",
    "    print(judge)"
   ]
  },
  {
   "cell_type": "markdown",
   "id": "abc6faa3-87f1-409a-b2e4-88c24e2bccc8",
   "metadata": {},
   "source": [
    "When the loop executes, the loop variable is created and bound to each list item in turn. In this case, the loop variable is `judge`."
   ]
  },
  {
   "cell_type": "markdown",
   "id": "d8f7ba59-3964-49f6-a132-ed10a683e267",
   "metadata": {},
   "source": [
    "## Visualizing Loops\n",
    "We can visualize the execution of a loop. For this illustration we use a shorter list:"
   ]
  },
  {
   "cell_type": "code",
   "execution_count": null,
   "id": "0f3440e9-db8f-4ac3-b69e-d415e20f1f8a",
   "metadata": {},
   "outputs": [],
   "source": [
    "sentence = ['a', 'short', 'list']\n",
    "print('Iterating over the sentence:')\n",
    "for word in sentence:\n",
    "    # loop starts (indentation)\n",
    "    print(word)\n",
    "    # loop/indentation ends\n",
    "print('Done')"
   ]
  },
  {
   "cell_type": "markdown",
   "id": "eb55480d-d7cb-4124-82e3-38f4ff8c2e25",
   "metadata": {},
   "source": [
    "The animation below shows the steps the computer performs when this code executes.\n",
    "The box labeled `word` shows the loop variable that changes for each iteration."
   ]
  },
  {
   "cell_type": "markdown",
   "id": "8bfeb891-929d-41b5-9838-2d0b73d16823",
   "metadata": {},
   "source": [
    "<iframe src=\"https://www.openprocessing.org/sketch/906164/embed/\" width=\"510\" height=\"600\"></iframe>"
   ]
  },
  {
   "cell_type": "markdown",
   "id": "330b2c3c-ee15-4786-84f3-eb3a540a14aa",
   "metadata": {},
   "source": [
    "## Nested Loops\n",
    "\n",
    "We can use *nested loops* to loop over nested lists:"
   ]
  },
  {
   "cell_type": "code",
   "execution_count": null,
   "id": "4433d4f1-7d22-4934-a2ab-c2e443bb4c29",
   "metadata": {},
   "outputs": [],
   "source": [
    "defendants = [['QC Leisure', 'SR Leisure Ltd', 'AV Station plc', 'Houghton'],\n",
    "              ['Media Protection Services Ltd']]\n"
   ]
  },
  {
   "cell_type": "code",
   "execution_count": null,
   "id": "5d2926c2-ed83-48ce-a60c-d64d82a1205c",
   "metadata": {},
   "outputs": [],
   "source": [
    "for group in defendants:\n",
    "    print('Listing group:')\n",
    "    for defendant in group:\n",
    "        print(defendant)"
   ]
  },
  {
   "cell_type": "markdown",
   "id": "6c32debf-ef8a-49a6-865e-61ae565da74c",
   "metadata": {},
   "source": [
    "## Range\n",
    "\n",
    "Sometimes we need to repeat an action a fixed number of times.\n",
    "We can do this by looping over a range of numbers with the function `range()`."
   ]
  },
  {
   "cell_type": "code",
   "execution_count": null,
   "id": "7811f360-91d4-4540-a3e0-ff1e62de52db",
   "metadata": {},
   "outputs": [],
   "source": [
    "print('Writ of summons:')\n",
    "for number in range(10):\n",
    "    print('Prayers for relief', number)"
   ]
  },
  {
   "cell_type": "markdown",
   "id": "49a01505-aa92-4a3e-aab1-ff5275b95769",
   "metadata": {},
   "source": [
    "## While Loops\n",
    "\n",
    "We have seen that `for` loops iterate over a sequence.\n",
    "We can also keep doing something as long as some condition is true,\n",
    "i.e. while the condition is true.\n",
    "For this, we use a `while` expression.\n",
    "\n",
    "For example, we could make a system for collecting client information.\n",
    "There's a maximum income to qualify for legal aid.\n",
    "We could collect income data like this:"
   ]
  },
  {
   "cell_type": "code",
   "execution_count": null,
   "id": "89097acd-216e-4568-92d4-a9c768df1cf2",
   "metadata": {
    "tags": [
     "raises-exception",
     "remove-output"
    ]
   },
   "outputs": [],
   "source": [
    "prompt = \"Enter client's income, empty line to finish: \"\n",
    "client_income = input(prompt)\n",
    "incomes = []\n",
    "\n",
    "while client_income:\n",
    "    #process client's income\n",
    "    incomes.append(client_income)\n",
    "    print(client_income, \"saved\")\n",
    "    client_income = input(prompt)"
   ]
  },
  {
   "cell_type": "markdown",
   "id": "b213c9cf-5df9-4e1f-8aab-133329406e46",
   "metadata": {},
   "source": [
    "The first `input()` statement is called a \"priming read\", because it prepares the loop variable."
   ]
  }
 ],
 "metadata": {
  "kernelspec": {
   "display_name": "Python 3 (ipykernel)",
   "language": "python",
   "name": "python3"
  },
  "language_info": {
   "codemirror_mode": {
    "name": "ipython",
    "version": 3
   },
   "file_extension": ".py",
   "mimetype": "text/x-python",
   "name": "python",
   "nbconvert_exporter": "python",
   "pygments_lexer": "ipython3",
   "version": "3.12.3"
  }
 },
 "nbformat": 4,
 "nbformat_minor": 5
}
