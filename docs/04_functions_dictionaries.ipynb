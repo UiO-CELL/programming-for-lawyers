{
 "cells": [
  {
   "cell_type": "markdown",
   "id": "b8542a4e-25f2-4dc1-b05b-4976c640bad6",
   "metadata": {},
   "source": [
    "# Functions and Dictionaries\n",
    "In this lecture, we will look at two different topics.\n",
    "First, we will see how we can make more *modular* programs with *functions*.\n",
    "Then, we introduce *dictionaries*, which are lookup tables."
   ]
  },
  {
   "cell_type": "markdown",
   "id": "405449f7-5a9c-4b68-9a3c-d344d04ca914",
   "metadata": {},
   "source": [
    "## Functions\n",
    "One of the important principles of programming is: *Don't Repeat Yourself (DRY)*.\n",
    "This means that we should avoid repeating the same code with only small modifications.\n",
    "\n",
    "We have seen that loops are one way to make the computer do the work, instead of writing a lot of repetitive code.\n",
    "Another way to reuse code is making *functions*. Functions are pieces of code that perform a specific task."
   ]
  },
  {
   "cell_type": "code",
   "execution_count": null,
   "id": "ae57c4ca-499a-4b0d-bde9-e354e0411f77",
   "metadata": {},
   "outputs": [],
   "source": []
  }
 ],
 "metadata": {
  "kernelspec": {
   "display_name": "Python 3",
   "language": "python",
   "name": "python3"
  },
  "language_info": {
   "codemirror_mode": {
    "name": "ipython",
    "version": 3
   },
   "file_extension": ".py",
   "mimetype": "text/x-python",
   "name": "python",
   "nbconvert_exporter": "python",
   "pygments_lexer": "ipython3",
   "version": "3.8.8"
  }
 },
 "nbformat": 4,
 "nbformat_minor": 5
}
