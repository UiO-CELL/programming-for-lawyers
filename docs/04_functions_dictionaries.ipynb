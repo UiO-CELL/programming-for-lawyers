{
 "cells": [
  {
   "cell_type": "markdown",
   "id": "b8542a4e-25f2-4dc1-b05b-4976c640bad6",
   "metadata": {},
   "source": [
    "# Functions and Dictionaries\n",
    "In this lecture, we will look at two different topics.\n",
    "First, we will see how we can make more *modular* programs with *functions*.\n",
    "Then, we introduce *dictionaries*, which are lookup tables."
   ]
  },
  {
   "cell_type": "markdown",
   "id": "ccf58eac-0489-495a-9bab-3173dbf051f4",
   "metadata": {},
   "source": [
    "## Functions\n",
    "One of the important principles of programming is: *Don't Repeat Yourself (DRY)*.\n",
    "This means that we should avoid repeating the same code with only small modifications.\n",
    "\n",
    "We have seen that loops are one way to make the computer do the work, instead of writing a lot of repetitive code.\n",
    "Another way to reuse code is making *functions*. Functions are pieces of code that perform a specific task.\n",
    "\n",
    "A function contains a (short) block of code/program statements. These statements are executed when we call the function. This way, we can perform a common operation many times without having to rewrite the code each time."
   ]
  },
  {
   "cell_type": "markdown",
   "id": "9179be1a-a7e2-4f9a-8705-4efbb06ba166",
   "metadata": {},
   "source": [
    "## Defining Functions\n",
    "Here is a simple function to print a greeting:"
   ]
  },
  {
   "cell_type": "code",
   "execution_count": null,
   "id": "08a0caee-bf21-42d0-acf2-a19362849145",
   "metadata": {},
   "outputs": [],
   "source": [
    "def greet():\n",
    "    print('Hello class')\n",
    "    print('Nice to meet you!')"
   ]
  },
  {
   "cell_type": "markdown",
   "id": "8f35840d-dc6f-4d8e-a18e-e0c1b6676204",
   "metadata": {},
   "source": [
    "We define a new function with the statement `def`, short for *define*.\n",
    "`def` is followed by the function name, and a set of parentheses.\n",
    "The function *body* follows on the next lines, and must be *indented*, like `for` loops.\n",
    "The function ends when there are more no more indented lines.\n",
    "\n",
    "We can also define *parameters* to the function.\n",
    "If the function has parameters, we list those inside the parentheses. "
   ]
  },
  {
   "cell_type": "code",
   "execution_count": null,
   "id": "b0ffc6cd-c688-453b-bfab-afb970562096",
   "metadata": {},
   "outputs": [],
   "source": [
    "def greet(name):\n",
    "    print('Hello', name)\n",
    "    print('Nice to meet you!')"
   ]
  },
  {
   "cell_type": "markdown",
   "id": "44951a30-6e8e-4f61-9567-e13c8483223d",
   "metadata": {},
   "source": [
    "Now we can call the function:"
   ]
  },
  {
   "cell_type": "code",
   "execution_count": null,
   "id": "ae57c4ca-499a-4b0d-bde9-e354e0411f77",
   "metadata": {},
   "outputs": [],
   "source": [
    "greet('class')\n",
    "greet('JUS5080')"
   ]
  }
 ],
 "metadata": {
  "kernelspec": {
   "display_name": "Python 3",
   "language": "python",
   "name": "python3"
  },
  "language_info": {
   "codemirror_mode": {
    "name": "ipython",
    "version": 3
   },
   "file_extension": ".py",
   "mimetype": "text/x-python",
   "name": "python",
   "nbconvert_exporter": "python",
   "pygments_lexer": "ipython3",
   "version": "3.8.8"
  }
 },
 "nbformat": 4,
 "nbformat_minor": 5
}
