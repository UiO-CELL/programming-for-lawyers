{
 "cells": [
  {
   "cell_type": "markdown",
   "id": "b8542a4e-25f2-4dc1-b05b-4976c640bad6",
   "metadata": {},
   "source": [
    "# Functions and Dictionaries\n",
    "In this lecture, we will look at two different topics.\n",
    "First, we will see how we can make more *modular* programs with *functions*.\n",
    "Then, we introduce *dictionaries*, which are lookup tables."
   ]
  },
  {
   "cell_type": "markdown",
   "id": "ccf58eac-0489-495a-9bab-3173dbf051f4",
   "metadata": {},
   "source": [
    "## Functions\n",
    "One of the important principles of programming is: *Don't Repeat Yourself (DRY)*.\n",
    "This means that we should avoid repeating the same code with only small modifications.\n",
    "\n",
    "We have seen that loops are one way to make the computer do the work, instead of writing a lot of repetitive code.\n",
    "Another way to reuse code is making *functions*. Functions are pieces of code that perform a specific task.\n",
    "\n",
    "A function contains a (short) block of code/program statements. These statements are executed when we call the function. This way, we can perform a common operation many times without having to rewrite the code each time."
   ]
  },
  {
   "cell_type": "markdown",
   "id": "9179be1a-a7e2-4f9a-8705-4efbb06ba166",
   "metadata": {},
   "source": [
    "## Defining Functions\n",
    "Here is a simple function to print a greeting:"
   ]
  },
  {
   "cell_type": "code",
   "execution_count": null,
   "id": "08a0caee-bf21-42d0-acf2-a19362849145",
   "metadata": {},
   "outputs": [],
   "source": [
    "def greet():\n",
    "    print('Hello class')\n",
    "    print('Nice to meet you!')"
   ]
  },
  {
   "cell_type": "markdown",
   "id": "8f35840d-dc6f-4d8e-a18e-e0c1b6676204",
   "metadata": {},
   "source": [
    "We define a new function with the statement `def`, short for *define*.\n",
    "`def` is followed by the function name, and a set of parentheses.\n",
    "The function *body* follows on the next lines, and must be *indented*, like `for` loops.\n",
    "The function ends when there are more no more indented lines.\n",
    "\n",
    "We can also define *parameters* to the function.\n",
    "If the function has parameters, we list those inside the parentheses.\n",
    "The parameters are also known as *parameter variables*."
   ]
  },
  {
   "cell_type": "code",
   "execution_count": null,
   "id": "b0ffc6cd-c688-453b-bfab-afb970562096",
   "metadata": {},
   "outputs": [],
   "source": [
    "def greet(name):\n",
    "    print('Hello', name)\n",
    "    print('Nice to meet you!')"
   ]
  },
  {
   "cell_type": "markdown",
   "id": "44951a30-6e8e-4f61-9567-e13c8483223d",
   "metadata": {},
   "source": [
    "Now we can call the function, giving it one *argument*:"
   ]
  },
  {
   "cell_type": "code",
   "execution_count": null,
   "id": "ae57c4ca-499a-4b0d-bde9-e354e0411f77",
   "metadata": {},
   "outputs": [],
   "source": [
    "greet('class')\n",
    "greet('JUS5080')"
   ]
  },
  {
   "cell_type": "markdown",
   "id": "10cd9f7e-7bb0-4878-82e9-06169f4a1780",
   "metadata": {},
   "source": [
    "The value of the argument is bound to the parameter variable when the function executes."
   ]
  },
  {
   "cell_type": "markdown",
   "id": "113cdb8c-93ba-4dd3-be0b-54155511869c",
   "metadata": {},
   "source": [
    "## Functions can't modify their arguments\n",
    "\n",
    "The argument value is copied to the parameter variable in the function.\n",
    "The parameter exists only *inside* the function.\n",
    "Therefore, if the function modifies the parameter variable, this does not affect the argument."
   ]
  },
  {
   "cell_type": "code",
   "execution_count": null,
   "id": "2f794148-67af-41e4-86ba-408fc63b9967",
   "metadata": {},
   "outputs": [],
   "source": [
    "def normalize_name(name):\n",
    "    name = name.strip()\n",
    "    name = name.title()\n",
    "    print('name in the function:', name)\n",
    "\n",
    "my_name = '  bart von   simpson  '\n",
    "normalize_name(my_name)\n",
    "print('name after function call:', my_name)"
   ]
  },
  {
   "cell_type": "markdown",
   "id": "4842b933-8346-4ccb-8ac6-f44b09023f41",
   "metadata": {},
   "source": [
    "## Return values\n",
    "\n",
    "Since functions can't modify their arguments, we need some other way to pass information back to the *caller*.\n",
    "We do this with the `return` statement."
   ]
  },
  {
   "cell_type": "code",
   "execution_count": null,
   "id": "06e28120-24f2-4ccf-b7a8-1fc03ceac6a1",
   "metadata": {},
   "outputs": [],
   "source": [
    "def normalize_name(name):\n",
    "    name = name.strip()  # remove leading and trailing white space\n",
    "    name = name.title()\n",
    "    return name"
   ]
  },
  {
   "cell_type": "code",
   "execution_count": null,
   "id": "3efbadea-a8ed-4d78-afdb-d4eea9978b24",
   "metadata": {},
   "outputs": [],
   "source": [
    "my_name = '  bart von   simpson  '\n",
    "new_name = normalize_name(my_name)\n",
    "print('name after function call:', new_name)"
   ]
  },
  {
   "cell_type": "markdown",
   "id": "4b681799-fef5-4573-a41f-8ec1508c18cb",
   "metadata": {},
   "source": [
    "## Function comments\n",
    "\n",
    "To help the reader we should start each function with a *short* comment that explains the purpose of the function and its parameters.\n",
    "The reader might be yourself at some point in the future.\n",
    "\n",
    "Here, we use the *regular expression* `\\s+` to match any amount of white space, and substitute it with single spaces."
   ]
  },
  {
   "cell_type": "code",
   "execution_count": null,
   "id": "92111a3a-6a4f-4893-9687-3a1bb747e840",
   "metadata": {},
   "outputs": [],
   "source": [
    "import re\n",
    "\n",
    "def normalize_name(name):\n",
    "    '''\n",
    "    Removes excess whitespace and capitalizes initials.\n",
    "    \n",
    "    Params:\n",
    "        name - string containing a name\n",
    "    '''\n",
    "    name = re.sub('\\s+', ' ', name)\n",
    "    name = name.title()\n",
    "    return name\n",
    "    \n",
    "print(normalize_name('  bart  von  simpson  '))"
   ]
  }
 ],
 "metadata": {
  "kernelspec": {
   "display_name": "Python 3",
   "language": "python",
   "name": "python3"
  },
  "language_info": {
   "codemirror_mode": {
    "name": "ipython",
    "version": 3
   },
   "file_extension": ".py",
   "mimetype": "text/x-python",
   "name": "python",
   "nbconvert_exporter": "python",
   "pygments_lexer": "ipython3",
   "version": "3.8.8"
  }
 },
 "nbformat": 4,
 "nbformat_minor": 5
}
