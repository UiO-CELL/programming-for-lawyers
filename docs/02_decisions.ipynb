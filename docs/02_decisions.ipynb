{
 "cells": [
  {
   "cell_type": "markdown",
   "id": "4192f942",
   "metadata": {},
   "source": [
    "# Decisions\n",
    "\n",
    "In the last lecture, we saw that Python programs must be *precise* and *correct*.\n",
    "So far, the programs we have written have done the same things every time we run them.\n",
    "Here, we will learn how to write code that executes only when certain conditions are true."
   ]
  },
  {
   "cell_type": "markdown",
   "id": "3efa7eb3",
   "metadata": {},
   "source": [
    "## The `if` statement\n",
    "\n",
    "Say we write a program that needs to decide whether someone is a minor or adult.\n",
    "We can do this with an if test based on the age:"
   ]
  },
  {
   "cell_type": "code",
   "execution_count": null,
   "id": "f3219f06",
   "metadata": {},
   "outputs": [],
   "source": [
    "age = 17\n",
    "if age < 18:\n",
    "    print('Defendant is a minor')"
   ]
  },
  {
   "cell_type": "markdown",
   "id": "a609b64b",
   "metadata": {},
   "source": [
    "We can also include an alternate path, `else`:"
   ]
  },
  {
   "cell_type": "code",
   "execution_count": null,
   "id": "1deecb4d",
   "metadata": {},
   "outputs": [],
   "source": [
    "age = 17\n",
    "if age < 18:\n",
    "    print('Defendant is a minor')\n",
    "else:\n",
    "    print('Defendant is an adult')\n",
    "print('done')"
   ]
  },
  {
   "cell_type": "markdown",
   "id": "d8976176",
   "metadata": {},
   "source": [
    "This code can be illustrated with a flowchart:\n",
    "![if illustration](../images/if.png)"
   ]
  },
  {
   "cell_type": "markdown",
   "id": "ee1e7eee",
   "metadata": {},
   "source": [
    "## Indentation\n",
    "The code \"inside\" the `if` statement is called a *block*.\n",
    "Each line in a block must be indented the same amount, the convention is four spaces.\n",
    "The `else` statement starts another block."
   ]
  },
  {
   "cell_type": "code",
   "execution_count": null,
   "id": "a66e5a4f",
   "metadata": {},
   "outputs": [],
   "source": [
    "age = 17\n",
    "if age < 18:\n",
    "    print('Defendant is a minor')\n",
    "    print('Parental consent is required')\n",
    "    # call a function to handle parental consent\n",
    "else:\n",
    "    print('Defendant is an adult')\n",
    "    # call a function to handle consent\n",
    "print('done')"
   ]
  },
  {
   "cell_type": "markdown",
   "id": "10cbb07f",
   "metadata": {},
   "source": [
    "## Relational Operators\n",
    "\n",
    "`if` statements start with a condition that is often some kind of comparison.\n",
    "These comparisons use *relational operators*.\n",
    "Python has six relational operators:\n",
    "\n",
    "| Relational operator | Meaning |\n",
    "| :----------- | :----------- |\n",
    "| > | Greater than |\n",
    "| >= | Greater than or equal |\n",
    "| < | Less than |\n",
    "| <= | Less than or equal |\n",
    "| == | Equal |\n",
    "| != | Not equal |\n",
    "\n",
    "Note that the relational operator for equality is `==`, a double equal sign.\n",
    "This is because a single `=` is used for assignment.\n",
    "\n",
    "We must take care to choose the correct operator to avoid \n",
    "*off by one* errors.\n",
    "What's wrong here?"
   ]
  },
  {
   "cell_type": "code",
   "execution_count": null,
   "id": "53e3f52d",
   "metadata": {},
   "outputs": [],
   "source": [
    "if age > 18:\n",
    "    print('Defendant is an adult')"
   ]
  },
  {
   "cell_type": "markdown",
   "id": "c89f687e",
   "metadata": {},
   "source": [
    "### Comparing strings\n",
    "\n",
    "We can also compare strings. Strings are sequences of characters. To be equal, strings must have:\n",
    "\n",
    "1. The same length\n",
    "1. The same characters, position by position\n",
    "\n",
    "We can order strings alphabetically (lexicographically) by using relational operators. \"Larger\" strings come later in the alphabet:"
   ]
  },
  {
   "cell_type": "code",
   "execution_count": 2,
   "id": "7d95b433",
   "metadata": {},
   "outputs": [
    {
     "name": "stdout",
     "output_type": "stream",
     "text": [
      "True\n"
     ]
    }
   ],
   "source": [
    "print('Eve' < 'Jada')"
   ]
  },
  {
   "cell_type": "markdown",
   "id": "997cfa8b",
   "metadata": {},
   "source": [
    "## Nested if-statements\n",
    "\n",
    "An `if` statement can contain new if statements.\n",
    "Nested `if` statements are also called *decision trees*."
   ]
  },
  {
   "cell_type": "code",
   "execution_count": 6,
   "id": "8df31009",
   "metadata": {},
   "outputs": [
    {
     "name": "stdout",
     "output_type": "stream",
     "text": [
      "Defendant is a senior citizen\n"
     ]
    }
   ],
   "source": [
    "age = 71\n",
    "\n",
    "if age < 18:\n",
    "    print('Defendant is a minor')\n",
    "else:\n",
    "    if age > 70:\n",
    "        print('Defendant is a senior citizen')\n",
    "    else:\n",
    "        print('Defendant is an adult')"
   ]
  }
 ],
 "metadata": {
  "kernelspec": {
   "display_name": "Python 3",
   "language": "python",
   "name": "python3"
  },
  "language_info": {
   "codemirror_mode": {
    "name": "ipython",
    "version": 3
   },
   "file_extension": ".py",
   "mimetype": "text/x-python",
   "name": "python",
   "nbconvert_exporter": "python",
   "pygments_lexer": "ipython3",
   "version": "3.8.8"
  }
 },
 "nbformat": 4,
 "nbformat_minor": 5
}
