{
 "cells": [
  {
   "cell_type": "markdown",
   "id": "4192f942",
   "metadata": {},
   "source": [
    "# Decisions\n",
    "\n",
    "In the last lecture, we saw that Python programs must be *precise* and *correct*.\n",
    "So far, the programs we have written have done the same things every time we run them.\n",
    "Here, we will learn how to write code that executes only when certain conditions are true."
   ]
  },
  {
   "cell_type": "markdown",
   "id": "3efa7eb3",
   "metadata": {},
   "source": [
    "## The `if` statement\n",
    "\n",
    "Say we write a program that needs to decide whether someone is a minor or adult.\n",
    "We can do this with an if test based on the age:"
   ]
  },
  {
   "cell_type": "code",
   "execution_count": null,
   "id": "f3219f06",
   "metadata": {},
   "outputs": [],
   "source": [
    "age = 17\n",
    "if age < 18:\n",
    "    print('Defendant is a minor')"
   ]
  },
  {
   "cell_type": "markdown",
   "id": "a609b64b",
   "metadata": {},
   "source": [
    "We can also include an alternate path, `else`:"
   ]
  },
  {
   "cell_type": "code",
   "execution_count": null,
   "id": "1deecb4d",
   "metadata": {},
   "outputs": [],
   "source": [
    "age = 17\n",
    "if age < 18:\n",
    "    print('Defendant is a minor')\n",
    "else:\n",
    "    print('Defendant is an adult')\n",
    "print('done')"
   ]
  },
  {
   "cell_type": "markdown",
   "id": "d8976176",
   "metadata": {},
   "source": [
    "This code can be illustrated with a flowchart:\n",
    "![if illustration](../images/if.png)"
   ]
  }
 ],
 "metadata": {
  "kernelspec": {
   "display_name": "Python 3",
   "language": "python",
   "name": "python3"
  },
  "language_info": {
   "codemirror_mode": {
    "name": "ipython",
    "version": 3
   },
   "file_extension": ".py",
   "mimetype": "text/x-python",
   "name": "python",
   "nbconvert_exporter": "python",
   "pygments_lexer": "ipython3",
   "version": "3.8.8"
  }
 },
 "nbformat": 4,
 "nbformat_minor": 5
}
