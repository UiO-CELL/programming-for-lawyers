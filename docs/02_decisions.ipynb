{
 "cells": [
  {
   "cell_type": "markdown",
   "id": "4192f942",
   "metadata": {},
   "source": [
    "# Decisions\n",
    "\n",
    "In the last lecture, we saw that Python programs must be *precise* and *correct*.\n",
    "So far, the programs we have written have done the same things every time we run them.\n",
    "Here, we will learn how to write code that executes only when certain conditions are true."
   ]
  },
  {
   "cell_type": "markdown",
   "id": "3efa7eb3",
   "metadata": {},
   "source": [
    "## The `if` statement\n",
    "\n",
    "Say we write a program that needs to decide whether someone is a minor or adult.\n",
    "We can do this with an if test based on the age:"
   ]
  },
  {
   "cell_type": "code",
   "execution_count": null,
   "id": "f3219f06",
   "metadata": {},
   "outputs": [],
   "source": [
    "age = 17\n",
    "if age < 18:\n",
    "    print('Defendant is a minor')"
   ]
  },
  {
   "cell_type": "markdown",
   "id": "a609b64b",
   "metadata": {},
   "source": [
    "We can also include an alternate path, `else`:"
   ]
  },
  {
   "cell_type": "code",
   "execution_count": null,
   "id": "1deecb4d",
   "metadata": {},
   "outputs": [],
   "source": [
    "age = 17\n",
    "if age < 18:\n",
    "    print('Defendant is a minor')\n",
    "else:\n",
    "    print('Defendant is an adult')\n",
    "print('done')"
   ]
  },
  {
   "cell_type": "markdown",
   "id": "d8976176",
   "metadata": {},
   "source": [
    "This code can be illustrated with a flowchart:\n",
    "![if illustration](../images/if.png)"
   ]
  },
  {
   "cell_type": "markdown",
   "id": "ee1e7eee",
   "metadata": {},
   "source": [
    "## Indentation\n",
    "The code \"inside\" the `if` statement is called a *block*.\n",
    "Each line in a block must be indented the same amount, the convention is four spaces.\n",
    "The `else` statement starts another block."
   ]
  },
  {
   "cell_type": "code",
   "execution_count": null,
   "id": "a66e5a4f",
   "metadata": {},
   "outputs": [],
   "source": [
    "age = 17\n",
    "if age < 18:\n",
    "    print('Defendant is a minor')\n",
    "    print('Parental consent is required')\n",
    "    # call a function to handle parental consent\n",
    "else:\n",
    "    print('Defendant is an adult')\n",
    "    # call a function to handle consent\n",
    "print('done')"
   ]
  },
  {
   "cell_type": "markdown",
   "id": "10cbb07f",
   "metadata": {},
   "source": [
    "## Relational Operators\n",
    "\n",
    "`if` statements start with a condition that is often some kind of comparison.\n",
    "These comparisons use *relational operators*.\n",
    "Python has six relational operators:\n",
    "\n",
    "| Relational operator | Meaning |\n",
    "| :----------- | :----------- |\n",
    "| > | Greater than |\n",
    "| >= | Greater than or equal |\n",
    "| < | Less than |\n",
    "| <= | Less than or equal |\n",
    "| == | Equal |\n",
    "| != | Not equal |\n",
    "\n",
    "Note that the relational operator for equality is `==`, a double equal sign.\n",
    "This is because a single `=` is used for assignment.\n",
    "\n",
    "We must take care to choose the correct operator to avoid \n",
    "*off by one* errors.\n",
    "What's wrong here?"
   ]
  },
  {
   "cell_type": "code",
   "execution_count": null,
   "id": "53e3f52d",
   "metadata": {},
   "outputs": [],
   "source": [
    "if age > 18:\n",
    "    print('Defendant is an adult')"
   ]
  },
  {
   "cell_type": "markdown",
   "id": "7f38b618",
   "metadata": {},
   "source": [
    "## Comparing strings\n",
    "\n",
    "We can also compare strings. Strings are sequences of characters. To be equal, strings must have:\n",
    "\n",
    "1. The same length\n",
    "1. The same characters, position by position\n",
    "\n",
    "We can order strings alphabetically (lexicographically) by using relational operators. \"Larger\" strings come later in the alphabet:"
   ]
  },
  {
   "cell_type": "code",
   "execution_count": null,
   "id": "baf8b81d",
   "metadata": {},
   "outputs": [],
   "source": [
    "print('Eve' < 'Jada')"
   ]
  },
  {
   "cell_type": "markdown",
   "id": "3aa62639",
   "metadata": {},
   "source": [
    "## Nested if statements\n",
    "\n",
    "An `if` statement can contain other, *nested* if statements.\n",
    "Nested `if` statements are also called *decision trees*.\n",
    "Their flowcharts have a tree structure."
   ]
  },
  {
   "cell_type": "code",
   "execution_count": null,
   "id": "02d29872",
   "metadata": {},
   "outputs": [],
   "source": [
    "age = 13\n",
    "\n",
    "if age < 18:\n",
    "    print('Defendant is a minor')\n",
    "    if age < 15:\n",
    "        print('Below age of criminal responsibility')\n",
    "else:\n",
    "    print('Defendant is an adult')"
   ]
  },
  {
   "cell_type": "markdown",
   "id": "6188e697",
   "metadata": {},
   "source": [
    "## Multiple Alternatives\n",
    "\n",
    "Many nested `if` statements can be simplified to `elif` statements, short for \"else if\"."
   ]
  },
  {
   "cell_type": "code",
   "execution_count": null,
   "id": "cdd88f0d",
   "metadata": {},
   "outputs": [],
   "source": [
    "age = 1\n",
    "\n",
    "if age < 13:\n",
    "    print('child')\n",
    "elif age < 20:\n",
    "    print('teenager')\n",
    "elif age > 70:\n",
    "    print('senior citizen')\n",
    "else:\n",
    "    print('adult')"
   ]
  },
  {
   "cell_type": "markdown",
   "id": "dfb49a3e",
   "metadata": {},
   "source": [
    "```{warning}\n",
    "Make sure the order of the `if` tests is correct. If we had tested for teenagers before children, children would have been classified as teenagers.\n",
    "```"
   ]
  },
  {
   "cell_type": "markdown",
   "id": "08278ccc",
   "metadata": {},
   "source": [
    "## Boolean Values\n",
    "The result of a condition is called a *Boolean* value.\n",
    "Boolean values are either `True` or `False`.\n",
    "We can assign Boolean values to variables to be used later.\n",
    "\n",
    "For example, we might want to go through some steps to establish whether someone is competent in the legal sense.\n",
    "We start out assuming they are:"
   ]
  },
  {
   "cell_type": "code",
   "execution_count": null,
   "id": "2f54ffb5",
   "metadata": {},
   "outputs": [],
   "source": [
    "is_competent = True\n",
    "# do steps to get facts"
   ]
  },
  {
   "cell_type": "markdown",
   "id": "a5c54f0a",
   "metadata": {},
   "source": [
    "## Boolean Operators\n",
    "We can combine multiple conditions into larger Boolean expressions using *Boolean Operators*."
   ]
  },
  {
   "cell_type": "code",
   "execution_count": null,
   "id": "1367f962",
   "metadata": {},
   "outputs": [],
   "source": [
    "valid_consent = age >= 18 and is_competent"
   ]
  },
  {
   "cell_type": "markdown",
   "id": "ac8bfba8",
   "metadata": {},
   "source": [
    "```{note}\n",
    "The Boolean variable `is_competent` already has a truth value,\n",
    "so we don't need to use a relational operator.\n",
    "Never use relational operators with `True` or `False`.\n",
    "Don't write `if is_competent == True:`, but simply `if is_competent:\n",
    "```"
   ]
  },
  {
   "cell_type": "markdown",
   "id": "a7a35011",
   "metadata": {},
   "source": [
    "There are three boolean operators: `and`, `or`, and `not`. As we saw above, and expression with `and` is `True` if both sides are `True`.\n",
    "An expression with `or` is `True` if either side is `True`:"
   ]
  },
  {
   "cell_type": "code",
   "execution_count": null,
   "id": "fb9943a7",
   "metadata": {},
   "outputs": [],
   "source": [
    "parental_consent = False\n",
    "valid_consent = age >= 18 or parental_consent\n",
    "print(valid_consent)"
   ]
  },
  {
   "cell_type": "markdown",
   "id": "3eb339b6",
   "metadata": {},
   "source": [
    "The Boolean operator `not` inverts the value of the expression that follows it.\n",
    "Try to use variable names that results in code that reads naturally:"
   ]
  },
  {
   "cell_type": "code",
   "execution_count": null,
   "id": "6b9fcde9",
   "metadata": {},
   "outputs": [],
   "source": [
    "if not parental_consent:\n",
    "    print('No parental consent given')"
   ]
  },
  {
   "cell_type": "markdown",
   "id": "4c10bd6f",
   "metadata": {},
   "source": [
    "## De Morgan's Laws\n",
    "\n",
    "Some Boolean expressions can be simplified:\n",
    "\n",
    "- `not (A or B)` is the same as `not A and not B`\n",
    "- `not (A and B)` is the same as `not A or not B`\n",
    "\n",
    "The last two expressions might be easier to read.\n",
    "Notice that when we remove the parenthesis, we \"flip\" the operator from and to or, or the other way around. We  *distribute* the `not` operators.\n",
    "\n",
    "These two rules are known as De Morgan's Laws after the mathematician Augustus De Morgan."
   ]
  },
  {
   "cell_type": "code",
   "execution_count": null,
   "id": "847d59ec",
   "metadata": {},
   "outputs": [],
   "source": [
    "married = True\n",
    "divorced = False\n",
    "\n",
    "if not (married and divorced):\n",
    "    print('do something')\n",
    "\n",
    "if not married or not divorced:\n",
    "    print('equivalent with the above')"
   ]
  },
  {
   "cell_type": "markdown",
   "id": "65bfbcfd",
   "metadata": {},
   "source": [
    "## Analyzing Strings\n",
    "\n",
    "We saw above that the standard relational operators can be used with strings.\n",
    "But Python also has the `in` (and `not in`) operators for checking if a string contains another substring:"
   ]
  },
  {
   "cell_type": "code",
   "execution_count": null,
   "id": "8feddf9c",
   "metadata": {},
   "outputs": [],
   "source": [
    "text = 'Objection, your Honor!'\n",
    "\n",
    "if 'objection' in text:\n",
    "    print('found')\n",
    "else:\n",
    "    print('not found')\n",
    "# Why isn't the substring 'objection' found?\n",
    "\n",
    "print('Object' in text)"
   ]
  },
  {
   "cell_type": "markdown",
   "id": "65b76ad8",
   "metadata": {},
   "source": [
    "Python also has several methods for analyzing strings:"
   ]
  },
  {
   "cell_type": "code",
   "execution_count": null,
   "id": "4aa7a751",
   "metadata": {},
   "outputs": [],
   "source": [
    "print(text.startswith('Object'))\n",
    "print(text.count('your'))\n",
    "position = text.find('your')\n",
    "print(position)\n",
    "print(text[position:])\n",
    "print('text is numeric:', text.isnumeric())\n",
    "print('text isalpha:', text.isalpha())"
   ]
  },
  {
   "cell_type": "markdown",
   "id": "f16c6933",
   "metadata": {},
   "source": [
    "## Input Validation\n",
    "\n",
    "When a program accepts input from the user, we need to check that the input is valid, that is within the range of expected answers.\n",
    "This is especially important with web applications.\n",
    "`if` tests are a simple way of validating the input."
   ]
  },
  {
   "cell_type": "code",
   "execution_count": null,
   "id": "fe0858cd",
   "metadata": {
    "tags": [
     "raises-exception",
     "remove-output"
    ]
   },
   "outputs": [],
   "source": [
    "marital_status = input('Please input marital status, \"single\" or \"married\": ')\n",
    "\n",
    "# normalize response by lowercaseing it\n",
    "marital_status = marital_status.lower()\n",
    "\n",
    "if marital_status == 'single':\n",
    "    print('calling function to handle single people')\n",
    "elif marital_status == 'married':\n",
    "    print('calling function to handle married people')\n",
    "else:\n",
    "    print('error: invalid marital status')"
   ]
  },
  {
   "cell_type": "markdown",
   "id": "acfa2fe8",
   "metadata": {},
   "source": [
    "## Constants\n",
    "\n",
    "Until now, we have used numbers like the age of majority directly in our code, *hard coding* the number 18 in our `if` tests.\n",
    "This is bad practice.\n",
    "The age of majority has changed before and it might change again.\n",
    "If this happens, we will need to track down every occurrence of it in our code, and change them to the new age.\n",
    "To avoid this, we can make a constant once, and use that.\n",
    "By convention, constant are in all capital letters."
   ]
  },
  {
   "cell_type": "code",
   "execution_count": null,
   "id": "cf567b6b",
   "metadata": {},
   "outputs": [],
   "source": [
    "AGE_OF_MAJORITY = 18\n",
    "\n",
    "if age < AGE_OF_MAJORITY:\n",
    "    print('child')"
   ]
  }
 ],
 "metadata": {
  "kernelspec": {
   "display_name": "Python 3",
   "language": "python",
   "name": "python3"
  },
  "language_info": {
   "codemirror_mode": {
    "name": "ipython",
    "version": 3
   },
   "file_extension": ".py",
   "mimetype": "text/x-python",
   "name": "python",
   "nbconvert_exporter": "python",
   "pygments_lexer": "ipython3",
   "version": "3.8.8"
  }
 },
 "nbformat": 4,
 "nbformat_minor": 5
}
