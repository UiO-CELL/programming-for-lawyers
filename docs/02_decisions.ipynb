{
 "cells": [
  {
   "cell_type": "markdown",
   "id": "4192f942",
   "metadata": {},
   "source": [
    "# Decisions\n",
    "\n",
    "In the last lecture, we saw that computer programs are recipes that tell the computer what to do.\n",
    "Programs must be *precise* and *correct*.\n",
    "So far, the programs we have written have done the same things every time we run them.\n",
    "Here, we will see how to write code that executes only when certain conditions are true.\n",
    "*Decisions* control the *flow* of the program.\n",
    "\n",
    "From individual decisions, we can build decision trees, which are an important part of *expert systems*.\n",
    "Expert systems are AI systems that have existed for a long time,\n",
    "and are a kind of *knowledge-based systems*."
   ]
  },
  {
   "cell_type": "markdown",
   "id": "3efa7eb3",
   "metadata": {},
   "source": [
    "## The `if` statement\n",
    "\n",
    "Say we write a program that needs to decide whether someone is a minor or adult.\n",
    "We can do this with an `if` test based on the age:"
   ]
  },
  {
   "cell_type": "code",
   "execution_count": 1,
   "id": "f8288d7c-64d0-477b-bcdb-1120e4c16511",
   "metadata": {
    "tags": [
     "raises-exception"
    ]
   },
   "outputs": [
    {
     "name": "stdin",
     "output_type": "stream",
     "text": [
      "What is the defendant's age? 15\n"
     ]
    }
   ],
   "source": [
    "age = int(input(\"What is the defendant's age?\"))"
   ]
  },
  {
   "cell_type": "code",
   "execution_count": 2,
   "id": "e7142b35-6fb2-4036-8f06-0ff145742e0a",
   "metadata": {
    "tags": []
   },
   "outputs": [
    {
     "name": "stdout",
     "output_type": "stream",
     "text": [
      "Defendant is a minor\n"
     ]
    }
   ],
   "source": [
    "if age < 18:\n",
    "    print('Defendant is a minor')"
   ]
  },
  {
   "cell_type": "markdown",
   "id": "a609b64b",
   "metadata": {},
   "source": [
    "We can also include an alternate path, `else`:"
   ]
  },
  {
   "cell_type": "code",
   "execution_count": 3,
   "id": "1deecb4d",
   "metadata": {
    "tags": []
   },
   "outputs": [
    {
     "name": "stdout",
     "output_type": "stream",
     "text": [
      "Defendant is a minor\n",
      "done\n"
     ]
    }
   ],
   "source": [
    "if age < 18:\n",
    "    print('Defendant is a minor')\n",
    "else:\n",
    "    print('Defendant is an adult')\n",
    "print('done')"
   ]
  },
  {
   "cell_type": "markdown",
   "id": "d8976176",
   "metadata": {},
   "source": [
    "This code can be illustrated with a flowchart:\n",
    "![if illustration](../images/if.png)"
   ]
  },
  {
   "cell_type": "markdown",
   "id": "ee1e7eee",
   "metadata": {},
   "source": [
    "## Indentation\n",
    "The code \"inside\" the `if` statement is called a *block*.\n",
    "Each line in a block must be indented the same amount, the convention is four spaces.\n",
    "The `else` statement starts another block."
   ]
  },
  {
   "cell_type": "code",
   "execution_count": 4,
   "id": "a66e5a4f",
   "metadata": {
    "tags": [
     "remove-output"
    ]
   },
   "outputs": [
    {
     "name": "stdout",
     "output_type": "stream",
     "text": [
      "Defendant is a minor\n",
      "Parental consent is required\n",
      "done\n"
     ]
    }
   ],
   "source": [
    "if age < 18:\n",
    "    print('Defendant is a minor')\n",
    "    print('Parental consent is required')\n",
    "    # call a function to handle parental consent\n",
    "else:\n",
    "    print('Defendant is an adult')\n",
    "    # call a function to handle consent\n",
    "print('done')"
   ]
  },
  {
   "cell_type": "markdown",
   "id": "10cbb07f",
   "metadata": {},
   "source": [
    "## Relational Operators\n",
    "\n",
    "`if` statements start with a condition that is often some kind of comparison.\n",
    "These comparisons use *relational operators*.\n",
    "Python has six relational operators:\n",
    "\n",
    "| Relational operator | Meaning |\n",
    "| :----------- | :----------- |\n",
    "| > | Greater than |\n",
    "| >= | Greater than or equal |\n",
    "| < | Less than |\n",
    "| <= | Less than or equal |\n",
    "| == | Equal |\n",
    "| != | Not equal |\n",
    "\n",
    "Note that the relational operator for equality is `==`, a double equal sign.\n",
    "This is because a single `=` is used for assignment.\n",
    "\n",
    "We must take care to choose the correct operator to avoid \n",
    "*off by one* errors.\n",
    "What's wrong here?"
   ]
  },
  {
   "cell_type": "code",
   "execution_count": 5,
   "id": "53e3f52d",
   "metadata": {
    "tags": [
     "remove-output"
    ]
   },
   "outputs": [],
   "source": [
    "if age > 18:\n",
    "    print('Defendant is an adult')"
   ]
  },
  {
   "cell_type": "markdown",
   "id": "7f38b618",
   "metadata": {},
   "source": [
    "## Comparing strings\n",
    "\n",
    "We can also compare strings. Strings are sequences of characters. To be equal, strings must have:\n",
    "\n",
    "1. The same length\n",
    "1. The same characters, position by position\n",
    "\n",
    "We can order strings alphabetically (lexicographically) by using relational operators. \"Larger\" strings come later in the alphabet:"
   ]
  },
  {
   "cell_type": "code",
   "execution_count": 6,
   "id": "baf8b81d",
   "metadata": {},
   "outputs": [
    {
     "name": "stdout",
     "output_type": "stream",
     "text": [
      "True\n"
     ]
    }
   ],
   "source": [
    "print('Eve' < 'Jada')"
   ]
  },
  {
   "cell_type": "markdown",
   "id": "3aa62639",
   "metadata": {},
   "source": [
    "## Nested if statements\n",
    "\n",
    "An `if` statement can contain other, *nested* if statements.\n",
    "Nested `if` statements are also called *decision trees*.\n",
    "Their flowcharts have a tree structure."
   ]
  },
  {
   "cell_type": "code",
   "execution_count": 7,
   "id": "02d29872",
   "metadata": {
    "tags": [
     "remove-output"
    ]
   },
   "outputs": [
    {
     "name": "stdout",
     "output_type": "stream",
     "text": [
      "Defendant is a minor\n"
     ]
    }
   ],
   "source": [
    "if age < 18:\n",
    "    print('Defendant is a minor')\n",
    "    if age < 15:\n",
    "        print('Below age of criminal responsibility')\n",
    "else:\n",
    "    print('Defendant is an adult')"
   ]
  },
  {
   "cell_type": "markdown",
   "id": "6188e697",
   "metadata": {},
   "source": [
    "## Multiple Alternatives\n",
    "\n",
    "Many nested `if` statements can be simplified to `elif` statements, short for \"else if\"."
   ]
  },
  {
   "cell_type": "code",
   "execution_count": 8,
   "id": "cdd88f0d",
   "metadata": {
    "tags": [
     "remove-output"
    ]
   },
   "outputs": [
    {
     "name": "stdout",
     "output_type": "stream",
     "text": [
      "teenager\n"
     ]
    }
   ],
   "source": [
    "if age < 13:\n",
    "    print('child')\n",
    "elif age < 20:\n",
    "    print('teenager')\n",
    "elif age > 70:\n",
    "    print('senior citizen')\n",
    "else:\n",
    "    print('adult')"
   ]
  },
  {
   "cell_type": "markdown",
   "id": "dfb49a3e",
   "metadata": {},
   "source": [
    "```{warning}\n",
    "Make sure the order of the `if` tests is correct. If we had tested for teenagers before children, children would have been classified as teenagers.\n",
    "```"
   ]
  },
  {
   "cell_type": "markdown",
   "id": "08278ccc",
   "metadata": {},
   "source": [
    "## Boolean Values\n",
    "The result of a condition is called a *Boolean* value.\n",
    "Boolean values are either `True` or `False`.\n",
    "We can assign Boolean values to variables to be used later.\n",
    "\n",
    "For example, we might want to go through some steps to\n",
    "get consent for processing of personal data.\n",
    "We start out with no consent:"
   ]
  },
  {
   "cell_type": "code",
   "execution_count": 9,
   "id": "2f54ffb5",
   "metadata": {},
   "outputs": [],
   "source": [
    "consent_given = False\n",
    "# do steps to get consent"
   ]
  },
  {
   "cell_type": "markdown",
   "id": "a5c54f0a",
   "metadata": {},
   "source": [
    "## Boolean Operators\n",
    "We can combine multiple conditions into larger Boolean expressions using *Boolean Operators*."
   ]
  },
  {
   "cell_type": "code",
   "execution_count": 10,
   "id": "1367f962",
   "metadata": {},
   "outputs": [],
   "source": [
    "valid_consent = age >= 18 and consent_given"
   ]
  },
  {
   "cell_type": "markdown",
   "id": "ac8bfba8",
   "metadata": {},
   "source": [
    "```{note}\n",
    "The Boolean variable `consent_given` already has a truth value,\n",
    "so we don't need to use a relational operator.\n",
    "Never use relational operators with `True` or `False`.\n",
    "Don't write `if consent_given == True:`, but simply `if consent_given:`\n",
    "```"
   ]
  },
  {
   "cell_type": "markdown",
   "id": "a7a35011",
   "metadata": {},
   "source": [
    "There are three boolean operators: `and`, `or`, and `not`. As we saw above, and expression with `and` is `True` if both sides are `True`.\n",
    "An expression with `or` is `True` if either side is `True`:"
   ]
  },
  {
   "cell_type": "code",
   "execution_count": 11,
   "id": "9441252c-f9b3-4796-8c5d-a88d3429ccbd",
   "metadata": {},
   "outputs": [],
   "source": [
    "parental_consent = False\n",
    "valid_consent = parental_consent or age >= 18"
   ]
  },
  {
   "cell_type": "markdown",
   "id": "3c7da216-72ff-41c6-a962-cb4b90a33b6f",
   "metadata": {},
   "source": [
    "Or we could combine all three conditions:"
   ]
  },
  {
   "cell_type": "code",
   "execution_count": 12,
   "id": "b3c12b85-45c9-4901-b687-c5611f59243c",
   "metadata": {},
   "outputs": [
    {
     "name": "stdout",
     "output_type": "stream",
     "text": [
      "False\n"
     ]
    }
   ],
   "source": [
    "valid_consent = parental_consent or (age >= 18 and consent_given)\n",
    "print(valid_consent)"
   ]
  },
  {
   "cell_type": "markdown",
   "id": "3eb339b6",
   "metadata": {},
   "source": [
    "The Boolean operator `not` inverts the value of the expression that follows it.\n",
    "Try to use variable names that results in code that reads naturally:"
   ]
  },
  {
   "cell_type": "code",
   "execution_count": 13,
   "id": "6b9fcde9",
   "metadata": {},
   "outputs": [
    {
     "name": "stdout",
     "output_type": "stream",
     "text": [
      "No parental consent given\n"
     ]
    }
   ],
   "source": [
    "if not parental_consent:\n",
    "    print('No parental consent given')"
   ]
  },
  {
   "cell_type": "markdown",
   "id": "4c10bd6f",
   "metadata": {},
   "source": [
    "## De Morgan's Laws\n",
    "\n",
    "Some Boolean expressions can be simplified:\n",
    "\n",
    "- `not (A or B)` is the same as `not A and not B`\n",
    "- `not (A and B)` is the same as `not A or not B`\n",
    "\n",
    "The last two expressions might be easier to read.\n",
    "Notice that when we remove the parenthesis, we \"flip\" the operator from and to or, or the other way around. We  *distribute* the `not` operators.\n",
    "\n",
    "These two rules are known as De Morgan's Laws after the mathematician Augustus De Morgan."
   ]
  },
  {
   "cell_type": "code",
   "execution_count": 14,
   "id": "847d59ec",
   "metadata": {},
   "outputs": [
    {
     "name": "stdout",
     "output_type": "stream",
     "text": [
      "do something\n",
      "equivalent with the above\n"
     ]
    }
   ],
   "source": [
    "married = True\n",
    "divorced = False\n",
    "\n",
    "if not (married and divorced):\n",
    "    print('do something')\n",
    "\n",
    "if not married or not divorced:\n",
    "    print('equivalent with the above')"
   ]
  },
  {
   "cell_type": "markdown",
   "id": "65bfbcfd",
   "metadata": {},
   "source": [
    "## Analyzing Strings\n",
    "\n",
    "We saw above that the standard relational operators can be used with strings.\n",
    "But Python also has the `in` (and `not in`) operators for checking if a string contains another substring."
   ]
  },
  {
   "cell_type": "markdown",
   "id": "afcf0a78-7b90-4c9f-b126-035035313ee8",
   "metadata": {},
   "source": [
    "```{note}\n",
    "You can copy text from code cells by clicking the *Copy*\n",
    "button in the top right corner of the cells.\n",
    "The *Copy* button appears when you place the mouse pointer inside\n",
    "a cell or touch it on a touchscreen.\n",
    "```"
   ]
  },
  {
   "cell_type": "code",
   "execution_count": 15,
   "id": "71292acc-d2ea-4b39-84e5-3fbffe3a4eac",
   "metadata": {},
   "outputs": [],
   "source": [
    "text = '''Agreement\n",
    "\n",
    "1. Introduction: The lender is Bank Cred AS (990 099 909). \n",
    "The borrower is the person or persons (borrower and co-applicant) who apply\n",
    "for and are granted a loan with this Agreement.\n",
    "Payment: The credit is paid to the account number the Borrower states.\n",
    "\n",
    "2. Repayment: The Borrower repays the loan amount at fixed term amounts, including \n",
    "interest and term fees (i.e. annuity loans) as specified in the Loan Agreement.\n",
    "\n",
    "3. Late Payment Interest: In the event of late payment, late payment interest accrues\n",
    "at the interest rate determined in accordance with the Act relating to Interest on\n",
    "Overdue Payments.\n",
    "\n",
    "Signature Place/date: Oslo, 08.08.2021\n",
    "For Bank Cred AS Bank adviser Maria Wilson\n",
    "Name: Christopher Thomson Borrower'''"
   ]
  },
  {
   "cell_type": "code",
   "execution_count": 16,
   "id": "5f4edb77-1534-486c-9094-39c43bb37aa2",
   "metadata": {},
   "outputs": [
    {
     "name": "stdout",
     "output_type": "stream",
     "text": [
      "not found\n"
     ]
    }
   ],
   "source": [
    "if 'signature' in text:\n",
    "    print('found')\n",
    "else:\n",
    "    print('not found')"
   ]
  },
  {
   "cell_type": "markdown",
   "id": "32c2a045-2d0f-4967-9766-14553ece272e",
   "metadata": {},
   "source": [
    "Why isn't the string `signature` found in the text?\n",
    "\n",
    "We should normalize the text to lowercase to find all possible variants."
   ]
  },
  {
   "cell_type": "code",
   "execution_count": 17,
   "id": "cdca38dc-3808-4c12-b491-44118633e224",
   "metadata": {},
   "outputs": [
    {
     "name": "stdout",
     "output_type": "stream",
     "text": [
      "True\n"
     ]
    }
   ],
   "source": [
    "print('signature' in text.lower())"
   ]
  },
  {
   "cell_type": "markdown",
   "id": "65b76ad8",
   "metadata": {},
   "source": [
    "Python has several methods for analyzing strings.\n",
    "Here are a few examples, there are many more."
   ]
  },
  {
   "cell_type": "code",
   "execution_count": 18,
   "id": "4aa7a751",
   "metadata": {},
   "outputs": [
    {
     "name": "stdout",
     "output_type": "stream",
     "text": [
      "True\n",
      "3\n",
      "620\n",
      "Signature Place/date: Oslo, 08.08.2021\n",
      "For Bank Cred AS Bank adviser Maria Wilson\n",
      "Name: Christopher Thomson Borrower\n",
      "text is numeric: False\n",
      "text isalpha: False\n"
     ]
    }
   ],
   "source": [
    "print(text.startswith('Agreement'))\n",
    "print(text.count('loan'))\n",
    "position = text.find('Signature')\n",
    "print(position)\n",
    "print(text[position:])\n",
    "print('text is numeric:', text.isnumeric())\n",
    "print('text isalpha:', text.isalpha())"
   ]
  },
  {
   "cell_type": "markdown",
   "id": "f16c6933",
   "metadata": {},
   "source": [
    "## Input Validation\n",
    "\n",
    "When a program accepts input from the user, we need to check that the input is valid, that is within the range of expected answers.\n",
    "This is especially important with web applications.\n",
    "`if` tests are a simple way of validating the input."
   ]
  },
  {
   "cell_type": "code",
   "execution_count": 19,
   "id": "fe0858cd",
   "metadata": {
    "tags": [
     "raises-exception",
     "remove-output"
    ]
   },
   "outputs": [
    {
     "name": "stdin",
     "output_type": "stream",
     "text": [
      "Please input marital status, \"single\" or \"married\":  single\n"
     ]
    },
    {
     "name": "stdout",
     "output_type": "stream",
     "text": [
      "calling function to handle single people\n"
     ]
    }
   ],
   "source": [
    "marital_status = input('Please input marital status, \"single\" or \"married\": ')\n",
    "\n",
    "# normalize response by lowercaseing it\n",
    "marital_status = marital_status.lower()\n",
    "\n",
    "if marital_status == 'single':\n",
    "    print('calling function to handle single people')\n",
    "elif marital_status == 'married':\n",
    "    print('calling function to handle married people')\n",
    "else:\n",
    "    print('error: invalid marital status')"
   ]
  },
  {
   "cell_type": "markdown",
   "id": "acfa2fe8",
   "metadata": {},
   "source": [
    "## Constants\n",
    "\n",
    "Until now, we have used numbers like the age of majority directly in our code, *hard coding* the number 18 in our `if` tests.\n",
    "This is bad practice.\n",
    "The age of majority has changed before and it might change again.\n",
    "If this happens, we will need to track down every occurrence of it in our code, and change them to the new age.\n",
    "To avoid this, we can make a constant once, and use that.\n",
    "By convention, constant are in all capital letters."
   ]
  },
  {
   "cell_type": "code",
   "execution_count": 20,
   "id": "cf567b6b",
   "metadata": {
    "tags": [
     "remove-output"
    ]
   },
   "outputs": [
    {
     "name": "stdout",
     "output_type": "stream",
     "text": [
      "child\n"
     ]
    }
   ],
   "source": [
    "AGE_OF_MAJORITY = 18\n",
    "\n",
    "if age < AGE_OF_MAJORITY:\n",
    "    print('child')"
   ]
  }
 ],
 "metadata": {
  "kernelspec": {
   "display_name": "Python 3 (ipykernel)",
   "language": "python",
   "name": "python3"
  },
  "language_info": {
   "codemirror_mode": {
    "name": "ipython",
    "version": 3
   },
   "file_extension": ".py",
   "mimetype": "text/x-python",
   "name": "python",
   "nbconvert_exporter": "python",
   "pygments_lexer": "ipython3",
   "version": "3.9.12"
  }
 },
 "nbformat": 4,
 "nbformat_minor": 5
}
