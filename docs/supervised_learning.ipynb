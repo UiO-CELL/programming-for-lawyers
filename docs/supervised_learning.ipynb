{
 "cells": [
  {
   "cell_type": "markdown",
   "id": "bbc5f94f-2473-4866-98e6-37eab8f9b46e",
   "metadata": {},
   "source": [
    "# Supervised Learning\n",
    "\n",
    "Supervised learning uses labeled data.\n",
    "The labels are human made annotations that describes the data.\n",
    "In our case, the data will be text documents.\n",
    "One common task is classification where the goal is to split the data into classes, for example by topic.\n",
    "Documents can be classified for example by type, topic, language, or jurisdiction."
   ]
  },
  {
   "cell_type": "markdown",
   "id": "b77ea2f1-bafb-46d3-8b98-4002d9c1d7a6",
   "metadata": {},
   "source": [
    "## Visualizing Classes\n",
    "\n",
    "To get an idea of how classification works, we'll first look at a simple example that doesn't involve text.\n",
    "We can simulate a data set with only two features, so that they can be visualized graphically.\n",
    "Real data sets rarely have so few features and are harder to visualize.\n",
    "\n",
    "First, we import some functions we will need.\n",
    "- scikit-learn (`sklearn`) is a library for machine learning.\n",
    "- matplotlib is a library for plotting and visualizing results."
   ]
  },
  {
   "cell_type": "code",
   "execution_count": null,
   "id": "113497e6-7b1a-4598-8bbf-508d05380a3a",
   "metadata": {},
   "outputs": [],
   "source": [
    "import matplotlib.pyplot as plt\n",
    "from sklearn.datasets import make_classification"
   ]
  },
  {
   "cell_type": "markdown",
   "id": "b6b8525f-a493-48ea-a517-f16ee75fdfd5",
   "metadata": {},
   "source": [
    "Then, we use sklearn to make a simulated or synthetic data set."
   ]
  },
  {
   "cell_type": "code",
   "execution_count": null,
   "id": "a0eb3b79-88bc-4014-9ef8-24ffc5034c50",
   "metadata": {},
   "outputs": [],
   "source": [
    "data, labels = make_classification(n_features=2, n_redundant=0, n_informative=2,\n",
    "                                   random_state=2, n_clusters_per_class=1)"
   ]
  },
  {
   "cell_type": "markdown",
   "id": "5e2d0118-2188-4e82-9a47-fc8359d0061c",
   "metadata": {},
   "source": [
    "Now, we can plot the data points in a *scatter plot*.\n",
    "The two classes have different colors."
   ]
  },
  {
   "cell_type": "code",
   "execution_count": null,
   "id": "b4da8535-098f-49ff-be65-df8ef4d76b00",
   "metadata": {
    "scrolled": true,
    "tags": []
   },
   "outputs": [],
   "source": [
    "plt.scatter(data[:, 0], data[:, 1], c=labels, cmap=plt.cm.Set1);"
   ]
  },
  {
   "cell_type": "markdown",
   "id": "88fd7267-e37f-4820-a1d8-90419c7208f1",
   "metadata": {},
   "source": [
    ":::{admonition} Decision Boundaries\n",
    "We call the \"border\" between the classes the *decision boundary*.\n",
    "We can see that these classes are nearly *linearly separable*, which means that we can draw a straight line that separates the two classes.\n",
    "At least one of the gray points lie within the red \"area\".\n",
    "Without these points, the data would be linearly separable.\n",
    "\n",
    "Some simple machine learning algorithms can only separate data linearly, while more powerful algorithms, such as *neural networks*, can make arbitrary decision boundaries.\n",
    ":::"
   ]
  },
  {
   "cell_type": "markdown",
   "id": "6af99014-9d7d-4f8f-b66e-964ff549ad0f",
   "metadata": {},
   "source": [
    "## Class Labels\n",
    "\n",
    "Below is an example of a document which is a contract.\n",
    "The label (document type) is not part of the document.\n",
    "If the documents are stored as tabular data, the labels are in one or more separate columns.\n",
    "The first column could contain the document while the second column could contain the label.\n",
    "\n",
    "```\n",
    "Agreement\n",
    "\n",
    "1. Introduction: The lender is Bank Cred AS.\n",
    "The borrower is the person or persons (borrower and co-applicant) who apply\n",
    "for and are granted a loan with this Agreement.\n",
    "Payment: The credit is paid to the account number the Borrower states.\n",
    "\n",
    "2. Repayment: The Borrower repays the loan amount at fixed term amounts, including \n",
    "interest and term fees (i.e. annuity loans) as specified in the Loan Agreement.\n",
    "\n",
    "3. Late Payment Interest: In the event of late payment, late payment interest accrues\n",
    "at the interest rate determined in accordance with the Act relating to Interest on\n",
    "Overdue Payments.\n",
    "\n",
    "Signature Place/date: Oslo, 08.08.2021\n",
    "For Bank Cred AS Bank adviser Maria Wilson\n",
    "Name: Christopher Thomson Borrower\n",
    "```"
   ]
  },
  {
   "cell_type": "markdown",
   "id": "e8c0c58b-7841-42af-a86e-a0fb29fee5db",
   "metadata": {},
   "source": [
    "This document could have different labels/classes depending on our application needs.\n",
    "For example, if we're interested in document types, it could be labeled \"contract\".\n",
    "If we're interested in fields of law, it might be labeled \"contract law\" or \"banking law\"."
   ]
  },
  {
   "cell_type": "markdown",
   "id": "9daf1c01-0af2-453a-994c-bf856c415af3",
   "metadata": {},
   "source": [
    "## Vectorizing Text"
   ]
  },
  {
   "cell_type": "markdown",
   "id": "2c622bb3-5a80-4ef5-b374-6f0a3886eca3",
   "metadata": {},
   "source": [
    "To use text documents in machine learning, they must first be vectorized."
   ]
  }
 ],
 "metadata": {
  "kernelspec": {
   "display_name": "Python 3",
   "language": "python",
   "name": "python3"
  },
  "language_info": {
   "codemirror_mode": {
    "name": "ipython",
    "version": 3
   },
   "file_extension": ".py",
   "mimetype": "text/x-python",
   "name": "python",
   "nbconvert_exporter": "python",
   "pygments_lexer": "ipython3",
   "version": "3.8.10"
  }
 },
 "nbformat": 4,
 "nbformat_minor": 5
}
