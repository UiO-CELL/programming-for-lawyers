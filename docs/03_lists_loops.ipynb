{
 "cells": [
  {
   "cell_type": "markdown",
   "id": "88a0df2f",
   "metadata": {},
   "source": [
    "# Lists and Loops\n",
    "If we want to store many items, we can create many variables.\n",
    "However, this quickly becomes tedious and error-prone.\n",
    "Instead, we should group our data items together in collections.\n",
    "*Lists* are the standard collections in Python.\n",
    "*Loops* are the standard way of processing lists, among other things."
   ]
  },
  {
   "cell_type": "markdown",
   "id": "9db64b65",
   "metadata": {},
   "source": [
    "## Making Lists\n",
    "\n",
    "Lists can contain any python data type. We make lists by placing items in square brackets, `[ ]`, separated by commas."
   ]
  },
  {
   "cell_type": "code",
   "execution_count": null,
   "id": "1ef096d6",
   "metadata": {},
   "outputs": [],
   "source": [
    "numbers = [1, 2, 3]"
   ]
  },
  {
   "cell_type": "markdown",
   "id": "c7265331",
   "metadata": {},
   "source": [
    "We can also make an empty list:"
   ]
  },
  {
   "cell_type": "code",
   "execution_count": null,
   "id": "5135b11e",
   "metadata": {},
   "outputs": [],
   "source": [
    "defendants = []"
   ]
  },
  {
   "cell_type": "markdown",
   "id": "8f7ace67",
   "metadata": {},
   "source": [
    "## Accessing list elements\n",
    "We can access list elements by using indexes in square brackets.\n",
    "This is like with strings, where we can access individual characters by using indexes."
   ]
  },
  {
   "cell_type": "code",
   "execution_count": null,
   "id": "299bd078",
   "metadata": {
    "scrolled": true
   },
   "outputs": [],
   "source": [
    "print(numbers[0])"
   ]
  },
  {
   "cell_type": "markdown",
   "id": "69218809",
   "metadata": {},
   "source": [
    "```{note}\n",
    "Remember that Python counts from 0, not 1.\n",
    "```"
   ]
  },
  {
   "cell_type": "markdown",
   "id": "7eabde3b",
   "metadata": {},
   "source": [
    "We can also count backwards from the last element with negative indexes."
   ]
  },
  {
   "cell_type": "code",
   "execution_count": null,
   "id": "214e3752",
   "metadata": {},
   "outputs": [],
   "source": [
    "print(numbers[-1])"
   ]
  },
  {
   "cell_type": "markdown",
   "id": "984091cd",
   "metadata": {},
   "source": [
    "We can get a new list containing a part of the original list. This is called a list *slice*, and we get it by using two indexes, a *from* index and a *to* index:"
   ]
  },
  {
   "cell_type": "code",
   "execution_count": null,
   "id": "3d9df241",
   "metadata": {},
   "outputs": [],
   "source": [
    "days = ['Monday', 'Tuesday', 'Wednesday', 'Thursday', 'Friday', 'Saturday', 'Sunday']\n",
    "weekend = days[5:7]\n",
    "print(weekend)"
   ]
  },
  {
   "cell_type": "markdown",
   "id": "950d8d00",
   "metadata": {},
   "source": [
    "## List Operations\n",
    "\n",
    "Python list objects have many methods for manipulating their content."
   ]
  },
  {
   "cell_type": "markdown",
   "id": "de15760a",
   "metadata": {},
   "source": [
    "### Append\n",
    "First, let's `append` some elements to a list:"
   ]
  },
  {
   "cell_type": "code",
   "execution_count": null,
   "id": "71e3a162",
   "metadata": {},
   "outputs": [],
   "source": [
    "defendants = []\n",
    "defendants.append('Jane Doe')\n",
    "defendants.append('Alice')\n",
    "print(defendants)"
   ]
  },
  {
   "cell_type": "markdown",
   "id": "06b8eafd",
   "metadata": {},
   "source": [
    "### Insert\n",
    "If the order of the list items is significant, we can `insert` an element at a specific place:"
   ]
  },
  {
   "cell_type": "code",
   "execution_count": null,
   "id": "79a70d4a",
   "metadata": {},
   "outputs": [],
   "source": [
    "defendants.insert(0, 'Nefarious Nelly')\n",
    "print(defendants)"
   ]
  },
  {
   "cell_type": "markdown",
   "id": "84f69a4c",
   "metadata": {},
   "source": [
    "### Finding items\n",
    "There are two ways to check if a list contains an item.\n",
    "First, we can use the `in` operator that we have already seen:"
   ]
  },
  {
   "cell_type": "code",
   "execution_count": null,
   "id": "3990b5c9",
   "metadata": {},
   "outputs": [],
   "source": [
    "print('Alice' in defendants)"
   ]
  },
  {
   "cell_type": "markdown",
   "id": "67c0f075",
   "metadata": {},
   "source": [
    "If we need to find the position of the item, we can use `<listname>.index()`."
   ]
  },
  {
   "cell_type": "code",
   "execution_count": null,
   "id": "c9abf03e",
   "metadata": {},
   "outputs": [],
   "source": [
    "print('Alice is defendant number', defendants.index('Alice'))"
   ]
  },
  {
   "cell_type": "markdown",
   "id": "255cc1d7",
   "metadata": {},
   "source": [
    "### Removing items\n",
    "We can remove a given list item:"
   ]
  },
  {
   "cell_type": "code",
   "execution_count": null,
   "id": "689081b0",
   "metadata": {},
   "outputs": [],
   "source": [
    "defendants.remove('Alice')\n",
    "print(defendants)"
   ]
  }
 ],
 "metadata": {
  "kernelspec": {
   "display_name": "Python 3",
   "language": "python",
   "name": "python3"
  },
  "language_info": {
   "codemirror_mode": {
    "name": "ipython",
    "version": 3
   },
   "file_extension": ".py",
   "mimetype": "text/x-python",
   "name": "python",
   "nbconvert_exporter": "python",
   "pygments_lexer": "ipython3",
   "version": "3.8.8"
  }
 },
 "nbformat": 4,
 "nbformat_minor": 5
}
