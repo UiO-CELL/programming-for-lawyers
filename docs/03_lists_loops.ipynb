{
 "cells": [
  {
   "cell_type": "markdown",
   "id": "88a0df2f",
   "metadata": {},
   "source": [
    "# Lists and Loops\n",
    "If we want to store many items, we can create many variables.\n",
    "However, this quickly becomes tedious and error-prone.\n",
    "Instead, we should group our data items together in collections.\n",
    "*Lists* are the standard collections in Python.\n",
    "*Loops* are the standard way of processing lists."
   ]
  },
  {
   "cell_type": "markdown",
   "id": "9db64b65",
   "metadata": {},
   "source": [
    "## Making Lists\n",
    "\n",
    "Lists can contain any python data type. We make lists by placing items in square brackets, `[ ]`, separated by commas."
   ]
  },
  {
   "cell_type": "code",
   "execution_count": 2,
   "id": "1ef096d6",
   "metadata": {},
   "outputs": [],
   "source": [
    "numbers = [1, 2, 3]"
   ]
  },
  {
   "cell_type": "markdown",
   "id": "8f7ace67",
   "metadata": {},
   "source": [
    "## Accessing list elements\n",
    "We can access list elements by using indexes in square brackets.\n",
    "This is like with strings, where we can access individual characters by using indexes."
   ]
  },
  {
   "cell_type": "code",
   "execution_count": 3,
   "id": "299bd078",
   "metadata": {},
   "outputs": [
    {
     "name": "stdout",
     "output_type": "stream",
     "text": [
      "1\n"
     ]
    }
   ],
   "source": [
    "print(numbers[0])"
   ]
  }
 ],
 "metadata": {
  "kernelspec": {
   "display_name": "Python 3",
   "language": "python",
   "name": "python3"
  },
  "language_info": {
   "codemirror_mode": {
    "name": "ipython",
    "version": 3
   },
   "file_extension": ".py",
   "mimetype": "text/x-python",
   "name": "python",
   "nbconvert_exporter": "python",
   "pygments_lexer": "ipython3",
   "version": "3.8.8"
  }
 },
 "nbformat": 4,
 "nbformat_minor": 5
}
