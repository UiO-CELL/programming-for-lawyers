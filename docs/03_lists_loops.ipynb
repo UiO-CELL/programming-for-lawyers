{
 "cells": [
  {
   "cell_type": "markdown",
   "id": "88a0df2f",
   "metadata": {},
   "source": [
    "# Lists and Loops\n",
    "If we want to store many items, we can create many variables.\n",
    "However, this quickly becomes tedious and error-prone.\n",
    "Instead, we should group our data items together in collections.\n",
    "*Lists* are the standard collections in Python.\n",
    "*Loops* are the standard way of processing lists."
   ]
  },
  {
   "cell_type": "markdown",
   "id": "9db64b65",
   "metadata": {},
   "source": [
    "## Making Lists\n",
    "\n",
    "Lists can contain any python data type. We make lists by placing items in square brackets, `[ ]`, separated by commas."
   ]
  },
  {
   "cell_type": "code",
   "execution_count": null,
   "id": "1ef096d6",
   "metadata": {},
   "outputs": [],
   "source": [
    "numbers = [1, 2, 3]"
   ]
  },
  {
   "cell_type": "markdown",
   "id": "8f7ace67",
   "metadata": {},
   "source": [
    "## Accessing list elements\n",
    "We can access list elements by using indexes in square brackets.\n",
    "This is like with strings, where we can access individual characters by using indexes."
   ]
  },
  {
   "cell_type": "code",
   "execution_count": null,
   "id": "299bd078",
   "metadata": {
    "scrolled": true
   },
   "outputs": [],
   "source": [
    "print(numbers[0])"
   ]
  },
  {
   "cell_type": "markdown",
   "id": "742a5544",
   "metadata": {},
   "source": [
    "We can also count backwards from the last element with negative indexes."
   ]
  },
  {
   "cell_type": "code",
   "execution_count": null,
   "id": "191ce9c2",
   "metadata": {},
   "outputs": [],
   "source": [
    "print(numbers[-1])"
   ]
  },
  {
   "cell_type": "markdown",
   "id": "e6ecec32",
   "metadata": {},
   "source": [
    "We can get a new list containing a part of the original list. This is called a list *slice*, and we get it by using two indexes, a *from* index and a *to* index:"
   ]
  },
  {
   "cell_type": "code",
   "execution_count": null,
   "id": "981eb790",
   "metadata": {},
   "outputs": [],
   "source": [
    "days = ['Monday', 'Tuesday', 'Wednesday', 'Thursday', 'Friday', 'Saturday', 'Sunday']\n",
    "weekend = days[5:7]\n",
    "print(weekend)"
   ]
  }
 ],
 "metadata": {
  "kernelspec": {
   "display_name": "Python 3",
   "language": "python",
   "name": "python3"
  },
  "language_info": {
   "codemirror_mode": {
    "name": "ipython",
    "version": 3
   },
   "file_extension": ".py",
   "mimetype": "text/x-python",
   "name": "python",
   "nbconvert_exporter": "python",
   "pygments_lexer": "ipython3",
   "version": "3.8.8"
  }
 },
 "nbformat": 4,
 "nbformat_minor": 5
}
