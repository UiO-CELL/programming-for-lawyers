{
 "cells": [
  {
   "cell_type": "markdown",
   "id": "88a0df2f",
   "metadata": {},
   "source": [
    "# Lists and Loops\n",
    "If we want to store many items, we can create many variables.\n",
    "However, this quickly becomes tedious and error-prone.\n",
    "Instead, we should group our data items together in collections.\n",
    "*Lists* are the standard collections in Python.\n",
    "*Loops* are the standard way of processing lists, among other things."
   ]
  },
  {
   "cell_type": "markdown",
   "id": "9db64b65",
   "metadata": {},
   "source": [
    "## Making Lists\n",
    "\n",
    "Lists can contain any python data type. We make lists by placing items in square brackets, `[ ]`, separated by commas."
   ]
  },
  {
   "cell_type": "code",
   "execution_count": null,
   "id": "1ef096d6",
   "metadata": {},
   "outputs": [],
   "source": [
    "numbers = [1, 2, 3]"
   ]
  },
  {
   "cell_type": "markdown",
   "id": "c7265331",
   "metadata": {},
   "source": [
    "We can also make an empty list:"
   ]
  },
  {
   "cell_type": "code",
   "execution_count": null,
   "id": "5135b11e",
   "metadata": {},
   "outputs": [],
   "source": [
    "defendants = []"
   ]
  },
  {
   "cell_type": "markdown",
   "id": "8f7ace67",
   "metadata": {},
   "source": [
    "## Accessing list elements\n",
    "We can access list elements by using indexes in square brackets.\n",
    "This is like with strings, where we can access individual characters by using indexes."
   ]
  },
  {
   "cell_type": "code",
   "execution_count": null,
   "id": "299bd078",
   "metadata": {
    "scrolled": true
   },
   "outputs": [],
   "source": [
    "print(numbers[0])"
   ]
  },
  {
   "cell_type": "markdown",
   "id": "69218809",
   "metadata": {},
   "source": [
    "```{note}\n",
    "Remember that Python counts from 0, not 1.\n",
    "```"
   ]
  },
  {
   "cell_type": "markdown",
   "id": "7eabde3b",
   "metadata": {},
   "source": [
    "We can also count backwards from the last element with negative indexes."
   ]
  },
  {
   "cell_type": "code",
   "execution_count": null,
   "id": "214e3752",
   "metadata": {},
   "outputs": [],
   "source": [
    "print(numbers[-1])"
   ]
  },
  {
   "cell_type": "markdown",
   "id": "984091cd",
   "metadata": {},
   "source": [
    "We can get a new list containing a part of the original list. This is called a list *slice*, and we get it by using two indexes, a *from* index and a *to* index:"
   ]
  },
  {
   "cell_type": "code",
   "execution_count": null,
   "id": "3d9df241",
   "metadata": {},
   "outputs": [],
   "source": [
    "days = ['Monday', 'Tuesday', 'Wednesday', 'Thursday', 'Friday', 'Saturday', 'Sunday']\n",
    "weekend = days[5:7]\n",
    "print(weekend)"
   ]
  },
  {
   "cell_type": "markdown",
   "id": "950d8d00",
   "metadata": {},
   "source": [
    "## List Operations\n",
    "\n",
    "Python list objects have many methods for manipulating their content.\n",
    "There are also built-in list functions."
   ]
  },
  {
   "cell_type": "markdown",
   "id": "7a36c42b-a3df-4c0a-961f-2702bd0fe842",
   "metadata": {},
   "source": [
    "### Length\n",
    "As with strings, we can use the function `len()` to get the length of a list."
   ]
  },
  {
   "cell_type": "code",
   "execution_count": null,
   "id": "d8ab2e53-3b55-4f70-b7e0-8ac0f92cd574",
   "metadata": {},
   "outputs": [],
   "source": [
    "print(len(days))"
   ]
  },
  {
   "cell_type": "markdown",
   "id": "de15760a",
   "metadata": {},
   "source": [
    "### Append\n",
    "We can `append` items to a list:"
   ]
  },
  {
   "cell_type": "code",
   "execution_count": null,
   "id": "71e3a162",
   "metadata": {},
   "outputs": [],
   "source": [
    "defendants = []\n",
    "defendants.append('Jane Doe')\n",
    "defendants.append('Alice')\n",
    "print(defendants)"
   ]
  },
  {
   "cell_type": "markdown",
   "id": "06b8eafd",
   "metadata": {},
   "source": [
    "### Insert\n",
    "If the order of the list items is significant, we can `insert` an element at a specific place:"
   ]
  },
  {
   "cell_type": "code",
   "execution_count": null,
   "id": "79a70d4a",
   "metadata": {},
   "outputs": [],
   "source": [
    "defendants.insert(0, 'Nefarious Nelly')\n",
    "print(defendants)"
   ]
  },
  {
   "cell_type": "markdown",
   "id": "84f69a4c",
   "metadata": {},
   "source": [
    "### Finding items\n",
    "There are two ways to check if a list contains an item.\n",
    "First, we can use the `in` operator that we have already seen:"
   ]
  },
  {
   "cell_type": "code",
   "execution_count": null,
   "id": "3990b5c9",
   "metadata": {},
   "outputs": [],
   "source": [
    "print('Alice' in defendants)"
   ]
  },
  {
   "cell_type": "markdown",
   "id": "67c0f075",
   "metadata": {},
   "source": [
    "If we need to find the position of the item, we can use `<listname>.index()`."
   ]
  },
  {
   "cell_type": "code",
   "execution_count": null,
   "id": "c9abf03e",
   "metadata": {},
   "outputs": [],
   "source": [
    "print('Alice is defendant number', defendants.index('Alice'))"
   ]
  },
  {
   "cell_type": "markdown",
   "id": "255cc1d7",
   "metadata": {},
   "source": [
    "### Removing items\n",
    "We can remove a given list item:"
   ]
  },
  {
   "cell_type": "code",
   "execution_count": null,
   "id": "689081b0",
   "metadata": {},
   "outputs": [],
   "source": [
    "item = 'Alice'\n",
    "if item in defendants:\n",
    "    defendants.remove(item)\n",
    "print(defendants)"
   ]
  },
  {
   "cell_type": "markdown",
   "id": "8cc42183-11af-4875-97ee-f193f5ca228b",
   "metadata": {},
   "source": [
    "We can also remove an item at a given position with the method `<listname>.pop(index)`.\n",
    "This method returns the element which was removed, so we can use it if necessary.\n",
    "The most common would be to remove the first or last element:"
   ]
  },
  {
   "cell_type": "code",
   "execution_count": null,
   "id": "a7aababe-cef9-42eb-aad5-3bac9039dc74",
   "metadata": {},
   "outputs": [],
   "source": [
    "print(days)\n",
    "day = days.pop(0)\n",
    "print(day)\n",
    "print(days.pop(-1))\n",
    "print(days)"
   ]
  },
  {
   "cell_type": "markdown",
   "id": "2993df69-d861-4dbd-93e5-1db8b1f6e626",
   "metadata": {},
   "source": [
    "## Nested Lists\n",
    "Lists can contain other lists, and these are called nested lists.\n",
    "For example, we could have a case where there are two groups of defendants."
   ]
  },
  {
   "cell_type": "code",
   "execution_count": null,
   "id": "3c590da8-fc58-476b-8cb1-a9af7b2e9107",
   "metadata": {},
   "outputs": [],
   "source": [
    "defendants = [['Joe', 'Ahmed'],\n",
    "              ['Alice', 'Sue']]\n",
    "print(defendants)"
   ]
  },
  {
   "cell_type": "markdown",
   "id": "2346a8a9-a3b1-49d2-b8e4-c54849cf385f",
   "metadata": {},
   "source": [
    "We can access the elements one step at a time, or by using multiple indexes:"
   ]
  },
  {
   "cell_type": "code",
   "execution_count": null,
   "id": "0453ff82-4b71-428b-bd36-31c29d26e949",
   "metadata": {},
   "outputs": [],
   "source": [
    "defendant_group = defendants[0]\n",
    "print(defendant_group[0])\n",
    "# is equivalent to\n",
    "print(defendants[0][0])"
   ]
  },
  {
   "cell_type": "markdown",
   "id": "fbb8fbf9-5d92-4f22-948d-ba74bf4f457b",
   "metadata": {},
   "source": [
    "## Loops\n",
    "\n",
    "We can access all the elements in a list manually:"
   ]
  },
  {
   "cell_type": "code",
   "execution_count": null,
   "id": "34e64638-56ed-4fe5-855f-87ac097d98d2",
   "metadata": {},
   "outputs": [],
   "source": [
    "days = ['Monday', 'Tuesday', 'Wednesday', 'Thursday', 'Friday', 'Saturday', 'Sunday']\n",
    "\n",
    "print(days[0])\n",
    "print(days[1])\n",
    "print(days[2])\n",
    "# ..."
   ]
  },
  {
   "cell_type": "markdown",
   "id": "d7030449-d665-49ae-92bb-ea59c9903e34",
   "metadata": {},
   "source": [
    "But this kind of manual repetition is both tedious and error-prone, especially for long lists.\n",
    "Instead, we should get the computer to do the work with a `for` loop.\n",
    "This is called *iterating* over the list."
   ]
  },
  {
   "cell_type": "code",
   "execution_count": null,
   "id": "23499473-5861-4714-85f6-9a718860994f",
   "metadata": {},
   "outputs": [],
   "source": [
    "for day in days:\n",
    "    print(day)"
   ]
  },
  {
   "cell_type": "markdown",
   "id": "1528e962-d8fb-4da1-ae1b-34198bcc6b27",
   "metadata": {},
   "source": [
    "## Nested Loops\n",
    "\n",
    "We can use *nested loops* to loop over nested lists:"
   ]
  },
  {
   "cell_type": "code",
   "execution_count": null,
   "id": "fa68ecfe-9ec4-40b6-8975-b78b55b6ae12",
   "metadata": {},
   "outputs": [],
   "source": [
    "defendants = [['Joe', 'Ahmed'],\n",
    "              ['Alice', 'Sue']]\n",
    "\n",
    "for group in defendants:\n",
    "    print('Listing group:')\n",
    "    for defendant in group:\n",
    "        print(defendant)"
   ]
  },
  {
   "cell_type": "markdown",
   "id": "fd12c4b6-469f-4718-b3d2-d346ca31ead3",
   "metadata": {},
   "source": [
    "## Range\n",
    "\n",
    "Sometimes we need to repeat an action a fixed number of times.\n",
    "We can do this by looping over a range of numbers with the function `range()`."
   ]
  },
  {
   "cell_type": "code",
   "execution_count": null,
   "id": "665a7715-2878-4595-a3d3-646a88858717",
   "metadata": {},
   "outputs": [],
   "source": [
    "print('Agenda:')\n",
    "for number in range(10):\n",
    "    print('Item', number)"
   ]
  },
  {
   "cell_type": "markdown",
   "id": "c2ded1e4-2302-4455-b89f-923aa2955d45",
   "metadata": {},
   "source": [
    "## While Loops\n",
    "\n",
    "We have seen that `for` loops iterate over a sequence. We can also keep doing something as long as some condition is true, i.e. while the condition is true.\n",
    "For this, we use a `while` expression.\n",
    "\n",
    "For example, we could make a system for collecting client information. One function would be to enter new client names."
   ]
  },
  {
   "cell_type": "code",
   "execution_count": null,
   "id": "2fec9e9c-b738-429a-bf2b-acf90053064d",
   "metadata": {
    "tags": [
     "raises-exception",
     "remove-output"
    ]
   },
   "outputs": [],
   "source": [
    "client_name = input('Enter client name, empty line to finish: ')\n",
    "\n",
    "while client_name:\n",
    "    #process new client\n",
    "    print(client_name, 'saved')\n",
    "    client_name = input('Enter client name, empty line to finish: ')"
   ]
  },
  {
   "cell_type": "markdown",
   "id": "4d85fcc1-fb69-4b84-8986-24525f7692c7",
   "metadata": {},
   "source": [
    "The first `input()` statement is called a \"priming read\", because it prepares the loop variable."
   ]
  },
  {
   "cell_type": "markdown",
   "id": "af919b86-e4da-4266-a822-1fb61c3d99b4",
   "metadata": {},
   "source": [
    "## List References\n",
    "\n",
    "Unlike simple Python variables, list variables contain *references* to lists, not the lists themselves.\n",
    "If we assign the value of one list variable to another, we don't get a copy of the list.\n",
    "Instead, both variables refer to the same list, and we can call them aliases."
   ]
  },
  {
   "cell_type": "code",
   "execution_count": null,
   "id": "18ce4b56-6bf3-47ba-9c83-d055eab334eb",
   "metadata": {},
   "outputs": [],
   "source": [
    "clients = ['Jane Doe', 'Alice A']\n",
    "clients2 = clients\n",
    "clients.append('Bob B')\n",
    "print('clients: ', clients)\n",
    "print('clients2:', clients2)"
   ]
  },
  {
   "cell_type": "markdown",
   "id": "299176b5-c9e5-4e57-9e07-092078de8519",
   "metadata": {},
   "source": [
    "Since both variables refer to the same list, when we modify one of them, the change applies to both."
   ]
  },
  {
   "cell_type": "markdown",
   "id": "fd8aaad1-ddf7-47be-9b2d-727d32b10514",
   "metadata": {},
   "source": [
    "## Copying Lists\n",
    "\n",
    "We can also make a new copy of a list, by passing it to the function `list()`.\n",
    "Then, the variables refer to different lists, and we can modify them independently:"
   ]
  },
  {
   "cell_type": "code",
   "execution_count": null,
   "id": "6621e24d-366f-4c63-b095-c77ef4e99a88",
   "metadata": {},
   "outputs": [],
   "source": [
    "clients2 = list(clients)\n",
    "clients2.pop()\n",
    "print('clients: ', clients)\n",
    "print('clients2:', clients2)"
   ]
  }
 ],
 "metadata": {
  "kernelspec": {
   "display_name": "Python 3",
   "language": "python",
   "name": "python3"
  },
  "language_info": {
   "codemirror_mode": {
    "name": "ipython",
    "version": 3
   },
   "file_extension": ".py",
   "mimetype": "text/x-python",
   "name": "python",
   "nbconvert_exporter": "python",
   "pygments_lexer": "ipython3",
   "version": "3.8.8"
  }
 },
 "nbformat": 4,
 "nbformat_minor": 5
}
