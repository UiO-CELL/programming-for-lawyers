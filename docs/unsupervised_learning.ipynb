{
 "cells": [
  {
   "cell_type": "markdown",
   "id": "f360e067-3a1d-44ac-a83f-234bf274aeac",
   "metadata": {},
   "source": [
    "(unsupervised_learning)=\n",
    "# Unsupervised Learning\n",
    "\n",
    "Unsupervised learning differs from [supervised learning](supervised_learning) in that it uses unlabeled data.\n",
    "Labeling data must usually be done manually by humans, and this can be both time-consuming and expensive.\n",
    "On the other hand, the labels provide information for the machine learning algorithm to learn from.\n",
    "Without labels, we can't do classification since there are no classes to learn.\n",
    "Instead, unsupervised learning looks for patterns in the data itself.\n",
    "\n",
    "The unsupervised alternative to classification is *clustering*, where we group similar items together in *clusters*.\n",
    "Clustering also requires vectorizing the data to get a numeric representation that the computer can work with.\n",
    "Unsupervised learning, like clustering, can be a good alternative when we lack the resources to label our data set."
   ]
  }
 ],
 "metadata": {
  "kernelspec": {
   "display_name": "Python 3",
   "language": "python",
   "name": "python3"
  },
  "language_info": {
   "codemirror_mode": {
    "name": "ipython",
    "version": 3
   },
   "file_extension": ".py",
   "mimetype": "text/x-python",
   "name": "python",
   "nbconvert_exporter": "python",
   "pygments_lexer": "ipython3",
   "version": "3.8.10"
  }
 },
 "nbformat": 4,
 "nbformat_minor": 5
}
