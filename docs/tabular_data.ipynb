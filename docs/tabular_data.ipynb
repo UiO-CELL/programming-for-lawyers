{
 "cells": [
  {
   "cell_type": "markdown",
   "id": "de181bb1-7716-4de2-954e-b3c113bb0560",
   "metadata": {},
   "source": [
    "# Tabular Data\n",
    "\n",
    "Tabular data are data in a table format, such as an Excel spreadsheet.\n",
    "We often need to work with tabular data.\n",
    "*Pandas* is a powerful Python library for working with tabular data.\n",
    "\n",
    "In this part, we will work with real-world data from the European Court of Human Rights [OpenData project](https://echr-opendata.eu/) (ECHR-OD).\n",
    "ECHR-OD has data sets with cases from the European Court of Human Rights in different formats.\n",
    "Here, we will work with data from the tabular data file `echr_2_0_0_structured_cases.csv`, which is in *CSV* format.\n",
    "CSV is an abbreviation for \"comma separated values\"."
   ]
  },
  {
   "cell_type": "markdown",
   "id": "ac97978a-c939-4dd8-80df-8d02932b01f9",
   "metadata": {},
   "source": [
    "## Reading CSV Files\n",
    "To read the data set, we must first import the pandas library.\n",
    "Then, we use pandas `read-csv()` function."
   ]
  },
  {
   "cell_type": "code",
   "execution_count": null,
   "id": "c6d403f6-bbae-414e-846f-172ff9b802b8",
   "metadata": {},
   "outputs": [],
   "source": [
    "import pandas as pd\n",
    "\n",
    "cases = pd.read_csv('cases-5.csv')"
   ]
  },
  {
   "cell_type": "markdown",
   "id": "3d4cb2e9-f6c4-402a-9487-c6552e01e23f",
   "metadata": {},
   "source": [
    "```{note}\n",
    "By convention, pandas is usually imported as `pd`.\n",
    "```"
   ]
  },
  {
   "cell_type": "markdown",
   "id": "81b319a4-1613-4b36-ab87-516d8ca97cde",
   "metadata": {},
   "source": [
    "## Examining Data\n",
    "Now, we can examine the data set.\n",
    "Pandas has a method `head()` which prints the first five rows of the table."
   ]
  },
  {
   "cell_type": "code",
   "execution_count": null,
   "id": "df3eff11-75f6-46ff-9c33-96cee6fe2640",
   "metadata": {},
   "outputs": [],
   "source": [
    "display(cases.head())"
   ]
  },
  {
   "cell_type": "markdown",
   "id": "fac65997-4b76-44a7-bcb3-2c3f5332f26b",
   "metadata": {},
   "source": [
    "```{admonition} `display` function\n",
    "We can use the Jupyter Notebook function `display()` to show a nicer format than with `print()`.\n",
    "```"
   ]
  },
  {
   "cell_type": "markdown",
   "id": "096e8d6d-3651-40d1-811c-f3f100f04a9f",
   "metadata": {},
   "source": [
    "This is a large table with 374 columns. Therefore, pandas shows only the first and last columns.\n",
    "We can look at the column names."
   ]
  },
  {
   "cell_type": "code",
   "execution_count": null,
   "id": "7dc3300d-40ae-481d-ad9f-e0500f053196",
   "metadata": {
    "tags": [
     "output_scroll",
     "hide-output"
    ]
   },
   "outputs": [],
   "source": [
    "display(list(cases.columns))"
   ]
  }
 ],
 "metadata": {
  "kernelspec": {
   "display_name": "Python 3",
   "language": "python",
   "name": "python3"
  },
  "language_info": {
   "codemirror_mode": {
    "name": "ipython",
    "version": 3
   },
   "file_extension": ".py",
   "mimetype": "text/x-python",
   "name": "python",
   "nbconvert_exporter": "python",
   "pygments_lexer": "ipython3",
   "version": "3.8.10"
  }
 },
 "nbformat": 4,
 "nbformat_minor": 5
}
