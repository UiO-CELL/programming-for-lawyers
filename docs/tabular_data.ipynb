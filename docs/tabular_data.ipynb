{
 "cells": [
  {
   "cell_type": "markdown",
   "id": "de181bb1-7716-4de2-954e-b3c113bb0560",
   "metadata": {},
   "source": [
    "# Tabular Data\n",
    "\n",
    "Tabular data are data in a table format, such as an Excel spreadsheet.\n",
    "We often need to work with tabular data.\n",
    "*Pandas* is a powerful Python library for working with tabular data.\n",
    "\n",
    "In this part, we will work with real-world data from the European Court of Human Rights [OpenData project](https://echr-opendata.eu/) (ECHR-OD).\n",
    "ECHR-OD has data sets with cases from the European Court of Human Rights in different formats.\n",
    "Here, we will work with data from the tabular data file `echr_2_0_0_structured_cases.csv`, which is in *CSV* format.\n",
    "CSV is an abbreviation for \"comma separated values\"."
   ]
  },
  {
   "cell_type": "markdown",
   "id": "ac97978a-c939-4dd8-80df-8d02932b01f9",
   "metadata": {},
   "source": [
    "## Reading CSV Files\n",
    "To read the data set, we must first import the pandas library.\n",
    "Then, we use pandas `read_csv()` function."
   ]
  },
  {
   "cell_type": "code",
   "execution_count": null,
   "id": "c6d403f6-bbae-414e-846f-172ff9b802b8",
   "metadata": {},
   "outputs": [],
   "source": [
    "import pandas as pd\n",
    "\n",
    "cases = pd.read_csv('cases-100.csv')"
   ]
  },
  {
   "cell_type": "markdown",
   "id": "3d4cb2e9-f6c4-402a-9487-c6552e01e23f",
   "metadata": {},
   "source": [
    "```{note}\n",
    "By convention, pandas is usually imported as `pd`.\n",
    "```"
   ]
  },
  {
   "cell_type": "markdown",
   "id": "935517f4-f289-4a67-b988-3087a9a1fb49",
   "metadata": {},
   "source": [
    "## Examining Data\n",
    "Now, we can examine the data set.\n",
    "Pandas has a method `head()` which prints the first five rows of the table."
   ]
  },
  {
   "cell_type": "code",
   "execution_count": null,
   "id": "81ce600d-b08f-4830-9057-37d1f74a46d3",
   "metadata": {},
   "outputs": [],
   "source": [
    "display(cases.head())"
   ]
  },
  {
   "cell_type": "markdown",
   "id": "fac65997-4b76-44a7-bcb3-2c3f5332f26b",
   "metadata": {},
   "source": [
    "```{admonition} Display Function\n",
    "We can use the Jupyter Notebook function `display()` to show a nicer format than with `print()`.\n",
    "```"
   ]
  },
  {
   "cell_type": "markdown",
   "id": "096e8d6d-3651-40d1-811c-f3f100f04a9f",
   "metadata": {},
   "source": [
    "This is a large table with 374 columns. Therefore, pandas shows only the first and last columns.\n",
    "We can look at the column names.\n",
    "\n",
    "There are several interesting columns.\n",
    "For example, the column `docname` contains the title of the case.\n",
    "`country.name` contains the name of the country involved in the case."
   ]
  },
  {
   "cell_type": "code",
   "execution_count": null,
   "id": "7dc3300d-40ae-481d-ad9f-e0500f053196",
   "metadata": {
    "tags": [
     "output_scroll",
     "hide-output"
    ]
   },
   "outputs": [],
   "source": [
    "display(list(cases.columns))"
   ]
  },
  {
   "cell_type": "markdown",
   "id": "7ac518cd-e91f-4c03-b58f-5ece3662f2cf",
   "metadata": {},
   "source": [
    "## Getting a Row\n",
    "We can use `.loc[]` to select parts of the table.\n",
    "First, we select a row using the index."
   ]
  },
  {
   "cell_type": "code",
   "execution_count": null,
   "id": "68f06fab-1c0d-4f87-97f8-3e9899fd8758",
   "metadata": {},
   "outputs": [],
   "source": [
    "selection = cases.loc[0]\n",
    "display(selection)"
   ]
  },
  {
   "cell_type": "markdown",
   "id": "9ad95c36-8dc1-45b1-b884-6edaaf8ba267",
   "metadata": {},
   "source": [
    "```{note}\n",
    "Pandas only shows the first and last five columns.\n",
    "To show all the data, we can convert them to a `list()`.\n",
    "```"
   ]
  },
  {
   "cell_type": "code",
   "execution_count": null,
   "id": "e8ce84e7-3b11-47c3-b5f9-dcf7554b8561",
   "metadata": {},
   "outputs": [],
   "source": [
    "print(list(selection))"
   ]
  },
  {
   "cell_type": "markdown",
   "id": "2de3feed-8ecb-4ad1-82f6-50b997770624",
   "metadata": {},
   "source": [
    "## Getting a Single Cell\n",
    "The titles of the cases are in the column `docname`.\n",
    "We can get the title in row 0."
   ]
  },
  {
   "cell_type": "code",
   "execution_count": null,
   "id": "ffdefd15-3940-4ff8-b2f5-b488987debe8",
   "metadata": {},
   "outputs": [],
   "source": [
    "selection = cases.loc[0, 'docname']\n",
    "print(selection)"
   ]
  },
  {
   "cell_type": "markdown",
   "id": "337728f6-b5d6-47de-835a-df71287db31c",
   "metadata": {},
   "source": [
    "```{note}\n",
    "Tables are two-dimensional; therefore, we must use two indexes.\n",
    "```"
   ]
  },
  {
   "cell_type": "markdown",
   "id": "ae4e416e-754e-43d5-9c3d-bf6c98497b50",
   "metadata": {
    "tags": []
   },
   "source": [
    "## Listing a Column\n",
    "We can also get the titles from the first five rows using a range of indexes."
   ]
  },
  {
   "cell_type": "code",
   "execution_count": null,
   "id": "61c8da8a-56f9-4b00-880d-e53ec9dca8a5",
   "metadata": {},
   "outputs": [],
   "source": [
    "selection = cases.loc[0:4, 'docname']\n",
    "display(selection)"
   ]
  },
  {
   "cell_type": "markdown",
   "id": "0bc7f117-7aab-48cb-a03f-2ddbc4116eee",
   "metadata": {},
   "source": [
    "If we want to get the entire `docname` column, we leave out the indexes and just use a colon."
   ]
  },
  {
   "cell_type": "code",
   "execution_count": null,
   "id": "49b7fe11-0e69-49fb-9c8c-1bdfd39073fe",
   "metadata": {},
   "outputs": [],
   "source": [
    "selection = cases.loc[:, 'docname']\n",
    "display(selection)"
   ]
  },
  {
   "cell_type": "markdown",
   "id": "171938cd-1178-486f-b556-0cc36cbdcc70",
   "metadata": {},
   "source": [
    "```{note}\n",
    "We have seen the colon before with lists.\n",
    "With lists we can also leave out one or both of the indexes.\n",
    "Without any indexes, we get a copy of the entire list:\n",
    "`list_copy = old_list[:]`\n",
    "```"
   ]
  },
  {
   "cell_type": "markdown",
   "id": "d4d1f1e3-3f5e-44f4-ba10-af3783f051c7",
   "metadata": {},
   "source": [
    "## Getting Multiple Columns\n",
    "Here we select multiple columns:"
   ]
  },
  {
   "cell_type": "code",
   "execution_count": null,
   "id": "f4dfee48-2784-4c70-9638-50a576c3b961",
   "metadata": {},
   "outputs": [],
   "source": [
    "selection = cases.loc[50:54, ['docname', 'decisiondate']]\n",
    "display(selection)"
   ]
  },
  {
   "cell_type": "markdown",
   "id": "43b5a6f1-4954-4e4e-be24-1956448af761",
   "metadata": {},
   "source": [
    "```{admonition} Missing Data\n",
    "Here, some of the dates are missing.\n",
    "Pandas uses `NaN` to indicate missing numeric data, short for *Not a Number*.\n",
    "```"
   ]
  },
  {
   "cell_type": "markdown",
   "id": "be71bb1f-cf99-4994-9814-67775d44e52e",
   "metadata": {},
   "source": [
    "## Relational Operators\n",
    "Pandas can select data conditionally, using relational operators.\n",
    "The ECHR-OD case data has a column `ccl_article=2`.\n",
    "This column has the value 1 for cases where there was found a violation of Article 2 of the European Convention on Human Rights.\n",
    "\n",
    "We can use this column in an expression with a relational operator."
   ]
  },
  {
   "cell_type": "code",
   "execution_count": null,
   "id": "75171a61-b35e-4673-a48d-319b4a22b597",
   "metadata": {},
   "outputs": [],
   "source": [
    "cases['ccl_article=2'] == 1"
   ]
  },
  {
   "cell_type": "markdown",
   "id": "ef1ccbdc-4007-4920-8494-7f25a70b8d64",
   "metadata": {},
   "source": [
    "```{admonition} Boolean Columns\n",
    "The result is a Boolean column.\n",
    "When we use them with pandas tables, relational operators return Boolean columns.\n",
    "This is just like regular relational operators, except that regular relational operators return a single value.\n",
    "```\n",
    "\n",
    "We can use the result as a filter when selecting cases.\n",
    "This will select the cases where the Boolean value is `True`."
   ]
  },
  {
   "cell_type": "code",
   "execution_count": null,
   "id": "1b06e6f2-9993-4484-8ebe-6e97dbfd6ddb",
   "metadata": {},
   "outputs": [],
   "source": [
    "selection = cases.loc[cases['ccl_article=2'] == 1]\n",
    "display(selection)"
   ]
  },
  {
   "cell_type": "markdown",
   "id": "6c67736c-3b62-4fba-8c86-edd2582e4901",
   "metadata": {},
   "source": [
    "```{admonition} Conclusion Columns\n",
    "The conclusions of each case are listed in the columns starting with `ccl_article`.\n",
    "For Article N, the column name is `ccl_article=N`.\n",
    "These columns have 3 possible values:\n",
    "\n",
    "| Value | Meaning |\n",
    "|------:|:--------|\n",
    "| 1 | violation |\n",
    "| -1 | no violation |\n",
    "| 0 | no conclusion / not relevant |\n",
    "```"
   ]
  },
  {
   "cell_type": "markdown",
   "id": "95a980ad-4e4f-4663-94a3-ff6c401b4b18",
   "metadata": {},
   "source": [
    "Likewise, we can select cases where there was found no violation of Article 5 § 3."
   ]
  },
  {
   "cell_type": "code",
   "execution_count": null,
   "id": "439f3eb6-a6c6-46a0-8b18-f5193cdca9a5",
   "metadata": {},
   "outputs": [],
   "source": [
    "selection = cases.loc[cases['ccl_article=5-3'] == -1]\n",
    "display(selection)"
   ]
  },
  {
   "cell_type": "markdown",
   "id": "5c996a70-0d90-4de9-a784-8275ff96f20a",
   "metadata": {},
   "source": [
    "## Selecting by Year\n",
    "We can select cases by the decision date.\n",
    "First, we must convert the `decisiondate` column to machine-readable format."
   ]
  },
  {
   "cell_type": "code",
   "execution_count": null,
   "id": "b9ef589f-aa02-44b1-838b-e50091ed60c8",
   "metadata": {},
   "outputs": [],
   "source": [
    "cases['decisiondate'] = pd.to_datetime(cases['decisiondate'])"
   ]
  },
  {
   "cell_type": "markdown",
   "id": "ade07df4-eb9e-4b8f-8789-ca7e42865507",
   "metadata": {},
   "source": [
    "```{note}\n",
    "Python has the built-in library `datetime` for handling time and dates.\n",
    "But in this case, we only need pandas `to_datetime()` function.\n",
    "```"
   ]
  },
  {
   "cell_type": "markdown",
   "id": "6aaf022f-78e8-4076-8a8e-7f087d084ad5",
   "metadata": {},
   "source": [
    "Now, we can use the year from the decision date with a relational operator."
   ]
  },
  {
   "cell_type": "code",
   "execution_count": null,
   "id": "0d7ade34-72f9-4105-bca2-4948fa28c371",
   "metadata": {},
   "outputs": [],
   "source": [
    "selection = cases.loc[cases['decisiondate'].dt.year == 2005]\n",
    "display(selection)"
   ]
  },
  {
   "cell_type": "markdown",
   "id": "4babbe4b-0fe9-424c-bb64-c4e37d242bb3",
   "metadata": {},
   "source": [
    "## Aggregating Data\n",
    "Pandas has various functions for aggregating data.\n",
    "For example, we can count the number of occurrences of different values."
   ]
  },
  {
   "cell_type": "markdown",
   "id": "95445df4-8d64-4ebe-9087-5f2edded4123",
   "metadata": {},
   "source": [
    "The column `doctypebranch` contains the type of deciding body for the case."
   ]
  },
  {
   "cell_type": "code",
   "execution_count": null,
   "id": "8314bd0e-a0b4-4f87-8c8b-84ab84e16b31",
   "metadata": {},
   "outputs": [],
   "source": [
    "selection = cases['doctypebranch'].value_counts()\n",
    "print(selection)"
   ]
  },
  {
   "cell_type": "markdown",
   "id": "4b4c9454-8bae-4c26-a552-aef154a99261",
   "metadata": {},
   "source": [
    "## Visualizing Data\n",
    "We can also plot our results.\n",
    "Here we continue working with our selection."
   ]
  },
  {
   "cell_type": "code",
   "execution_count": null,
   "id": "ed7edd2f-0cc6-43f1-8f25-f7ce2364aa01",
   "metadata": {},
   "outputs": [],
   "source": [
    "selection.plot(kind='bar')"
   ]
  }
 ],
 "metadata": {
  "kernelspec": {
   "display_name": "Python 3",
   "language": "python",
   "name": "python3"
  },
  "language_info": {
   "codemirror_mode": {
    "name": "ipython",
    "version": 3
   },
   "file_extension": ".py",
   "mimetype": "text/x-python",
   "name": "python",
   "nbconvert_exporter": "python",
   "pygments_lexer": "ipython3",
   "version": "3.8.10"
  }
 },
 "nbformat": 4,
 "nbformat_minor": 5
}
