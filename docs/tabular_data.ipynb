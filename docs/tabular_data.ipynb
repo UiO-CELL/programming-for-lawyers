{
 "cells": [
  {
   "cell_type": "markdown",
   "id": "de181bb1-7716-4de2-954e-b3c113bb0560",
   "metadata": {},
   "source": [
    "# Tabular Data\n",
    "\n",
    "Tabular data are data in a table format, such as an Excel spreadsheet.\n",
    "We often need to work with tabular data.\n",
    "*Pandas* is a powerful Python library for working with tabular data.\n",
    "\n",
    "In this part, we will work with real-world data from the European Court of Human Rights [OpenData project](https://echr-opendata.eu/) (ECHR-OD).\n",
    "ECHR-OD has data sets with cases from the European Court of Human Rights in different formats.\n",
    "Here, we will work with data from the tabular data file `echr_2_0_0_structured_cases.csv`, which is in *CSV* format.\n",
    "CSV is an abbreviation for \"comma separated values\".\n",
    "\n",
    "You can get the \n",
    "[smaller subset](https://www.uio.no/studier/emner/jus/jus/JUS5080/h22/datasets/cases-100.csv)\n",
    "from the semester page or the \n",
    "[full data set](https://echr-opendata.eu/download/2.0.0/structured/cases/csv) from ECHR-OD.\n"
   ]
  },
  {
   "cell_type": "markdown",
   "id": "5d46da65-e74f-4a07-8fd7-84fa333e59e4",
   "metadata": {},
   "source": [
    "## pandas\n",
    "We must first import the pandas library."
   ]
  },
  {
   "cell_type": "code",
   "execution_count": null,
   "id": "f99a553a-19e0-4f93-8988-d96bb8bb8bbe",
   "metadata": {},
   "outputs": [],
   "source": [
    "import pandas as pd"
   ]
  },
  {
   "cell_type": "markdown",
   "id": "67d7d1a7-7e0c-473d-966c-cce0e4063740",
   "metadata": {},
   "source": [
    "```{note}\n",
    "By convention, pandas is usually imported as `pd`.\n",
    "```\n",
    "\n",
    "Alternatively, we can import the functions we want to use."
   ]
  },
  {
   "cell_type": "code",
   "execution_count": null,
   "id": "8e5aae01-a0c7-4ee1-8021-42135812bf61",
   "metadata": {},
   "outputs": [],
   "source": [
    "from pandas import Series, DataFrame, read_csv"
   ]
  },
  {
   "cell_type": "markdown",
   "id": "56480a48-7f11-4593-b301-404825b38ab1",
   "metadata": {},
   "source": [
    "Pandas has two different data types: `Series` and `DataFrame`."
   ]
  },
  {
   "cell_type": "markdown",
   "id": "a12eef52-2ef9-4aab-bf5f-c87fa1e873d7",
   "metadata": {},
   "source": [
    "## DataFrame\n",
    "A pandas `DataFrame` is a table.\n",
    "Tables are made up of rows and columns of data, we say they are two-dimensional.\n",
    "A `DataFrame` can store numbers and strings as well as other types of data, for example dates.\n",
    "We can make a `DataFrame` like this table with made-up data about some fictitious cases:"
   ]
  },
  {
   "cell_type": "code",
   "execution_count": null,
   "id": "5fb191d9-e2a0-4e63-bcca-36ca3fec5fbd",
   "metadata": {},
   "outputs": [],
   "source": [
    "table = DataFrame([[2, 3, 3],\n",
    "                   [5, 4, 0],\n",
    "                   [1, 2, 1]]\n",
    "                  )\n",
    "display(table)"
   ]
  },
  {
   "cell_type": "markdown",
   "id": "32351817-7590-44c2-832c-d5e390c6a960",
   "metadata": {},
   "source": [
    "By default, the rows are numbered.\n",
    "We can add an index to give the rows names instead.\n"
   ]
  },
  {
   "cell_type": "code",
   "execution_count": null,
   "id": "cd8808b7-5d42-4c19-afd5-49750c9d7b71",
   "metadata": {},
   "outputs": [],
   "source": [
    "table.index = ['Smith v. Jones',\n",
    "               'Doe v. Doe',\n",
    "               'Jones v. Doe']\n",
    "display(table)"
   ]
  },
  {
   "cell_type": "markdown",
   "id": "65a8f22d-fb3f-4451-b598-ad0bd0c33c16",
   "metadata": {},
   "source": [
    "We can also give names to the columns."
   ]
  },
  {
   "cell_type": "code",
   "execution_count": null,
   "id": "cfbd5384-7c38-4a79-8c43-1d8fd12d943f",
   "metadata": {},
   "outputs": [],
   "source": [
    "table.columns = ['time_allotted', 'time_used', 'witnesses']\n",
    "display(table)"
   ]
  },
  {
   "cell_type": "markdown",
   "id": "bc0d5f50-cb6d-4f97-9ac1-7d17a0f818e4",
   "metadata": {
    "tags": [
     "remove-cell"
    ]
   },
   "source": [
    "#hidden with \"remove-cell\"\n",
    "import matplotlib.pyplot as plot\n",
    "table.plot()\n",
    "plot.savefig('temp/figure.svg')"
   ]
  },
  {
   "cell_type": "markdown",
   "id": "ac97978a-c939-4dd8-80df-8d02932b01f9",
   "metadata": {},
   "source": [
    "## Reading CSV Files\n",
    "Pandas has functions for importing data in many different formats.\n",
    "Here, we will use CSV files.\n",
    "To read the data set, we use pandas `read_csv()` function."
   ]
  },
  {
   "cell_type": "code",
   "execution_count": null,
   "id": "74e71bdb-b4f2-464e-9615-056ef8f44b5e",
   "metadata": {},
   "outputs": [],
   "source": [
    "cases = read_csv('cases-100.csv')"
   ]
  },
  {
   "cell_type": "markdown",
   "id": "935517f4-f289-4a67-b988-3087a9a1fb49",
   "metadata": {},
   "source": [
    "## Examining Data\n",
    "Now, we can examine the data set.\n",
    "Pandas has a method `head()` which prints the first five rows of the table."
   ]
  },
  {
   "cell_type": "code",
   "execution_count": null,
   "id": "81ce600d-b08f-4830-9057-37d1f74a46d3",
   "metadata": {},
   "outputs": [],
   "source": [
    "display(cases.head())"
   ]
  },
  {
   "cell_type": "markdown",
   "id": "fac65997-4b76-44a7-bcb3-2c3f5332f26b",
   "metadata": {},
   "source": [
    "```{admonition} Display Function\n",
    ":class: tip\n",
    "We can use the Jupyter Notebook function `display()` to show a nicer format than with `print()`.\n",
    "```"
   ]
  },
  {
   "cell_type": "markdown",
   "id": "096e8d6d-3651-40d1-811c-f3f100f04a9f",
   "metadata": {},
   "source": [
    "This is a large table with 374 columns. Therefore, pandas shows only the first and last columns.\n",
    "We can look at the column names.\n",
    "\n",
    "There are several interesting columns.\n",
    "We will look at the conclusion columns in the section {ref}`relational_operators`.\n",
    "Here are just a few examples:\n",
    "\n",
    "| Column | Content |\n",
    "| :---------- | :------ |\n",
    "| `docname` | The name of the case. |\n",
    "| `country.name` | The name of the country involved in the case. |\n",
    "| `article=*` | Gives the relevant articles for each case. For example, the column `article=3` states whether Article 3 is mentioned. The value is 1 for `True` or 0 for `False`. |\n",
    "| `ccl_article=*` | Conclusion for each article. For article 3, the conclusion is in the column `ccl_article=3` |\n",
    "\n",
    "We can list all the column names like this:"
   ]
  },
  {
   "cell_type": "code",
   "execution_count": null,
   "id": "7dc3300d-40ae-481d-ad9f-e0500f053196",
   "metadata": {
    "tags": [
     "output_scroll",
     "hide-output"
    ]
   },
   "outputs": [],
   "source": [
    "display(list(cases.columns))"
   ]
  },
  {
   "cell_type": "markdown",
   "id": "cb7c4619-429a-4623-a98b-9fe15b8984f4",
   "metadata": {},
   "source": [
    "## Specifying Index Column\n",
    "When reading the CSV file, we can specify which column to use as index.\n",
    "For the ECHR-OD data it makes sense to use `docname` as index.\n"
   ]
  },
  {
   "cell_type": "code",
   "execution_count": null,
   "id": "6951cd6a-fe81-4e30-bb39-0a1093a8fae3",
   "metadata": {},
   "outputs": [],
   "source": [
    "cases = read_csv('cases-100.csv', index_col='docname')\n",
    "display(cases.head())"
   ]
  },
  {
   "cell_type": "markdown",
   "id": "7ac518cd-e91f-4c03-b58f-5ece3662f2cf",
   "metadata": {},
   "source": [
    "## Getting a Row\n",
    "We can use the *locator* `.loc[]` to select parts of the table.\n",
    "First, we select a row using the index."
   ]
  },
  {
   "cell_type": "code",
   "execution_count": null,
   "id": "68f06fab-1c0d-4f87-97f8-3e9899fd8758",
   "metadata": {},
   "outputs": [],
   "source": [
    "selection = cases.loc['CASE OF SKLYAR v. RUSSIA']\n",
    "display(selection)"
   ]
  },
  {
   "cell_type": "markdown",
   "id": "9ad95c36-8dc1-45b1-b884-6edaaf8ba267",
   "metadata": {},
   "source": [
    "```{note}\n",
    "Pandas only shows the first and last five columns.\n",
    "To show all the data, we can convert them to a `list()`.\n",
    "```"
   ]
  },
  {
   "cell_type": "code",
   "execution_count": null,
   "id": "e8ce84e7-3b11-47c3-b5f9-dcf7554b8561",
   "metadata": {},
   "outputs": [],
   "source": [
    "print(list(selection))"
   ]
  },
  {
   "cell_type": "markdown",
   "id": "1d3debc2-7577-41b9-9e95-683548823920",
   "metadata": {
    "tags": []
   },
   "source": [
    "## Listing a Column"
   ]
  },
  {
   "cell_type": "markdown",
   "id": "16a58ccb-0fe9-4b2e-b757-681dc8cf37bb",
   "metadata": {},
   "source": [
    "We can use the subscript operator to get a column."
   ]
  },
  {
   "cell_type": "code",
   "execution_count": null,
   "id": "2135203b-d52e-4f3a-907f-36e2f21220e4",
   "metadata": {},
   "outputs": [],
   "source": [
    "selection = cases['country.name']\n",
    "display(selection)"
   ]
  },
  {
   "cell_type": "markdown",
   "id": "0bc7f117-7aab-48cb-a03f-2ddbc4116eee",
   "metadata": {},
   "source": [
    "We can also use the locator `.loc[]` for this, then we need to supply two indexes.\n",
    "If we want to get the entire `country.name` column, we leave out the indexes and just use a colon."
   ]
  },
  {
   "cell_type": "code",
   "execution_count": null,
   "id": "49b7fe11-0e69-49fb-9c8c-1bdfd39073fe",
   "metadata": {},
   "outputs": [],
   "source": [
    "selection = cases.loc[:, 'country.name']\n",
    "display(selection)"
   ]
  },
  {
   "cell_type": "markdown",
   "id": "171938cd-1178-486f-b556-0cc36cbdcc70",
   "metadata": {},
   "source": [
    "```{note}\n",
    "We have seen the colon before with lists.\n",
    "With lists we can also leave out one or both of the indexes.\n",
    "Without any indexes, we get a copy of the entire list:\n",
    "`list_copy = old_list[:]`\n",
    "```"
   ]
  },
  {
   "cell_type": "markdown",
   "id": "ba11bff4-9f85-4e11-affd-0028f91a45ee",
   "metadata": {
    "tags": []
   },
   "source": [
    "## Using Numeric Indexes\n",
    "Since we opened the table with the argument `index_col='docname'`, it has string indexes like *'CASE OF SKLYAR v. RUSSIA'*. But we can also use numeric indexes with the *integer locator* `.iloc[]`.\n",
    "Here we get the first five rows using a range of indexes."
   ]
  },
  {
   "cell_type": "code",
   "execution_count": null,
   "id": "6a43b3e8-a133-4f6e-98eb-1a5c7e09300d",
   "metadata": {},
   "outputs": [],
   "source": [
    "selection = cases.iloc[0:4]\n",
    "display(selection)"
   ]
  },
  {
   "cell_type": "markdown",
   "id": "ec50c68f-a94f-4e25-85c7-96713b2d6c85",
   "metadata": {},
   "source": [
    "## Getting a Single Cell\n",
    "We can get a single cell by specifying both the row and column names.\n",
    "We can get the title in the row 'CASE OF SKLYAR v. RUSSIA'."
   ]
  },
  {
   "cell_type": "code",
   "execution_count": null,
   "id": "6e3ea82f-ebb1-4a93-b204-412e7dba20b1",
   "metadata": {},
   "outputs": [],
   "source": [
    "selection = cases.loc['CASE OF SKLYAR v. RUSSIA', 'judgementdate']\n",
    "print(selection)"
   ]
  },
  {
   "cell_type": "markdown",
   "id": "6ab361d4-75ba-40ca-bf76-ed4e0a5e9843",
   "metadata": {},
   "source": [
    "```{note}\n",
    "Tables are two-dimensional; therefore, we must use two indexes.\n",
    "```"
   ]
  },
  {
   "cell_type": "markdown",
   "id": "d4d1f1e3-3f5e-44f4-ba10-af3783f051c7",
   "metadata": {},
   "source": [
    "## Getting Multiple Columns\n",
    "We can get multiple columns by specifying their names in a list.\n",
    "Here, we use the subscript operator, not the locator `.loc[]`.\n"
   ]
  },
  {
   "cell_type": "code",
   "execution_count": null,
   "id": "f4dfee48-2784-4c70-9638-50a576c3b961",
   "metadata": {},
   "outputs": [],
   "source": [
    "selection = cases[['country.name', 'judgementdate']]\n",
    "display(selection)"
   ]
  },
  {
   "cell_type": "markdown",
   "id": "43b5a6f1-4954-4e4e-be24-1956448af761",
   "metadata": {},
   "source": [
    "```{admonition} Missing Data\n",
    "Here, some of the dates are missing.\n",
    "Pandas uses `NaN` to indicate missing numeric data, short for *Not a Number*.\n",
    "```"
   ]
  },
  {
   "cell_type": "markdown",
   "id": "e3311eb8-9cd7-4642-a999-d46775ccacec",
   "metadata": {},
   "source": [
    "## Matching Multiple Columns\n",
    "We can also select multiple columns using string matching on the column names.\n",
    "The matching uses regular expressions, which we will discuss in {ref}`regex`.\n"
   ]
  },
  {
   "cell_type": "code",
   "execution_count": null,
   "id": "0e730f94-67f4-43c3-a6cb-2279b211bae3",
   "metadata": {},
   "outputs": [],
   "source": [
    "selection = cases.filter(regex='date', axis='columns')\n",
    "display(selection)"
   ]
  },
  {
   "cell_type": "markdown",
   "id": "be71bb1f-cf99-4994-9814-67775d44e52e",
   "metadata": {},
   "source": [
    "(relational_operators)=\n",
    "## Relational Operators\n",
    "Pandas can select data conditionally, using relational operators.\n",
    "The ECHR-OD case data has a column `ccl_article=2`.\n",
    "This column has the value 1 for cases where there was found a violation of Article 2 of the European Convention on Human Rights.\n",
    "\n",
    "We can use this column in an expression with a relational operator."
   ]
  },
  {
   "cell_type": "code",
   "execution_count": null,
   "id": "75171a61-b35e-4673-a48d-319b4a22b597",
   "metadata": {},
   "outputs": [],
   "source": [
    "cases['ccl_article=2'] == 1"
   ]
  },
  {
   "cell_type": "markdown",
   "id": "ec8947ed-f890-4b9c-817d-48e20c7a73bb",
   "metadata": {},
   "source": [
    "```{admonition} Boolean Columns\n",
    "The result is a Boolean column.\n",
    "When we use them with pandas tables, relational operators return Boolean columns.\n",
    "This is just like regular relational operators, except that regular relational operators return a single value.\n",
    "```"
   ]
  },
  {
   "cell_type": "markdown",
   "id": "564e8f04-f7ef-4be1-99c6-4c76266082a9",
   "metadata": {},
   "source": [
    "## Relational Operators in Locators\n",
    "We can use the result of a relational operator as a filter when selecting cases.\n",
    "This will select the cases where the Boolean value is `True`."
   ]
  },
  {
   "cell_type": "code",
   "execution_count": null,
   "id": "1b06e6f2-9993-4484-8ebe-6e97dbfd6ddb",
   "metadata": {},
   "outputs": [],
   "source": [
    "selection = cases.loc[cases['ccl_article=2'] == 1]\n",
    "display(selection)"
   ]
  },
  {
   "cell_type": "markdown",
   "id": "6c67736c-3b62-4fba-8c86-edd2582e4901",
   "metadata": {},
   "source": [
    "::::::{admonition} Conclusion Columns\n",
    "The conclusions of each case are listed in the columns starting with `ccl_article`.\n",
    "For Article N, the column name is `ccl_article=N`.\n",
    "These columns have 3 possible values:\n",
    "\n",
    ":::{table} Conclusion Values\n",
    ":name: conclusion-values\n",
    "\n",
    "| Value | Meaning |\n",
    "|------:|:--------|\n",
    "| 1 | violation |\n",
    "| -1 | no violation |\n",
    "| 0 | no conclusion / not relevant |\n",
    ":::\n",
    "::::::"
   ]
  },
  {
   "cell_type": "markdown",
   "id": "95a980ad-4e4f-4663-94a3-ff6c401b4b18",
   "metadata": {},
   "source": [
    "Likewise, we can select cases where there was found no violation of Article 5 § 3."
   ]
  },
  {
   "cell_type": "code",
   "execution_count": null,
   "id": "439f3eb6-a6c6-46a0-8b18-f5193cdca9a5",
   "metadata": {},
   "outputs": [],
   "source": [
    "selection = cases.loc[cases['ccl_article=5-3'] == -1]\n",
    "display(selection)"
   ]
  },
  {
   "cell_type": "markdown",
   "id": "db07eb82-f926-4929-9911-00f5c87292a7",
   "metadata": {},
   "source": [
    "## Finding Text\n",
    "We can't use a relational operators with text strings. Instead, we use `.str.contains()`:"
   ]
  },
  {
   "cell_type": "code",
   "execution_count": null,
   "id": "836e0903-b106-4220-97c3-3d80b8439af3",
   "metadata": {},
   "outputs": [],
   "source": [
    "cases.loc[cases['country.name'].str.contains('Germany')]"
   ]
  },
  {
   "cell_type": "markdown",
   "id": "e658ee9b-782e-44b6-8345-b357c059e8ea",
   "metadata": {},
   "source": [
    "## Combining Conditions\n",
    "With pandas, we can't use `and` to combine expressions, instead we must use `&`:"
   ]
  },
  {
   "cell_type": "code",
   "execution_count": null,
   "id": "1533f490-78bb-42fa-8829-1a236e6059ba",
   "metadata": {},
   "outputs": [],
   "source": [
    "cases.loc[cases['country.name'].str.contains('Germany') & (cases['importance'] >= 3)]"
   ]
  },
  {
   "cell_type": "markdown",
   "id": "20a4d30a-2b71-42b0-a31d-cc5bbfac84b7",
   "metadata": {},
   "source": [
    ":::{important}\n",
    "Remember to use parentheses around the conditions with `&`. Otherwise, you will get unexpected results.\n",
    ":::"
   ]
  },
  {
   "cell_type": "markdown",
   "id": "ccedfe25-1702-4596-b497-b5b8a12cbe8c",
   "metadata": {},
   "source": [
    "## The isin() Method\n",
    "With basic Python data types, we can check if they occur in a list with the operator `in`, for example `5 in [0, 1]` is `False`.\n",
    "Likewise, pandas has the method `.isin()` for checking if table values occur in a list.\n",
    "We can use this for example for finding cases where the conclusion is \"violation\" or \"no violation\", filtering out cases where an article is not relevant.\n",
    "\n",
    "As the table {ref}`conclusion-values` shows, the value is 1 for \"violation\" or -1 for \"no violation\".\n",
    "Again, we try with Article 5 § 3."
   ]
  },
  {
   "cell_type": "code",
   "execution_count": null,
   "id": "5cc98943-ec06-4121-8829-c34e8fba53b1",
   "metadata": {},
   "outputs": [],
   "source": [
    "selection = cases.loc[cases['ccl_article=5-3'].isin([-1, 1])]\n",
    "display(selection)"
   ]
  },
  {
   "cell_type": "markdown",
   "id": "5c996a70-0d90-4de9-a784-8275ff96f20a",
   "metadata": {},
   "source": [
    "## Selecting by Year\n",
    "We can select cases by the decision date.\n",
    "First, we must convert the `decisiondate` column to machine-readable format."
   ]
  },
  {
   "cell_type": "code",
   "execution_count": null,
   "id": "b9ef589f-aa02-44b1-838b-e50091ed60c8",
   "metadata": {},
   "outputs": [],
   "source": [
    "cases['decisiondate'] = pd.to_datetime(cases['decisiondate'], dayfirst = True)"
   ]
  },
  {
   "cell_type": "markdown",
   "id": "ade07df4-eb9e-4b8f-8789-ca7e42865507",
   "metadata": {},
   "source": [
    "```{tip}\n",
    "We specify the date format with the argument `dayfirst = True`.\n",
    "There is also an argument `yearfirst`.\n",
    "```"
   ]
  },
  {
   "cell_type": "markdown",
   "id": "e23f6d3e-d3ed-47f9-adf0-6b2b2e8ff3e0",
   "metadata": {},
   "source": [
    "```{note}\n",
    "Python has the built-in library `datetime` for handling time and dates.\n",
    "But when we use pandas, we usually only need pandas' `to_datetime()` function.\n",
    "```"
   ]
  },
  {
   "cell_type": "markdown",
   "id": "6aaf022f-78e8-4076-8a8e-7f087d084ad5",
   "metadata": {},
   "source": [
    "Now, we can use the year from the decision date with a relational operator."
   ]
  },
  {
   "cell_type": "code",
   "execution_count": null,
   "id": "0d7ade34-72f9-4105-bca2-4948fa28c371",
   "metadata": {},
   "outputs": [],
   "source": [
    "selection = cases.loc[cases['decisiondate'].dt.year == 2005]\n",
    "display(selection)"
   ]
  },
  {
   "cell_type": "markdown",
   "id": "4babbe4b-0fe9-424c-bb64-c4e37d242bb3",
   "metadata": {},
   "source": [
    "## Aggregating Data\n",
    "Pandas has various functions for aggregating data.\n",
    "For example, we can count the number of occurrences of different values with `value_counts()`."
   ]
  },
  {
   "cell_type": "markdown",
   "id": "95445df4-8d64-4ebe-9087-5f2edded4123",
   "metadata": {},
   "source": [
    "The column `doctypebranch` contains the type of deciding body for the case."
   ]
  },
  {
   "cell_type": "code",
   "execution_count": null,
   "id": "8314bd0e-a0b4-4f87-8c8b-84ab84e16b31",
   "metadata": {},
   "outputs": [],
   "source": [
    "selection = cases['doctypebranch'].value_counts()\n",
    "print(selection)"
   ]
  },
  {
   "cell_type": "markdown",
   "id": "4b4c9454-8bae-4c26-a552-aef154a99261",
   "metadata": {
    "tags": []
   },
   "source": [
    "## Visualizing Data\n",
    "We can also plot our results.\n",
    "Here we continue working with our selection."
   ]
  },
  {
   "cell_type": "code",
   "execution_count": null,
   "id": "ed7edd2f-0cc6-43f1-8f25-f7ce2364aa01",
   "metadata": {},
   "outputs": [],
   "source": [
    "selection.plot(kind='bar')"
   ]
  },
  {
   "cell_type": "markdown",
   "id": "bd2b8445-7191-48f6-b4cb-e9b414f63e3d",
   "metadata": {},
   "source": [
    "## Sums\n",
    "Pandas has a function for calculating the sum of columns or rows.\n",
    "Since our data uses the number `1` to indicate `True`, we can count matching cases simply by summing the ones.\n",
    "\n",
    "We can find the number of cases where Article 3 applies by summing the column `article=3`."
   ]
  },
  {
   "cell_type": "code",
   "execution_count": null,
   "id": "b56fe809-68e4-402c-adb9-7abdb829e472",
   "metadata": {},
   "outputs": [],
   "source": [
    "result = cases.loc[:, 'article=3'].sum()\n",
    "print(result)"
   ]
  },
  {
   "cell_type": "markdown",
   "id": "191e2b76-1af7-448a-becd-3a864ff724f7",
   "metadata": {},
   "source": [
    "We can also sum the values of multiple columns at once."
   ]
  },
  {
   "cell_type": "code",
   "execution_count": null,
   "id": "e518028d-2e6c-47ab-ae94-3d5cf4cf2202",
   "metadata": {},
   "outputs": [],
   "source": [
    "result = cases.loc[:, ['article=3', 'article=5', 'article=6', 'article=10']].sum()"
   ]
  },
  {
   "cell_type": "markdown",
   "id": "ce33ca68-fec2-42da-92ca-d1be2a5209a3",
   "metadata": {},
   "source": [
    "And plot the result."
   ]
  },
  {
   "cell_type": "code",
   "execution_count": null,
   "id": "5cb4f523-3037-4482-9d97-65a610207c59",
   "metadata": {},
   "outputs": [],
   "source": [
    "result.plot(kind='bar')"
   ]
  },
  {
   "cell_type": "markdown",
   "id": "82a70329-82b3-46f6-b18f-f4b00bf3e92a",
   "metadata": {},
   "source": [
    "## Choosing Axis\n",
    "As we have seen, the method `.sum()`without any parameters will calculate the sum downwards, along the *index* of the table.\n",
    "We are adding together the rows of the table."
   ]
  },
  {
   "cell_type": "code",
   "execution_count": null,
   "id": "f383d609-0bd5-471d-aa7b-6b3f7fbd5746",
   "metadata": {},
   "outputs": [],
   "source": [
    "result = cases.loc[:, ['article=3', 'article=5', 'article=6', 'article=10']].sum()\n",
    "display(result)"
   ]
  },
  {
   "cell_type": "markdown",
   "id": "6071186b-3bee-449a-b92d-6e626604af0b",
   "metadata": {},
   "source": [
    "We get the same result if we specify the parameter `axis = 'index'`.\n",
    "This is because `'index'` is the default value for the parameter `axis`."
   ]
  },
  {
   "cell_type": "code",
   "execution_count": null,
   "id": "4f4fbaa0-45dd-4862-a3a0-e4a82f18aa33",
   "metadata": {},
   "outputs": [],
   "source": [
    "result = cases.loc[:, ['article=3', 'article=5', 'article=6', 'article=10']].sum(axis='index')\n",
    "display(result)"
   ]
  },
  {
   "cell_type": "markdown",
   "id": "0515a7b2-0e92-4cdb-b4e8-f5f73f9aa095",
   "metadata": {},
   "source": [
    "We can also add together the columns of the table.\n",
    "To do this, we must change the direction to `axis = 'column'`."
   ]
  },
  {
   "cell_type": "code",
   "execution_count": null,
   "id": "c42a2707-c539-47d8-9767-aaa660041dcd",
   "metadata": {},
   "outputs": [],
   "source": [
    "result = cases.loc[:, ['article=3', 'article=5', 'article=6', 'article=10']].sum(axis='columns')\n",
    "display(result)"
   ]
  },
  {
   "cell_type": "markdown",
   "id": "1f3ce266-0b6c-4897-be67-c5370cc015d1",
   "metadata": {},
   "source": [
    "The result is a column with 100 items. These are the number of relevant articles\n",
    "(of the four we selected) for the 100 cases."
   ]
  },
  {
   "cell_type": "markdown",
   "id": "a44cc48d-c204-4e24-afd9-06e2baef17db",
   "metadata": {},
   "source": [
    "## Series\n",
    "A pandas `Series` is a list of values, similar to a Python list.\n",
    "When we selected a single row or column above, the result was a `Series`.\n",
    "\n",
    "We can select a single column from our small example `DataFrame`."
   ]
  },
  {
   "cell_type": "code",
   "execution_count": null,
   "id": "cdadc6cf-66f2-44e7-9971-547b35c74108",
   "metadata": {
    "tags": []
   },
   "outputs": [],
   "source": [
    "column = table['time_used']\n",
    "print(column)"
   ]
  },
  {
   "cell_type": "markdown",
   "id": "7d5a4a0a-f37a-44a4-b0ed-c23c5daa1be5",
   "metadata": {},
   "source": [
    "We can select a row with `.loc[ ]`."
   ]
  },
  {
   "cell_type": "code",
   "execution_count": null,
   "id": "8281a000-fdc8-437b-a9c1-11b187f7abf5",
   "metadata": {
    "tags": []
   },
   "outputs": [],
   "source": [
    "row = table.loc['Doe v. Doe']\n",
    "print(row)"
   ]
  },
  {
   "cell_type": "markdown",
   "id": "5d6d33d6-2797-4fa7-b391-761468ea3941",
   "metadata": {},
   "source": [
    "If we need to, we can also make a `Series` from scratch:"
   ]
  },
  {
   "cell_type": "code",
   "execution_count": null,
   "id": "ef839ee5-b6a4-4875-a0fb-9c1431294359",
   "metadata": {},
   "outputs": [],
   "source": [
    "row = Series([3, 1, 5])\n",
    "print(row)"
   ]
  }
 ],
 "metadata": {
  "kernelspec": {
   "display_name": "Python 3 (ipykernel)",
   "language": "python",
   "name": "python3"
  },
  "language_info": {
   "codemirror_mode": {
    "name": "ipython",
    "version": 3
   },
   "file_extension": ".py",
   "mimetype": "text/x-python",
   "name": "python",
   "nbconvert_exporter": "python",
   "pygments_lexer": "ipython3",
   "version": "3.12.3"
  }
 },
 "nbformat": 4,
 "nbformat_minor": 5
}
