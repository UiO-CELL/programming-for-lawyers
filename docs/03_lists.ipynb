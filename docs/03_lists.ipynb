{
 "cells": [
  {
   "cell_type": "markdown",
   "id": "88a0df2f",
   "metadata": {},
   "source": [
    "# Lists\n",
    "If we want to store many items, we can create many variables.\n",
    "However, this quickly becomes tedious and error-prone.\n",
    "Instead, we should group our data items together in collections.\n",
    "*Lists* are the standard collections in Python."
   ]
  },
  {
   "cell_type": "markdown",
   "id": "9db64b65",
   "metadata": {},
   "source": [
    "## Making Lists\n",
    "\n",
    "Lists can contain any python data type. We make lists by placing items in square brackets, `[ ]`, separated by commas."
   ]
  },
  {
   "cell_type": "code",
   "execution_count": null,
   "id": "1ef096d6",
   "metadata": {},
   "outputs": [],
   "source": [
    "numbers = [1, 2, 3]"
   ]
  },
  {
   "cell_type": "markdown",
   "id": "c7265331",
   "metadata": {
    "tags": []
   },
   "source": [
    "We can also make an empty list:"
   ]
  },
  {
   "cell_type": "code",
   "execution_count": null,
   "id": "5135b11e",
   "metadata": {},
   "outputs": [],
   "source": [
    "judges = []"
   ]
  },
  {
   "cell_type": "markdown",
   "id": "fd6880b9-d233-4aa1-b17f-25915c58a5bb",
   "metadata": {},
   "source": [
    "Let's look at the list of judges from a recent ECHR case."
   ]
  },
  {
   "cell_type": "code",
   "execution_count": null,
   "id": "3d9b6423-7066-48c3-b4f7-326ae5f4e5e1",
   "metadata": {},
   "outputs": [],
   "source": [
    "judges = ['Anne Grøstad', 'Ivana Jelić', 'Jovan Ilievski', 'Lətif Hüseynov',\n",
    "          'Mārtiņš Mits', 'Stéphanie Mourou-Vikström', 'Síofra O’Leary', 'Victor Soloveytchik']"
   ]
  },
  {
   "cell_type": "markdown",
   "id": "8f7ace67",
   "metadata": {},
   "source": [
    "## Accessing list elements\n",
    "We can access list elements by using indexes in square brackets.\n",
    "This is like with strings, where we can access individual characters by using indexes."
   ]
  },
  {
   "cell_type": "code",
   "execution_count": null,
   "id": "299bd078",
   "metadata": {
    "scrolled": true
   },
   "outputs": [],
   "source": [
    "print(judges[0])"
   ]
  },
  {
   "cell_type": "markdown",
   "id": "69218809",
   "metadata": {},
   "source": [
    "```{note}\n",
    "Remember that Python counts from 0, not 1.\n",
    "```"
   ]
  },
  {
   "cell_type": "markdown",
   "id": "7eabde3b",
   "metadata": {},
   "source": [
    "We can also count backwards from the last element with negative indexes."
   ]
  },
  {
   "cell_type": "code",
   "execution_count": null,
   "id": "214e3752",
   "metadata": {},
   "outputs": [],
   "source": [
    "print(judges[-1])"
   ]
  },
  {
   "cell_type": "markdown",
   "id": "984091cd",
   "metadata": {},
   "source": [
    "We can get a new list containing a part of the original list. This is called a list *slice*, and we get it by using two indexes, a *from* index and a *to* index:"
   ]
  },
  {
   "cell_type": "code",
   "execution_count": null,
   "id": "6cc07b9b-780f-45d7-8171-ab86b20329f5",
   "metadata": {},
   "outputs": [],
   "source": [
    "selection = judges[2:4]\n",
    "print(selection)"
   ]
  },
  {
   "cell_type": "markdown",
   "id": "950d8d00",
   "metadata": {},
   "source": [
    "## List Operations\n",
    "\n",
    "Python list objects have many methods for manipulating their content.\n",
    "There are also built-in list functions.\n",
    "Here, we'll look at a few of these methods and functions."
   ]
  },
  {
   "cell_type": "markdown",
   "id": "7a36c42b-a3df-4c0a-961f-2702bd0fe842",
   "metadata": {},
   "source": [
    "## Length\n",
    "As with strings, we can use the function `len()` to get the length of a list."
   ]
  },
  {
   "cell_type": "code",
   "execution_count": null,
   "id": "d8ab2e53-3b55-4f70-b7e0-8ac0f92cd574",
   "metadata": {},
   "outputs": [],
   "source": [
    "print(len(judges))"
   ]
  },
  {
   "cell_type": "markdown",
   "id": "de15760a",
   "metadata": {},
   "source": [
    "## Append\n",
    "We can `append` items to a list:"
   ]
  },
  {
   "cell_type": "code",
   "execution_count": null,
   "id": "71e3a162",
   "metadata": {},
   "outputs": [],
   "source": [
    "defendants = ['Jafar']\n",
    "defendants.append('Scar')\n",
    "defendants.append('Maleficent')\n",
    "print(defendants)"
   ]
  },
  {
   "cell_type": "markdown",
   "id": "06b8eafd",
   "metadata": {},
   "source": [
    "## Insert\n",
    "If the order of the list items is significant, we can `insert` an element at a specific place:"
   ]
  },
  {
   "cell_type": "code",
   "execution_count": null,
   "id": "79a70d4a",
   "metadata": {},
   "outputs": [],
   "source": [
    "defendants.insert(0, 'Cruella')\n",
    "print(defendants)"
   ]
  },
  {
   "cell_type": "markdown",
   "id": "84f69a4c",
   "metadata": {},
   "source": [
    "## Finding items\n",
    "There are two ways to check if a list contains an item.\n",
    "First, we can use the `in` operator that we have already seen:"
   ]
  },
  {
   "cell_type": "code",
   "execution_count": null,
   "id": "3990b5c9",
   "metadata": {},
   "outputs": [],
   "source": [
    "print('Scar' in defendants)"
   ]
  },
  {
   "cell_type": "markdown",
   "id": "67c0f075",
   "metadata": {},
   "source": [
    "If we need to find the position of the item, we can use `<listname>.index()`."
   ]
  },
  {
   "cell_type": "code",
   "execution_count": null,
   "id": "c9abf03e",
   "metadata": {},
   "outputs": [],
   "source": [
    "print('Scar is defendant number', defendants.index('Scar'))"
   ]
  },
  {
   "cell_type": "markdown",
   "id": "255cc1d7",
   "metadata": {},
   "source": [
    "## Removing items\n",
    "We can remove a given list item:"
   ]
  },
  {
   "cell_type": "code",
   "execution_count": null,
   "id": "689081b0",
   "metadata": {},
   "outputs": [],
   "source": [
    "item = 'Scar'\n",
    "if item in defendants:\n",
    "    defendants.remove(item)\n",
    "print(defendants)"
   ]
  },
  {
   "cell_type": "markdown",
   "id": "8cc42183-11af-4875-97ee-f193f5ca228b",
   "metadata": {},
   "source": [
    "We can also remove an item at a given position with the method `<listname>.pop(index)`.\n",
    "This method returns the element which was removed, so we can use it if necessary.\n",
    "The most common would be to remove the first or last element:"
   ]
  },
  {
   "cell_type": "code",
   "execution_count": null,
   "id": "a7aababe-cef9-42eb-aad5-3bac9039dc74",
   "metadata": {},
   "outputs": [],
   "source": [
    "print(defendants)\n",
    "defendant = defendants.pop(0)\n",
    "print(defendant)\n",
    "print(defendants.pop(-1))\n",
    "print(defendants)"
   ]
  },
  {
   "cell_type": "markdown",
   "id": "2993df69-d861-4dbd-93e5-1db8b1f6e626",
   "metadata": {},
   "source": [
    "## Nested Lists\n",
    "Lists can contain other lists, and these are called nested lists.\n",
    "For example, we could have a case where there are two groups of defendants."
   ]
  },
  {
   "cell_type": "code",
   "execution_count": null,
   "id": "3c590da8-fc58-476b-8cb1-a9af7b2e9107",
   "metadata": {},
   "outputs": [],
   "source": [
    "defendants = [['Cruella', 'Jafar'],\n",
    "              ['Scar', 'Maleficent']]\n",
    "print(defendants)"
   ]
  },
  {
   "cell_type": "markdown",
   "id": "2346a8a9-a3b1-49d2-b8e4-c54849cf385f",
   "metadata": {},
   "source": [
    "We can access the elements one step at a time, or by using multiple indexes:"
   ]
  },
  {
   "cell_type": "code",
   "execution_count": null,
   "id": "0453ff82-4b71-428b-bd36-31c29d26e949",
   "metadata": {},
   "outputs": [],
   "source": [
    "defendant_group = defendants[0]\n",
    "print(defendant_group[0])\n",
    "# is equivalent to\n",
    "print(defendants[0][0])"
   ]
  }
 ],
 "metadata": {
  "kernelspec": {
   "display_name": "Python 3",
   "language": "python",
   "name": "python3"
  },
  "language_info": {
   "codemirror_mode": {
    "name": "ipython",
    "version": 3
   },
   "file_extension": ".py",
   "mimetype": "text/x-python",
   "name": "python",
   "nbconvert_exporter": "python",
   "pygments_lexer": "ipython3",
   "version": "3.8.10"
  }
 },
 "nbformat": 4,
 "nbformat_minor": 5
}
