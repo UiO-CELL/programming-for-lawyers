{
 "cells": [
  {
   "cell_type": "markdown",
   "id": "88a0df2f",
   "metadata": {},
   "source": [
    "# Lists\n",
    "If we want to store many items, we can create many variables.\n",
    "However, this quickly becomes tedious and error-prone.\n",
    "Instead, we should group our data items together in collections.\n",
    "*Lists* are the standard collections in Python."
   ]
  },
  {
   "cell_type": "markdown",
   "id": "9db64b65",
   "metadata": {},
   "source": [
    "## Making Lists\n",
    "\n",
    "Lists can contain any Python data type. We make lists by placing items in square brackets, `[ ]`, separated by commas."
   ]
  },
  {
   "cell_type": "code",
   "execution_count": null,
   "id": "1ef096d6",
   "metadata": {},
   "outputs": [],
   "source": [
    "numbers = [1, 2, 3]"
   ]
  },
  {
   "cell_type": "markdown",
   "id": "c7265331",
   "metadata": {
    "tags": []
   },
   "source": [
    "We can also make an empty list:"
   ]
  },
  {
   "cell_type": "code",
   "execution_count": null,
   "id": "5135b11e",
   "metadata": {},
   "outputs": [],
   "source": [
    "judges = []"
   ]
  },
  {
   "cell_type": "markdown",
   "id": "fd6880b9-d233-4aa1-b17f-25915c58a5bb",
   "metadata": {},
   "source": [
    "Let's look at the list of judges from a recent ECtHR case."
   ]
  },
  {
   "cell_type": "code",
   "execution_count": null,
   "id": "3d9b6423-7066-48c3-b4f7-326ae5f4e5e1",
   "metadata": {},
   "outputs": [],
   "source": [
    "judges = ['Anne Grøstad', 'Ivana Jelić', 'Jovan Ilievski', 'Lətif Hüseynov',\n",
    "          'Mārtiņš Mits', 'Stéphanie Mourou-Vikström', 'Síofra O’Leary', 'Victor Soloveytchik']"
   ]
  },
  {
   "cell_type": "markdown",
   "id": "8f7ace67",
   "metadata": {},
   "source": [
    "## Accessing list elements\n",
    "We can access list elements by using indexes in square brackets.\n"
   ]
  },
  {
   "cell_type": "code",
   "execution_count": null,
   "id": "299bd078",
   "metadata": {
    "scrolled": true
   },
   "outputs": [],
   "source": [
    "print(judges[0])"
   ]
  },
  {
   "cell_type": "markdown",
   "id": "69218809",
   "metadata": {},
   "source": [
    "```{note}\n",
    "Remember that Python counts from 0, not 1.\n",
    "```"
   ]
  },
  {
   "cell_type": "markdown",
   "id": "7eabde3b",
   "metadata": {},
   "source": [
    "We can also count backwards from the last element with negative indexes."
   ]
  },
  {
   "cell_type": "code",
   "execution_count": null,
   "id": "214e3752",
   "metadata": {},
   "outputs": [],
   "source": [
    "print(judges[-1])"
   ]
  },
  {
   "cell_type": "markdown",
   "id": "984091cd",
   "metadata": {},
   "source": [
    "We can get a new list containing a part of the original list. This is called a list *slice*, and we get it by using two indexes, a *from* index and a *to* index:"
   ]
  },
  {
   "cell_type": "code",
   "execution_count": null,
   "id": "6cc07b9b-780f-45d7-8171-ab86b20329f5",
   "metadata": {},
   "outputs": [],
   "source": [
    "selection = judges[2:4]\n",
    "print(selection)"
   ]
  },
  {
   "cell_type": "markdown",
   "id": "950d8d00",
   "metadata": {},
   "source": [
    "## List Operations\n",
    "\n",
    "Python list objects have many methods for manipulating their content.\n",
    "There are also built-in list functions.\n",
    "Here, we'll look at a few of these methods and functions."
   ]
  },
  {
   "cell_type": "markdown",
   "id": "7a36c42b-a3df-4c0a-961f-2702bd0fe842",
   "metadata": {},
   "source": [
    "## Length\n",
    "As with strings, we can use the function `len()` to get the length of a list."
   ]
  },
  {
   "cell_type": "code",
   "execution_count": null,
   "id": "d8ab2e53-3b55-4f70-b7e0-8ac0f92cd574",
   "metadata": {},
   "outputs": [],
   "source": [
    "print(len(judges))"
   ]
  },
  {
   "cell_type": "markdown",
   "id": "de15760a",
   "metadata": {},
   "source": [
    "## Append\n",
    "We can `append` items to a list.\n",
    "Here we use examples from the joined cases C-403/08 and C-429/08 (Premier League)."
   ]
  },
  {
   "cell_type": "code",
   "execution_count": null,
   "id": "71e3a162",
   "metadata": {},
   "outputs": [],
   "source": [
    "defendants = ['QC Leisure']\n",
    "defendants.append('SR Leisure Ltd')\n",
    "defendants.append('AV Station plc')\n",
    "print(defendants)"
   ]
  },
  {
   "cell_type": "markdown",
   "id": "06b8eafd",
   "metadata": {},
   "source": [
    "## Insert\n",
    "If the order of the list items is significant, we can `insert` an element at a specific place:"
   ]
  },
  {
   "cell_type": "code",
   "execution_count": null,
   "id": "79a70d4a",
   "metadata": {},
   "outputs": [],
   "source": [
    "defendants.insert(0, 'Owen')\n",
    "print(defendants)"
   ]
  },
  {
   "cell_type": "markdown",
   "id": "84f69a4c",
   "metadata": {},
   "source": [
    "## Finding items\n",
    "There are two ways to check if a list contains an item.\n",
    "First, we can use the `in` operator that we have already seen:"
   ]
  },
  {
   "cell_type": "code",
   "execution_count": null,
   "id": "3990b5c9",
   "metadata": {},
   "outputs": [],
   "source": [
    "print('Owen' in defendants)"
   ]
  },
  {
   "cell_type": "markdown",
   "id": "67c0f075",
   "metadata": {},
   "source": [
    "If we need to find the position of the item, we can use `<listname>.index()`."
   ]
  },
  {
   "cell_type": "code",
   "execution_count": null,
   "id": "c9abf03e",
   "metadata": {},
   "outputs": [],
   "source": [
    "print('Owen is defendant number', defendants.index('Owen'))"
   ]
  },
  {
   "cell_type": "markdown",
   "id": "255cc1d7",
   "metadata": {},
   "source": [
    "## Removing items\n",
    "We can remove a given list item:"
   ]
  },
  {
   "cell_type": "code",
   "execution_count": null,
   "id": "689081b0",
   "metadata": {},
   "outputs": [],
   "source": [
    "item = 'Owen'\n",
    "if item in defendants:\n",
    "    defendants.remove(item)\n",
    "print(defendants)"
   ]
  },
  {
   "cell_type": "markdown",
   "id": "8cc42183-11af-4875-97ee-f193f5ca228b",
   "metadata": {},
   "source": [
    "We can also remove an item at a given position with the method `<listname>.pop(index)`.\n",
    "This method returns the element which was removed, so we can use it if necessary.\n",
    "The most common would be to remove the first or last element:"
   ]
  },
  {
   "cell_type": "code",
   "execution_count": null,
   "id": "d0989ce3-5694-42e6-a508-7d59a64dac3e",
   "metadata": {},
   "outputs": [],
   "source": [
    "print(defendants)\n",
    "defendant = defendants.pop(0)\n",
    "print(defendant)"
   ]
  },
  {
   "cell_type": "code",
   "execution_count": null,
   "id": "8063ac6b-c3ea-42c4-8177-a6c53a017434",
   "metadata": {},
   "outputs": [],
   "source": [
    "print(defendants.pop(-1))"
   ]
  },
  {
   "cell_type": "code",
   "execution_count": null,
   "id": "2330d90b-b835-4a64-9f7b-b2674b49fb7a",
   "metadata": {},
   "outputs": [],
   "source": [
    "print(defendants)"
   ]
  },
  {
   "cell_type": "markdown",
   "id": "2993df69-d861-4dbd-93e5-1db8b1f6e626",
   "metadata": {},
   "source": [
    "## Nested Lists\n",
    "Lists can contain other lists, and these are called nested lists.\n",
    "For example, we could have a case where there are two groups of defendants."
   ]
  },
  {
   "cell_type": "code",
   "execution_count": null,
   "id": "3c590da8-fc58-476b-8cb1-a9af7b2e9107",
   "metadata": {},
   "outputs": [],
   "source": [
    "defendants = [['QC Leisure', 'SR Leisure Ltd', 'AV Station plc', 'Owen'],\n",
    "              ['Media Protection Services Ltd']]\n",
    "print(defendants)"
   ]
  },
  {
   "cell_type": "markdown",
   "id": "2346a8a9-a3b1-49d2-b8e4-c54849cf385f",
   "metadata": {},
   "source": [
    "We can access the elements one step at a time, or by using multiple indexes:"
   ]
  },
  {
   "cell_type": "code",
   "execution_count": null,
   "id": "2bb5a56a-0cee-438d-87a4-ddf94804305c",
   "metadata": {},
   "outputs": [],
   "source": [
    "defendant_group = defendants[0]\n",
    "print(defendant_group[0])"
   ]
  },
  {
   "cell_type": "markdown",
   "id": "c1bb1515-5e6f-423a-ad9a-3ed5043cd0de",
   "metadata": {},
   "source": [
    "This is equivalent to"
   ]
  },
  {
   "cell_type": "code",
   "execution_count": null,
   "id": "96d21618-2a41-41ac-9629-2e15894dbbb1",
   "metadata": {},
   "outputs": [],
   "source": [
    "print(defendants[0][0])"
   ]
  },
  {
   "cell_type": "markdown",
   "id": "9201e6aa-6d1a-42a4-9b09-b9ffdf3b8e0e",
   "metadata": {},
   "source": [
    "## List References\n",
    "\n",
    "Unlike simple Python variables, list variables contain *references* to lists, not the lists themselves.\n",
    "If we assign the value of one list variable to another, we don't get a copy of the list.\n",
    "Instead, both variables refer to the same list, and we can call them aliases."
   ]
  },
  {
   "cell_type": "code",
   "execution_count": null,
   "id": "4bc33850-40ff-45f9-9d79-b3c34638ee32",
   "metadata": {},
   "outputs": [],
   "source": [
    "defendants = ['QC Leisure', 'SR Leisure Ltd']"
   ]
  },
  {
   "cell_type": "code",
   "execution_count": null,
   "id": "cf91e371-bbb7-4dbc-8ac3-28065efbcf5c",
   "metadata": {},
   "outputs": [],
   "source": [
    "defendants2 = defendants\n",
    "defendants.append('AV Station plc')\n",
    "print('defendants: ', defendants)\n",
    "print('defendants2:', defendants2)"
   ]
  },
  {
   "cell_type": "markdown",
   "id": "9c6c30fd-61a4-4664-9af8-73230d3c1828",
   "metadata": {},
   "source": [
    "Since both variables refer to the same list, when we modify one of them, the change applies to both."
   ]
  },
  {
   "cell_type": "markdown",
   "id": "b0475952-2284-40d4-9a2a-911c5eeec24c",
   "metadata": {},
   "source": [
    "## Copying Lists\n",
    "\n",
    "We can also make a new copy of a list, by passing it to the function `list()`.\n",
    "Then, the variables refer to different lists, and we can modify them independently:"
   ]
  },
  {
   "cell_type": "code",
   "execution_count": null,
   "id": "d5903eaa-6364-4007-a1c0-c0b06a3e59b2",
   "metadata": {},
   "outputs": [],
   "source": [
    "defendants2 = list(defendants)\n",
    "defendants2.pop()\n",
    "print('defendants: ', defendants)\n",
    "print('defendants2:', defendants2)"
   ]
  },
  {
   "cell_type": "markdown",
   "id": "212a5b2d-3477-4f5a-84c0-e7e2d2f04555",
   "metadata": {},
   "source": [
    "## Characters\n",
    "\n",
    "Strings are made up of *Unicode* characters.\n",
    "Strings aren't really lists but *sequences* of characters.\n",
    "However, in some ways they behave like lists.\n",
    "We can get a single character by using an *index* in brackets:"
   ]
  },
  {
   "cell_type": "code",
   "execution_count": 32,
   "id": "cd904d22-d580-4893-9214-89b7fe3219f2",
   "metadata": {},
   "outputs": [
    {
     "name": "stdout",
     "output_type": "stream",
     "text": [
      "J\n"
     ]
    }
   ],
   "source": [
    "name = 'John Doe'\n",
    "print(name[0])"
   ]
  },
  {
   "cell_type": "markdown",
   "id": "85769a83-66f5-4778-9035-34dcd8fc7891",
   "metadata": {},
   "source": [
    "```{note}\n",
    "As with lists, the first letter (\"J\") has index zero.\n",
    "Python always starts counting from zero.\n",
    "```"
   ]
  },
  {
   "cell_type": "markdown",
   "id": "dcae4539-28a2-415d-b09f-d549f8fddff9",
   "metadata": {},
   "source": [
    "We can also count backwards from the end with negative indexes, just like with lists:"
   ]
  },
  {
   "cell_type": "code",
   "execution_count": 33,
   "id": "471e048e-09d9-417f-801f-53088a6541a2",
   "metadata": {},
   "outputs": [
    {
     "name": "stdout",
     "output_type": "stream",
     "text": [
      "e\n"
     ]
    }
   ],
   "source": [
    "name = 'John Doe'\n",
    "print(name[-1])"
   ]
  }
 ],
 "metadata": {
  "kernelspec": {
   "display_name": "Python 3 (ipykernel)",
   "language": "python",
   "name": "python3"
  },
  "language_info": {
   "codemirror_mode": {
    "name": "ipython",
    "version": 3
   },
   "file_extension": ".py",
   "mimetype": "text/x-python",
   "name": "python",
   "nbconvert_exporter": "python",
   "pygments_lexer": "ipython3",
   "version": "3.12.3"
  }
 },
 "nbformat": 4,
 "nbformat_minor": 5
}
