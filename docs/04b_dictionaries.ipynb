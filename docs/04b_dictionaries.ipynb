{
 "cells": [
  {
   "cell_type": "markdown",
   "id": "ccf98ba8-f236-44b5-88d6-97c59836920a",
   "metadata": {},
   "source": [
    "# Dictionaries \n",
    "\n",
    "Dictionaries are *lookup tables*.\n",
    "We can use dictionaries to store and look up information.\n",
    "Rather than numerical indexes, a dictionary assigns a *key* to each stored *value*.\n",
    "For example, in an English dictionary, the keys are English words and the values are the meanings of the words.\n",
    "\n",
    "We can say that a dictionary is a *map* from the keys to the values.\n",
    "Keys are usually strings, and we can use the key to find the value.\n",
    "\n",
    "Like lists, dictionaries can store many different types of data.\n",
    "In Python code dictionaries are enclosed in curly brackets: `{ }`."
   ]
  },
  {
   "cell_type": "markdown",
   "id": "86c56220-3fd9-47c1-8f4b-58456be04251",
   "metadata": {},
   "source": [
    "## Creating Dictionaries\n",
    "\n",
    "We can create empty dictionaries:"
   ]
  },
  {
   "cell_type": "code",
   "execution_count": null,
   "id": "008e72ee-eaea-4eed-8a72-43fa31d36983",
   "metadata": {},
   "outputs": [],
   "source": [
    "clients = {}\n",
    "print(type(clients))"
   ]
  },
  {
   "cell_type": "markdown",
   "id": "b7f0c9fa-e205-4351-be5d-82f86c7b766b",
   "metadata": {},
   "source": [
    "We can also create a dictionary containing data with a dictionary *literal*.\n",
    "Here is a client list *mapping* names (the keys) to phone numbers (the values):"
   ]
  },
  {
   "cell_type": "code",
   "execution_count": null,
   "id": "1af50c15-b430-42a7-8548-6802da775a7e",
   "metadata": {},
   "outputs": [],
   "source": [
    "clients = {'Peder Ås': 5664,\n",
    "           'Marte Kirkerud': 8952}"
   ]
  },
  {
   "cell_type": "markdown",
   "id": "b0a02f0e-1870-44f9-bfa7-6bfcc840a55f",
   "metadata": {},
   "source": [
    "## Getting Values\n",
    "\n",
    "We can get dictionary values like we can get list items.\n",
    "But with dictionaries we use keys instead of numerical indexes.\n"
   ]
  },
  {
   "cell_type": "code",
   "execution_count": null,
   "id": "79938ef6-b116-4564-905d-bf031423d461",
   "metadata": {},
   "outputs": [],
   "source": [
    "number = clients['Peder Ås']\n",
    "print(number)"
   ]
  },
  {
   "cell_type": "markdown",
   "id": "b2d0be9d-ddb2-42f0-bfc1-17f6259ff79c",
   "metadata": {},
   "source": [
    "## Adding or Changing Values\n",
    "\n",
    "We can add new values to our dictionary.\n",
    "Let's add a new client:"
   ]
  },
  {
   "cell_type": "code",
   "execution_count": null,
   "id": "2e474d4c-fbdf-415a-b4de-b4d7fb60db5b",
   "metadata": {},
   "outputs": [],
   "source": [
    "clients['Ole Vold'] = 3009\n",
    "print(clients)"
   ]
  },
  {
   "cell_type": "markdown",
   "id": "110a29cd-9512-4306-9fd6-b632ebebe511",
   "metadata": {},
   "source": [
    "We can change existing values the same way:"
   ]
  },
  {
   "cell_type": "code",
   "execution_count": null,
   "id": "864f6ae3-8c14-4444-80d5-ec4987da711f",
   "metadata": {},
   "outputs": [],
   "source": [
    "clients['Ole Vold'] = 3131\n",
    "print(clients)"
   ]
  },
  {
   "cell_type": "markdown",
   "id": "9565d8af-ebbf-4d9f-a682-7ebd0f7abf3b",
   "metadata": {},
   "source": [
    "## Removing Values\n",
    "\n",
    "Like with lists, we can use the method `pop()` to remove a value from a dictionary.\n",
    "This method returns the removed value.\n",
    "\n",
    "Let's remove our troublesome client 'Peder Ås'."
   ]
  },
  {
   "cell_type": "code",
   "execution_count": null,
   "id": "5963c5b4-2b30-4cfc-a670-8a92dc6251c6",
   "metadata": {},
   "outputs": [],
   "source": [
    "number = clients.pop('Peder Ås')\n",
    "print('Let Peder Ås know at his number', number)\n",
    "\n",
    "print(clients)"
   ]
  },
  {
   "cell_type": "markdown",
   "id": "de43bb63-a39c-482f-afaa-12ab3285d9a3",
   "metadata": {},
   "source": [
    "## Is a key in the dictionary?\n",
    "\n",
    "We can use the relational operator `in` to check for the presence of a key in a dictionary.\n",
    "This is like checking for an item in a list, but we can only check for keys not values."
   ]
  },
  {
   "cell_type": "code",
   "execution_count": null,
   "id": "d2cc28ff-4c67-4c21-97e7-bc0a6c2ec03e",
   "metadata": {},
   "outputs": [],
   "source": [
    "if 'Peder Ås' in clients:\n",
    "    print('Found Peder Ås')\n",
    "else:\n",
    "    print('Peder Ås is not a client')"
   ]
  },
  {
   "cell_type": "markdown",
   "id": "657b8127-c7fe-4c6b-bb14-343b244eb7a2",
   "metadata": {},
   "source": [
    "## Iterating over Dictionaries\n",
    "\n",
    "We can use a `for` loop to iterate over the dictionary, as we did with lists.\n",
    "With dictionaries, we iterate over the *keys*."
   ]
  },
  {
   "cell_type": "code",
   "execution_count": null,
   "id": "6fcaa867-1bc9-46aa-9ae0-620553f73b15",
   "metadata": {},
   "outputs": [],
   "source": [
    "for name in clients:\n",
    "    print(name, 'has the phone number', clients[name])"
   ]
  },
  {
   "cell_type": "markdown",
   "id": "75610dc9-8b16-4e84-ae69-3eed4e328607",
   "metadata": {},
   "source": [
    "## Finding a Value\n",
    "We saw above that the relational operator `in` only works with keys.\n",
    "If we want to look for a value, we can use a `for` loop to examine all the values."
   ]
  },
  {
   "cell_type": "code",
   "execution_count": null,
   "id": "2016b4e6-1c63-4cdc-8f78-dbdadad8055d",
   "metadata": {},
   "outputs": [],
   "source": [
    "number = 3131\n",
    "\n",
    "for name in clients:\n",
    "    if clients[name] == number:\n",
    "        print(name, 'has the phone number', clients[name])"
   ]
  }
 ],
 "metadata": {
  "kernelspec": {
   "display_name": "Python 3",
   "language": "python",
   "name": "python3"
  },
  "language_info": {
   "codemirror_mode": {
    "name": "ipython",
    "version": 3
   },
   "file_extension": ".py",
   "mimetype": "text/x-python",
   "name": "python",
   "nbconvert_exporter": "python",
   "pygments_lexer": "ipython3",
   "version": "3.8.8"
  }
 },
 "nbformat": 4,
 "nbformat_minor": 5
}
