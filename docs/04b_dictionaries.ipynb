{
 "cells": [
  {
   "cell_type": "markdown",
   "id": "ccf98ba8-f236-44b5-88d6-97c59836920a",
   "metadata": {},
   "source": [
    "# Dictionaries \n",
    "\n",
    "Dictionaries are *lookup tables*.\n",
    "We can use dictionaries to store and look up information.\n",
    "Rather than numerical indexes, a dictionary assigns a *key* to each stored *value*.\n",
    "For example, in an English dictionary, the keys are English words and the values are the meanings of the words.\n",
    "\n",
    "We can say that a dictionary is a *map* from the keys to the values.\n",
    "Keys are usually strings, and we can use the key to find the value.\n",
    "\n",
    "Like lists, dictionaries can store many different types of data.\n",
    "In Python code dictionaries are enclosed in curly brackets: `{ }`."
   ]
  },
  {
   "cell_type": "markdown",
   "id": "86c56220-3fd9-47c1-8f4b-58456be04251",
   "metadata": {},
   "source": [
    "## Creating Dictionaries\n",
    "\n",
    "We can create empty dictionaries:"
   ]
  },
  {
   "cell_type": "code",
   "execution_count": null,
   "id": "008e72ee-eaea-4eed-8a72-43fa31d36983",
   "metadata": {},
   "outputs": [],
   "source": [
    "clients = {}\n",
    "print(type(clients))"
   ]
  },
  {
   "cell_type": "markdown",
   "id": "b7f0c9fa-e205-4351-be5d-82f86c7b766b",
   "metadata": {},
   "source": [
    "We can also create a dictionary containing data with a dictionary *literal*.\n",
    "Here is a client list *mapping* names (the keys) to phone numbers (the values):"
   ]
  },
  {
   "cell_type": "code",
   "execution_count": null,
   "id": "1af50c15-b430-42a7-8548-6802da775a7e",
   "metadata": {},
   "outputs": [],
   "source": [
    "clients = {'Peder Ås': 5664,\n",
    "           'Marte Kirkerud': 8952}"
   ]
  },
  {
   "cell_type": "markdown",
   "id": "b0a02f0e-1870-44f9-bfa7-6bfcc840a55f",
   "metadata": {},
   "source": [
    "## Getting Values\n",
    "\n",
    "We can get dictionary values like we can get list items.\n",
    "But with dictionaries we use keys instead of numerical indexes.\n"
   ]
  },
  {
   "cell_type": "code",
   "execution_count": null,
   "id": "79938ef6-b116-4564-905d-bf031423d461",
   "metadata": {},
   "outputs": [],
   "source": [
    "number = clients['Peder Ås']\n",
    "print(number)"
   ]
  },
  {
   "cell_type": "markdown",
   "id": "b2d0be9d-ddb2-42f0-bfc1-17f6259ff79c",
   "metadata": {},
   "source": [
    "## Adding or Changing Values\n",
    "\n",
    "We can add new values to our dictionary.\n",
    "Let's add a new client:"
   ]
  },
  {
   "cell_type": "code",
   "execution_count": null,
   "id": "2e474d4c-fbdf-415a-b4de-b4d7fb60db5b",
   "metadata": {},
   "outputs": [],
   "source": [
    "clients['Ole Vold'] = 3009\n",
    "print(clients)"
   ]
  },
  {
   "cell_type": "markdown",
   "id": "110a29cd-9512-4306-9fd6-b632ebebe511",
   "metadata": {},
   "source": [
    "We can change existing values the same way:"
   ]
  },
  {
   "cell_type": "code",
   "execution_count": null,
   "id": "864f6ae3-8c14-4444-80d5-ec4987da711f",
   "metadata": {},
   "outputs": [],
   "source": [
    "clients['Ole Vold'] = 3131\n",
    "print(clients)"
   ]
  },
  {
   "cell_type": "markdown",
   "id": "9565d8af-ebbf-4d9f-a682-7ebd0f7abf3b",
   "metadata": {},
   "source": [
    "## Removing Values\n",
    "\n",
    "Like with lists, we can use the method `pop()` to remove a value from a dictionary.\n",
    "This method returns the removed value.\n",
    "\n",
    "Let's remove our troublesome client 'Peder Ås'."
   ]
  },
  {
   "cell_type": "code",
   "execution_count": null,
   "id": "5963c5b4-2b30-4cfc-a670-8a92dc6251c6",
   "metadata": {},
   "outputs": [],
   "source": [
    "number = clients.pop('Peder Ås')\n",
    "print('Let Peder Ås know at his number', number)\n",
    "\n",
    "print(clients)"
   ]
  },
  {
   "cell_type": "markdown",
   "id": "de43bb63-a39c-482f-afaa-12ab3285d9a3",
   "metadata": {},
   "source": [
    "## Is a key in the dictionary?\n",
    "\n",
    "We can use the relational operator `in` to check for the presence of a key in a dictionary.\n",
    "This is like checking for an item in a list, but we can only check for keys not values."
   ]
  },
  {
   "cell_type": "code",
   "execution_count": null,
   "id": "d2cc28ff-4c67-4c21-97e7-bc0a6c2ec03e",
   "metadata": {},
   "outputs": [],
   "source": [
    "if 'Peder Ås' in clients:\n",
    "    print(clients['Peder Ås'])\n",
    "else:\n",
    "    print('Peder Ås is not a client')"
   ]
  },
  {
   "cell_type": "markdown",
   "id": "e04464ae-c42c-4871-8dc7-3557c834023e",
   "metadata": {},
   "source": [
    "## Getting Values with Default\n",
    "If we try to get a key that doesn't exist, we get an error:"
   ]
  },
  {
   "cell_type": "code",
   "execution_count": null,
   "id": "5979d281-f66f-4d1c-b2b0-bfba1e16c2bd",
   "metadata": {},
   "outputs": [],
   "source": [
    "clients['Hannah Hanson']"
   ]
  },
  {
   "cell_type": "markdown",
   "id": "eff96cc7-60a0-4356-9e49-c17c223d27f3",
   "metadata": {},
   "source": [
    "We can avoid this by using the method `.get()` instead:"
   ]
  },
  {
   "cell_type": "code",
   "execution_count": null,
   "id": "69fc16ae-d5f6-43c9-b936-c577817c7803",
   "metadata": {},
   "outputs": [],
   "source": [
    "print(clients.get('Hannah Hanson'))"
   ]
  },
  {
   "cell_type": "markdown",
   "id": "9a2ad309-e87c-4272-af76-9fd8d0411d6d",
   "metadata": {},
   "source": [
    "You can also give `.get()` a default value to return if the key isn't found, `.get(key, default)`:"
   ]
  },
  {
   "cell_type": "code",
   "execution_count": null,
   "id": "a4535535-db36-4ea8-b236-c8fc475cfe05",
   "metadata": {},
   "outputs": [],
   "source": [
    "clients.get('Hannah Hanson', '') # Default: empty string"
   ]
  },
  {
   "cell_type": "code",
   "execution_count": null,
   "id": "0aa071e0-fdd5-4519-b938-b9cc7bc502cb",
   "metadata": {},
   "outputs": [],
   "source": [
    "clients.get('Hannah Hanson', 'No such client')"
   ]
  },
  {
   "cell_type": "markdown",
   "id": "02266233-2bf7-4d56-997b-cd9b1b1e6a07",
   "metadata": {},
   "source": [
    "This is useful for processing data that can have some missing keys."
   ]
  },
  {
   "cell_type": "markdown",
   "id": "657b8127-c7fe-4c6b-bb14-343b244eb7a2",
   "metadata": {},
   "source": [
    "## Iterating over Dictionaries\n",
    "\n",
    "We can use a `for` loop to iterate over the dictionary, as we did with lists.\n",
    "With dictionaries, we iterate over the *keys*."
   ]
  },
  {
   "cell_type": "code",
   "execution_count": null,
   "id": "6fcaa867-1bc9-46aa-9ae0-620553f73b15",
   "metadata": {},
   "outputs": [],
   "source": [
    "for name in clients:\n",
    "    print(name, 'has the phone number', clients[name])"
   ]
  },
  {
   "cell_type": "markdown",
   "id": "75610dc9-8b16-4e84-ae69-3eed4e328607",
   "metadata": {},
   "source": [
    "## Finding a Value\n",
    "We saw above that the relational operator `in` only works with keys.\n",
    "If we want to look for a value, we can use a `for` loop to examine all the values."
   ]
  },
  {
   "cell_type": "code",
   "execution_count": null,
   "id": "37d94c37-67e8-4a22-a7b6-1e742f58f7e5",
   "metadata": {
    "tags": []
   },
   "outputs": [],
   "source": [
    "number = 3131\n",
    "\n",
    "for name in clients:\n",
    "    if clients[name] == number:\n",
    "        print(name, 'has the phone number', clients[name])"
   ]
  },
  {
   "cell_type": "markdown",
   "id": "1f94b4cf-abbf-488e-919c-c98828bf69ae",
   "metadata": {},
   "source": [
    "## Nested Dictionaries\n",
    "\n",
    "We have seen previously that lists can contain other, nested lists.\n",
    "Likewise, dictionaries can contain both lists and nested dictionaries."
   ]
  },
  {
   "cell_type": "code",
   "execution_count": null,
   "id": "818e8f01-0a8c-4b61-9783-109ca52f32b7",
   "metadata": {},
   "outputs": [],
   "source": [
    "clients = {'Peder Ås': {'phone': 5664,\n",
    "                        'address': 'Lillevik'},\n",
    "           'Marte Kirkerud': {'phone': 8952,\n",
    "                              'address': 'Lillevik'},\n",
    "          }"
   ]
  },
  {
   "cell_type": "markdown",
   "id": "10c75bf3-b9bf-4f16-9896-3b3b94cc96d2",
   "metadata": {},
   "source": [
    "We must use multiple indexes to access the deeper levels of nested data structures.\n",
    "This can be done stepwise:"
   ]
  },
  {
   "cell_type": "code",
   "execution_count": null,
   "id": "f96b5383-570a-4966-a634-5c7a9499b37b",
   "metadata": {},
   "outputs": [],
   "source": [
    "marte_info = clients['Marte Kirkerud']\n",
    "marte_phone = marte_info['phone']\n",
    "print(marte_phone)"
   ]
  },
  {
   "cell_type": "markdown",
   "id": "bd5cf751-0316-4813-9d2e-b11984880123",
   "metadata": {},
   "source": [
    "We can also do multiple steps at a time:"
   ]
  },
  {
   "cell_type": "code",
   "execution_count": null,
   "id": "c9afe42b-e7c0-4642-ac82-009c85abef2d",
   "metadata": {
    "tags": []
   },
   "outputs": [],
   "source": [
    "marte_phone = clients['Marte Kirkerud']['phone']\n",
    "print(marte_phone)"
   ]
  },
  {
   "cell_type": "markdown",
   "id": "0b513824-0799-4f6b-af93-f382d0a4ad0c",
   "metadata": {},
   "source": [
    "This is a matter of style.\n",
    "Choose the variant you think makes sense and makes the code most readable."
   ]
  },
  {
   "cell_type": "markdown",
   "id": "9bf6a572-ec06-4999-9fd9-14abfeae9312",
   "metadata": {},
   "source": [
    "## Examining Large Dictionaries\n",
    "\n",
    "When we use large dictionaries, their content will not fit on the screen. Instead, we can use the method `keys()` to get an overview of their content."
   ]
  },
  {
   "cell_type": "code",
   "execution_count": null,
   "id": "cc0c755d-9aab-461b-912b-f9830a94a49b",
   "metadata": {},
   "outputs": [],
   "source": [
    "print(clients.keys())"
   ]
  },
  {
   "cell_type": "markdown",
   "id": "6663bdc9-53d3-4273-8877-e3fb3408eef8",
   "metadata": {},
   "source": [
    "## Looping over Nested Dictionaries\n",
    "\n",
    "We can use nested `for` loops to iterate over nested dictionaries.\n",
    "This is similar to looping over iterated lists, but we must use the keys to get the values."
   ]
  },
  {
   "cell_type": "code",
   "execution_count": null,
   "id": "40eba021-7092-47dd-90ba-fd62ef4ada6c",
   "metadata": {},
   "outputs": [],
   "source": [
    "for name in clients:\n",
    "    client_info = clients[name]\n",
    "    for entry_name in client_info:\n",
    "        value = client_info[entry_name]\n",
    "        print(name, 'has', entry_name, value)"
   ]
  },
  {
   "cell_type": "markdown",
   "id": "d1858600-65e0-46ca-a5c3-0667f8a4dde0",
   "metadata": {},
   "source": [
    "## Example: Counting Cases for Judges\n",
    "\n",
    "In this example we will collect statistics about judges from a data set of cases from ECtHR.\n",
    "The data are an excerpt from [ECHR-OD](https://echr-opendata.eu/), which we will discuss further in {ref}`JSON_APIs`.\n",
    "\n",
    "We load the data from a file.\n",
    "We will learn how to read files in {ref}`files_exceptions`, so for now we won't go into how the file is read.\n",
    "\n",
    "If you want to run the code yourself, you can download the file {download}`cases-5-short.json<./cases-5-short.json>`."
   ]
  },
  {
   "cell_type": "code",
   "execution_count": null,
   "id": "4f86c539-245d-4091-b2de-8bbcfe867ec6",
   "metadata": {
    "tags": [
     "hide-cell"
    ]
   },
   "outputs": [],
   "source": [
    "import json\n",
    "\n",
    "def read_json_file(filename):\n",
    "    with open(filename, 'r') as file:\n",
    "        text_data = file.read()\n",
    "        json_data = json.loads(text_data)\n",
    "        return json_data"
   ]
  },
  {
   "cell_type": "code",
   "execution_count": null,
   "id": "5d23c78e-e915-48aa-9303-bd89b365e0ee",
   "metadata": {},
   "outputs": [],
   "source": [
    "cases = read_json_file('cases-5-short.json')"
   ]
  },
  {
   "cell_type": "markdown",
   "id": "2fd55264-12d5-4b4a-9f15-77c2bc637329",
   "metadata": {},
   "source": [
    "We can use a dictionary to count the number of cases each judge has participated in.\n",
    "To do this, we use a dictionary where the keys are the judges' names,\n",
    "and the values are the number of cases we have found for that judge.\n",
    "The name of the dictionary should describe the contents, and possible names are for example `cases_per_judge` or `judge2count`.\n",
    "The latter is a common convention that emphasizes the dictionary's function as a map from a judge's name to a count."
   ]
  },
  {
   "cell_type": "code",
   "execution_count": null,
   "id": "0c38790c-4214-4a21-b735-2958ef00762b",
   "metadata": {
    "tags": []
   },
   "outputs": [],
   "source": [
    "judge2count = {}"
   ]
  },
  {
   "cell_type": "markdown",
   "id": "6ccf39ed-7c7d-43c9-948a-0d195f026d34",
   "metadata": {},
   "source": [
    "We can start with a for loop, since we need to process each case.\n",
    "We can inspect the keys of the cases by converting them to lists."
   ]
  },
  {
   "cell_type": "code",
   "execution_count": null,
   "id": "71678c99-36ca-4fcf-8f47-c19f280fee2f",
   "metadata": {
    "tags": [
     "output_scroll"
    ]
   },
   "outputs": [],
   "source": [
    "for case in cases:\n",
    "    print(list(case))"
   ]
  },
  {
   "cell_type": "markdown",
   "id": "75da9511-54e9-4755-b96d-aa3658e90f32",
   "metadata": {},
   "source": [
    "We can also examine the full contents of a single case."
   ]
  },
  {
   "cell_type": "code",
   "execution_count": null,
   "id": "f6a0a4e9-12b4-4230-87b9-1534c8794a57",
   "metadata": {},
   "outputs": [],
   "source": [
    "display(cases[0])"
   ]
  },
  {
   "cell_type": "markdown",
   "id": "f7a82b82-597d-4a08-9e8a-a08b0b54fb39",
   "metadata": {},
   "source": [
    "The names of the judges are in the list `decision_body`.\n",
    "We can get that:"
   ]
  },
  {
   "cell_type": "code",
   "execution_count": null,
   "id": "53caf4a5-dd6d-4785-b9e9-296ef9328ad5",
   "metadata": {
    "tags": [
     "output_scroll"
    ]
   },
   "outputs": [],
   "source": [
    "for case in cases:\n",
    "    decision_body = case['decision_body']\n",
    "    print(decision_body)"
   ]
  },
  {
   "cell_type": "markdown",
   "id": "075aaf57-2fc8-484f-ba78-df5d37abc320",
   "metadata": {},
   "source": [
    "We can loop over the decision body to get the names of the judges."
   ]
  },
  {
   "cell_type": "code",
   "execution_count": null,
   "id": "d66c2a74-7185-42d3-b158-7d1c345271c5",
   "metadata": {
    "tags": [
     "output_scroll"
    ]
   },
   "outputs": [],
   "source": [
    "for case in cases:\n",
    "    decision_body = case['decision_body']\n",
    "    for judge in decision_body:\n",
    "        name = judge['name']\n",
    "        print(name)"
   ]
  },
  {
   "cell_type": "markdown",
   "id": "7831eea6-c120-43b0-84b1-d0484aadec60",
   "metadata": {},
   "source": [
    "Now, we can count the names using our dictionary. If the name already exists in the dictionary, we can increase the count by one.\n",
    "We can do this by using the combined *addition assignment* operator `+=`.\n",
    "This adds the value of the expression on the right-hand side to the variable on the left-hand side."
   ]
  },
  {
   "cell_type": "code",
   "execution_count": null,
   "id": "3e74256d-b0b2-43f2-8483-5e08cf23bb66",
   "metadata": {},
   "outputs": [],
   "source": [
    "for case in cases:\n",
    "    decision_body = case['decision_body']\n",
    "    for judge in decision_body:\n",
    "        name = judge['name']\n",
    "        if name in judge2count:\n",
    "            judge2count[name] += 1"
   ]
  },
  {
   "cell_type": "markdown",
   "id": "6b69dbd6-3570-4584-b3a6-8a9ba921ea10",
   "metadata": {},
   "source": [
    "If the name is not already in the dictionary, we need to add it.\n",
    "We set the value to 1 since this is the first instance of that name."
   ]
  },
  {
   "cell_type": "code",
   "execution_count": null,
   "id": "d6ba31d7-cd68-4fbe-98a9-f66644c26bf2",
   "metadata": {},
   "outputs": [],
   "source": [
    "for case in cases:\n",
    "    decision_body = case['decision_body']\n",
    "    for judge in decision_body:\n",
    "        name = judge['name']\n",
    "        if name in judge2count:\n",
    "            judge2count[name] += 1\n",
    "        else:\n",
    "            judge2count[name] = 1"
   ]
  },
  {
   "cell_type": "markdown",
   "id": "2ad0e132-1d11-49ae-bb6b-81e3779b7051",
   "metadata": {},
   "source": [
    "That's it!\n",
    "We can print the results."
   ]
  },
  {
   "cell_type": "code",
   "execution_count": null,
   "id": "3ef42059-9a80-413f-86b8-4ac8cc749c8f",
   "metadata": {
    "tags": [
     "output_scroll"
    ]
   },
   "outputs": [],
   "source": [
    "display(judge2count)"
   ]
  },
  {
   "cell_type": "markdown",
   "id": "f070aaef-904a-4364-8786-759071af30ae",
   "metadata": {},
   "source": [
    "In {ref}`sorting_filtering`, we will see how we can sort the results to present an ordered list of the judges with the most cases."
   ]
  }
 ],
 "metadata": {
  "kernelspec": {
   "display_name": "Python 3 (ipykernel)",
   "language": "python",
   "name": "python3"
  },
  "language_info": {
   "codemirror_mode": {
    "name": "ipython",
    "version": 3
   },
   "file_extension": ".py",
   "mimetype": "text/x-python",
   "name": "python",
   "nbconvert_exporter": "python",
   "pygments_lexer": "ipython3",
   "version": "3.12.3"
  }
 },
 "nbformat": 4,
 "nbformat_minor": 5
}
