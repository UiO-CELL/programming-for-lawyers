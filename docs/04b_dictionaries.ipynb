{
 "cells": [
  {
   "cell_type": "markdown",
   "id": "ccf98ba8-f236-44b5-88d6-97c59836920a",
   "metadata": {},
   "source": [
    "# Dictionaries \n",
    "\n",
    "Dictionaries are *lookup tables*.\n",
    "We can use dictionaries to store and look up information.\n",
    "Rather than numerical indexes, a dictionary assigns a *key* to each stored *value*.\n",
    "For example, in an English dictionary, the keys are English words and the values are the meanings of the words.\n",
    "\n",
    "We can say that a dictionary is a *map* from the keys to the values.\n",
    "Keys are usually strings, and we can use the key to find the value.\n",
    "\n",
    "Like lists, dictionaries can store many different types of data.\n",
    "In Python code dictionaries are enclosed in curly brackets: `{ }`."
   ]
  },
  {
   "cell_type": "markdown",
   "id": "86c56220-3fd9-47c1-8f4b-58456be04251",
   "metadata": {},
   "source": [
    "## Creating Dictionaries\n",
    "\n",
    "We can create empty dictionaries:"
   ]
  },
  {
   "cell_type": "code",
   "execution_count": null,
   "id": "008e72ee-eaea-4eed-8a72-43fa31d36983",
   "metadata": {},
   "outputs": [],
   "source": [
    "clients = {}\n",
    "print(type(clients))"
   ]
  },
  {
   "cell_type": "markdown",
   "id": "b7f0c9fa-e205-4351-be5d-82f86c7b766b",
   "metadata": {},
   "source": [
    "We can also create a dictionary containing data with a dictionary *literal*.\n",
    "Here is a client list *mapping* names (the keys) to phone numbers (the values):"
   ]
  },
  {
   "cell_type": "code",
   "execution_count": 1,
   "id": "1af50c15-b430-42a7-8548-6802da775a7e",
   "metadata": {},
   "outputs": [],
   "source": [
    "clients = {'Peder Ås': 5664,\n",
    "           'Marte Kirkerud': 8952}"
   ]
  },
  {
   "cell_type": "code",
   "execution_count": null,
   "id": "87ab5031-dea5-4878-9cff-9b60ecafe9fd",
   "metadata": {},
   "outputs": [],
   "source": []
  }
 ],
 "metadata": {
  "kernelspec": {
   "display_name": "Python 3",
   "language": "python",
   "name": "python3"
  },
  "language_info": {
   "codemirror_mode": {
    "name": "ipython",
    "version": 3
   },
   "file_extension": ".py",
   "mimetype": "text/x-python",
   "name": "python",
   "nbconvert_exporter": "python",
   "pygments_lexer": "ipython3",
   "version": "3.8.8"
  }
 },
 "nbformat": 4,
 "nbformat_minor": 5
}
