{
 "cells": [
  {
   "cell_type": "markdown",
   "id": "dff0cb8b-05f3-408a-86ff-dab19fc17d2a",
   "metadata": {},
   "source": [
    "# Machine Learning\n",
    "\n",
    "Humans can learn from experience.\n",
    "In machine learning, the machine or program (attempts to) learns from data.\n",
    "The ever-increasing amount of available data has led to greatly increasing interest in machine learning.\n",
    "\n",
    "Machine learning can be divided into three major categories:\n",
    "- *Supervised learning* where we provide human guidance to the learning process.\n",
    "- *Unsupervised learning* where there is no human supervision.\n",
    "- *Reinforcement learning* is learning by trial and error, for example in robotics. Game playing programs, such as [AlphaZero](https://en.wikipedia.org/wiki/AlphaZero), are often based on reinforcement learning."
   ]
  }
 ],
 "metadata": {
  "kernelspec": {
   "display_name": "Python 3",
   "language": "python",
   "name": "python3"
  },
  "language_info": {
   "codemirror_mode": {
    "name": "ipython",
    "version": 3
   },
   "file_extension": ".py",
   "mimetype": "text/x-python",
   "name": "python",
   "nbconvert_exporter": "python",
   "pygments_lexer": "ipython3",
   "version": "3.8.10"
  }
 },
 "nbformat": 4,
 "nbformat_minor": 5
}
