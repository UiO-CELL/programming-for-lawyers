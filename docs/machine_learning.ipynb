{
 "cells": [
  {
   "cell_type": "markdown",
   "id": "f07450b9-24da-467d-b5dc-423cac2ca99f",
   "metadata": {},
   "source": [
    "# Machine Learning\n",
    "\n",
    "Humans can learn from experience.\n",
    "In machine learning, the machine or program learns from data (or attempts to).\n",
    "The ever-increasing amount of available data has led to greatly increasing interest in machine learning.\n",
    "Machine learning is a collection of statistical methods that can be used to extract information from data.\n",
    "\n",
    "```{figure} ../images/intersection.svg\n",
    ":name: Intersection\n",
    ":height: 10cm\n",
    ":alt: Venn diagram showing machine learning in the intersection of statistics and computer science\n",
    "\n",
    "Machine learning lies in the intersection of statistics and computer science.\n",
    "```\n",
    "\n",
    "```{figure} ../images/machine-learning1.svg\n",
    ":name: learning1\n",
    ":alt: Figure showing traditional programs using an algorithm on an input to produce a result. Compared to machine learning, where the program uses input and desired output to learn an algorithm.\n",
    "\n",
    "Traditional programming versus machine learning\n",
    "```\n",
    "\n",
    "```{figure} ../images/machine-learning2.svg\n",
    ":name: learning2\n",
    ":alt: Continues the machine learning illustration with a new stage where the learned algorithm is applied to new data.\n",
    "\n",
    "Complete machine learning process, where we use our learned algorithm on new data.\n",
    "```"
   ]
  },
  {
   "cell_type": "markdown",
   "id": "ec6c5d43-da2c-48cf-b3b2-067322c0d4d4",
   "metadata": {},
   "source": [
    "Machine learning can be divided into three major categories:\n",
    "- *Supervised learning* where we provide human guidance to the learning process.\n",
    "- *Unsupervised learning* where there is no human supervision.\n",
    "- *Reinforcement learning* is learning by trial and error, for example in robotics. Game playing programs, such as [AlphaZero](https://en.wikipedia.org/wiki/AlphaZero), are often based on reinforcement learning."
   ]
  }
 ],
 "metadata": {
  "kernelspec": {
   "display_name": "Python 3",
   "language": "python",
   "name": "python3"
  },
  "language_info": {
   "codemirror_mode": {
    "name": "ipython",
    "version": 3
   },
   "file_extension": ".py",
   "mimetype": "text/x-python",
   "name": "python",
   "nbconvert_exporter": "python",
   "pygments_lexer": "ipython3",
   "version": "3.8.10"
  }
 },
 "nbformat": 4,
 "nbformat_minor": 5
}
