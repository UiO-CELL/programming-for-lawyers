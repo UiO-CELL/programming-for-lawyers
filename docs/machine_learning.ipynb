{
 "cells": [
  {
   "cell_type": "markdown",
   "id": "1c9e5d01-d7fa-46cf-967a-fd769c9776da",
   "metadata": {},
   "source": [
    "# Machine Learning\n",
    "\n",
    "Humans can learn from experience.\n",
    "In machine learning, the machine or program learns from data (or attempts to).\n",
    "The ever-increasing amount of available data has led to greatly increasing interest in machine learning.\n",
    "Machine learning is a collection of statistical methods that can be used to extract information from data.\n",
    "\n",
    "Machine learning uses methods from computer science and statistics, preferably in combination with domain knowledge.\n",
    "The domain knowledge in our case is knowledge of law.\n",
    "{numref}`intersection` shows this view of machine learning in the intersection of computer science and statistics.\n",
    "One definition of *data science* is as a triangle at the intersection of computer science, statistics, and domain knowledge.\n",
    "\n",
    "```{figure} ../images/intersection.svg\n",
    ":name: intersection\n",
    ":height: 10cm\n",
    ":alt: Venn diagram showing machine learning in the intersection of statistics and computer science\n",
    "\n",
    "Machine learning lies in the intersection of statistics and computer science.\n",
    "```"
   ]
  },
  {
   "cell_type": "markdown",
   "id": "f50f4f7a-a4c4-4394-b2f8-9cf37eef46d7",
   "metadata": {},
   "source": [
    "Machine learning can be divided into three major categories:\n",
    "- *Supervised learning* where we provide human guidance to the learning process.\n",
    "The supervision is usually in the form of *labels* for the data.\n",
    "- *Unsupervised learning* where there is no human supervision.\n",
    "- *Reinforcement learning* is learning by trial and error, for example in robotics.\n",
    "Game playing programs, such as [AlphaZero](https://en.wikipedia.org/wiki/AlphaZero),\n",
    "are often based on reinforcement learning.\n",
    "\n",
    "Machine learning differs from traditional programming in how we solve problems.\n",
    "A traditional program uses an algorithm on some input data to produce a result.\n",
    "With machine learning, the algorithm is unknown and what we want to learn.\n",
    "With supervised learning, instead we have a set of input data and the corresponding *desired* output data.\n",
    "From this, we want to learn algorithm or function that can produce the desired output from the given input.\n",
    "{numref}`learning1` illustrates this difference."
   ]
  },
  {
   "cell_type": "markdown",
   "id": "5a97bd36-8dad-4791-a925-2b40b2c1cfac",
   "metadata": {},
   "source": [
    "```{figure} ../images/machine-learning1.svg\n",
    ":name: learning1\n",
    ":alt: Figure showing traditional programs using an algorithm on an input to produce a result. Compared to machine learning, where the program uses input and desired output to learn an algorithm.\n",
    "\n",
    "Traditional programming versus machine learning\n",
    "```"
   ]
  },
  {
   "cell_type": "markdown",
   "id": "bf5aa36c-4a0e-4409-bf3a-f039a7eb2f79",
   "metadata": {},
   "source": [
    "Once we have learned a function that (approximately) yields the desired output, we can use this function on new, unseen data. This is illustrated in {numref}`learning2`.\n",
    "The goal is for the learned function to *generalize* well to new data."
   ]
  },
  {
   "cell_type": "markdown",
   "id": "77c69847-17b3-4f5c-94e5-4ca0e582aeeb",
   "metadata": {},
   "source": [
    "```{figure} ../images/machine-learning2.svg\n",
    ":name: learning2\n",
    ":alt: Continues the machine learning illustration with a new stage where the learned algorithm is applied to new data.\n",
    "\n",
    "Complete machine learning process, where we use our learned algorithm on new data.\n",
    "```"
   ]
  },
  {
   "cell_type": "markdown",
   "id": "0b13391c-f275-4e2a-a547-6307607e61f0",
   "metadata": {},
   "source": [
    "For many problems, there exists well-known traditional algorithms that solve the problem.\n",
    "For these problems, there is usually no reason to use machine learning.\n",
    "For example, there are many efficient algorithms for sorting data, so there is probably no need to use machine learning for this.\n",
    "We use machine learning when we have data to learn from, but there is no known function to produce the output we want."
   ]
  }
 ],
 "metadata": {
  "kernelspec": {
   "display_name": "Python 3",
   "language": "python",
   "name": "python3"
  },
  "language_info": {
   "codemirror_mode": {
    "name": "ipython",
    "version": 3
   },
   "file_extension": ".py",
   "mimetype": "text/x-python",
   "name": "python",
   "nbconvert_exporter": "python",
   "pygments_lexer": "ipython3",
   "version": "3.8.10"
  }
 },
 "nbformat": 4,
 "nbformat_minor": 5
}
