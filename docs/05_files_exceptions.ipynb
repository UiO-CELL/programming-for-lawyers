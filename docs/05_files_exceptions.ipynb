{
 "cells": [
  {
   "cell_type": "markdown",
   "id": "ee8f4fe2-6787-46d9-8880-44845a5f9667",
   "metadata": {},
   "source": [
    "# Files and Exceptions"
   ]
  },
  {
   "cell_type": "markdown",
   "id": "8180052a-a9ef-4413-86ed-7d963f41d2ab",
   "metadata": {},
   "source": [
    "We often need to read data from files. With Python we can read many different formats, for example Word documents, PDF documents, or tabular data in Excel or CSV format.\n",
    "Some of these file formats require third-party libraries.\n",
    "Here, we will look at the reading from and writing to plain text files."
   ]
  },
  {
   "cell_type": "markdown",
   "id": "7d50e342-3610-477d-a23c-cc0299848ab4",
   "metadata": {},
   "source": [
    "## Opening Files\n",
    "We can open a file containing the introduction to an ECHR case."
   ]
  },
  {
   "cell_type": "code",
   "execution_count": null,
   "id": "200005e2-0d7d-494c-b60b-90e0cc2fc26d",
   "metadata": {},
   "outputs": [],
   "source": [
    "filename = 'LO-NTF-v-Norway.txt'"
   ]
  },
  {
   "cell_type": "markdown",
   "id": "dacb0631-5b5f-4654-ad62-def31fe1bf59",
   "metadata": {},
   "source": [
    "Python has the function `open()` for opening files.\n",
    "We must specify the text encoding, which is often UTF-8.\n",
    "\n",
    "We could use this function directly and assign the result to a variable."
   ]
  },
  {
   "cell_type": "code",
   "execution_count": null,
   "id": "b1ae0f7f-c4ea-4799-b1d4-44d3ea857cea",
   "metadata": {},
   "outputs": [],
   "source": [
    "file = open(filename, encoding='UTF-8')"
   ]
  },
  {
   "cell_type": "markdown",
   "id": "184da0e4-6896-4865-910a-58904d896c0a",
   "metadata": {},
   "source": [
    "However, open files consume system resources. Therefore, we must always remember to close files when we are finished with them.\n",
    "A large program or web application that keeps opening files without closing them will eventually run out of memory and crash.\n",
    "\n",
    "Python can automatically close files for us if we use the `with` statement."
   ]
  },
  {
   "cell_type": "code",
   "execution_count": null,
   "id": "88ed6a13-b1ee-463f-b405-bd621947ed62",
   "metadata": {},
   "outputs": [],
   "source": [
    "with open(filename, encoding='UTF-8') as file:\n",
    "    print(file)"
   ]
  },
  {
   "cell_type": "markdown",
   "id": "ba5ec33b-99ad-486d-bf05-7b36b6038b90",
   "metadata": {},
   "source": [
    "```{caution}\n",
    "*Always* use `with` when opening files.\n",
    "```"
   ]
  },
  {
   "cell_type": "markdown",
   "id": "9ca4bb3c-00be-4b51-8d64-d249c3283b21",
   "metadata": {},
   "source": [
    "```{note}\n",
    "Notice that the `print()` statement above prints a description of the file object, not the file content.\n",
    "We must use methods of this object to get the content.\n",
    "```"
   ]
  },
  {
   "cell_type": "markdown",
   "id": "5688a87d-110a-4528-bfe5-d415f8f5adc2",
   "metadata": {},
   "source": [
    "## Reading the File Content\n",
    "\n",
    "We can use the method `readline()` to read single lines from the file."
   ]
  },
  {
   "cell_type": "code",
   "execution_count": null,
   "id": "4a65abd5-a8d7-43fe-9207-095d03f95d31",
   "metadata": {},
   "outputs": [],
   "source": [
    "with open(filename, encoding='UTF-8') as file:\n",
    "    print(file.readline())"
   ]
  },
  {
   "cell_type": "markdown",
   "id": "d59ff2aa-c95b-47b3-b48d-b54dbb66d15d",
   "metadata": {},
   "source": [
    "We can also use a `for` loop to process the file line by line."
   ]
  },
  {
   "cell_type": "code",
   "execution_count": null,
   "id": "32e17f33-c8db-4ca4-a293-7314e17b56bf",
   "metadata": {
    "tags": [
     "hide-output"
    ]
   },
   "outputs": [],
   "source": [
    "with open(filename, encoding='UTF-8') as file:\n",
    "    for line in file:\n",
    "        print(line)"
   ]
  },
  {
   "cell_type": "markdown",
   "id": "ed8e49f3-7ce2-4cc9-a4fa-b42d48d09a46",
   "metadata": {},
   "source": [
    "## Removing Whitespace\n",
    "\n",
    "When we print the file content above, we get a blank line between each line.\n",
    "This is because the lines we read contain a newline, `\\n`, and the print statement also insert a newline.\n",
    "To avoid this, we should remove *leading* and *trailing* whitespace with the method `strip()`."
   ]
  },
  {
   "cell_type": "code",
   "execution_count": null,
   "id": "f0c5f57b-dcb6-4cf3-a35c-b276c99f36de",
   "metadata": {
    "tags": [
     "hide-output"
    ]
   },
   "outputs": [],
   "source": [
    "with open(filename, encoding='UTF-8') as file:\n",
    "    for line in file:\n",
    "        line = line.strip()\n",
    "        print(line)"
   ]
  },
  {
   "cell_type": "code",
   "execution_count": null,
   "id": "2deb2095-d81b-410c-b52a-7ea6f240ade3",
   "metadata": {},
   "outputs": [],
   "source": []
  }
 ],
 "metadata": {
  "kernelspec": {
   "display_name": "Python 3",
   "language": "python",
   "name": "python3"
  },
  "language_info": {
   "codemirror_mode": {
    "name": "ipython",
    "version": 3
   },
   "file_extension": ".py",
   "mimetype": "text/x-python",
   "name": "python",
   "nbconvert_exporter": "python",
   "pygments_lexer": "ipython3",
   "version": "3.8.8"
  }
 },
 "nbformat": 4,
 "nbformat_minor": 5
}
