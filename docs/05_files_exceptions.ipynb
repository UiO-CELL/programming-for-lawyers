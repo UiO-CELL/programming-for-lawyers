{
 "cells": [
  {
   "cell_type": "markdown",
   "id": "ee8f4fe2-6787-46d9-8880-44845a5f9667",
   "metadata": {},
   "source": [
    "# Files and Exceptions"
   ]
  },
  {
   "cell_type": "markdown",
   "id": "8180052a-a9ef-4413-86ed-7d963f41d2ab",
   "metadata": {},
   "source": [
    "We often need to read data from files. With Python we can read many different formats, for example Word documents, PDF documents, or tabular data in Excel or CSV format.\n",
    "Some of these file formats require third-party libraries.\n",
    "Here, we will look at the reading from and writing to plain text files."
   ]
  },
  {
   "cell_type": "markdown",
   "id": "7d50e342-3610-477d-a23c-cc0299848ab4",
   "metadata": {},
   "source": [
    "## Opening Files\n",
    "We can open a file containing the introduction to an ECHR case."
   ]
  },
  {
   "cell_type": "code",
   "execution_count": null,
   "id": "200005e2-0d7d-494c-b60b-90e0cc2fc26d",
   "metadata": {},
   "outputs": [],
   "source": [
    "filename = 'LO-NTF-v-Norway.txt'"
   ]
  },
  {
   "cell_type": "markdown",
   "id": "dacb0631-5b5f-4654-ad62-def31fe1bf59",
   "metadata": {},
   "source": [
    "Python has the function `open()` for opening files.\n",
    "We must specify the text encoding, which is often UTF-8.\n",
    "\n",
    "We could use this function directly and assign the result to a variable."
   ]
  },
  {
   "cell_type": "code",
   "execution_count": null,
   "id": "b1ae0f7f-c4ea-4799-b1d4-44d3ea857cea",
   "metadata": {},
   "outputs": [],
   "source": [
    "file = open(filename, encoding='UTF-8')"
   ]
  },
  {
   "cell_type": "markdown",
   "id": "184da0e4-6896-4865-910a-58904d896c0a",
   "metadata": {},
   "source": [
    "However, open files consume system resources. Therefore, we must always remember to close files when we are finished with them.\n",
    "A large program or web application that keeps opening files without closing them will eventually run out of memory and crash.\n",
    "\n",
    "Python can automatically close files for us if we use the `with` statement."
   ]
  },
  {
   "cell_type": "code",
   "execution_count": null,
   "id": "88ed6a13-b1ee-463f-b405-bd621947ed62",
   "metadata": {},
   "outputs": [],
   "source": [
    "with open(filename, encoding='UTF-8') as file:\n",
    "    print(file)"
   ]
  },
  {
   "cell_type": "markdown",
   "id": "ba5ec33b-99ad-486d-bf05-7b36b6038b90",
   "metadata": {},
   "source": [
    "```{caution}\n",
    "*Always* use `with` when opening files.\n",
    "```"
   ]
  },
  {
   "cell_type": "markdown",
   "id": "9ca4bb3c-00be-4b51-8d64-d249c3283b21",
   "metadata": {},
   "source": [
    "```{note}\n",
    "Notice that the `print()` statement above prints a description of the file object, not the file content.\n",
    "We must use methods of this object to get the content.\n",
    "```"
   ]
  },
  {
   "cell_type": "markdown",
   "id": "5688a87d-110a-4528-bfe5-d415f8f5adc2",
   "metadata": {},
   "source": [
    "## Reading the File Content\n",
    "\n",
    "We can use the method `readline()` to read single lines from the file."
   ]
  },
  {
   "cell_type": "code",
   "execution_count": null,
   "id": "4a65abd5-a8d7-43fe-9207-095d03f95d31",
   "metadata": {},
   "outputs": [],
   "source": [
    "with open(filename, encoding='UTF-8') as file:\n",
    "    print(file.readline())"
   ]
  },
  {
   "cell_type": "markdown",
   "id": "d59ff2aa-c95b-47b3-b48d-b54dbb66d15d",
   "metadata": {},
   "source": [
    "We can also use a `for` loop to process the file line by line."
   ]
  },
  {
   "cell_type": "code",
   "execution_count": null,
   "id": "32e17f33-c8db-4ca4-a293-7314e17b56bf",
   "metadata": {
    "tags": [
     "hide-output"
    ]
   },
   "outputs": [],
   "source": [
    "with open(filename, encoding='UTF-8') as file:\n",
    "    for line in file:\n",
    "        print(line)"
   ]
  },
  {
   "cell_type": "markdown",
   "id": "ed8e49f3-7ce2-4cc9-a4fa-b42d48d09a46",
   "metadata": {},
   "source": [
    "## Removing Whitespace\n",
    "\n",
    "When we print the file content above, we get a blank line between each line.\n",
    "This is because the lines we read contain a newline, `\\n`, and the print statement also insert a newline.\n",
    "To avoid this, we should remove *leading* and *trailing* whitespace with the string method `strip()`."
   ]
  },
  {
   "cell_type": "code",
   "execution_count": null,
   "id": "f0c5f57b-dcb6-4cf3-a35c-b276c99f36de",
   "metadata": {
    "tags": [
     "hide-output"
    ]
   },
   "outputs": [],
   "source": [
    "with open(filename, encoding='UTF-8') as file:\n",
    "    for line in file:\n",
    "        line = line.strip()\n",
    "        print(line)"
   ]
  },
  {
   "cell_type": "markdown",
   "id": "c3c92ee9-25c8-413a-b40e-2f346366aa0f",
   "metadata": {},
   "source": [
    "## Splitting Strings\n",
    "\n",
    "Sometimes we need to process text word by word.\n",
    "To do this, we can use the string method `split()`, which splits a string on whitespace by default.\n",
    "We can also specify some other character to split on."
   ]
  },
  {
   "cell_type": "code",
   "execution_count": null,
   "id": "8453a9ef-de1c-40d7-8d60-278350fe5c6c",
   "metadata": {
    "tags": []
   },
   "outputs": [],
   "source": [
    "with open(filename, encoding='UTF-8') as file:\n",
    "    line = file.readline()\n",
    "    line = line.strip()\n",
    "    words = line.split()\n",
    "    print(words)"
   ]
  },
  {
   "cell_type": "markdown",
   "id": "1fd14c5a-0347-4f9a-a0aa-afcec1923e76",
   "metadata": {},
   "source": [
    "## Joining Strings\n",
    "When we have processed the information in the list, we can `join()` the items into a new string.\n",
    "We could use a new separator for joining the items.\n",
    "For example, in filenames we might use underscores instead of spaces."
   ]
  },
  {
   "cell_type": "code",
   "execution_count": null,
   "id": "6b726983-c0d3-4680-b275-58d15c727ec5",
   "metadata": {},
   "outputs": [],
   "source": [
    "line = '_'.join(words)\n",
    "print(line)"
   ]
  },
  {
   "cell_type": "markdown",
   "id": "c48f1fd2-c386-4551-96c9-be862e329351",
   "metadata": {},
   "source": [
    "## Extracting Information\n",
    "\n",
    "We want to extract the list of judges from the case into a Python list.\n",
    "The list of judges starts with the President, and ends with the Registrar.\n",
    "We can use these cues to extract the list."
   ]
  },
  {
   "cell_type": "code",
   "execution_count": null,
   "id": "6e4439c6-ddd1-42f7-970e-ade558ef5e72",
   "metadata": {
    "tags": []
   },
   "outputs": [],
   "source": [
    "found_start = False\n",
    "judges = []\n",
    "\n",
    "with open(filename, encoding='UTF-8') as file:\n",
    "    for line in file:\n",
    "        line = line.strip()\n",
    "        if not found_start:\n",
    "            if 'president' in line.lower():\n",
    "                found_start = True\n",
    "                judges.append(line)\n",
    "        else:\n",
    "            judges.append(line)\n",
    "            if 'registrar' in line.lower():\n",
    "                break\n",
    "\n",
    "print(judges)"
   ]
  },
  {
   "cell_type": "markdown",
   "id": "13f3801e-f241-41d3-bedc-fa4f026c6c68",
   "metadata": {},
   "source": [
    "Here, we use the statement `break` to stop the loop as soon as we find the registrar.\n",
    "This code still has room for improvement. For example, the extracted names contain commas.\n",
    "This is left as an exercise.\n",
    "\n",
    "```{note}\n",
    "We could easily extract this information by hand from a single document.\n",
    "But with Python code, we can extract the information from *thousands* of documents in a short time.\n",
    "```"
   ]
  },
  {
   "cell_type": "markdown",
   "id": "096116ab-05fc-4a72-b143-5a805b7be372",
   "metadata": {},
   "source": [
    "## Exceptions\n",
    "\n",
    "When something goes wrong in a program, an *exception* is *raised*.\n",
    "An exception is a \"signal\" that an error has occurred and must be handled.\n",
    "For example, exceptions can occur when user input doesn't match the expectations.\n",
    "We should handle exceptions that might occur.\n",
    "\n",
    "For example, trying to open a file that doesn't exist raises an exception:"
   ]
  },
  {
   "cell_type": "code",
   "execution_count": null,
   "id": "cd5439ba-4bdf-4cc3-b5ae-e20089e7594a",
   "metadata": {
    "tags": [
     "raises-exception"
    ]
   },
   "outputs": [],
   "source": [
    "filename = 'non-existing-file.txt' # often from user input\n",
    "with open(filename) as file:\n",
    "    print(file)"
   ]
  },
  {
   "cell_type": "markdown",
   "id": "5e6169d7-1da2-4a61-b0f0-9afb9b6db86a",
   "metadata": {},
   "source": [
    "In this case, we get a `FileNotFoundError` exception.\n",
    "Unhandled exceptions make the program stop or crash."
   ]
  },
  {
   "cell_type": "markdown",
   "id": "20c3d56f-5458-4aa7-8862-3d9246d940b1",
   "metadata": {},
   "source": [
    "## Handling Exceptions\n",
    "We can handle exceptions with `try` and `except` statements."
   ]
  },
  {
   "cell_type": "code",
   "execution_count": null,
   "id": "51f2747e-ec93-4bb6-afc2-61c65ba8a3eb",
   "metadata": {},
   "outputs": [],
   "source": [
    "try:\n",
    "    with open(filename) as file:\n",
    "        print(file)\n",
    "except FileNotFoundError:\n",
    "    print('no such file:', filename)"
   ]
  },
  {
   "cell_type": "markdown",
   "id": "348c686d-fa3a-4664-bdbd-24adf34e4941",
   "metadata": {},
   "source": [
    "Now, instead of crashing the program will keep running."
   ]
  },
  {
   "cell_type": "markdown",
   "id": "e21d6dcd-caa1-4edc-8e36-7e8543fa61a4",
   "metadata": {},
   "source": [
    "## Handling Multiple Exceptions\n",
    "\n",
    "We can also handle multiple exceptions. We can handle different exceptions differently."
   ]
  },
  {
   "cell_type": "code",
   "execution_count": null,
   "id": "978aa485-6560-43e6-af80-cfd22078e451",
   "metadata": {
    "tags": [
     "hide-output"
    ]
   },
   "outputs": [],
   "source": [
    "try:\n",
    "    with open(filename) as file:\n",
    "        print(file)\n",
    "except FileNotFoundError:\n",
    "    print('no such file:', filename)\n",
    "except IOError as e:\n",
    "    print('Error opening file:', e)"
   ]
  },
  {
   "cell_type": "markdown",
   "id": "f8a07f4a-bc9b-4e7c-a4b7-5a81d4a65b8e",
   "metadata": {},
   "source": [
    "We handle more specific exceptions first, then more general exceptions. The most general exception is just called `Exception`."
   ]
  },
  {
   "cell_type": "code",
   "execution_count": null,
   "id": "90126d02-1b75-47a8-a2a0-02f2b4bbf9ca",
   "metadata": {
    "tags": [
     "hide-output"
    ]
   },
   "outputs": [],
   "source": [
    "try:\n",
    "    with open(filename) as file:\n",
    "        print(file)\n",
    "except FileNotFoundError:\n",
    "    print('no such file:', filename)\n",
    "except IOError as e:\n",
    "    print('Error reading from file:', e)\n",
    "except Exception as e:\n",
    "    print('Exception:', e)"
   ]
  },
  {
   "cell_type": "markdown",
   "id": "fc7a2dc0-5e0d-4b3a-b284-ded230ea3c0a",
   "metadata": {},
   "source": [
    "## Writing Files\n",
    "\n",
    "We can also write data to files. Let's store the list of judges in a text file."
   ]
  },
  {
   "cell_type": "code",
   "execution_count": null,
   "id": "c5d09cb5-f213-4651-8462-9bc2f5d6647e",
   "metadata": {},
   "outputs": [],
   "source": [
    "output_file_name = 'judges.txt'"
   ]
  },
  {
   "cell_type": "markdown",
   "id": "10265b51-8e78-46f4-9dbc-248f6b31521e",
   "metadata": {},
   "source": [
    "When we want to open a file for writing, we need to specify *writing mode*, with the mode parameter `'w'`.\n",
    "\n",
    "The mode has the default value `'r'` for reading, but for consistency we can specify this parameter even when reading."
   ]
  },
  {
   "cell_type": "code",
   "execution_count": null,
   "id": "10f72e57-5a09-418e-aac3-67956a9e03b9",
   "metadata": {},
   "outputs": [],
   "source": [
    "with open(output_file_name, 'w', encoding='UTF-8') as outfile:\n",
    "    pass"
   ]
  },
  {
   "cell_type": "markdown",
   "id": "e8abfc6b-3691-43af-b905-791605280087",
   "metadata": {},
   "source": [
    "```{note}\n",
    "We use the `pass` statements to do nothing in the code block.\n",
    "The `with` statement and all other statements expecting an indented code block must contain at least one statement to be valid.\n",
    "```"
   ]
  },
  {
   "cell_type": "markdown",
   "id": "a6f3da9e-c64c-4c29-86e0-d4524f8c8eb8",
   "metadata": {},
   "source": [
    "Once the file has been opened, we can write to it with a `print()` statement.\n",
    "We must give `print()` a `file` parameter to send the text to a file instead of the console."
   ]
  },
  {
   "cell_type": "code",
   "execution_count": null,
   "id": "2ee40a10-2895-4f7e-be62-e5813d27b0e0",
   "metadata": {},
   "outputs": [],
   "source": [
    "with open(output_file_name, 'w', encoding='UTF-8') as outfile:\n",
    "    print(judges, file=outfile)"
   ]
  }
 ],
 "metadata": {
  "kernelspec": {
   "display_name": "Python 3",
   "language": "python",
   "name": "python3"
  },
  "language_info": {
   "codemirror_mode": {
    "name": "ipython",
    "version": 3
   },
   "file_extension": ".py",
   "mimetype": "text/x-python",
   "name": "python",
   "nbconvert_exporter": "python",
   "pygments_lexer": "ipython3",
   "version": "3.8.10"
  }
 },
 "nbformat": 4,
 "nbformat_minor": 5
}
