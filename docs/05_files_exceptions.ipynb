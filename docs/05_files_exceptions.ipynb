{
 "cells": [
  {
   "cell_type": "markdown",
   "id": "ee8f4fe2-6787-46d9-8880-44845a5f9667",
   "metadata": {},
   "source": [
    "# Files and Exceptions"
   ]
  },
  {
   "cell_type": "markdown",
   "id": "8180052a-a9ef-4413-86ed-7d963f41d2ab",
   "metadata": {},
   "source": [
    "We often need to read data from files. With Python we can read many different formats, for example Word documents, PDF documents, or tabular data in Excel or CSV format.\n",
    "Some of these file formats require third-party libraries.\n",
    "Here, we will look at the reading from and writing to plain text files."
   ]
  },
  {
   "cell_type": "markdown",
   "id": "7d50e342-3610-477d-a23c-cc0299848ab4",
   "metadata": {},
   "source": [
    "## Opening Files\n",
    "We can open a file containing the introduction to an ECHR case."
   ]
  },
  {
   "cell_type": "code",
   "execution_count": 1,
   "id": "200005e2-0d7d-494c-b60b-90e0cc2fc26d",
   "metadata": {},
   "outputs": [],
   "source": [
    "filename = 'LO-NTF-v-Norway.txt'"
   ]
  },
  {
   "cell_type": "markdown",
   "id": "dacb0631-5b5f-4654-ad62-def31fe1bf59",
   "metadata": {},
   "source": [
    "Python has the function `open()` for opening files.\n",
    "We must specify the text encoding, which is often UTF-8.\n",
    "\n",
    "We could use this function directly and assign the result to a variable."
   ]
  },
  {
   "cell_type": "code",
   "execution_count": 2,
   "id": "b1ae0f7f-c4ea-4799-b1d4-44d3ea857cea",
   "metadata": {},
   "outputs": [],
   "source": [
    "file = open(filename, encoding='UTF-8')"
   ]
  },
  {
   "cell_type": "markdown",
   "id": "184da0e4-6896-4865-910a-58904d896c0a",
   "metadata": {},
   "source": [
    "However, open files consume system resources. Therefore, we must always remember to close files when we are finished with them.\n",
    "A large program or web application that keeps opening files without closing them will eventually run out of memory and crash.\n",
    "\n",
    "Python can automatically close files for us if we use the `with` statement."
   ]
  },
  {
   "cell_type": "code",
   "execution_count": 10,
   "id": "88ed6a13-b1ee-463f-b405-bd621947ed62",
   "metadata": {},
   "outputs": [
    {
     "name": "stdout",
     "output_type": "stream",
     "text": [
      "<_io.TextIOWrapper name='LO-NTF-v-Norway.txt' mode='r' encoding='UTF-8'>\n"
     ]
    }
   ],
   "source": [
    "with open(filename, encoding='UTF-8') as file:\n",
    "    print(file)"
   ]
  },
  {
   "cell_type": "markdown",
   "id": "ba5ec33b-99ad-486d-bf05-7b36b6038b90",
   "metadata": {},
   "source": [
    "```{caution}\n",
    "*Always* use `with` when opening files.\n",
    "```"
   ]
  },
  {
   "cell_type": "markdown",
   "id": "9ca4bb3c-00be-4b51-8d64-d249c3283b21",
   "metadata": {},
   "source": [
    "```{note}\n",
    "Notice that the `print()` statement above prints a description of the file object, not the file content.\n",
    "We must use methods of this object to get the content.\n",
    "```"
   ]
  },
  {
   "cell_type": "markdown",
   "id": "5688a87d-110a-4528-bfe5-d415f8f5adc2",
   "metadata": {},
   "source": [
    "## Reading the File Content\n",
    "\n",
    "We can use the method `readline()` to read single lines from the file."
   ]
  },
  {
   "cell_type": "code",
   "execution_count": 5,
   "id": "4a65abd5-a8d7-43fe-9207-095d03f95d31",
   "metadata": {},
   "outputs": [
    {
     "name": "stdout",
     "output_type": "stream",
     "text": [
      "NORWEGIAN CONFEDERATION OF TRADE UNIONS (LO) AND NORWEGIAN\n",
      "\n"
     ]
    }
   ],
   "source": [
    "with open(filename, encoding='UTF-8') as file:\n",
    "    print(file.readline())"
   ]
  },
  {
   "cell_type": "markdown",
   "id": "d59ff2aa-c95b-47b3-b48d-b54dbb66d15d",
   "metadata": {},
   "source": [
    "We can also use a `for` loop to process the file line by line."
   ]
  },
  {
   "cell_type": "code",
   "execution_count": 8,
   "id": "32e17f33-c8db-4ca4-a293-7314e17b56bf",
   "metadata": {
    "collapsed": true,
    "jupyter": {
     "outputs_hidden": true
    },
    "tags": [
     "hide-output"
    ]
   },
   "outputs": [
    {
     "name": "stdout",
     "output_type": "stream",
     "text": [
      "NORWEGIAN CONFEDERATION OF TRADE UNIONS (LO) AND NORWEGIAN\n",
      "\n",
      "TRANSPORT WORKERS’ UNION (NTF) v. NORWAY JUDGMENT\n",
      "\n",
      "\n",
      "\n",
      "In the case of Norwegian Confederation of Trade Unions (LO) and\n",
      "\n",
      "Norwegian Transport Workers’ Union (NTF) v. Norway,\n",
      "\n",
      "The European Court of Human Rights (Fifth Section), sitting as a\n",
      "\n",
      "Chamber composed of:\n",
      "\n",
      "Síofra O’Leary, President,\n",
      "\n",
      "Mārtiņš Mits,\n",
      "\n",
      "Stéphanie Mourou-Vikström,\n",
      "\n",
      "Lətif Hüseynov,\n",
      "\n",
      "Jovan Ilievski,\n",
      "\n",
      "Ivana Jelić, judges,\n",
      "\n",
      "Anne Grøstad, ad hoc judge,\n",
      "\n",
      "and Victor Soloveytchik, Section Registrar,\n",
      "\n",
      "Having regard to:\n",
      "\n",
      "the application against the Kingdom of Norway lodged with the Court\n",
      "\n",
      "under Article 34 of the Convention for the Protection of Human Rights and\n",
      "\n",
      "Fundamental Freedoms (“the Convention”) by two Norwegian associations,\n",
      "\n",
      "the Norwegian Confederation of Trade Unions (Landsorganisasjonen i\n",
      "\n",
      "Norge (“LO”)) and the Norwegian Transport Workers’ Union (Norsk\n",
      "\n",
      "transportarbeiderforbund (“NTF”)) (“the applicant unions”), on 15 June\n",
      "\n",
      "2017;\n",
      "\n",
      "the withdrawal of Arnfinn Bårdsen, the judge elected in respect of\n",
      "\n",
      "Norway, from sitting in the case (Rule 28 § 3 of the Rules of Court) and the\n",
      "\n",
      "decision of the President of the Section to appoint Anne Grøstad to sit as an\n",
      "\n",
      "ad hoc judge (Article 26 § 4 of the Convention and Rule 29 § 1(a));\n",
      "\n",
      "the decision to give notice to the Norwegian Government (“the\n",
      "\n",
      "Government”) of the complaint concerning Article 11 of the Convention\n",
      "\n",
      "and to declare inadmissible the remainder of the application;\n",
      "\n",
      "the observations submitted by the respondent Government and the\n",
      "\n",
      "observations in reply submitted by the applicants;\n",
      "\n",
      "the comments submitted by the European Trade Union Confederation\n",
      "\n",
      "(ETUC), which was granted leave to intervene by the President of the\n",
      "\n",
      "Section;\n",
      "\n",
      "Having deliberated in private on 18 May 2021,\n",
      "\n",
      "Delivers the following judgment, which was adopted on that date:\n",
      "\n",
      "\n",
      "\n",
      "INTRODUCTION\n",
      "\n",
      "\n",
      "\n",
      "1. The case concerns the alleged violation of Article 11 of the\n",
      "\n",
      "Convention in relation to a decision by the Norwegian Supreme Court to\n",
      "\n",
      "declare unlawful an announced boycott by a trade union which was planned\n",
      "\n",
      "in order to pressure a Norwegian subsidiary of a Danish company to enter\n",
      "\n",
      "into a Norwegian collective agreement applicable to dockworkers.\n"
     ]
    }
   ],
   "source": [
    "with open(filename, encoding='UTF-8') as file:\n",
    "    for line in file:\n",
    "        print(line)"
   ]
  },
  {
   "cell_type": "markdown",
   "id": "ed8e49f3-7ce2-4cc9-a4fa-b42d48d09a46",
   "metadata": {},
   "source": [
    "## Removing Whitespace\n",
    "\n",
    "When we print the file content above, we get a blank line between each line.\n",
    "This is because the lines we read contain a newline, `\\n`, and the print statement also insert a newline.\n",
    "To avoid this, we should remove *leading* and *trailing* whitespace with the method `strip()`."
   ]
  },
  {
   "cell_type": "code",
   "execution_count": 9,
   "id": "f0c5f57b-dcb6-4cf3-a35c-b276c99f36de",
   "metadata": {
    "collapsed": true,
    "jupyter": {
     "outputs_hidden": true
    },
    "tags": [
     "hide-output"
    ]
   },
   "outputs": [
    {
     "name": "stdout",
     "output_type": "stream",
     "text": [
      "NORWEGIAN CONFEDERATION OF TRADE UNIONS (LO) AND NORWEGIAN\n",
      "TRANSPORT WORKERS’ UNION (NTF) v. NORWAY JUDGMENT\n",
      "\n",
      "In the case of Norwegian Confederation of Trade Unions (LO) and\n",
      "Norwegian Transport Workers’ Union (NTF) v. Norway,\n",
      "The European Court of Human Rights (Fifth Section), sitting as a\n",
      "Chamber composed of:\n",
      "Síofra O’Leary, President,\n",
      "Mārtiņš Mits,\n",
      "Stéphanie Mourou-Vikström,\n",
      "Lətif Hüseynov,\n",
      "Jovan Ilievski,\n",
      "Ivana Jelić, judges,\n",
      "Anne Grøstad, ad hoc judge,\n",
      "and Victor Soloveytchik, Section Registrar,\n",
      "Having regard to:\n",
      "the application against the Kingdom of Norway lodged with the Court\n",
      "under Article 34 of the Convention for the Protection of Human Rights and\n",
      "Fundamental Freedoms (“the Convention”) by two Norwegian associations,\n",
      "the Norwegian Confederation of Trade Unions (Landsorganisasjonen i\n",
      "Norge (“LO”)) and the Norwegian Transport Workers’ Union (Norsk\n",
      "transportarbeiderforbund (“NTF”)) (“the applicant unions”), on 15 June\n",
      "2017;\n",
      "the withdrawal of Arnfinn Bårdsen, the judge elected in respect of\n",
      "Norway, from sitting in the case (Rule 28 § 3 of the Rules of Court) and the\n",
      "decision of the President of the Section to appoint Anne Grøstad to sit as an\n",
      "ad hoc judge (Article 26 § 4 of the Convention and Rule 29 § 1(a));\n",
      "the decision to give notice to the Norwegian Government (“the\n",
      "Government”) of the complaint concerning Article 11 of the Convention\n",
      "and to declare inadmissible the remainder of the application;\n",
      "the observations submitted by the respondent Government and the\n",
      "observations in reply submitted by the applicants;\n",
      "the comments submitted by the European Trade Union Confederation\n",
      "(ETUC), which was granted leave to intervene by the President of the\n",
      "Section;\n",
      "Having deliberated in private on 18 May 2021,\n",
      "Delivers the following judgment, which was adopted on that date:\n",
      "\n",
      "INTRODUCTION\n",
      "\n",
      "1. The case concerns the alleged violation of Article 11 of the\n",
      "Convention in relation to a decision by the Norwegian Supreme Court to\n",
      "declare unlawful an announced boycott by a trade union which was planned\n",
      "in order to pressure a Norwegian subsidiary of a Danish company to enter\n",
      "into a Norwegian collective agreement applicable to dockworkers.\n"
     ]
    }
   ],
   "source": [
    "with open(filename, encoding='UTF-8') as file:\n",
    "    for line in file:\n",
    "        line = line.strip()\n",
    "        print(line)"
   ]
  },
  {
   "cell_type": "code",
   "execution_count": null,
   "id": "2deb2095-d81b-410c-b52a-7ea6f240ade3",
   "metadata": {},
   "outputs": [],
   "source": []
  }
 ],
 "metadata": {
  "kernelspec": {
   "display_name": "Python 3",
   "language": "python",
   "name": "python3"
  },
  "language_info": {
   "codemirror_mode": {
    "name": "ipython",
    "version": 3
   },
   "file_extension": ".py",
   "mimetype": "text/x-python",
   "name": "python",
   "nbconvert_exporter": "python",
   "pygments_lexer": "ipython3",
   "version": "3.8.8"
  }
 },
 "nbformat": 4,
 "nbformat_minor": 5
}
