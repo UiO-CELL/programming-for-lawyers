{
 "cells": [
  {
   "cell_type": "markdown",
   "id": "e52c19a8-0553-4d00-be30-f55253ac32a3",
   "metadata": {},
   "source": [
    "# Information Extraction\n",
    "We sometimes need to extract data from documents.\n",
    "For example, most documents contain dates and names of people or places.\n",
    "We can collect this information for example for statistics or further processing.\n"
   ]
  },
  {
   "cell_type": "markdown",
   "id": "1a6d8a16-2846-4912-bb54-94f9f9ecf2e4",
   "metadata": {},
   "source": [
    "## Named Entity Recognition\n",
    "We can use Named Entity Recognition (NER) to extract names of people, companies, places and other entities.\n",
    "Most NER systems also extract numbers.\n",
    "We will use the NER module in [spaCy]( https://spacy.io/).\n",
    "spaCy is a library for Natural Language Processing in Python.\n",
    "\n",
    "First, we import the spaCy library and its module displaCy."
   ]
  },
  {
   "cell_type": "code",
   "execution_count": null,
   "id": "27311080-7e01-42d4-a084-950f8ed37a9c",
   "metadata": {},
   "outputs": [],
   "source": [
    "import spacy\n",
    "from spacy import displacy"
   ]
  },
  {
   "cell_type": "markdown",
   "id": "250aa1cf-c24d-45d2-9656-451ac4bbf41e",
   "metadata": {},
   "source": [
    "spaCy can use models for many different languages.\n",
    "The first time we use NER in spaCy we must download the data files for the English language."
   ]
  },
  {
   "cell_type": "code",
   "execution_count": null,
   "id": "d0b464b7-5d37-4463-9c38-25b366eeabb9",
   "metadata": {},
   "outputs": [],
   "source": [
    "!python -m spacy download en_core_web_sm"
   ]
  },
  {
   "cell_type": "markdown",
   "id": "68992813-fdbf-4851-9d3d-10aeb9a29205",
   "metadata": {},
   "source": [
    "We load a short text document to run the Named Entity Recognizer on."
   ]
  },
  {
   "cell_type": "code",
   "execution_count": null,
   "id": "91eae50c-ad92-457d-affc-5d66419cb133",
   "metadata": {},
   "outputs": [],
   "source": [
    "filename = 'LO-NTF-v-Norway.txt'\n",
    "with open(filename, 'r', encoding='utf-8') as file:\n",
    "    text = file.read()"
   ]
  },
  {
   "cell_type": "markdown",
   "id": "5c2ff994-6c7e-4fa7-8784-c5179972867c",
   "metadata": {},
   "source": [
    "We load the English NLP model:"
   ]
  },
  {
   "cell_type": "code",
   "execution_count": null,
   "id": "aaaa58a0-e1ef-4e8f-b9ad-6f2c0fd2bbf3",
   "metadata": {},
   "outputs": [],
   "source": [
    "nlp = spacy.load(\"en_core_web_sm\")"
   ]
  },
  {
   "cell_type": "markdown",
   "id": "260726db-b979-4c97-844b-80c6b5e286da",
   "metadata": {
    "scrolled": true
   },
   "source": [
    "Next, we process the text with the NLP model."
   ]
  },
  {
   "cell_type": "code",
   "execution_count": null,
   "id": "abcc67bb-9629-4f9f-8fdb-f12e71634f55",
   "metadata": {
    "scrolled": true
   },
   "outputs": [],
   "source": [
    "document = nlp(text)"
   ]
  },
  {
   "cell_type": "markdown",
   "id": "c2e37a45-e679-4900-9d7d-5ec73cbb0374",
   "metadata": {
    "scrolled": true
   },
   "source": [
    "We can extract the entities and their labels:"
   ]
  },
  {
   "cell_type": "code",
   "execution_count": null,
   "id": "1af60b3d-03b7-4d49-8066-563c2ab23975",
   "metadata": {
    "scrolled": true
   },
   "outputs": [],
   "source": [
    "entities = [(ent.text, ent.label_) for ent in document.ents]"
   ]
  },
  {
   "cell_type": "markdown",
   "id": "ba24e02b-e10e-485f-ac9a-24a742f7a61b",
   "metadata": {
    "scrolled": true
   },
   "source": [
    "Let's look at the data:"
   ]
  },
  {
   "cell_type": "code",
   "execution_count": null,
   "id": "e6c284f9-2bdb-44ea-830b-0a49ece1ee53",
   "metadata": {
    "editable": true,
    "scrolled": true,
    "slideshow": {
     "slide_type": ""
    },
    "tags": []
   },
   "outputs": [],
   "source": [
    "for entity in entities:\n",
    "    print(f\"Entity: {entity[0]}, Label: {entity[1]}\")"
   ]
  },
  {
   "cell_type": "markdown",
   "id": "3dd0b459-ff9d-41d3-907a-6dbad3d01831",
   "metadata": {},
   "source": [
    "We can also get the entity types:"
   ]
  },
  {
   "cell_type": "code",
   "execution_count": null,
   "id": "06dc5481-4058-4c47-a4ea-a55e64fdc0c7",
   "metadata": {},
   "outputs": [],
   "source": [
    "identity_types = set(ent.label_ for ent in document.ents)\n",
    "print(f\"Identity types: {identity_types}\")"
   ]
  },
  {
   "cell_type": "markdown",
   "id": "91b1f6fd-7681-477d-af64-21c75be2647d",
   "metadata": {},
   "source": [
    "Finally, we can display the tagged text."
   ]
  },
  {
   "cell_type": "code",
   "execution_count": null,
   "id": "1b41c082-4999-45e8-82cf-c6afc52bd9ce",
   "metadata": {},
   "outputs": [],
   "source": [
    "# Visualize text with named entities as tags\n",
    "displacy.render(document, style=\"ent\", jupyter=True)"
   ]
  }
 ],
 "metadata": {
  "kernelspec": {
   "display_name": "Python 3 (ipykernel)",
   "language": "python",
   "name": "python3"
  },
  "language_info": {
   "codemirror_mode": {
    "name": "ipython",
    "version": 3
   },
   "file_extension": ".py",
   "mimetype": "text/x-python",
   "name": "python",
   "nbconvert_exporter": "python",
   "pygments_lexer": "ipython3",
   "version": "3.13.5"
  }
 },
 "nbformat": 4,
 "nbformat_minor": 5
}
