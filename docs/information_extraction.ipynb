{
 "cells": [
  {
   "cell_type": "markdown",
   "id": "e52c19a8-0553-4d00-be30-f55253ac32a3",
   "metadata": {},
   "source": [
    "# Information Extraction\n",
    "We sometimes need to extract data from documents.\n",
    "For example, most documents contain dates and names of people or places.\n",
    "We can collect this information for example for statistics or further processing.\n"
   ]
  },
  {
   "cell_type": "markdown",
   "id": "1a6d8a16-2846-4912-bb54-94f9f9ecf2e4",
   "metadata": {
    "editable": true,
    "slideshow": {
     "slide_type": ""
    },
    "tags": []
   },
   "source": [
    "## Named Entity Recognition\n",
    "We can use Named Entity Recognition (NER) to extract names of people, companies, places and other entities.\n",
    "Most NER systems also extract numbers.\n",
    "We will use the NER module in [spaCy]( https://spacy.io/).\n",
    "spaCy is a library for Natural Language Processing in Python.\n",
    "\n",
    "First, we import the spaCy library and its module displaCy."
   ]
  },
  {
   "cell_type": "code",
   "execution_count": null,
   "id": "27311080-7e01-42d4-a084-950f8ed37a9c",
   "metadata": {},
   "outputs": [],
   "source": [
    "import spacy\n",
    "from spacy import displacy"
   ]
  },
  {
   "cell_type": "markdown",
   "id": "250aa1cf-c24d-45d2-9656-451ac4bbf41e",
   "metadata": {},
   "source": [
    "spaCy can use models for many different languages.\n",
    "The first time we use NER in spaCy we must download the data files for the English language."
   ]
  },
  {
   "cell_type": "code",
   "execution_count": null,
   "id": "d0b464b7-5d37-4463-9c38-25b366eeabb9",
   "metadata": {},
   "outputs": [],
   "source": [
    "!python -m spacy download en_core_web_sm"
   ]
  },
  {
   "cell_type": "markdown",
   "id": "68992813-fdbf-4851-9d3d-10aeb9a29205",
   "metadata": {},
   "source": [
    "We load a short text document to run the Named Entity Recognizer on."
   ]
  },
  {
   "cell_type": "code",
   "execution_count": null,
   "id": "91eae50c-ad92-457d-affc-5d66419cb133",
   "metadata": {},
   "outputs": [],
   "source": [
    "filename = 'LO-NTF-v-Norway.txt'\n",
    "with open(filename, 'r', encoding='utf-8') as file:\n",
    "    text = file.read()"
   ]
  },
  {
   "cell_type": "markdown",
   "id": "5c2ff994-6c7e-4fa7-8784-c5179972867c",
   "metadata": {},
   "source": [
    "We load the English NLP model:"
   ]
  },
  {
   "cell_type": "code",
   "execution_count": null,
   "id": "aaaa58a0-e1ef-4e8f-b9ad-6f2c0fd2bbf3",
   "metadata": {},
   "outputs": [],
   "source": [
    "nlp = spacy.load(\"en_core_web_sm\")"
   ]
  },
  {
   "cell_type": "markdown",
   "id": "260726db-b979-4c97-844b-80c6b5e286da",
   "metadata": {
    "scrolled": true
   },
   "source": [
    "Next, we process the text with the NLP model."
   ]
  },
  {
   "cell_type": "code",
   "execution_count": null,
   "id": "abcc67bb-9629-4f9f-8fdb-f12e71634f55",
   "metadata": {
    "scrolled": true
   },
   "outputs": [],
   "source": [
    "document = nlp(text)"
   ]
  },
  {
   "cell_type": "markdown",
   "id": "c2e37a45-e679-4900-9d7d-5ec73cbb0374",
   "metadata": {
    "scrolled": true
   },
   "source": [
    "We can extract the entities and their labels:"
   ]
  },
  {
   "cell_type": "code",
   "execution_count": null,
   "id": "1af60b3d-03b7-4d49-8066-563c2ab23975",
   "metadata": {
    "scrolled": true
   },
   "outputs": [],
   "source": [
    "entities = [(ent.text, ent.label_) for ent in document.ents]"
   ]
  },
  {
   "cell_type": "markdown",
   "id": "ba24e02b-e10e-485f-ac9a-24a742f7a61b",
   "metadata": {
    "scrolled": true
   },
   "source": [
    "Let's look at the data:"
   ]
  },
  {
   "cell_type": "code",
   "execution_count": null,
   "id": "e6c284f9-2bdb-44ea-830b-0a49ece1ee53",
   "metadata": {
    "editable": true,
    "scrolled": true,
    "slideshow": {
     "slide_type": ""
    },
    "tags": []
   },
   "outputs": [],
   "source": [
    "for entity in entities:\n",
    "    print(f\"Entity: {entity[0]}, Label: {entity[1]}\")"
   ]
  },
  {
   "cell_type": "markdown",
   "id": "3dd0b459-ff9d-41d3-907a-6dbad3d01831",
   "metadata": {},
   "source": [
    "We can also get the entity types:"
   ]
  },
  {
   "cell_type": "code",
   "execution_count": null,
   "id": "06dc5481-4058-4c47-a4ea-a55e64fdc0c7",
   "metadata": {},
   "outputs": [],
   "source": [
    "identity_types = set(ent.label_ for ent in document.ents)\n",
    "print(f\"Identity types: {identity_types}\")"
   ]
  },
  {
   "cell_type": "markdown",
   "id": "91b1f6fd-7681-477d-af64-21c75be2647d",
   "metadata": {},
   "source": [
    "Finally, we can display the tagged text."
   ]
  },
  {
   "cell_type": "code",
   "execution_count": null,
   "id": "1b41c082-4999-45e8-82cf-c6afc52bd9ce",
   "metadata": {
    "editable": true,
    "slideshow": {
     "slide_type": ""
    },
    "tags": []
   },
   "outputs": [],
   "source": [
    "# Visualize text with named entities as tags\n",
    "displacy.render(document, style=\"ent\", jupyter=True)"
   ]
  },
  {
   "cell_type": "markdown",
   "id": "a4ab315f-2bb2-48c1-ba2e-88a1833fa6fd",
   "metadata": {
    "editable": true,
    "slideshow": {
     "slide_type": ""
    },
    "tags": []
   },
   "source": [
    "(regex)=\n",
    "## Regular Expressions\n",
    "Regular expressions (regexes) are powerful tools for searching text.\n",
    "We have already seen different ways to search for text.\n",
    "If we want to find the word \"Article\" in the string `document`, we can use one of the following methods:\n",
    "- `if 'Article' in document:`\n",
    "- `position = document.find('Article')`\n",
    "- `document.startswith('Article')` (to check only the first word)\n",
    "\n",
    "With regular expressions, we can look for patterns, not just specific strings.\n",
    "To use regular expressions, we must import Python's `re` module:"
   ]
  },
  {
   "cell_type": "code",
   "execution_count": null,
   "id": "fd0ce22c-1751-461c-a87e-22096335502c",
   "metadata": {},
   "outputs": [],
   "source": [
    "import re"
   ]
  },
  {
   "cell_type": "markdown",
   "id": "f052a14e-5ece-45e5-839b-41dadb29a6d3",
   "metadata": {},
   "source": [
    "We will need some text to search, so we will use the first page of a recent ECtHR case as an example."
   ]
  },
  {
   "cell_type": "code",
   "execution_count": null,
   "id": "0ce00cfa-d7fe-4db2-abeb-210d3ea106ce",
   "metadata": {},
   "outputs": [],
   "source": [
    "document = '''NORWEGIAN CONFEDERATION OF TRADE UNIONS (LO) AND NORWEGIAN\n",
    "TRANSPORT WORKERS’ UNION (NTF) v. NORWAY JUDGMENT\n",
    "\n",
    "In the case of Norwegian Confederation of Trade Unions (LO) and\n",
    "Norwegian Transport Workers’ Union (NTF) v. Norway,\n",
    "The European Court of Human Rights (Fifth Section), sitting as a\n",
    "Chamber composed of:\n",
    "Síofra O’Leary, President,\n",
    "Mārtiņš Mits,\n",
    "Stéphanie Mourou-Vikström,\n",
    "Lətif Hüseynov,\n",
    "Jovan Ilievski,\n",
    "Ivana Jelić, judges,\n",
    "Anne Grøstad, ad hoc judge,\n",
    "and Victor Soloveytchik, Section Registrar,\n",
    "Having regard to:\n",
    "the application against the Kingdom of Norway lodged with the Court\n",
    "under Article 34 of the Convention for the Protection of Human Rights and\n",
    "Fundamental Freedoms (“the Convention”) by two Norwegian associations,\n",
    "the Norwegian Confederation of Trade Unions (Landsorganisasjonen i\n",
    "Norge (“LO”)) and the Norwegian Transport Workers’ Union (Norsk\n",
    "transportarbeiderforbund (“NTF”)) (“the applicant unions”), on 15 June\n",
    "2017;\n",
    "the withdrawal of Arnfinn Bårdsen, the judge elected in respect of\n",
    "Norway, from sitting in the case (Rule 28 § 3 of the Rules of Court) and the\n",
    "decision of the President of the Section to appoint Anne Grøstad to sit as an\n",
    "ad hoc judge (Article 26 § 4 of the Convention and Rule 29 § 1(a));\n",
    "the decision to give notice to the Norwegian Government (“the\n",
    "Government”) of the complaint concerning Article 11 of the Convention\n",
    "and to declare inadmissible the remainder of the application;\n",
    "the observations submitted by the respondent Government and the\n",
    "observations in reply submitted by the applicants;\n",
    "the comments submitted by the European Trade Union Confederation\n",
    "(ETUC), which was granted leave to intervene by the President of the\n",
    "Section;\n",
    "Having deliberated in private on 18 May 2021,\n",
    "Delivers the following judgment, which was adopted on that date:\n",
    "\n",
    "INTRODUCTION\n",
    "\n",
    "1. The case concerns the alleged violation of Article 11 of the\n",
    "Convention in relation to a decision by the Norwegian Supreme Court to\n",
    "declare unlawful an announced boycott by a trade union which was planned\n",
    "in order to pressure a Norwegian subsidiary of a Danish company to enter\n",
    "into a Norwegian collective agreement applicable to dockworkers.'''"
   ]
  },
  {
   "cell_type": "markdown",
   "id": "1471a3c1-c1d7-408c-a8dc-201a0a096e79",
   "metadata": {},
   "source": [
    "We can look for the word \"Article\" followed by any digit.\n",
    "`\\d` matches a single digit:"
   ]
  },
  {
   "cell_type": "code",
   "execution_count": null,
   "id": "de2bedd7-61ef-4d8d-976b-a9431db94282",
   "metadata": {},
   "outputs": [],
   "source": [
    "matches = re.findall(r'Article \\d', document)\n",
    "print(matches)"
   ]
  },
  {
   "cell_type": "markdown",
   "id": "6354ac80-2a05-4e86-9620-3b9c945fcd25",
   "metadata": {},
   "source": [
    "::::::{admonition} Raw Strings\n",
    ":class: tip\n",
    "Backslashes have special meaning in Python strings.\n",
    "They are used to make special characters like tab, `\\t`, and newline, `\\n`, called *escape sequences*.\n",
    "To get an actual backslash, we must escape it with another backslash: \n",
    "```\n",
    "'Article \\\\d'\n",
    "```\n",
    "\n",
    "We can avoid this by using *raw* strings.\n",
    "They are prefixed with an \"r\", like f-strings are prefixed with an \"f\":\n",
    "```\n",
    "r'Article \\d'\n",
    "```\n",
    "This is especially helpful for patterns with many backslashes.\n",
    "::::::"
   ]
  },
  {
   "cell_type": "markdown",
   "id": "7c48c51d-756f-4697-8fe8-58ebe0bf376a",
   "metadata": {
    "tags": []
   },
   "source": [
    "### Quantifiers\n",
    "\n",
    "We can repeat characters or patterns with *quantifiers*:\n",
    "- `?` matches 0 or 1 instance of the preceding item.\n",
    "The expression `Article ?5` *only* matches the two strings \"Article5\" and \"Article 5\".\n",
    "- `*` matches 0 or more instances of the preceding item.\n",
    "For example, the expression `Article *5` matches \"Article5\", \"Article 5\" and so on, with any amount of space between the word and the digit.\n",
    "- `+` matches 1 or more instances of the preceding item.\n",
    "The expression `Article +5` matches \"Article 5\" and all variants with at least one space before the 5.\n",
    "\n",
    "To match numbers with multiple digits, we use the expression `\\d+`."
   ]
  },
  {
   "cell_type": "code",
   "execution_count": null,
   "id": "3d05db13-dd83-4f8b-bd99-1afe2c690193",
   "metadata": {},
   "outputs": [],
   "source": [
    "print(re.findall(r'Article \\d+', document))"
   ]
  },
  {
   "cell_type": "markdown",
   "id": "a5444631-55d3-48ed-adb6-1ce0ec1faab2",
   "metadata": {
    "tags": []
   },
   "source": [
    "### Character Classes\n",
    "\n",
    "Our document mentions both Articles and Rules, so we can expand our expression to match both.\n",
    "This can be done in different ways.\n",
    "First, let's look at the different *character classes* we can match.\n",
    "- \\w matches a single *word* character. This includes the letters a to z, but also letters from other languages and alphabets.\n",
    "- \\s matches a single *space* character, including space, tab, and others.\n",
    "- \\d matches a single digit, as we have seen.\n",
    "- . (period) matches any single character. \n",
    "\n",
    "You can also make your own character class, by listing the characters in brackets.\n",
    "For example, [abc] matches a single a, b or c.\n",
    "\n",
    "Now, let's try to match any word followed by any number."
   ]
  },
  {
   "cell_type": "code",
   "execution_count": null,
   "id": "6f061bfc-37e7-4252-a9ea-7036477cd9c9",
   "metadata": {},
   "outputs": [],
   "source": [
    "print(re.findall(r'\\w+ \\d+', document))"
   ]
  },
  {
   "cell_type": "markdown",
   "id": "eea0250f-2e49-4efa-8d56-f0f4d878d112",
   "metadata": {},
   "source": [
    "### Or\n",
    "As we can see, this also matches other substrings such as \"on 15\".\n",
    "Instead, we should specify just the words we want to look for.\n",
    "We can do that with a `|`, which is used as *or* in regular expressions."
   ]
  },
  {
   "cell_type": "code",
   "execution_count": null,
   "id": "63b082c4-f48d-496e-bb38-29696d731efd",
   "metadata": {},
   "outputs": [],
   "source": [
    "print(re.findall(r'Article|Rule \\d+', document))"
   ]
  },
  {
   "cell_type": "markdown",
   "id": "b66354c9-f25f-4c63-9f3d-b60aa6664e2b",
   "metadata": {},
   "source": [
    "### Grouping\n",
    "Now, the digits are interpreted as belonging with \"Rule\" only, because of the *precedence* rules of regular expressions. We need to group the words with parentheses: `(?: | )`."
   ]
  },
  {
   "cell_type": "code",
   "execution_count": null,
   "id": "57f042b0-ff21-4b28-8056-81536ea1e59a",
   "metadata": {},
   "outputs": [],
   "source": [
    "print(re.findall(r'(?:Article|Rule) \\d+', document))"
   ]
  },
  {
   "cell_type": "markdown",
   "id": "4b155c49-e7f3-4950-92a7-4827cca01cc8",
   "metadata": {},
   "source": [
    "We can also include the paragraph number:"
   ]
  },
  {
   "cell_type": "code",
   "execution_count": null,
   "id": "ccc31184-19d7-4721-8607-a981e38f7958",
   "metadata": {},
   "outputs": [],
   "source": [
    "print(re.findall(r'(?:Article|Rule) \\d+ § \\d+', document))"
   ]
  },
  {
   "cell_type": "markdown",
   "id": "44ae6987-7fed-4072-9182-168ea37625e3",
   "metadata": {},
   "source": [
    "However, now we only find occurrences that include a paragraph number.\n",
    "We can make that part optional by putting it in parentheses followed by `?`:"
   ]
  },
  {
   "cell_type": "code",
   "execution_count": null,
   "id": "4da8b81c-563f-431d-832b-01a13ae499e5",
   "metadata": {},
   "outputs": [],
   "source": [
    "print(re.findall(r'(?:Article|Rule) \\d+(?: § \\d+)?', document))"
   ]
  },
  {
   "cell_type": "markdown",
   "id": "51b4f9a4-9c25-449d-b286-8cf071c3fe35",
   "metadata": {},
   "source": [
    "### Ignoring Case\n",
    "\n",
    "Our current regular expression only matches strings containing \"Article\" or \"Rule\" exactly,\n",
    "with uppercase initials and the rest of the letters in lowercase.\n",
    "We might also want to ignore the case of the letters,\n",
    "so that we also match \"article\" and \"rule\" written in other case variants.\n",
    "To do that we include the *flag* `re.IGNORECASE`."
   ]
  },
  {
   "cell_type": "code",
   "execution_count": null,
   "id": "b0c0e1db-f225-4ea7-b269-cbb9312e3e2d",
   "metadata": {},
   "outputs": [],
   "source": [
    "print(re.findall(r'(?:Article|Rule) \\d+(?: § \\d+)?', document, flags=re.IGNORECASE))"
   ]
  },
  {
   "cell_type": "markdown",
   "id": "46616361-5444-41df-969c-ef0c5ce99ac0",
   "metadata": {},
   "source": [
    "### Anchors\n",
    "Earlier, we have seen the string search methods `.startswith()` and `.endswith()` that only looks for matches at the beginning or end of strings.\n",
    "We can do this with regular expressions by using anchors."
   ]
  },
  {
   "cell_type": "markdown",
   "id": "fe0e6a1d-f607-40bf-a1f0-51a8d9296c3c",
   "metadata": {},
   "source": [
    "For example, the tabular ECHR-OD data has several column names that contains the word \"article\".\n",
    "The columns with names `article=*` give the relevant articles for each case.\n",
    "On the other hand, the columns with names `ccl_article=*` have the conclusion for each article.\n",
    "\n",
    "We want to filter the columns, selecting only the ones giving the relevant articles,\n",
    "i.e. starting with \"article\".\n",
    "We can try matching on `article-\\d`:"
   ]
  },
  {
   "cell_type": "code",
   "execution_count": null,
   "id": "beea4694-91c5-492c-8cff-3eb8ff55f779",
   "metadata": {},
   "outputs": [],
   "source": [
    "print(re.findall(r'article-\\d', '''article-5\n",
    "                             ccl_article-6'''))"
   ]
  },
  {
   "cell_type": "markdown",
   "id": "85d4e214-6681-4e0b-8b11-49df1bc680da",
   "metadata": {},
   "source": [
    "This also matches \"article-6\", which is incorrect.\n",
    "To fix this, we can use a `^` anchor:"
   ]
  },
  {
   "cell_type": "code",
   "execution_count": null,
   "id": "7acb7fd7-4a2c-4fe1-b7c1-c2976593f473",
   "metadata": {},
   "outputs": [],
   "source": [
    "print(re.findall(r'^article-\\d', '''article-5\n",
    "                             ccl_article-6'''))"
   ]
  },
  {
   "cell_type": "markdown",
   "id": "a5283114-e256-4048-8e5c-d292b3e9ce26",
   "metadata": {},
   "source": [
    "This expression correctly matches only lines starting with \"article\".\n",
    "The table {ref}`regex-anchors` lists the anchors we can use in regular expressions.\n",
    "\n",
    ":::{table} Regex Anchors\n",
    ":name: regex-anchors\n",
    "| Expression | Matches             |\n",
    "|------------|---------------------|\n",
    "| ^          | Beginning of string |\n",
    "| $          | End of string       |\n",
    "| \\b         | Word boundaries     |\n",
    "\n",
    ":::"
   ]
  },
  {
   "cell_type": "markdown",
   "id": "aace27c0-5c63-4a07-8877-266fd4c73d0c",
   "metadata": {
    "editable": true,
    "slideshow": {
     "slide_type": ""
    },
    "tags": []
   },
   "source": [
    "### Further Reading\n",
    "\n",
    "Regular expressions have many more features, and you can read more about them in for example\n",
    "[Python's Regular Expression HOWTO](https://docs.python.org/3/howto/regex.html#regex-howto)\n",
    "or the [Wikipedia article Regular expression](https://en.wikipedia.org/wiki/Regular_expression)."
   ]
  }
 ],
 "metadata": {
  "kernelspec": {
   "display_name": "Python 3 (ipykernel)",
   "language": "python",
   "name": "python3"
  },
  "language_info": {
   "codemirror_mode": {
    "name": "ipython",
    "version": 3
   },
   "file_extension": ".py",
   "mimetype": "text/x-python",
   "name": "python",
   "nbconvert_exporter": "python",
   "pygments_lexer": "ipython3",
   "version": "3.13.5"
  }
 },
 "nbformat": 4,
 "nbformat_minor": 5
}
