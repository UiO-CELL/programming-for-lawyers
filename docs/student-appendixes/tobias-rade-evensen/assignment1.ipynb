{
 "cells": [
  {
   "cell_type": "markdown",
   "id": "6038a858",
   "metadata": {},
   "source": [
    "# Assignment 1 – Submission for Feedback"
   ]
  },
  {
   "cell_type": "code",
   "execution_count": 1,
   "metadata": {
    "trusted": true
   },
   "outputs": [],
   "source": [
    "# Task 1.1\n",
    "import json\n",
    "\n",
    "def read_json_file(filename):\n",
    "    with open(filename, 'r') as file:\n",
    "        text_data = file.read()\n",
    "        json_data = json.loads(text_data)\n",
    "        return json_data  \n",
    "\n",
    "file = '/src/data/JUS5080/cases-10.json'\n",
    "cases = read_json_file(file)"
   ]
  },
  {
   "cell_type": "code",
   "execution_count": 2,
   "metadata": {
    "scrolled": true,
    "trusted": true
   },
   "outputs": [
    {
     "name": "stdout",
     "output_type": "stream",
     "text": [
      "CASE OF SKLYAR v. RUSSIA : 45498/11\n",
      "CASE OF YABLOKO RUSSIAN UNITED DEMOCRATIC PARTY AND OTHERS v. RUSSIA : 18860/07\n",
      "CASE OF OBERWALDER v. SLOVENIA : 75567/01\n",
      "CASE OF RAKHMONOV v. RUSSIA : 50031/11\n",
      "CASE OF ARAT AND OTHERSv. TURKEY : 42894/04;42904/04;42905/04;42906/04;42907/04;42908/04;42909/04;42910/04\n",
      "CASE OF CACUCI AND S.C. VIRRA & CONT PAD S.R.L. v. ROMANIA : 27153/07\n",
      "CASE OF LEBEDINTSEVA v. UKRAINE : 37208/04\n",
      "CASE OF KHANH v. CYPRUS : 43639/12\n",
      "CASE OF BUCZKIEWICZ v. POLAND : 10446/03\n",
      "CASE OF FEDCHENKO v. RUSSIA (No. 3) : 7972/09\n"
     ]
    }
   ],
   "source": [
    "# Task 1.2\n",
    "# Prints names and application numbers of all cases\n",
    "for case in cases:\n",
    "    print(case['docname'] + \" : \" + case['appno'])"
   ]
  },
  {
   "cell_type": "code",
   "execution_count": 3,
   "metadata": {
    "trusted": true
   },
   "outputs": [
    {
     "name": "stdout",
     "output_type": "stream",
     "text": [
      "['SKLYAR', 'RUSSIA', 'YABLOKO RUSSIAN UNITED DEMOCRATIC PARTY AND OTHERS', 'RUSSIA', 'OBERWALDER', 'SLOVENIA', 'RAKHMONOV', 'RUSSIA', 'ARAT AND OTHERSv. TURKEY', 'CACUCI AND S.C. VIRRA & CONT PAD S.R.L.', 'ROMANIA', 'LEBEDINTSEVA', 'UKRAINE', 'KHANH', 'CYPRUS', 'BUCZKIEWICZ', 'POLAND', 'FEDCHENKO', 'RUSSIA']\n"
     ]
    }
   ],
   "source": [
    "# Task 1.3\n",
    "# Creates a list of all parties, not having nested lists,\n",
    "# (and not making sure a party only appears once, since it wasn't asked for in the assignment)\n",
    "parties = []\n",
    "for case in cases:\n",
    "    parties = parties + case['parties']\n",
    "print(parties)"
   ]
  },
  {
   "cell_type": "code",
   "execution_count": 4,
   "metadata": {
    "trusted": true
   },
   "outputs": [
    {
     "name": "stdout",
     "output_type": "stream",
     "text": [
      "['IATRIDIS', 'GREECE', 'VAN GEYSEGHEM', 'BELGIUM', 'A.M.', 'ITALY', 'TANRIKULU', 'TURKEY', 'PERKS AND OTHERS', 'THE UNITED KINGDOM', 'GERGER', 'ESCOUBET', 'ÇAKICI', 'T.W.', 'MALTA', 'MATTHEWS', 'CHASSAGNOU AND OTHERS', 'FRANCE', 'DOUIYEB', 'THE NETHERLANDS', 'SCARTH', 'A.P.', 'DI MAURO', 'RIERA BLUME AND OTHERS', 'SPAIN']\n"
     ]
    }
   ],
   "source": [
    "# Task 1.4\n",
    "cases2000 = read_json_file('/src/data/JUS5080/cases-2000.json')\n",
    "# Takes cases as an argument, returns a dictionary of years ('decisiondate') and parties that year\n",
    "def get_parties_by_year(cases):\n",
    "    year_parties = {}\n",
    "    for case in cases:\n",
    "        # judgementdate format: 18/07/2017 00:00:00 (and we only want the year)\n",
    "        judgementdate = case['judgementdate']\n",
    "        date = judgementdate.split(' ')[0]\n",
    "        year = date.split('/')[2]\n",
    "        parties = case['parties']\n",
    "        if year in year_parties:\n",
    "            for party in parties:\n",
    "                if party not in year_parties[year]:\n",
    "                    year_parties[year].append(party)\n",
    "        else:\n",
    "            year_parties[year] = parties\n",
    "    return year_parties\n",
    "parties_by_year = get_parties_by_year(cases2000)\n",
    "print(parties_by_year['1999'])"
   ]
  },
  {
   "cell_type": "code",
   "execution_count": 5,
   "metadata": {
    "trusted": true
   },
   "outputs": [],
   "source": [
    "# Task 1.5\n",
    "# Returns a list of the names that only appear as presidents, not judges. Prints the length of the list before returning it. \n",
    "def get_presidents_not_judges(cases):\n",
    "    all_presidents = []\n",
    "    all_judges = []\n",
    "    presidents_not_judges = []\n",
    "    for case in cases:\n",
    "        for person in case['decision_body']:\n",
    "            if 'role' in person: # Some decision bodies only have names\n",
    "                role = person['role']\n",
    "                name = person['name']\n",
    "                if role == 'president':\n",
    "                    if name not in all_presidents:\n",
    "                        all_presidents.append(name)\n",
    "                elif role == 'judges':\n",
    "                    if name not in all_judges:\n",
    "                        all_judges.append(name)\n",
    "    for president in all_presidents:\n",
    "        if president not in all_judges:\n",
    "            presidents_not_judges.append(president)\n",
    "    print(len(presidents_not_judges))\n",
    "    return presidents_not_judges"
   ]
  }
 ],
 "metadata": {
  "kernelspec": {
   "display_name": "Python 3 (ipykernel)",
   "language": "python",
   "name": "python3"
  },
  "language_info": {
   "codemirror_mode": {
    "name": "ipython",
    "version": 3
   },
   "file_extension": ".py",
   "mimetype": "text/x-python",
   "name": "python",
   "nbconvert_exporter": "python",
   "pygments_lexer": "ipython3",
   "version": "3.10.5"
  }
 },
 "nbformat": 4,
 "nbformat_minor": 5
}
