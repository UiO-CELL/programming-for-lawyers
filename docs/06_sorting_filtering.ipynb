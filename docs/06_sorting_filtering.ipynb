{
 "cells": [
  {
   "cell_type": "markdown",
   "id": "86ba8402-3fe9-44c3-84a8-695bf04a9d57",
   "metadata": {},
   "source": [
    "# Sorting and Filtering Data\n",
    "\n",
    "There are some operations we will frequently need when working with data sets.\n",
    "*Sorting* data is useful both for increasing the readability or accessibility and for highlighting certain aspects of the data.\n",
    "*Filtering* data is useful for removing irrelevant data and is especially important with large data sets."
   ]
  },
  {
   "cell_type": "markdown",
   "id": "31a9ebf9-efdb-41b2-abc6-8c2a776b19c2",
   "metadata": {},
   "source": [
    "## Sorting Data\n",
    "\n",
    "When presenting data to the user, sorting data by the right key/property can be important.\n",
    "For example, if you're looking for a court decision by date, a list ordered by title isn't helpful.\n",
    "\n",
    "We can sort lists in two ways.\n",
    "Firstly, we can make a new, sorted list, while also keeping the old one."
   ]
  },
  {
   "cell_type": "code",
   "execution_count": null,
   "id": "4b95d561-be7b-415d-bf07-41b501671c8a",
   "metadata": {},
   "outputs": [],
   "source": [
    "judges = ['Síofra O’Leary, President', 'Mārtiņš Mits', 'Stéphanie Mourou-Vikström', 'Lətif Hüseynov', 'Jovan Ilievski', 'Ivana Jelić', 'Anne Grøstad, ad hoc judge', 'Victor Soloveytchik, Section Registrar']"
   ]
  },
  {
   "cell_type": "code",
   "execution_count": null,
   "id": "2a9530b0-e5e9-4f64-bdde-806741d3d86a",
   "metadata": {},
   "outputs": [],
   "source": [
    "judges_sorted = sorted(judges)\n",
    "print(judges_sorted)"
   ]
  },
  {
   "cell_type": "markdown",
   "id": "05eb297f-812a-4442-9774-a31229d569f7",
   "metadata": {},
   "source": [
    "Secondly, if we don’t need the original list, it’s more efficient to sort the existing list in place:"
   ]
  },
  {
   "cell_type": "code",
   "execution_count": null,
   "id": "83fc3b8d-d820-4bb8-87a9-4c2721eb9b96",
   "metadata": {},
   "outputs": [],
   "source": [
    "print(judges)\n",
    "judges.sort()\n",
    "print(judges)"
   ]
  }
 ],
 "metadata": {
  "kernelspec": {
   "display_name": "Python 3",
   "language": "python",
   "name": "python3"
  },
  "language_info": {
   "codemirror_mode": {
    "name": "ipython",
    "version": 3
   },
   "file_extension": ".py",
   "mimetype": "text/x-python",
   "name": "python",
   "nbconvert_exporter": "python",
   "pygments_lexer": "ipython3",
   "version": "3.8.10"
  }
 },
 "nbformat": 4,
 "nbformat_minor": 5
}
