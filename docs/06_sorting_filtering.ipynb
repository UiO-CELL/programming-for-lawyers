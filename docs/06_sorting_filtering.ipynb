{
 "cells": [
  {
   "cell_type": "markdown",
   "id": "86ba8402-3fe9-44c3-84a8-695bf04a9d57",
   "metadata": {},
   "source": [
    "# Sorting and Filtering Data\n",
    "\n",
    "There are some operations we will frequently need when working with data sets.\n",
    "*Sorting* data is useful both for increasing the readability or accessibility and for highlighting certain aspects of the data.\n",
    "*Filtering* data is useful for removing irrelevant data and is especially important with large data sets."
   ]
  },
  {
   "cell_type": "markdown",
   "id": "31a9ebf9-efdb-41b2-abc6-8c2a776b19c2",
   "metadata": {},
   "source": [
    "## Sorting Data\n",
    "\n",
    "When presenting data to the user, sorting data by the right key/property can be important.\n",
    "For example, if you're looking for a court decision by date, a list ordered by title isn't helpful.\n",
    "\n",
    "We can sort lists in two ways.\n",
    "Firstly, we can make a new, sorted list, while also keeping the old one."
   ]
  },
  {
   "cell_type": "code",
   "execution_count": null,
   "id": "4b95d561-be7b-415d-bf07-41b501671c8a",
   "metadata": {},
   "outputs": [],
   "source": [
    "judges = ['Síofra O’Leary, President', 'Mārtiņš Mits', 'Stéphanie Mourou-Vikström', 'Lətif Hüseynov',\n",
    "          'Jovan Ilievski', 'Ivana Jelić', 'Anne Grøstad, ad hoc judge', 'Victor Soloveytchik, Section Registrar']"
   ]
  },
  {
   "cell_type": "code",
   "execution_count": null,
   "id": "2a9530b0-e5e9-4f64-bdde-806741d3d86a",
   "metadata": {},
   "outputs": [],
   "source": [
    "judges_sorted = sorted(judges)\n",
    "print(judges_sorted)"
   ]
  },
  {
   "cell_type": "markdown",
   "id": "05eb297f-812a-4442-9774-a31229d569f7",
   "metadata": {},
   "source": [
    "Secondly, if we don’t need the original list, it’s more efficient to sort the existing list in place:"
   ]
  },
  {
   "cell_type": "code",
   "execution_count": null,
   "id": "83fc3b8d-d820-4bb8-87a9-4c2721eb9b96",
   "metadata": {},
   "outputs": [],
   "source": [
    "print(judges)\n",
    "judges.sort()\n",
    "print(judges)"
   ]
  },
  {
   "cell_type": "markdown",
   "id": "e954ce7b-d53b-44a4-90ac-ab7ffc1cabc2",
   "metadata": {},
   "source": [
    "## Filtering Data\n",
    "\n",
    "Let's say we want to make a list of only the ad hoc judges. We can do that by iterating over the list:"
   ]
  },
  {
   "cell_type": "code",
   "execution_count": null,
   "id": "e6741f98-b266-45aa-b0ab-427caca22d87",
   "metadata": {},
   "outputs": [],
   "source": [
    "adhoc_judges = []\n",
    "\n",
    "for judge in judges:\n",
    "    if 'ad hoc' in judge:\n",
    "        adhoc_judges.append(judge)\n",
    "\n",
    "print(adhoc_judges)"
   ]
  },
  {
   "cell_type": "markdown",
   "id": "0871c317-76d5-495c-bc8a-efe07f4451e0",
   "metadata": {},
   "source": [
    "This works, but can be written shorter and simpler with a *list comprehension*."
   ]
  },
  {
   "cell_type": "code",
   "execution_count": null,
   "id": "39bf5f37-2f53-4bc7-9276-f8f2135f3236",
   "metadata": {},
   "outputs": [],
   "source": [
    "adhoc_judges = [judge for judge in judges if 'ad hoc' in judge]\n",
    "print(adhoc_judges)"
   ]
  },
  {
   "cell_type": "markdown",
   "id": "f7bf83d5-5eed-462b-aff4-5b8a8812532e",
   "metadata": {},
   "source": [
    "## Modifying Data\n",
    "\n",
    "We can also use list comprehensions to modify each item in a list.\n",
    "For example, we can remove the titles from the list of judges.\n",
    "We split on the comma and use element 0 from the result."
   ]
  },
  {
   "cell_type": "code",
   "execution_count": null,
   "id": "b0b1ab33-f61a-4675-8b42-0bee82867166",
   "metadata": {},
   "outputs": [],
   "source": [
    "judges = [judge.split(',')[0] for judge in judges]\n",
    "print(judges)"
   ]
  },
  {
   "cell_type": "markdown",
   "id": "2f4b65fb-f19c-4d3b-8921-3a6ec5cbe9b2",
   "metadata": {},
   "source": [
    "## Sets — Avoiding Duplicates\n",
    "\n",
    "Let's say we want to collect a list of all the judges that appear in a collection of cases.\n",
    "We could do it like this:"
   ]
  },
  {
   "cell_type": "code",
   "execution_count": null,
   "id": "ccbb4f63-f57d-4310-89bc-260c531e3487",
   "metadata": {},
   "outputs": [],
   "source": [
    "import json\n",
    "\n",
    "def read_json_file(filename):\n",
    "    with open(filename, 'r') as file:\n",
    "        text_data = file.read()\n",
    "        json_data = json.loads(text_data)\n",
    "        return json_data\n",
    "\n",
    "cases = read_json_file('cases-5.json')"
   ]
  },
  {
   "cell_type": "code",
   "execution_count": null,
   "id": "8c9a62e9-7a4a-45ff-9585-0b7ca10a4716",
   "metadata": {},
   "outputs": [],
   "source": [
    "all_judges = []\n",
    "\n",
    "for case in cases:\n",
    "    for judge in case['decision_body']:\n",
    "        all_judges.append(judge['name'])\n",
    "print(all_judges)"
   ]
  },
  {
   "cell_type": "markdown",
   "id": "2a6a3b1f-4949-44eb-989a-620af907898e",
   "metadata": {},
   "source": [
    "Unfortunately, we get duplicates because the same judges appear in different cases.\n",
    "We need to remove these duplicates.\n",
    "The simplest way is to use `set()` instead of a list, because sets only store each item once."
   ]
  },
  {
   "cell_type": "code",
   "execution_count": null,
   "id": "d69429d1-3c8d-41f2-91dd-cd9a8ddbaeb1",
   "metadata": {},
   "outputs": [],
   "source": [
    "all_judges = set()\n",
    "\n",
    "for case in cases:\n",
    "    for judge in case['decision_body']:\n",
    "        all_judges.add(judge['name'])\n",
    "print(all_judges)"
   ]
  },
  {
   "cell_type": "markdown",
   "id": "14e950ff-46d1-40c8-b367-85bdc390261e",
   "metadata": {},
   "source": [
    "## Sorting by a key\n",
    "Let's say we want to order our cases by certain properties, for example their title and date.\n",
    "First, we make a list that contains the titles (docnames) and dates as pairs.\n",
    "We can do this with a list comprehension."
   ]
  },
  {
   "cell_type": "code",
   "execution_count": null,
   "id": "1c4aa56f-6b9d-4e66-9df8-c6bda296e9e7",
   "metadata": {},
   "outputs": [],
   "source": [
    "cases_by_date = [(case['docname'], case['judgementdate']) for case in cases]"
   ]
  },
  {
   "cell_type": "markdown",
   "id": "55fe5ae7-6251-421f-997d-f0d13982b1b7",
   "metadata": {},
   "source": [
    "Now, we can give a *key* as argument to `sorted()`.\n",
    "We can use the method `itemgetter()` to get the element at a given index."
   ]
  },
  {
   "cell_type": "code",
   "execution_count": null,
   "id": "3eed612a-a512-479b-b851-2371aa09c008",
   "metadata": {},
   "outputs": [],
   "source": [
    "from operator import itemgetter\n",
    "cases_by_date = sorted(cases_by_date, key=itemgetter(0))\n",
    "print(cases_by_date)"
   ]
  },
  {
   "cell_type": "markdown",
   "id": "bcdd538e-d8bc-4428-b98b-43d96b0c0e17",
   "metadata": {},
   "source": [
    "Alternatively, we can use a *lambda expression*.\n",
    "A lambda expression is a compact way of defining a new function."
   ]
  },
  {
   "cell_type": "code",
   "execution_count": null,
   "id": "7d070754-2f18-45a6-858b-f704d858f354",
   "metadata": {},
   "outputs": [],
   "source": [
    "cases_by_date = sorted(cases_by_date, key=lambda pair: pair[0])\n",
    "print(cases_by_date)"
   ]
  },
  {
   "cell_type": "markdown",
   "id": "098ec8a9-ec0c-4987-90fb-32bb6c761c86",
   "metadata": {},
   "source": [
    "If we want to sort by date, we must use the element with index 1."
   ]
  },
  {
   "cell_type": "code",
   "execution_count": null,
   "id": "058cca1f-6a0b-4fb0-86f7-79c82dd2678e",
   "metadata": {},
   "outputs": [],
   "source": [
    "cases_by_date = sorted(cases_by_date, key=lambda pair: pair[1])\n",
    "print(cases_by_date)"
   ]
  },
  {
   "cell_type": "markdown",
   "id": "0a555a57-067a-4e94-b600-d129f26bca4d",
   "metadata": {},
   "source": [
    "Unfortunately, Python sorts the dates by lexicographic order.\n",
    "We will need to convert the textual date to an object that Python understands.\n",
    "\n",
    "We can do this with the Python library function `datetime.strptime()`.\n",
    "This function takes a parameter that specifies the data format, which looks a bit messy."
   ]
  },
  {
   "cell_type": "code",
   "execution_count": null,
   "id": "f0ee908c-3db5-4f7d-9241-d2286718117f",
   "metadata": {},
   "outputs": [],
   "source": [
    "from datetime import datetime\n",
    "cases_by_date = sorted(cases_by_date,\n",
    "                       key=lambda pair: datetime.strptime(pair[1], '%d/%m/%Y %H:%M:%S'))\n",
    "print(cases_by_date)"
   ]
  }
 ],
 "metadata": {
  "kernelspec": {
   "display_name": "Python 3",
   "language": "python",
   "name": "python3"
  },
  "language_info": {
   "codemirror_mode": {
    "name": "ipython",
    "version": 3
   },
   "file_extension": ".py",
   "mimetype": "text/x-python",
   "name": "python",
   "nbconvert_exporter": "python",
   "pygments_lexer": "ipython3",
   "version": "3.8.10"
  }
 },
 "nbformat": 4,
 "nbformat_minor": 5
}
