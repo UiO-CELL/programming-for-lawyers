{
 "cells": [
  {
   "cell_type": "markdown",
   "id": "8e2c4f12",
   "metadata": {},
   "source": [
    "# Programming basics\n",
    "\n",
    "Programming is a way of telling the computer what to do.\n",
    "Computer programs are a kind of recipe, like cooking or knitting recipes.\n",
    "However, cooking recipes can sometimes be vague or imprecise. For example, an instruction could be \"add 4-5 eggs\" \tor \"bake for 25-30 minutes till done\".\n",
    "Because humans have discretion, we can make sense of such vague instructions.\n",
    "Unfortunately, computers don't have discretion.\n",
    "Therefore, computer programs must be both precise and correct.\n",
    "\n",
    "## Using Python as a Calculator\n",
    "\n",
    "One simple use of python is as a calculator. We can use the four arithmetic operations: `+ - * /`. Multiplication is done with the asterisk `*`, and division with the slash `/`.\n"
   ]
  },
  {
   "cell_type": "code",
   "execution_count": 1,
   "id": "bdab0541",
   "metadata": {},
   "outputs": [
    {
     "data": {
      "text/plain": [
       "2.5"
      ]
     },
     "execution_count": 1,
     "metadata": {},
     "output_type": "execute_result"
    }
   ],
   "source": [
    "2 + 3\n",
    "1 - 2\n",
    "3 * 4\n",
    "5 / 2"
   ]
  },
  {
   "cell_type": "markdown",
   "id": "786ba8a5",
   "metadata": {},
   "source": [
    "For more complicated expressions, we can use parenthesizes. "
   ]
  },
  {
   "cell_type": "code",
   "execution_count": 2,
   "id": "0d402393",
   "metadata": {},
   "outputs": [
    {
     "data": {
      "text/plain": [
       "21"
      ]
     },
     "execution_count": 2,
     "metadata": {},
     "output_type": "execute_result"
    }
   ],
   "source": [
    "3 * (2 + 5)"
   ]
  },
  {
   "cell_type": "markdown",
   "id": "d08a44cd",
   "metadata": {},
   "source": [
    "## Printing to the Screen (Terminal)\n",
    "\n",
    "Jupyter Notebook only displays the value of the final *statement* in a cell.\n",
    "If you want to see the value of other statements, you need to print them to the screen.\n",
    "\n",
    "In Python, you can use the function print() to display things on the screen.\n",
    "Put the item(s) to be printed inside the parentheses."
   ]
  },
  {
   "cell_type": "code",
   "execution_count": 3,
   "id": "756d7c51",
   "metadata": {},
   "outputs": [
    {
     "name": "stdout",
     "output_type": "stream",
     "text": [
      "6\n",
      "0 1 2\n"
     ]
    }
   ],
   "source": [
    "print(3 * 2)\n",
    "print(0, 1, 2)"
   ]
  },
  {
   "cell_type": "markdown",
   "id": "48808130",
   "metadata": {},
   "source": [
    "We can also print text:"
   ]
  },
  {
   "cell_type": "code",
   "execution_count": 4,
   "id": "436fbf71",
   "metadata": {},
   "outputs": [
    {
     "name": "stdout",
     "output_type": "stream",
     "text": [
      "See you in court\n"
     ]
    }
   ],
   "source": [
    "print('See you in court')"
   ]
  },
  {
   "cell_type": "markdown",
   "id": "b69c3467",
   "metadata": {},
   "source": [
    "Text strings can be enclosed in single or double quotes, but you *must* use the same type of quote before and after the string:"
   ]
  },
  {
   "cell_type": "code",
   "execution_count": 5,
   "id": "f1a44783",
   "metadata": {},
   "outputs": [
    {
     "name": "stdout",
     "output_type": "stream",
     "text": [
      "See you in court\n"
     ]
    }
   ],
   "source": [
    "print(\"See you in court\")"
   ]
  },
  {
   "cell_type": "markdown",
   "id": "7b084d59",
   "metadata": {},
   "source": [
    "## Variables\n",
    "\n",
    "In the examples above, the computer \"forgets\" the information as soon as it has been printed. We need some way to store information in our program. This is what variables are for. Variables are like handles we use to retrieve information.\n",
    "\n",
    "In Python, variables can be *defined* or *assigned* a value as shown in the code below."
   ]
  },
  {
   "cell_type": "code",
   "execution_count": 6,
   "id": "d1967a06",
   "metadata": {},
   "outputs": [
    {
     "name": "stdout",
     "output_type": "stream",
     "text": [
      "20\n"
     ]
    }
   ],
   "source": [
    "count = 0\n",
    "count = 20\n",
    "print(count)"
   ]
  },
  {
   "cell_type": "markdown",
   "id": "a76f3b8d",
   "metadata": {},
   "source": [
    "The `=` in Python does not mean equality as in mathematics, but is an assignment where the value or *expression* on the right hand side is stored in the variable on the left side.\n",
    "\n",
    "We can see this when we increase the count. No variable can be equal to itself plus something:"
   ]
  },
  {
   "cell_type": "code",
   "execution_count": 7,
   "id": "dafd66bf",
   "metadata": {},
   "outputs": [],
   "source": [
    "count = count + 1"
   ]
  },
  {
   "cell_type": "markdown",
   "id": "bfa83595-3a44-4959-a2e0-26419a28bece",
   "metadata": {},
   "source": [
    "```{admonition} Variable Names\n",
    "It's important to choose good variable names.\n",
    "The names are meant to be read and understood by people,\n",
    "whether it's a colleague or yourself in a couple of months.\n",
    "Make *descriptive* variable names, that are neither too short or nor too long.\n",
    "\n",
    "Variable names can contain:\n",
    "- all letters in the *English* alphabet.\n",
    "- *underscore*: _\n",
    "- numbers, but a variable name cannot *start* with a number\n",
    "\n",
    "This is a valid, but perhaps too long variable name:\n",
    "\n",
    "`name_of_defendant_01 = 'John Smith'`\n",
    "```"
   ]
  },
  {
   "cell_type": "markdown",
   "id": "5552c9b1",
   "metadata": {},
   "source": [
    "## Variables are Independent\n",
    "\n",
    "Python variables are *independent* of each other.\n",
    "Let's define two variables. Alice is 20 years old, and her classmate Bob is the same age:"
   ]
  },
  {
   "cell_type": "code",
   "execution_count": 8,
   "id": "260da4c6",
   "metadata": {},
   "outputs": [],
   "source": [
    "alice_age = 20\n",
    "bob_age = alice_age"
   ]
  },
  {
   "cell_type": "markdown",
   "id": "4db05a01",
   "metadata": {},
   "source": [
    "Then it's Alice's birthday. Now, what's the value of bob_age?"
   ]
  },
  {
   "cell_type": "code",
   "execution_count": 9,
   "id": "fc99790b",
   "metadata": {},
   "outputs": [
    {
     "name": "stdout",
     "output_type": "stream",
     "text": [
      "20\n"
     ]
    }
   ],
   "source": [
    "alice_age = 21\n",
    "print(bob_age)"
   ]
  },
  {
   "cell_type": "markdown",
   "id": "9a89d3cb",
   "metadata": {},
   "source": [
    "The result is 20, `bob_age` hasn't changed even though `alice_age` did.\n",
    "\n",
    "The variable `bob_age` is independent from `alice_age`, even though it was initially assigned the value from `alice_age`.\n",
    "This is just the way variables are defined in Python. It would be perfectly fine to have another kind of variable where the two variables are connected, but this is not how standard python variables work."
   ]
  },
  {
   "cell_type": "markdown",
   "id": "8820d7b0",
   "metadata": {},
   "source": [
    "## Statements and Expressions\n",
    "\n",
    "A *statement* tells Python to do something, while an *expression* has a value, for example a number.\n",
    "A statement is often a line of code, but long statements can span multiple lines.\n",
    "This line is a single statement that contains two expressions:"
   ]
  },
  {
   "cell_type": "code",
   "execution_count": 10,
   "id": "22cccd75",
   "metadata": {},
   "outputs": [
    {
     "name": "stdout",
     "output_type": "stream",
     "text": [
      "20 42\n"
     ]
    }
   ],
   "source": [
    "print(bob_age, 14 * 3)"
   ]
  },
  {
   "cell_type": "markdown",
   "id": "8e631da6",
   "metadata": {},
   "source": [
    "## Data Types\n",
    "\n",
    "Python has three basic *data types* which are sometimes called *variable types*:\n",
    "- `str`, short for string, is for text\n",
    "- `int`, short for integer, are whole numbers\n",
    "- `float` is for decimal numbers, which are also known as *floating-point numbers*\n",
    "\n",
    "We can use the function `type()` to get the type of an item:"
   ]
  },
  {
   "cell_type": "code",
   "execution_count": 11,
   "id": "9041dd76",
   "metadata": {},
   "outputs": [
    {
     "name": "stdout",
     "output_type": "stream",
     "text": [
      "<class 'str'>\n",
      "<class 'int'>\n",
      "<class 'float'>\n"
     ]
    }
   ],
   "source": [
    "print(type('hi'))\n",
    "print(type(2))\n",
    "print(type(2.0))"
   ]
  },
  {
   "cell_type": "markdown",
   "id": "3499eae6",
   "metadata": {},
   "source": [
    "## Commenting Code\n",
    "\n",
    "Comments can make your code easier to understand.\n",
    "You can use a `#` character to start a single line comment. \n",
    "To write a comment consisting of multiple lines, you use three\n",
    "quotes `'''` before and after the comment."
   ]
  },
  {
   "cell_type": "code",
   "execution_count": 12,
   "id": "b0515531",
   "metadata": {
    "tags": [
     "remove-output"
    ]
   },
   "outputs": [
    {
     "data": {
      "text/plain": [
       "'\\nYou can also write a comment spanning multiple lines.\\nThis is useful for documentation.\\n\\nThese comments are enclosed in three single quotes.\\n'"
      ]
     },
     "execution_count": 12,
     "metadata": {},
     "output_type": "execute_result"
    }
   ],
   "source": [
    "# This is a comment\n",
    "\n",
    "defendant_name = 'John Doe' # This is an end of line comment\n",
    "\n",
    "'''\n",
    "You can also write a comment spanning multiple lines.\n",
    "This is useful for documentation.\n",
    "\n",
    "These comments are enclosed in three single quotes.\n",
    "'''"
   ]
  },
  {
   "cell_type": "markdown",
   "id": "a5c2873f",
   "metadata": {},
   "source": [
    "## Calling Functions and Methods\n",
    "\n",
    "There are two types of functions in Python: regular functions and object methods that are tied to a data object."
   ]
  },
  {
   "cell_type": "markdown",
   "id": "c95926c0",
   "metadata": {},
   "source": [
    "###  Calling Regular Functions\n",
    "\n",
    "Python has a number of built-in functions that we can use. When we use the function, we say that we are *calling* it.\n",
    "\n",
    "For example, we can get the length of a string with the function `len()`:"
   ]
  },
  {
   "cell_type": "code",
   "execution_count": 13,
   "id": "1898c7ef",
   "metadata": {},
   "outputs": [
    {
     "name": "stdout",
     "output_type": "stream",
     "text": [
      "17\n"
     ]
    }
   ],
   "source": [
    "length = len('See you in court!')\n",
    "print(length)"
   ]
  },
  {
   "cell_type": "markdown",
   "id": "185aff4a",
   "metadata": {},
   "source": [
    "The items within the parenthesis are called the parameters of the function.\n",
    "Functions can have zero or more parameters. We have used the `print()` function with multiple parameters:"
   ]
  },
  {
   "cell_type": "code",
   "execution_count": 14,
   "id": "73a5b651",
   "metadata": {},
   "outputs": [
    {
     "name": "stdout",
     "output_type": "stream",
     "text": [
      "Length of the string: 17\n"
     ]
    }
   ],
   "source": [
    "print('Length of the string:', length)"
   ]
  },
  {
   "cell_type": "markdown",
   "id": "1cec8e1e",
   "metadata": {},
   "source": [
    "### Calling Methods\n",
    "\n",
    "Strings are a kind of *objects* in Python. Objects are a collection of data and functions that are grouped together. Functions that belong to an object are called *methods*.\n",
    "We can use methods belonging to string objects.\n",
    "\n",
    "`<string>.upper()` returns the string in uppercase. `<string>` is a placeholder for the name of a string variable."
   ]
  },
  {
   "cell_type": "code",
   "execution_count": 15,
   "id": "58824aa8",
   "metadata": {},
   "outputs": [
    {
     "name": "stdout",
     "output_type": "stream",
     "text": [
      "JOHN DOE\n"
     ]
    }
   ],
   "source": [
    "defendant = 'John Doe'\n",
    "print(defendant.upper())"
   ]
  },
  {
   "cell_type": "markdown",
   "id": "41103798",
   "metadata": {},
   "source": [
    "`<string>.lower()` returns the string in lowercase.\n",
    "\n",
    "`<string>.replace(old, new)` replaces all occurrences of the substring `old` with the string `new`:"
   ]
  },
  {
   "cell_type": "code",
   "execution_count": 16,
   "id": "a36c0741",
   "metadata": {},
   "outputs": [
    {
     "name": "stdout",
     "output_type": "stream",
     "text": [
      "John Smith\n"
     ]
    }
   ],
   "source": [
    "print(defendant.replace('Doe', 'Smith'))"
   ]
  },
  {
   "cell_type": "markdown",
   "id": "97f624dc",
   "metadata": {},
   "source": [
    "## Getting input from the user\n",
    "\n",
    "Python has the built-in function `input(prompt)` to ask the user for input.\n",
    "The parameter `prompt` is a string that will be displayed to the user.\n"
   ]
  },
  {
   "cell_type": "code",
   "execution_count": 17,
   "id": "91914eeb",
   "metadata": {},
   "outputs": [
    {
     "name": "stdin",
     "output_type": "stream",
     "text": [
      "Client name:  Scar\n"
     ]
    },
    {
     "name": "stdout",
     "output_type": "stream",
     "text": [
      "New client: Scar\n"
     ]
    }
   ],
   "source": [
    "client_name = input(\"Client name: \")\n",
    "print('New client:', client_name)"
   ]
  },
  {
   "cell_type": "markdown",
   "id": "e6ee8e91",
   "metadata": {},
   "source": [
    "```{warning}\n",
    "Python does not stop you from using the name of a built-in function as a variable name. But if you do that, the function will no longer work, because the name now refers to something else. Below, we try to assign a value to the variable `input`. This breaks the function `input()`.\n",
    "```"
   ]
  },
  {
   "cell_type": "code",
   "execution_count": 18,
   "id": "2e8924b0",
   "metadata": {
    "tags": [
     "hide-cell"
    ]
   },
   "outputs": [],
   "source": [
    "original_input = input # save built-in before we overwrite it "
   ]
  },
  {
   "cell_type": "code",
   "execution_count": 19,
   "id": "0964a790",
   "metadata": {},
   "outputs": [
    {
     "name": "stdin",
     "output_type": "stream",
     "text": [
      "Client name:  Scar\n"
     ]
    },
    {
     "name": "stdout",
     "output_type": "stream",
     "text": [
      "New client: Scar\n"
     ]
    },
    {
     "ename": "TypeError",
     "evalue": "'str' object is not callable",
     "output_type": "error",
     "traceback": [
      "\u001b[1;31m---------------------------------------------------------------------------\u001b[0m",
      "\u001b[1;31mTypeError\u001b[0m                                 Traceback (most recent call last)",
      "\u001b[1;32m<ipython-input-19-8c34c7349721>\u001b[0m in \u001b[0;36m<module>\u001b[1;34m\u001b[0m\n\u001b[0;32m      1\u001b[0m \u001b[0minput\u001b[0m \u001b[1;33m=\u001b[0m \u001b[0minput\u001b[0m\u001b[1;33m(\u001b[0m\u001b[1;34m\"Client name: \"\u001b[0m\u001b[1;33m)\u001b[0m \u001b[1;31m# DON'T do this, breaks the function input()\u001b[0m\u001b[1;33m\u001b[0m\u001b[1;33m\u001b[0m\u001b[0m\n\u001b[0;32m      2\u001b[0m \u001b[0mprint\u001b[0m\u001b[1;33m(\u001b[0m\u001b[1;34m'New client:'\u001b[0m\u001b[1;33m,\u001b[0m \u001b[0minput\u001b[0m\u001b[1;33m)\u001b[0m\u001b[1;33m\u001b[0m\u001b[1;33m\u001b[0m\u001b[0m\n\u001b[1;32m----> 3\u001b[1;33m \u001b[0minput2\u001b[0m \u001b[1;33m=\u001b[0m \u001b[0minput\u001b[0m\u001b[1;33m(\u001b[0m\u001b[1;34m\"Client address: \"\u001b[0m\u001b[1;33m)\u001b[0m\u001b[1;33m\u001b[0m\u001b[1;33m\u001b[0m\u001b[0m\n\u001b[0m",
      "\u001b[1;31mTypeError\u001b[0m: 'str' object is not callable"
     ]
    }
   ],
   "source": [
    "input = input(\"Client name: \") # DON'T do this, breaks the function input()\n",
    "print('New client:', input)\n",
    "input2 = input(\"Client address: \")"
   ]
  },
  {
   "cell_type": "code",
   "execution_count": 20,
   "id": "061406a7",
   "metadata": {
    "tags": [
     "hide-cell"
    ]
   },
   "outputs": [],
   "source": [
    "input = original_input # restore built-in input() function"
   ]
  },
  {
   "cell_type": "markdown",
   "id": "20a3eaf5",
   "metadata": {},
   "source": [
    "```{warning}\n",
    "When we execute a cell, Jupyter Notebook stores the variable it defines in the execution *kernel*.\n",
    "This means that even if we fix the code by changing the variable name from `input` to something else, our definition of input still exists. To erase the variable we must restart the kernel by clicking \"Kernel\" and \"Restart\" in the Jupyter Notebook menu.\n",
    "```"
   ]
  },
  {
   "cell_type": "markdown",
   "id": "9248401e-97c0-4b7d-a771-e5677cab8a17",
   "metadata": {},
   "source": [
    "## Converting between strings and numbers\n",
    "\n",
    "Sometimes we need to convert a string to a number (or vice versa).\n",
    "\n",
    "We can do this with the functions `int()`, `float()`, and  `str()`.\n",
    "For example, the function `input()` always returns a text string:"
   ]
  },
  {
   "cell_type": "code",
   "execution_count": 21,
   "id": "eeace581-4617-4516-8dd3-29a51baddd67",
   "metadata": {},
   "outputs": [
    {
     "name": "stdin",
     "output_type": "stream",
     "text": [
      "How old are you?  21\n"
     ]
    },
    {
     "name": "stdout",
     "output_type": "stream",
     "text": [
      "In 21 years, you will be 2121\n"
     ]
    }
   ],
   "source": [
    "age = input('How old are you? ')\n",
    "double_age = age * 2\n",
    "print('In', age, 'years, you will be', double_age)"
   ]
  },
  {
   "cell_type": "markdown",
   "id": "bf6a8ea0-2118-43a2-bbad-646c611f72fd",
   "metadata": {},
   "source": [
    "```{note}\n",
    "Notice that because `age` is a string, it gets repeated not multiplied.\n",
    "We need to convert it, and we can do so by chaining `int()` and `input()` on the same line.\n",
    "By converting the value immediately, there's no risk of using it before it's been converted.\n",
    "```"
   ]
  },
  {
   "cell_type": "code",
   "execution_count": 22,
   "id": "df399dae-cce9-4538-b573-fffca24148e8",
   "metadata": {},
   "outputs": [
    {
     "name": "stdin",
     "output_type": "stream",
     "text": [
      "How old are you?  21\n"
     ]
    },
    {
     "name": "stdout",
     "output_type": "stream",
     "text": [
      "In 21 years, you will be 42\n"
     ]
    }
   ],
   "source": [
    "age = int(input('How old are you? '))\n",
    "double_age = age * 2\n",
    "print('In', age, 'years, you will be', double_age)"
   ]
  },
  {
   "cell_type": "markdown",
   "id": "70036244-6947-4708-bf30-bdb47355a1a3",
   "metadata": {},
   "source": [
    "We can also convert between integers and floating-point numbers:"
   ]
  },
  {
   "cell_type": "code",
   "execution_count": 23,
   "id": "4baa845d-d881-422d-942d-113a5f1b3a03",
   "metadata": {},
   "outputs": [
    {
     "name": "stdout",
     "output_type": "stream",
     "text": [
      "3\n"
     ]
    }
   ],
   "source": [
    "age = 3.8\n",
    "print(int(age))"
   ]
  },
  {
   "cell_type": "markdown",
   "id": "39f6f06d-93fc-47d9-81c2-9c2a61023e17",
   "metadata": {},
   "source": [
    ":::{admonition} Rounding Errors\n",
    ":class: danger\n",
    "As we can see above, when converting from `float` to `int` the decimals are always rounded down, making 3.8 into 3.\n",
    "This will lead to rounding errors if numbers are converted incautiously.\n",
    "By normal math rules, 3.8 should be rounded up to 4.\n",
    "If you need correct rounding, you should use the `round()` function.\n",
    ":::"
   ]
  },
  {
   "cell_type": "markdown",
   "id": "084dc4d0",
   "metadata": {},
   "source": [
    "## Importing libraries and modules\n",
    "\n",
    "We have seen that Python has several built-in functions, for example `print()` and `input()`.\n",
    "Python also has a *standard library* that we can use. A *library* is a collection of code that we can use as building blocks in our programs. We can often find and download libraries written by other people to use in our programs. The Python standard library comes with Python, so we don't need to install it.\n",
    "\n",
    "The Python library is divided into *modules*. A module groups together related functions.\n",
    "We can use the `datetime` module to get the current date:"
   ]
  },
  {
   "cell_type": "code",
   "execution_count": 24,
   "id": "48e26e38-d4ea-4490-b9ce-2745f280c34b",
   "metadata": {},
   "outputs": [],
   "source": [
    "import datetime\n",
    "\n",
    "writ_of_summons_date = datetime.date.today()"
   ]
  },
  {
   "cell_type": "code",
   "execution_count": 25,
   "id": "3d1a55d1-0d0c-4f77-9f20-7f6d88ced3f5",
   "metadata": {},
   "outputs": [
    {
     "name": "stdout",
     "output_type": "stream",
     "text": [
      "In accordance with the Dispute Act Section 9-4(2)h), unless special\n",
      "circumstances necessitate it, the main hearing has to be set for a date\n",
      "less than six months after the date of submission of the writ of summons,\n",
      "which was submitted on 2021-08-28\n"
     ]
    }
   ],
   "source": [
    "print('''In accordance with the Dispute Act Section 9-4(2)h), unless special\n",
    "circumstances necessitate it, the main hearing has to be set for a date\n",
    "less than six months after the date of submission of the writ of summons,\n",
    "which was submitted on''', writ_of_summons_date)"
   ]
  },
  {
   "cell_type": "markdown",
   "id": "a784afef",
   "metadata": {},
   "source": [
    "We might use the imported function repeatedly.\n",
    "To save typing, we can import `date` directly.\n",
    "We can also import multiple things:"
   ]
  },
  {
   "cell_type": "code",
   "execution_count": 26,
   "id": "f9dc416f",
   "metadata": {},
   "outputs": [
    {
     "name": "stdout",
     "output_type": "stream",
     "text": [
      "2021-08-28\n"
     ]
    }
   ],
   "source": [
    "from datetime import date, timezone\n",
    "\n",
    "print(date.today())"
   ]
  },
  {
   "cell_type": "markdown",
   "id": "f8c4eef3",
   "metadata": {},
   "source": [
    "## String concatenation\n",
    "\n",
    "We saw above that we use the `+` operator to add numbers. We can also use `+` with strings to glue them together. This is called string *concatenation*."
   ]
  },
  {
   "cell_type": "code",
   "execution_count": 27,
   "id": "88c06334",
   "metadata": {},
   "outputs": [
    {
     "name": "stdout",
     "output_type": "stream",
     "text": [
      "JohnDoe\n"
     ]
    }
   ],
   "source": [
    "first_name = 'John'\n",
    "last_name = 'Doe'\n",
    "full_name = first_name + last_name\n",
    "print(full_name)"
   ]
  },
  {
   "cell_type": "markdown",
   "id": "7f4a2a40",
   "metadata": {},
   "source": [
    "```{note}\n",
    "Notice that the two strings are concatenated together without any space in-between.\n",
    "If we want a space, we must insert it ourselves:\n",
    "```"
   ]
  },
  {
   "cell_type": "code",
   "execution_count": 28,
   "id": "be11acaa",
   "metadata": {},
   "outputs": [
    {
     "name": "stdout",
     "output_type": "stream",
     "text": [
      "John Doe\n"
     ]
    }
   ],
   "source": [
    "full_name = first_name + ' ' + last_name\n",
    "print(full_name)"
   ]
  },
  {
   "cell_type": "markdown",
   "id": "1246c838",
   "metadata": {},
   "source": [
    "We can also use multiplication with strings. This will repeat the string:"
   ]
  },
  {
   "cell_type": "code",
   "execution_count": 29,
   "id": "cf8d2e21",
   "metadata": {},
   "outputs": [
    {
     "name": "stdout",
     "output_type": "stream",
     "text": [
      "See you in court, See you in court, See you in court, \n",
      "------------------------------------------------------------\n"
     ]
    }
   ],
   "source": [
    "print('See you in court, ' * 3)\n",
    "print('-' * 60)"
   ]
  },
  {
   "cell_type": "markdown",
   "id": "a08abb85-f01f-4e97-9fff-c7e105104ae1",
   "metadata": {},
   "source": [
    "## F-strings\n",
    "\n",
    "Concatenating just a couple of strings works well.\n",
    "But if we want to include multiple variables in a string, we will need many quotes and plus-signs (or commas), which can be easily misplaced.\n",
    "F-strings (formatted strings) is a simple way to include variables in a string:"
   ]
  },
  {
   "cell_type": "code",
   "execution_count": 30,
   "id": "4c9adbf5-6794-40ed-8730-b4b7627ec5aa",
   "metadata": {},
   "outputs": [
    {
     "name": "stdout",
     "output_type": "stream",
     "text": [
      "Client name: John Doe\n",
      "first name: John, last name: Doe\n"
     ]
    }
   ],
   "source": [
    "print(f'''Client name: {full_name}\n",
    "first name: {first_name}, last name: {last_name}''')"
   ]
  },
  {
   "cell_type": "markdown",
   "id": "c2c9f65e-f3f8-4470-bbe4-5b370ef11f58",
   "metadata": {},
   "source": [
    "For debugging, it can be useful to print the value of a variable along with its name.\n",
    "F-strings are a shortcut for this, notice the `=` at the end:"
   ]
  },
  {
   "cell_type": "code",
   "execution_count": 31,
   "id": "2839e0a1-f55a-4dfe-b26a-37cae68a27b2",
   "metadata": {},
   "outputs": [
    {
     "name": "stdout",
     "output_type": "stream",
     "text": [
      "full_name='John Doe'\n"
     ]
    }
   ],
   "source": [
    "print(f'{full_name=}')"
   ]
  },
  {
   "cell_type": "markdown",
   "id": "a8c3c1b5",
   "metadata": {},
   "source": [
    "## Characters\n",
    "\n",
    "Strings are made up of *Unicode* characters. We can get a single character by using an *index* in brackets:"
   ]
  },
  {
   "cell_type": "code",
   "execution_count": 32,
   "id": "9780d0fc",
   "metadata": {},
   "outputs": [
    {
     "name": "stdout",
     "output_type": "stream",
     "text": [
      "J\n"
     ]
    }
   ],
   "source": [
    "name = 'John Doe'\n",
    "print(name[0])"
   ]
  },
  {
   "cell_type": "markdown",
   "id": "a3fb7bef",
   "metadata": {},
   "source": [
    "```{note}\n",
    "The letter \"J\" has index zero.\n",
    "Python always starts counting from zero.\n",
    "```"
   ]
  },
  {
   "cell_type": "markdown",
   "id": "298d19a1",
   "metadata": {},
   "source": [
    "We can also count backwards from the end with negative indexes.\n",
    "Because 0 and -0 are the same numbers, the last character is -1:"
   ]
  },
  {
   "cell_type": "code",
   "execution_count": 33,
   "id": "86a6d9de",
   "metadata": {},
   "outputs": [
    {
     "name": "stdout",
     "output_type": "stream",
     "text": [
      "e\n"
     ]
    }
   ],
   "source": [
    "name = 'John Doe'\n",
    "print(name[-1])"
   ]
  }
 ],
 "metadata": {
  "celltoolbar": "Tags",
  "kernelspec": {
   "display_name": "Python 3 (ipykernel)",
   "language": "python",
   "name": "python3"
  },
  "language_info": {
   "codemirror_mode": {
    "name": "ipython",
    "version": 3
   },
   "file_extension": ".py",
   "mimetype": "text/x-python",
   "name": "python",
   "nbconvert_exporter": "python",
   "pygments_lexer": "ipython3",
   "version": "3.9.12"
  }
 },
 "nbformat": 4,
 "nbformat_minor": 5
}
