{
 "cells": [
  {
   "cell_type": "markdown",
   "id": "8e2c4f12",
   "metadata": {},
   "source": [
    "# Programming basics\n",
    "\n",
    "Programming is a way of telling the computer what to do.\n",
    "Computer programs are a kind of recipe, like cooking or knitting recipes.\n",
    "However, cooking recipes can sometimes be vague or imprecise. For example, an instruction could be \"add 4-5 eggs\" \tor \"bake for 25-30 minutes till done\".\n",
    "Because humans have discretion, we can make sense of such vague instructions.\n",
    "Unfortunately, computers don't have discretion.\n",
    "Therefore, computer programs must be both precise and correct.\n",
    "\n",
    "## Using Python as a Calculator\n",
    "\n",
    "One simple use of python is as a calculator. We can use the four arithmetic operations: `+ - * /`. Multiplication is done with the asterisk `*`, and division with the slash `/`.\n"
   ]
  },
  {
   "cell_type": "code",
   "execution_count": null,
   "id": "bdab0541",
   "metadata": {},
   "outputs": [],
   "source": [
    "2 + 3\n",
    "1 - 2\n",
    "3 * 4\n",
    "5 / 2"
   ]
  },
  {
   "cell_type": "markdown",
   "id": "786ba8a5",
   "metadata": {},
   "source": [
    "For more complicated expressions, we can use parenthesizes. "
   ]
  },
  {
   "cell_type": "code",
   "execution_count": null,
   "id": "0d402393",
   "metadata": {},
   "outputs": [],
   "source": [
    "3 * (2 + 5)"
   ]
  },
  {
   "cell_type": "markdown",
   "id": "d08a44cd",
   "metadata": {},
   "source": [
    "## Printing to the Screen (Terminal)\n",
    "\n",
    "Jupyter Notebook only displays the value of the final statement in a cell. If you want to see the value of other statements, you need to print them to the screen.\n",
    "\n",
    "In Python, you can use the function print() to display things on the screen. Put the item(s) to be printed inside the parentheses."
   ]
  },
  {
   "cell_type": "code",
   "execution_count": null,
   "id": "756d7c51",
   "metadata": {},
   "outputs": [],
   "source": [
    "print(3 * 2)\n",
    "print(0, 1, 2)"
   ]
  },
  {
   "cell_type": "markdown",
   "id": "48808130",
   "metadata": {},
   "source": [
    "We can also print text:"
   ]
  },
  {
   "cell_type": "code",
   "execution_count": null,
   "id": "436fbf71",
   "metadata": {},
   "outputs": [],
   "source": [
    "print('Hello world')"
   ]
  },
  {
   "cell_type": "markdown",
   "id": "b69c3467",
   "metadata": {},
   "source": [
    "Text strings can be enclosed in single or double quotes, but you *must* use the same type of quote before and after the string:"
   ]
  },
  {
   "cell_type": "code",
   "execution_count": null,
   "id": "f1a44783",
   "metadata": {},
   "outputs": [],
   "source": [
    "print(\"Hello world\")"
   ]
  },
  {
   "cell_type": "markdown",
   "id": "7b084d59",
   "metadata": {},
   "source": [
    "## Variables\n",
    "\n",
    "In the examples above, the computer \"forgets\" the information as soon as it has been printed. We need some way to store information in our program. This is what variables are for. Variables are like handles we use to retrieve information.\n",
    "\n",
    "In Python, variables can be *defined* or *assigned* a value as shown in the code below."
   ]
  },
  {
   "cell_type": "code",
   "execution_count": null,
   "id": "d1967a06",
   "metadata": {},
   "outputs": [],
   "source": [
    "count = 0\n",
    "count = 20\n",
    "print(count)"
   ]
  },
  {
   "cell_type": "markdown",
   "id": "a76f3b8d",
   "metadata": {},
   "source": [
    "The `=` in Python does not mean equality as in mathematics, but is an assignment where the value or *expression* on the right hand side is stored in the variable on the left side.\n",
    "\n",
    "We can see this when we increase the count. No variable can be equal to itself plus something:"
   ]
  },
  {
   "cell_type": "code",
   "execution_count": null,
   "id": "dafd66bf",
   "metadata": {},
   "outputs": [],
   "source": [
    "count = count + 1"
   ]
  },
  {
   "cell_type": "markdown",
   "id": "7d8e7e68",
   "metadata": {},
   "source": [
    "### Variable names\n",
    "\n",
    "It's important to choose good variable names. The names are meant to be read and understood by people, whether it's a colleague or yourself in a couple of months. Make *descriptive* variable names, that are neither too short or nor too long.\n",
    "\n",
    "Variable names can contain:\n",
    "- all letters, both uppercase and lowercase, found in the **English alphabet**.\n",
    "- **underscore**: _\n",
    "- numbers, but **a number cannot be the first character of the name**\n",
    "\n",
    "This is a valid, but perhaps too long variable name:"
   ]
  },
  {
   "cell_type": "code",
   "execution_count": null,
   "id": "4ec5394e",
   "metadata": {},
   "outputs": [],
   "source": [
    "name_of_defendant_01 = 'John Smith'"
   ]
  },
  {
   "cell_type": "markdown",
   "id": "5552c9b1",
   "metadata": {},
   "source": [
    "## Variables are Independent\n",
    "\n",
    "Python variables are *independent* of each other.\n",
    "Let's define two variables. Alice is 20 years old, and her classmate Bob is the same age:"
   ]
  },
  {
   "cell_type": "code",
   "execution_count": null,
   "id": "260da4c6",
   "metadata": {},
   "outputs": [],
   "source": [
    "alice_age = 20\n",
    "bob_age = alice_age"
   ]
  },
  {
   "cell_type": "markdown",
   "id": "4db05a01",
   "metadata": {},
   "source": [
    "Then it's Alice's birthday. Now, what's the value of bob_age?"
   ]
  },
  {
   "cell_type": "code",
   "execution_count": null,
   "id": "fc99790b",
   "metadata": {},
   "outputs": [],
   "source": [
    "alice_age = 21\n",
    "print(bob_age)"
   ]
  },
  {
   "cell_type": "markdown",
   "id": "9a89d3cb",
   "metadata": {},
   "source": [
    "The result is 20, `bob_age` hasn't changed even though `alice_age` did.\n",
    "\n",
    "The variable bob_age is independent from alice_age, even though it was initially assigned the value from alice_age.\n",
    "This is just the way variables are defined in Python. It would be perfectly fine to have another kind of variable where the two variables are connected, but this is not how standard python variables work."
   ]
  },
  {
   "cell_type": "markdown",
   "id": "8e631da6",
   "metadata": {},
   "source": [
    "## Data Types\n",
    "\n",
    "Python has three basic *data types* which are sometimes called *variable types*:\n",
    "- `str`, short for string, is for text\n",
    "- `int`, short for integer, are whole numbers\n",
    "- `float` is for decimal numbers, which are also known as *floating-point numbers*\n",
    "\n",
    "We can use the function `type()` to get the type of an item:"
   ]
  },
  {
   "cell_type": "code",
   "execution_count": null,
   "id": "9041dd76",
   "metadata": {},
   "outputs": [],
   "source": [
    "print(type('hi'))\n",
    "print(type(2))\n",
    "print(type(2.0))"
   ]
  },
  {
   "cell_type": "markdown",
   "id": "3499eae6",
   "metadata": {},
   "source": [
    "## Commenting Code\n",
    "\n",
    "Comments can make your code easier to understand.\n",
    "You can use a `#` character to start a single line comment. \n",
    "To write a comment consisting of multiple lines, you use three\n",
    "quotes `'''` before and after the comment."
   ]
  },
  {
   "cell_type": "code",
   "execution_count": null,
   "id": "b0515531",
   "metadata": {},
   "outputs": [],
   "source": [
    "# This is a comment\n",
    "\n",
    "defendant_name = 'John Doe' # This is an end of line comment\n",
    "\n",
    "'''\n",
    "You can also write a comment spanning multiple lines.\n",
    "This is useful for documentation.\n",
    "\n",
    "These comments are enclosed in three single quotes.\n",
    "'''"
   ]
  },
  {
   "cell_type": "markdown",
   "id": "c95926c0",
   "metadata": {},
   "source": [
    "## Calling Functions\n",
    "\n",
    "Python has a number of built-in functions that we can use. When we use the function, we say that we are *calling* it.\n",
    "\n",
    "For example, we can get the length of a string with the function `len()`:"
   ]
  },
  {
   "cell_type": "code",
   "execution_count": null,
   "id": "1898c7ef",
   "metadata": {},
   "outputs": [],
   "source": [
    "length = len('Hello world!')\n",
    "print(length)"
   ]
  },
  {
   "cell_type": "markdown",
   "id": "185aff4a",
   "metadata": {},
   "source": [
    "The items within the parenthesis are called the parameters of the function.\n",
    "Functions can have zero or more parameters. We have used the `print()` function with multiple parameters:"
   ]
  },
  {
   "cell_type": "code",
   "execution_count": null,
   "id": "73a5b651",
   "metadata": {},
   "outputs": [],
   "source": [
    "print('Length of the string:', length)"
   ]
  },
  {
   "cell_type": "markdown",
   "id": "97f624dc",
   "metadata": {},
   "source": [
    "## Getting input from the user\n",
    "\n",
    "Python has the built-in function `input(prompt)` to ask the user for input.\n",
    "The parameter `prompt` is a string that will be displayed to the user.\n"
   ]
  },
  {
   "cell_type": "code",
   "execution_count": null,
   "id": "91914eeb",
   "metadata": {},
   "outputs": [],
   "source": [
    "name = input(\"What's your name? \")\n",
    "print('Hello', name)"
   ]
  },
  {
   "cell_type": "markdown",
   "id": "e6ee8e91",
   "metadata": {},
   "source": [
    "```{warning}\n",
    "Python does not stop you from using the name of a built-in function as a variable name. But if you do that, the function will no longer work, because the name now refers to something else. Below, we try to assign a value to the variable `input`. This breaks the function `input()`.\n",
    "```"
   ]
  },
  {
   "cell_type": "code",
   "execution_count": null,
   "id": "0964a790",
   "metadata": {},
   "outputs": [],
   "source": [
    "input = input(\"What's your name? \") # DON'T do this, breaks the function input()\n",
    "print('Hello', input)\n",
    "input2 = input(\"What's your last name? \")"
   ]
  },
  {
   "cell_type": "markdown",
   "id": "20a3eaf5",
   "metadata": {},
   "source": [
    "```{warning}\n",
    "When we execute a cell, Jupyter Notebook stores the variable it defines in the execution \"kernel\".\n",
    "This means that even if we fix the code by changing the variable name from `input` to something else, our definition of input still exists. To erase the variable we must restart the kernel by clicking \"Kernel\" and \"Restart\" in the Jupyter Notebook menu.\n",
    "```"
   ]
  },
  {
   "cell_type": "markdown",
   "id": "084dc4d0",
   "metadata": {},
   "source": [
    "## Importing libraries and modules\n",
    "\n",
    "We have seen that Python has several built-in functions, for example `print()` and `input()`.\n",
    "Python also has a *standard library* that we can use. A *library* is a collection of code that we can use as building blocks in our programs. We can often find and download libraries written by other people to use in our programs. The Python standard library comes with Python, so we don't need to install it.\n",
    "\n",
    "The Python library is divided into *modules*. A module groups together related functions.\n",
    "We can use the `datetime` module to get the current date:"
   ]
  },
  {
   "cell_type": "code",
   "execution_count": null,
   "id": "cede05ab",
   "metadata": {},
   "outputs": [],
   "source": [
    "import datetime\n",
    "\n",
    "print(datetime.date.today())"
   ]
  },
  {
   "cell_type": "markdown",
   "id": "a784afef",
   "metadata": {},
   "source": [
    "We might use the imported function repeatedly.\n",
    "To save typing, we can import `date` directly.\n",
    "We can also import multiple things:"
   ]
  },
  {
   "cell_type": "code",
   "execution_count": null,
   "id": "f9dc416f",
   "metadata": {},
   "outputs": [],
   "source": [
    "from datetime import date, timezone\n",
    "\n",
    "print(date.today())"
   ]
  }
 ],
 "metadata": {
  "kernelspec": {
   "display_name": "Python 3",
   "language": "python",
   "name": "python3"
  },
  "language_info": {
   "codemirror_mode": {
    "name": "ipython",
    "version": 3
   },
   "file_extension": ".py",
   "mimetype": "text/x-python",
   "name": "python",
   "nbconvert_exporter": "python",
   "pygments_lexer": "ipython3",
   "version": "3.8.8"
  }
 },
 "nbformat": 4,
 "nbformat_minor": 5
}
