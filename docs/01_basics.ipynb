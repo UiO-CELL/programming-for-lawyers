{
 "cells": [
  {
   "cell_type": "markdown",
   "id": "8e2c4f12",
   "metadata": {},
   "source": [
    "# Programming basics\n",
    "\n",
    "Programming is a way of telling the computer what to do.\n",
    "Computer programs are a kind of recipe, like cooking or knitting recipes.\n",
    "However, cooking recipes can sometimes be vague or imprecise. For example, an instruction could be \"add 4-5 eggs\" \tor \"bake for 25-30 minutes till done\".\n",
    "Because humans have discretion, we can make sense of such vague instructions.\n",
    "Unfortunately, computers don't have discretion.\n",
    "Therefore, computer programs must be both precise and correct.\n",
    "\n",
    "## Using Python as a Calculator\n",
    "\n",
    "One simple use of Python is as a calculator. We can use the four arithmetic operations: `+ - * /`. Multiplication is done with the asterisk `*`, and division with the slash `/`.\n"
   ]
  },
  {
   "cell_type": "code",
   "execution_count": 1,
   "id": "bdab0541",
   "metadata": {},
   "outputs": [
    {
     "data": {
      "text/plain": [
       "2.5"
      ]
     },
     "execution_count": 1,
     "metadata": {},
     "output_type": "execute_result"
    }
   ],
   "source": [
    "2 + 3\n",
    "1 - 2\n",
    "3 * 4\n",
    "5 / 2"
   ]
  },
  {
   "cell_type": "markdown",
   "id": "786ba8a5",
   "metadata": {},
   "source": [
    "For more complicated expressions, we can use parenthesizes. "
   ]
  },
  {
   "cell_type": "code",
   "execution_count": 30,
   "id": "0d402393",
   "metadata": {},
   "outputs": [
    {
     "data": {
      "text/plain": [
       "9"
      ]
     },
     "execution_count": 30,
     "metadata": {},
     "output_type": "execute_result"
    }
   ],
   "source": [
    "3 * (2 + 1)"
   ]
  },
  {
   "cell_type": "markdown",
   "id": "d08a44cd",
   "metadata": {},
   "source": [
    "## Printing to the Screen (Terminal)\n",
    "\n",
    "Jupyter Notebook only displays the value of the final *statement* in a cell.\n",
    "If you want to see the value of other statements, you need to print them to the screen.\n",
    "\n",
    "In Python, you can use the function print() to display things on the screen.\n",
    "Put the item(s) to be printed inside the parentheses."
   ]
  },
  {
   "cell_type": "code",
   "execution_count": 3,
   "id": "756d7c51",
   "metadata": {},
   "outputs": [
    {
     "name": "stdout",
     "output_type": "stream",
     "text": [
      "6\n",
      "0 1 2\n"
     ]
    }
   ],
   "source": [
    "print(3 * 2)\n",
    "print(0, 1, 2)"
   ]
  },
  {
   "cell_type": "markdown",
   "id": "48808130",
   "metadata": {},
   "source": [
    "We can also print text:"
   ]
  },
  {
   "cell_type": "code",
   "execution_count": 4,
   "id": "436fbf71",
   "metadata": {},
   "outputs": [
    {
     "name": "stdout",
     "output_type": "stream",
     "text": [
      "See you in court\n"
     ]
    }
   ],
   "source": [
    "print('See you in court')"
   ]
  },
  {
   "cell_type": "markdown",
   "id": "b69c3467",
   "metadata": {},
   "source": [
    "Text strings can be enclosed in single or double quotes, but you *must* use the same type of quote before and after the string:"
   ]
  },
  {
   "cell_type": "code",
   "execution_count": 5,
   "id": "f1a44783",
   "metadata": {},
   "outputs": [
    {
     "name": "stdout",
     "output_type": "stream",
     "text": [
      "See you in court\n"
     ]
    }
   ],
   "source": [
    "print(\"See you in court\")"
   ]
  },
  {
   "cell_type": "markdown",
   "id": "7b084d59",
   "metadata": {},
   "source": [
    "## Variables\n",
    "\n",
    "In the examples above, the computer \"forgets\" the information as soon as it has been printed. We need some way to store information in our program. This is what variables are for. Variables are like handles we use to retrieve information.\n",
    "\n",
    "In Python, variables can be *defined* or *assigned* a value as shown in the code below."
   ]
  },
  {
   "cell_type": "code",
   "execution_count": 6,
   "id": "d1967a06",
   "metadata": {},
   "outputs": [
    {
     "name": "stdout",
     "output_type": "stream",
     "text": [
      "20\n"
     ]
    }
   ],
   "source": [
    "count = 0\n",
    "count = 20\n",
    "print(count)"
   ]
  },
  {
   "cell_type": "markdown",
   "id": "a76f3b8d",
   "metadata": {},
   "source": [
    "The `=` in Python does not mean equality as in mathematics, but is an assignment where the value or *expression* on the right hand side is stored in the variable on the left side.\n",
    "\n",
    "We can see this when we increase the count. No variable can be equal to itself plus something:"
   ]
  },
  {
   "cell_type": "code",
   "execution_count": 7,
   "id": "dafd66bf",
   "metadata": {},
   "outputs": [],
   "source": [
    "count = count + 1"
   ]
  },
  {
   "cell_type": "markdown",
   "id": "bfa83595-3a44-4959-a2e0-26419a28bece",
   "metadata": {},
   "source": [
    "## Variable Names\n",
    "\n",
    "It's important to choose good variable names.\n",
    "The names are meant to be read and understood by people,\n",
    "whether it's a colleague or yourself in a couple of months.\n",
    "Make *descriptive, meaningful* variable names, that are neither too short or nor too long.\n",
    "\n",
    "Variable names can contain:\n",
    "- all letters in the *English* alphabet.\n",
    "- *underscore*: _\n",
    "- numbers, but a variable name cannot *start* with a number\n",
    "\n",
    "This is a valid, but perhaps too long variable name:\n",
    "\n",
    "`name_of_defendant_01 = 'John Smith'`\n"
   ]
  },
  {
   "cell_type": "markdown",
   "id": "5552c9b1",
   "metadata": {},
   "source": [
    "## Variables are Independent\n",
    "\n",
    "Python variables are *independent* of each other.\n",
    "Let's define two variables. Alice is 20 years old, and her classmate Bob is the same age:"
   ]
  },
  {
   "cell_type": "code",
   "execution_count": 8,
   "id": "260da4c6",
   "metadata": {},
   "outputs": [],
   "source": [
    "alice_age = 20\n",
    "bob_age = alice_age"
   ]
  },
  {
   "cell_type": "markdown",
   "id": "4db05a01",
   "metadata": {},
   "source": [
    "Then it's Alice's birthday. Now, what's the value of bob_age?"
   ]
  },
  {
   "cell_type": "code",
   "execution_count": 9,
   "id": "fc99790b",
   "metadata": {},
   "outputs": [
    {
     "name": "stdout",
     "output_type": "stream",
     "text": [
      "20\n"
     ]
    }
   ],
   "source": [
    "alice_age = 21\n",
    "print(bob_age)"
   ]
  },
  {
   "cell_type": "markdown",
   "id": "9a89d3cb",
   "metadata": {},
   "source": [
    "The result is 20, `bob_age` hasn't changed even though `alice_age` did.\n",
    "\n",
    "The variable `bob_age` is independent from `alice_age`, even though it was initially assigned the value from `alice_age`.\n",
    "This is just the way variables are defined in Python. It would be perfectly fine to have another kind of variable where the two variables are connected, but this is not how standard Python variables work."
   ]
  },
  {
   "cell_type": "markdown",
   "id": "8820d7b0",
   "metadata": {},
   "source": [
    "## Statements and Expressions\n",
    "\n",
    "A *statement* tells Python to do something, while an *expression* has a value, for example a number.\n",
    "A statement is often a line of code, but long statements can span multiple lines.\n",
    "This line is a single statement that contains two expressions:"
   ]
  },
  {
   "cell_type": "code",
   "execution_count": 31,
   "id": "22cccd75",
   "metadata": {},
   "outputs": [
    {
     "name": "stdout",
     "output_type": "stream",
     "text": [
      "20 12\n"
     ]
    }
   ],
   "source": [
    "print(bob_age, 4 * 3)"
   ]
  },
  {
   "cell_type": "markdown",
   "id": "8e631da6",
   "metadata": {},
   "source": [
    "## Data Types\n",
    "\n",
    "Python has three basic *data types* which are sometimes called *variable types*:\n",
    "- `str`, short for string, is for text\n",
    "- `int`, short for integer, are whole numbers\n",
    "- `float` is for decimal numbers, which are also known as *floating-point numbers*\n",
    "\n",
    "We can use the function `type()` to get the type of an item:"
   ]
  },
  {
   "cell_type": "code",
   "execution_count": 11,
   "id": "dc114665-baf7-43ab-b1c4-8bbe3b20b46a",
   "metadata": {},
   "outputs": [
    {
     "data": {
      "text/plain": [
       "str"
      ]
     },
     "execution_count": 11,
     "metadata": {},
     "output_type": "execute_result"
    }
   ],
   "source": [
    "type('hi')"
   ]
  },
  {
   "cell_type": "code",
   "execution_count": 12,
   "id": "076962cd-0b3e-47b3-ab87-33ff39a85f59",
   "metadata": {},
   "outputs": [
    {
     "data": {
      "text/plain": [
       "int"
      ]
     },
     "execution_count": 12,
     "metadata": {},
     "output_type": "execute_result"
    }
   ],
   "source": [
    "type(2)"
   ]
  },
  {
   "cell_type": "code",
   "execution_count": 13,
   "id": "92e2e542-d4a2-4342-8466-dbfa1c793f93",
   "metadata": {},
   "outputs": [
    {
     "data": {
      "text/plain": [
       "float"
      ]
     },
     "execution_count": 13,
     "metadata": {},
     "output_type": "execute_result"
    }
   ],
   "source": [
    "type(2.0)"
   ]
  },
  {
   "cell_type": "markdown",
   "id": "6813ceb3-178e-4d69-bbfc-6f984fd1aa51",
   "metadata": {},
   "source": [
    ":::{note}\n",
    "A number in quotes is interpreted as a string, and can't be used in arithmetic.\n",
    ":::"
   ]
  },
  {
   "cell_type": "code",
   "execution_count": 14,
   "id": "d9eef696-7250-44e1-8143-6b486def1b27",
   "metadata": {},
   "outputs": [
    {
     "data": {
      "text/plain": [
       "str"
      ]
     },
     "execution_count": 14,
     "metadata": {},
     "output_type": "execute_result"
    }
   ],
   "source": [
    "type('2')"
   ]
  },
  {
   "cell_type": "markdown",
   "id": "3499eae6",
   "metadata": {},
   "source": [
    "## Commenting Code\n",
    "\n",
    "Comments can make your code easier to understand.\n",
    "You can use a `#` character to start a single line comment. \n",
    "To write a comment consisting of multiple lines, you use three\n",
    "quotes `'''` before and after the comment."
   ]
  },
  {
   "cell_type": "code",
   "execution_count": 15,
   "id": "b0515531",
   "metadata": {
    "tags": [
     "remove-output"
    ]
   },
   "outputs": [
    {
     "data": {
      "text/plain": [
       "'\\nYou can also write a comment spanning multiple lines.\\nThis is useful for documentation.\\n\\nThese comments are enclosed in three single quotes.\\n'"
      ]
     },
     "execution_count": 15,
     "metadata": {},
     "output_type": "execute_result"
    }
   ],
   "source": [
    "# Comments can clarify code\n",
    "\n",
    "defendant_name = 'John Doe' # This is an end of line comment\n",
    "\n",
    "'''\n",
    "You can also write a comment spanning multiple lines.\n",
    "This is useful for documentation.\n",
    "\n",
    "These comments are enclosed in three single quotes.\n",
    "'''"
   ]
  },
  {
   "cell_type": "markdown",
   "id": "a5c2873f",
   "metadata": {},
   "source": [
    "## Calling Functions and Methods\n",
    "\n",
    "There are two types of functions in Python: regular functions and object methods that are tied to a data object."
   ]
  },
  {
   "cell_type": "markdown",
   "id": "c95926c0",
   "metadata": {},
   "source": [
    "###  Calling Regular Functions\n",
    "\n",
    "Python has a number of built-in functions that we can use. When we use a function, we say that we are *calling* it.\n",
    "\n",
    "For example, we can get the length of a string with the function `len()`:"
   ]
  },
  {
   "cell_type": "code",
   "execution_count": 36,
   "id": "1898c7ef",
   "metadata": {},
   "outputs": [
    {
     "name": "stdout",
     "output_type": "stream",
     "text": [
      "8\n"
     ]
    }
   ],
   "source": [
    "defendant = 'John Doe'\n",
    "length = len(defendant)\n",
    "print(length)"
   ]
  },
  {
   "cell_type": "markdown",
   "id": "185aff4a",
   "metadata": {},
   "source": [
    "The items within the parenthesis are called the arguments of the function.\n",
    "Functions can have zero or more arguments. We have used the `print()` function with multiple arguments:"
   ]
  },
  {
   "cell_type": "code",
   "execution_count": 37,
   "id": "73a5b651",
   "metadata": {},
   "outputs": [
    {
     "name": "stdout",
     "output_type": "stream",
     "text": [
      "Length of the string: 8\n"
     ]
    }
   ],
   "source": [
    "print('Length of the string:', length)"
   ]
  },
  {
   "cell_type": "markdown",
   "id": "ff2ee981-cf11-4ef2-8dfb-9048869be48c",
   "metadata": {},
   "source": [
    "###  Nested Function Calls\n",
    "\n",
    "Above, we called the two functions separately, on different lines.\n",
    "We can also *nest* the function calls on a single line.\n",
    "Then, the result of the innermost call is used as the argument to the outer call."
   ]
  },
  {
   "cell_type": "code",
   "execution_count": null,
   "id": "6827fdd9-83a8-49ba-92e5-53dd97018568",
   "metadata": {},
   "outputs": [],
   "source": [
    "print(len(defendant))"
   ]
  },
  {
   "cell_type": "markdown",
   "id": "1cec8e1e",
   "metadata": {},
   "source": [
    "### Calling Methods\n",
    "\n",
    "Strings are a kind of *objects* in Python. Objects are a collection of data and functions that are grouped together. Functions that belong to an object are called *methods*.\n",
    "We can use methods belonging to string objects.\n",
    "\n",
    "`<string>.upper()` returns the string in uppercase. `<string>` is a placeholder for the name of a string variable."
   ]
  },
  {
   "cell_type": "code",
   "execution_count": 18,
   "id": "58824aa8",
   "metadata": {},
   "outputs": [
    {
     "name": "stdout",
     "output_type": "stream",
     "text": [
      "JOHN DOE\n"
     ]
    }
   ],
   "source": [
    "print(defendant.upper())"
   ]
  },
  {
   "cell_type": "markdown",
   "id": "41103798",
   "metadata": {},
   "source": [
    "`<string>.lower()` returns the string in lowercase.\n",
    "\n",
    "`<string>.replace(old, new)` replaces all occurrences of the substring `old` with the string `new`:"
   ]
  },
  {
   "cell_type": "code",
   "execution_count": 19,
   "id": "a36c0741",
   "metadata": {},
   "outputs": [
    {
     "name": "stdout",
     "output_type": "stream",
     "text": [
      "John Smith\n"
     ]
    }
   ],
   "source": [
    "print(defendant.replace('Doe', 'Smith'))"
   ]
  },
  {
   "cell_type": "markdown",
   "id": "97f624dc",
   "metadata": {},
   "source": [
    "## Getting input from the user\n",
    "\n",
    "Python has the built-in function `input(prompt)` to ask the user for input.\n",
    "The argument `prompt` is a string that will be displayed to the user.\n"
   ]
  },
  {
   "cell_type": "code",
   "execution_count": 20,
   "id": "91914eeb",
   "metadata": {},
   "outputs": [
    {
     "name": "stdout",
     "output_type": "stream",
     "text": [
      "Client name:  Scar\n"
     ]
    },
    {
     "name": "stdout",
     "output_type": "stream",
     "text": [
      "New client: Scar\n"
     ]
    }
   ],
   "source": [
    "client_name = input(\"Client name: \")\n",
    "print('New client:', client_name)"
   ]
  },
  {
   "cell_type": "markdown",
   "id": "e6ee8e91",
   "metadata": {},
   "source": [
    "```{warning}\n",
    "Python does not stop you from using the name of a built-in function as a variable name. But if you do that, the function will no longer work, because the name now refers to something else. Below, we try to assign a value to the variable `input`. This breaks the function `input()`.\n",
    "```"
   ]
  },
  {
   "cell_type": "code",
   "execution_count": 21,
   "id": "2e8924b0",
   "metadata": {
    "tags": [
     "hide-cell"
    ]
   },
   "outputs": [],
   "source": [
    "original_input = input # save built-in before we overwrite it "
   ]
  },
  {
   "cell_type": "code",
   "execution_count": 22,
   "id": "0964a790",
   "metadata": {},
   "outputs": [
    {
     "name": "stdout",
     "output_type": "stream",
     "text": [
      "Client name:  Scar\n"
     ]
    },
    {
     "name": "stdout",
     "output_type": "stream",
     "text": [
      "New client: Scar\n"
     ]
    },
    {
     "ename": "TypeError",
     "evalue": "'str' object is not callable",
     "output_type": "error",
     "traceback": [
      "\u001b[1;31m---------------------------------------------------------------------------\u001b[0m",
      "\u001b[1;31mTypeError\u001b[0m                                 Traceback (most recent call last)",
      "Input \u001b[1;32mIn [22]\u001b[0m, in \u001b[0;36m<cell line: 3>\u001b[1;34m()\u001b[0m\n\u001b[0;32m      1\u001b[0m \u001b[38;5;28minput\u001b[39m \u001b[38;5;241m=\u001b[39m \u001b[38;5;28minput\u001b[39m(\u001b[38;5;124m\"\u001b[39m\u001b[38;5;124mClient name: \u001b[39m\u001b[38;5;124m\"\u001b[39m) \u001b[38;5;66;03m# DON'T do this, breaks the function input()\u001b[39;00m\n\u001b[0;32m      2\u001b[0m \u001b[38;5;28mprint\u001b[39m(\u001b[38;5;124m'\u001b[39m\u001b[38;5;124mNew client:\u001b[39m\u001b[38;5;124m'\u001b[39m, \u001b[38;5;28minput\u001b[39m)\n\u001b[1;32m----> 3\u001b[0m input2 \u001b[38;5;241m=\u001b[39m \u001b[38;5;28;43minput\u001b[39;49m\u001b[43m(\u001b[49m\u001b[38;5;124;43m\"\u001b[39;49m\u001b[38;5;124;43mClient address: \u001b[39;49m\u001b[38;5;124;43m\"\u001b[39;49m\u001b[43m)\u001b[49m\n",
      "\u001b[1;31mTypeError\u001b[0m: 'str' object is not callable"
     ]
    }
   ],
   "source": [
    "input = input(\"Client name: \") # DON'T do this, breaks the function input()\n",
    "print('New client:', input)\n",
    "input2 = input(\"Client address: \")"
   ]
  },
  {
   "cell_type": "code",
   "execution_count": 23,
   "id": "061406a7",
   "metadata": {
    "tags": [
     "hide-cell"
    ]
   },
   "outputs": [],
   "source": [
    "input = original_input # restore built-in input() function"
   ]
  },
  {
   "cell_type": "markdown",
   "id": "20a3eaf5",
   "metadata": {},
   "source": [
    "```{warning}\n",
    "When we execute a cell, Jupyter Notebook stores the variable it defines in the execution *kernel*.\n",
    "This means that even if we fix the code by changing the variable name from `input` to something else, our definition of input still exists. To erase the variable we must restart the kernel by clicking \"Kernel\" and \"Restart\" in the Jupyter Notebook menu.\n",
    "```"
   ]
  },
  {
   "cell_type": "markdown",
   "id": "9248401e-97c0-4b7d-a771-e5677cab8a17",
   "metadata": {},
   "source": [
    "## Converting between strings and numbers\n",
    "\n",
    "Sometimes we need to convert a string to a number (or vice versa).\n",
    "\n",
    "We can do this with the functions `int()`, `float()`, and  `str()`.\n",
    "For example, the function `input()` always returns a text string:"
   ]
  },
  {
   "cell_type": "code",
   "execution_count": 24,
   "id": "eeace581-4617-4516-8dd3-29a51baddd67",
   "metadata": {},
   "outputs": [
    {
     "name": "stdout",
     "output_type": "stream",
     "text": [
      "How old are you?  21\n"
     ]
    },
    {
     "name": "stdout",
     "output_type": "stream",
     "text": [
      "In 21 years, you will be 2121\n"
     ]
    }
   ],
   "source": [
    "age = input('How old are you? ')\n",
    "double_age = age * 2\n",
    "print('In', age, 'years, you will be', double_age)"
   ]
  },
  {
   "cell_type": "markdown",
   "id": "bf6a8ea0-2118-43a2-bbad-646c611f72fd",
   "metadata": {},
   "source": [
    "```{note}\n",
    "Notice that because `age` is a string, it gets repeated not multiplied.\n",
    "We need to convert it, and we can do so by chaining `int()` and `input()` on the same line.\n",
    "By converting the value immediately, there's no risk of using it before it's been converted.\n",
    "```"
   ]
  },
  {
   "cell_type": "code",
   "execution_count": 25,
   "id": "df399dae-cce9-4538-b573-fffca24148e8",
   "metadata": {},
   "outputs": [
    {
     "name": "stdout",
     "output_type": "stream",
     "text": [
      "How old are you?  21\n"
     ]
    },
    {
     "name": "stdout",
     "output_type": "stream",
     "text": [
      "In 21 years, you will be 42\n"
     ]
    }
   ],
   "source": [
    "age = int(input('How old are you? '))\n",
    "double_age = age * 2\n",
    "print('In', age, 'years, you will be', double_age)"
   ]
  },
  {
   "cell_type": "markdown",
   "id": "70036244-6947-4708-bf30-bdb47355a1a3",
   "metadata": {},
   "source": [
    "We can also convert between integers and floating-point numbers:"
   ]
  },
  {
   "cell_type": "code",
   "execution_count": 26,
   "id": "4baa845d-d881-422d-942d-113a5f1b3a03",
   "metadata": {},
   "outputs": [
    {
     "name": "stdout",
     "output_type": "stream",
     "text": [
      "3\n"
     ]
    }
   ],
   "source": [
    "age = 3.8\n",
    "print(int(age))"
   ]
  },
  {
   "cell_type": "markdown",
   "id": "39f6f06d-93fc-47d9-81c2-9c2a61023e17",
   "metadata": {},
   "source": [
    ":::{admonition} Rounding Errors\n",
    ":class: danger\n",
    "As we can see above, when converting from `float` to `int` the decimals are always rounded down, making 3.8 into 3.\n",
    "This will lead to rounding errors if numbers are converted incautiously.\n",
    "By normal math rules, 3.8 should be rounded up to 4.\n",
    "If you need correct rounding, you should use the `round()` function.\n",
    ":::"
   ]
  },
  {
   "cell_type": "markdown",
   "id": "084dc4d0",
   "metadata": {},
   "source": [
    "## Importing libraries and modules\n",
    "\n",
    "We have seen that Python has several built-in functions, for example `print()` and `input()`.\n",
    "Python also has a *standard library* that we can use. A *library* is a collection of code that we can use as building blocks in our programs. We can often find and download libraries written by other people to use in our programs. The Python standard library comes with Python, so we don't need to install it.\n",
    "\n",
    "The Python library is divided into *modules*. A module groups together related functions.\n",
    "We can use the `datetime` module to get the current date:"
   ]
  },
  {
   "cell_type": "code",
   "execution_count": 27,
   "id": "48e26e38-d4ea-4490-b9ce-2745f280c34b",
   "metadata": {},
   "outputs": [],
   "source": [
    "import datetime\n",
    "\n",
    "writ_of_summons_date = datetime.date.today()"
   ]
  },
  {
   "cell_type": "code",
   "execution_count": 28,
   "id": "3d1a55d1-0d0c-4f77-9f20-7f6d88ced3f5",
   "metadata": {},
   "outputs": [
    {
     "name": "stdout",
     "output_type": "stream",
     "text": [
      "In accordance with the Dispute Act Section 9-4(2)h), unless special\n",
      "circumstances necessitate it, the main hearing has to be set for a date\n",
      "less than six months after the date of submission of the writ of summons,\n",
      "which was submitted on 2022-08-09\n"
     ]
    }
   ],
   "source": [
    "print('''In accordance with the Dispute Act Section 9-4(2)h), unless special\n",
    "circumstances necessitate it, the main hearing has to be set for a date\n",
    "less than six months after the date of submission of the writ of summons,\n",
    "which was submitted on''', writ_of_summons_date)"
   ]
  },
  {
   "cell_type": "markdown",
   "id": "a784afef",
   "metadata": {},
   "source": [
    "We might use the imported function repeatedly.\n",
    "To save typing, we can import `date` directly.\n",
    "We can also import multiple things:"
   ]
  },
  {
   "cell_type": "code",
   "execution_count": 29,
   "id": "f9dc416f",
   "metadata": {},
   "outputs": [
    {
     "name": "stdout",
     "output_type": "stream",
     "text": [
      "2022-08-09\n"
     ]
    }
   ],
   "source": [
    "from datetime import date, datetime\n",
    "\n",
    "print(date.today())"
   ]
  },
  {
   "cell_type": "markdown",
   "id": "b285f878-3517-4f3c-a012-50c67733b39a",
   "metadata": {
    "tags": []
   },
   "source": [
    "## Parsing dates\n",
    "\n",
    "We can use the function `datetime.strptime(time, time_format)`\n",
    "to convert (parse) dates in string format into machine-readable format.\n",
    "First, we must import the datetime library:"
   ]
  },
  {
   "cell_type": "code",
   "execution_count": 23,
   "id": "988a99a5-e91a-420e-8b37-1cfd72f8b112",
   "metadata": {
    "tags": []
   },
   "outputs": [],
   "source": [
    "from datetime import datetime"
   ]
  },
  {
   "cell_type": "markdown",
   "id": "fbad5c12-c6ee-4d06-8bc4-98f309a853da",
   "metadata": {},
   "source": [
    "Dates can be written using different separators between the parts. The format below is used in [ECHR-OD](https://echr-opendata.eu/), which we will sometimes use as example data in this course. We will discuss ECHR-OD further in {ref}`JSON_APIs`."
   ]
  },
  {
   "cell_type": "code",
   "execution_count": 24,
   "id": "8c6acf2e-ef21-4d66-a29f-73bfcfb89b3c",
   "metadata": {
    "tags": []
   },
   "outputs": [],
   "source": [
    "time = '30/11/2016 16:45:00'"
   ]
  },
  {
   "cell_type": "markdown",
   "id": "03cfe19e-374b-43e5-9ad9-12611a5a38aa",
   "metadata": {},
   "source": [
    "Next, we must specify the time format to use for parsing.\n",
    "This must match the format of the time in the string, which means that\n",
    "both the separators and the order of the fields must be the same.\n",
    "\n",
    "The time format is a bit cryptic, but it is documented in the [Python documentation]( https://docs.python.org/3/library/time.html#time.strftime)."
   ]
  },
  {
   "cell_type": "code",
   "execution_count": 25,
   "id": "b69f5c58-a3cc-40a1-91df-8ebc303ca523",
   "metadata": {
    "tags": []
   },
   "outputs": [],
   "source": [
    "time_format = '%d/%m/%Y %H:%M:%S'"
   ]
  },
  {
   "cell_type": "markdown",
   "id": "d1b0f5ad-5213-48d6-808e-3ea20cc55aaf",
   "metadata": {},
   "source": [
    "Now, we do the actual conversion/parsing:"
   ]
  },
  {
   "cell_type": "code",
   "execution_count": 27,
   "id": "e57d5d36-706f-499e-9e2b-7e5b615cf488",
   "metadata": {
    "tags": []
   },
   "outputs": [],
   "source": [
    "time = datetime.strptime(time, time_format)"
   ]
  },
  {
   "cell_type": "markdown",
   "id": "d483fb48-40df-4c5e-8994-331a9200ee08",
   "metadata": {},
   "source": [
    "The variable time now contains the time in machine-readable format.\n",
    "We can use the separate components, such as the year:"
   ]
  },
  {
   "cell_type": "code",
   "execution_count": 28,
   "id": "92c87e59-84ce-49c5-a4ac-2a7d753f70d8",
   "metadata": {
    "tags": []
   },
   "outputs": [
    {
     "data": {
      "text/plain": [
       "2016"
      ]
     },
     "execution_count": 28,
     "metadata": {},
     "output_type": "execute_result"
    }
   ],
   "source": [
    "time.year"
   ]
  },
  {
   "cell_type": "markdown",
   "id": "42a44b4c-65a9-4c2d-8110-aef24673704e",
   "metadata": {},
   "source": [
    "Or the day:"
   ]
  },
  {
   "cell_type": "code",
   "execution_count": 29,
   "id": "6fd8689f-7d39-4434-bc37-c641a9944de9",
   "metadata": {
    "tags": []
   },
   "outputs": [
    {
     "data": {
      "text/plain": [
       "30"
      ]
     },
     "execution_count": 29,
     "metadata": {},
     "output_type": "execute_result"
    }
   ],
   "source": [
    "time.day"
   ]
  },
  {
   "cell_type": "markdown",
   "id": "f8c4eef3",
   "metadata": {},
   "source": [
    "## String concatenation\n",
    "\n",
    "We saw above that we use the `+` operator to add numbers. We can also use `+` with strings to glue them together. This is called string *concatenation*."
   ]
  },
  {
   "cell_type": "code",
   "execution_count": 30,
   "id": "88c06334",
   "metadata": {},
   "outputs": [
    {
     "name": "stdout",
     "output_type": "stream",
     "text": [
      "JohnDoe\n"
     ]
    }
   ],
   "source": [
    "first_name = 'John'\n",
    "last_name = 'Doe'\n",
    "full_name = first_name + last_name\n",
    "print(full_name)"
   ]
  },
  {
   "cell_type": "markdown",
   "id": "7f4a2a40",
   "metadata": {},
   "source": [
    "```{note}\n",
    "Notice that the two strings are concatenated together without any space in-between.\n",
    "If we want a space, we must insert it ourselves:\n",
    "```"
   ]
  },
  {
   "cell_type": "code",
   "execution_count": 31,
   "id": "be11acaa",
   "metadata": {},
   "outputs": [
    {
     "name": "stdout",
     "output_type": "stream",
     "text": [
      "John Doe\n"
     ]
    }
   ],
   "source": [
    "full_name = first_name + ' ' + last_name\n",
    "print(full_name)"
   ]
  },
  {
   "cell_type": "markdown",
   "id": "74b8139b-a25d-4e65-99bc-90d4bdba9df2",
   "metadata": {},
   "source": [
    "::::::{admonition} Extra: String multiplication\n",
    ":class: tip, dropdown\n",
    "\n",
    "We can also use multiplication with strings.\n",
    "This will repeat the string.\n",
    "This is kind of a curiosity, that you won't often need in practice:\n",
    "\n",
    ":::\n",
    "print('See you in court, ' * 3)\n",
    "print('-' * 60)\n",
    ":::\n",
    "\n",
    ":::\n",
    "See you in court, See you in court, See you in court, \n",
    "------------------------------------------------------------\n",
    ":::\n",
    "::::::"
   ]
  },
  {
   "cell_type": "markdown",
   "id": "a08abb85-f01f-4e97-9fff-c7e105104ae1",
   "metadata": {},
   "source": [
    "## F-strings\n",
    "\n",
    "Concatenating just a couple of strings works well.\n",
    "But if we want to include multiple variables in a string, we will need many quotes and plus-signs (or commas), which can be easily misplaced.\n",
    "F-strings (formatted strings) are a simple way to include variables in a string:"
   ]
  },
  {
   "cell_type": "code",
   "execution_count": 33,
   "id": "4c9adbf5-6794-40ed-8730-b4b7627ec5aa",
   "metadata": {},
   "outputs": [
    {
     "name": "stdout",
     "output_type": "stream",
     "text": [
      "Client name: John Doe\n",
      "first name: John, last name: Doe\n"
     ]
    }
   ],
   "source": [
    "print(f'''Client name: {full_name}\n",
    "first name: {first_name}, last name: {last_name}''')"
   ]
  },
  {
   "cell_type": "markdown",
   "id": "c2c9f65e-f3f8-4470-bbe4-5b370ef11f58",
   "metadata": {},
   "source": [
    "For debugging, it can be useful to print the value of a variable along with its name.\n",
    "F-strings are a shortcut for this, notice the `=` at the end:"
   ]
  },
  {
   "cell_type": "code",
   "execution_count": 34,
   "id": "2839e0a1-f55a-4dfe-b26a-37cae68a27b2",
   "metadata": {},
   "outputs": [
    {
     "name": "stdout",
     "output_type": "stream",
     "text": [
      "full_name='John Doe'\n"
     ]
    }
   ],
   "source": [
    "print(f'{full_name=}')"
   ]
  }
 ],
 "metadata": {
  "celltoolbar": "Tags",
  "kernelspec": {
   "display_name": "Python 3 (ipykernel)",
   "language": "python",
   "name": "python3"
  },
  "language_info": {
   "codemirror_mode": {
    "name": "ipython",
    "version": 3
   },
   "file_extension": ".py",
   "mimetype": "text/x-python",
   "name": "python",
   "nbconvert_exporter": "python",
   "pygments_lexer": "ipython3",
   "version": "3.12.3"
  }
 },
 "nbformat": 4,
 "nbformat_minor": 5
}
