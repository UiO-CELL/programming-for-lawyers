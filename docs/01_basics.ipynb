{
 "cells": [
  {
   "cell_type": "markdown",
   "id": "8e2c4f12",
   "metadata": {},
   "source": [
    "# Programming basics\n",
    "\n",
    "One simple use of python is as a calculator. We can use the four arithmetic operations: `+ - * /`. Multiplication is done with the asterisk `*`, and division with the slash `/`.\n"
   ]
  },
  {
   "cell_type": "code",
   "execution_count": null,
   "id": "bdab0541",
   "metadata": {},
   "outputs": [],
   "source": [
    "2 + 3\n",
    "1 - 2\n",
    "3 * 4\n",
    "5 / 2"
   ]
  },
  {
   "cell_type": "markdown",
   "id": "786ba8a5",
   "metadata": {},
   "source": [
    "For more complicated expressions, we can use parenthesizes. "
   ]
  },
  {
   "cell_type": "code",
   "execution_count": null,
   "id": "0d402393",
   "metadata": {},
   "outputs": [],
   "source": [
    "3 * (2 + 5)"
   ]
  },
  {
   "cell_type": "markdown",
   "id": "d08a44cd",
   "metadata": {},
   "source": [
    "## Printing to the Screen (Terminal)\n",
    "\n",
    "Jupyter Notebook only displays the value of the final statement in a cell. If you want to see the value of other statements, you need to print them to the screen.\n",
    "\n",
    "In Python, you can use the function print() to display things on the screen. Put the item(s) to be printed inside the parentheses."
   ]
  },
  {
   "cell_type": "code",
   "execution_count": null,
   "id": "756d7c51",
   "metadata": {},
   "outputs": [],
   "source": [
    "print(3 * 2)\n",
    "print(0, 1, 2)"
   ]
  },
  {
   "cell_type": "markdown",
   "id": "48808130",
   "metadata": {},
   "source": [
    "We can also print text:"
   ]
  },
  {
   "cell_type": "code",
   "execution_count": null,
   "id": "436fbf71",
   "metadata": {},
   "outputs": [],
   "source": [
    "print('Hello world')"
   ]
  },
  {
   "cell_type": "markdown",
   "id": "7b084d59",
   "metadata": {},
   "source": [
    "## Variables\n",
    "\n",
    "In the examples above, the computer \"forgets\" the information as soon as it has been printed. We need some way to store information in our program. This is what variables are for. Variables are like handles we use to retrieve information.\n",
    "\n",
    "In Python, variables can be made or *declared* as shown in the code below."
   ]
  },
  {
   "cell_type": "code",
   "execution_count": null,
   "id": "d1967a06",
   "metadata": {},
   "outputs": [],
   "source": [
    "length = 10\n",
    "width = 20\n",
    "print(length)"
   ]
  },
  {
   "cell_type": "markdown",
   "id": "7d8e7e68",
   "metadata": {},
   "source": [
    "### Variable names\n",
    "\n",
    "It's important to choose good variable names. The names are meant to be read and understood by people, whether it's a colleague or yourself in a couple of months. Make *descriptive* variable names, that are neither too short or nor too long.\n",
    "\n",
    "Variable names can contain:\n",
    "- all letters, both uppercase and lowercase, found in the **English alphabet**.\n",
    "- **underscore**: _\n",
    "- numbers, but **a number cannot be the first character of the name**\n",
    "\n",
    "This is a valid, but perhaps too long variable name:"
   ]
  },
  {
   "cell_type": "code",
   "execution_count": null,
   "id": "4ec5394e",
   "metadata": {},
   "outputs": [],
   "source": [
    "name_of_defendant_01 = 'John Smith'"
   ]
  },
  {
   "cell_type": "markdown",
   "id": "5552c9b1",
   "metadata": {},
   "source": [
    "## Variables are Independent\n",
    "\n",
    "Python variables are *independent* of each other.\n",
    "Let's define two variables. Alice is 20 years old, and her classmate Bob is the same age:"
   ]
  },
  {
   "cell_type": "code",
   "execution_count": null,
   "id": "260da4c6",
   "metadata": {},
   "outputs": [],
   "source": [
    "alice_age = 20\n",
    "bob_age = alice_age"
   ]
  },
  {
   "cell_type": "markdown",
   "id": "4db05a01",
   "metadata": {},
   "source": [
    "Then it's Alice's birthday. Now, what's the value of bob_age?"
   ]
  },
  {
   "cell_type": "code",
   "execution_count": null,
   "id": "fc99790b",
   "metadata": {},
   "outputs": [],
   "source": [
    "alice_age = 21\n",
    "print(bob_age)"
   ]
  },
  {
   "cell_type": "markdown",
   "id": "9a89d3cb",
   "metadata": {},
   "source": [
    "The result is 20, `bob_age` hasn't changed even though `alice_age` did.\n",
    "\n",
    "The variable bob_age is independent from alice_age, even though it was initially assigned the value from alice_age.\n",
    "This is just the way variables are defined in Python. It would be perfectly fine to have another kind of variable where the two variables are connected, but this is not how standard python variables work."
   ]
  },
  {
   "cell_type": "markdown",
   "id": "3499eae6",
   "metadata": {},
   "source": [
    "## Commenting Code\n",
    "\n",
    "Comments can make your code easier to understand.\n",
    "You can use a `#` character to start a single line comment. \n",
    "To write a comment consisting of multiple lines, you use three\n",
    "quotes `'''` before and after the comment."
   ]
  },
  {
   "cell_type": "code",
   "execution_count": null,
   "id": "b0515531",
   "metadata": {},
   "outputs": [],
   "source": [
    "# This is a comment\n",
    "\n",
    "defendant_name = 'John Doe' # This is an end of line comment"
   ]
  }
 ],
 "metadata": {
  "kernelspec": {
   "display_name": "Python 3",
   "language": "python",
   "name": "python3"
  },
  "language_info": {
   "codemirror_mode": {
    "name": "ipython",
    "version": 3
   },
   "file_extension": ".py",
   "mimetype": "text/x-python",
   "name": "python",
   "nbconvert_exporter": "python",
   "pygments_lexer": "ipython3",
   "version": "3.7.10"
  }
 },
 "nbformat": 4,
 "nbformat_minor": 5
}
