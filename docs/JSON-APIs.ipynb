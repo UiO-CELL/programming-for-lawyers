{
 "cells": [
  {
   "cell_type": "markdown",
   "id": "64f3940e-d9b0-4a5b-86e8-564e412214f9",
   "metadata": {},
   "source": [
    "# JSON and web APIs\n",
    "\n",
    "In {ref}`files_exceptions` we saw how to read data from files.\n",
    "In this part, we will look at how to read data directly from web APIs.\n",
    "Web APIs are *machine-readable* online data sources.\n",
    "\n",
    "We will look at real-world data from the European Court of Human Rights Open Data (ECHR-OD) project.\n",
    "ECHR-OD provides machine-readable data about ECHR cases in a public\n",
    "[ECHR-OD API](https://echr-opendata.eu/connect/).\n",
    "\n",
    "We will also use real-world data from Harvard’s\n",
    "[Caselaw Access Project](https://case.law/) (\"CAP\").\n",
    "CAP aims to make all published US courts decisions freely available in a standard,\n",
    "machine-readable format.\n",
    "CAP and the data format is [documented here](https://case.law/api/)."
   ]
  },
  {
   "cell_type": "markdown",
   "id": "09fc7a11-5999-4daa-9bb7-e2a635a0b93d",
   "metadata": {},
   "source": [
    "```{admonition} JSON\n",
    "JSON (JavaScript Object Notation) is a machine-readable data format.\n",
    "Machine-readable data makes it easy to read and process the information with a computer.\n",
    "JSON data is usually tree structured, with multiple levels containing information.\n",
    "\n",
    "In Python, JSON data is stored as lists and dictionaries.\n",
    "The top level can be either a list or a dictionary.\n",
    "```"
   ]
  },
  {
   "cell_type": "markdown",
   "id": "880cd550-b162-42c7-8d75-6194bbc6e036",
   "metadata": {},
   "source": [
    "## Reading JSON from file\n",
    "First, let's look at how we can read JSON data from a local file."
   ]
  },
  {
   "cell_type": "code",
   "execution_count": 3,
   "id": "6559f192-047d-4ad7-a9dc-e903b269e2ea",
   "metadata": {},
   "outputs": [],
   "source": [
    "import json\n",
    "\n",
    "def read_json_file(filename):\n",
    "    with open(filename, 'r') as file:\n",
    "        text_data = file.read()\n",
    "        return json.loads(text_data)\n",
    "    \n",
    "cases = read_json_file('cases-5.json')"
   ]
  },
  {
   "cell_type": "markdown",
   "id": "f24e708d-9fdd-4118-89ea-1b3b3ed45d9f",
   "metadata": {},
   "source": [
    "However, this approach has some drawbacks.\n",
    "Firstly, we must manually download the data set.\n",
    "Secondly, we must keep the data set updated.\n",
    "Case law databases are updated regularly, and we probably want to include the latest data.\n",
    "Therefore, using online data directly is preferable."
   ]
  },
  {
   "cell_type": "markdown",
   "id": "68e98ea3-883d-44c9-8ae0-573e8bc2c5ed",
   "metadata": {},
   "source": [
    "## Reading JSON from a web API"
   ]
  },
  {
   "cell_type": "code",
   "execution_count": null,
   "id": "cb431ef6-3cc6-4263-9466-98feb67c7a67",
   "metadata": {},
   "outputs": [],
   "source": [
    "import requests"
   ]
  },
  {
   "cell_type": "code",
   "execution_count": null,
   "id": "c824a77f-400a-4755-91ca-11840fd9c752",
   "metadata": {},
   "outputs": [],
   "source": []
  }
 ],
 "metadata": {
  "kernelspec": {
   "display_name": "Python 3",
   "language": "python",
   "name": "python3"
  },
  "language_info": {
   "codemirror_mode": {
    "name": "ipython",
    "version": 3
   },
   "file_extension": ".py",
   "mimetype": "text/x-python",
   "name": "python",
   "nbconvert_exporter": "python",
   "pygments_lexer": "ipython3",
   "version": "3.8.10"
  }
 },
 "nbformat": 4,
 "nbformat_minor": 5
}
