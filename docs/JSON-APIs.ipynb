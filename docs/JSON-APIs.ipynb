{
 "cells": [
  {
   "cell_type": "markdown",
   "id": "64f3940e-d9b0-4a5b-86e8-564e412214f9",
   "metadata": {},
   "source": [
    "(JSON_APIs)=\n",
    "# Appendix: JSON and Web APIs\n",
    "\n",
    "In {ref}`files_exceptions` we saw how to read data from files.\n",
    "In this part, we will look at how to read data directly from web APIs.\n",
    "Web APIs are *machine-readable* online data sources.\n",
    "We will look at two different web APIs.\n",
    "\n",
    ":::{admonition} ECHR-OD API\n",
    "The [European Court of Human Rights Open Data](https://echr-opendata.eu/) (ECHR-OD) project provides data about ECHR cases.\n",
    "ECHR-OD provides [machine-readable data for download](https://echr-opendata.eu/download/),\n",
    "but also a public [ECHR-OD API](https://echr-opendata.eu/connect/) for online use.\n",
    "Here is the [ECHR-OD API documentation](https://echr-opendata.eu/api/v1/docs).\n",
    ":::\n",
    "\n",
    ":::{admonition} Harvard’s Caselaw Access Project\n",
    "We will also use data from Harvard’s\n",
    "[Caselaw Access Project](https://case.law/) (CAP).\n",
    "CAP aims to make all published US courts decisions freely available in a standard,\n",
    "machine-readable format.\n",
    "CAP and the data format is [documented here](https://case.law/api/).\n",
    ":::"
   ]
  },
  {
   "cell_type": "markdown",
   "id": "b7ca5e0d-7ce1-4a14-9fe6-3605db345204",
   "metadata": {},
   "source": [
    "## Reading JSON from file"
   ]
  },
  {
   "cell_type": "markdown",
   "id": "52836ec6-e660-4d6b-817a-fca7d71af2db",
   "metadata": {},
   "source": [
    "```{admonition} JSON\n",
    "JSON (JavaScript Object Notation) is a machine-readable data format.\n",
    "Machine-readable data makes it easy to read and process the information with a computer.\n",
    "JSON data is usually tree structured, with multiple levels containing information.\n",
    "\n",
    "In Python, JSON data is stored as lists and dictionaries.\n",
    "The top level can be either a list or a dictionary.\n",
    "```"
   ]
  },
  {
   "cell_type": "markdown",
   "id": "8c2cf352-8dc0-47f8-95d3-bce9328e7467",
   "metadata": {},
   "source": [
    "First, let's look at how we can read JSON data from a local file.\n",
    "Here we read a file containing a few cases from ECHR-OD."
   ]
  },
  {
   "cell_type": "code",
   "execution_count": null,
   "id": "6559f192-047d-4ad7-a9dc-e903b269e2ea",
   "metadata": {},
   "outputs": [],
   "source": [
    "import json\n",
    "\n",
    "def read_json_file(filename):\n",
    "    with open(filename, 'r') as file:\n",
    "        text_data = file.read()\n",
    "        return json.loads(text_data)\n",
    "    \n",
    "cases = read_json_file('cases-5.json')"
   ]
  },
  {
   "cell_type": "markdown",
   "id": "f24e708d-9fdd-4118-89ea-1b3b3ed45d9f",
   "metadata": {},
   "source": [
    "However, this approach has some drawbacks.\n",
    "Firstly, we must manually download the data set.\n",
    "Secondly, we must keep the data set updated.\n",
    "Case law databases are updated regularly, and we probably want to include the latest data.\n",
    "Therefore, using online data directly is sometimes preferable.\n",
    "For example, if we are developing a mobile app, the full data set might be too large to fit on the device."
   ]
  },
  {
   "cell_type": "markdown",
   "id": "68e98ea3-883d-44c9-8ae0-573e8bc2c5ed",
   "metadata": {},
   "source": [
    "## Reading JSON from a web API"
   ]
  },
  {
   "cell_type": "markdown",
   "id": "28906657-c32a-4e73-a3db-4a73fabb324c",
   "metadata": {},
   "source": [
    "To fetch data from the web, we can use a library called requests that makes this task quite easy.\n",
    "First, we import this:"
   ]
  },
  {
   "cell_type": "code",
   "execution_count": null,
   "id": "cb431ef6-3cc6-4263-9466-98feb67c7a67",
   "metadata": {},
   "outputs": [],
   "source": [
    "import requests"
   ]
  },
  {
   "cell_type": "markdown",
   "id": "927846ff-680e-48b2-adde-737c8b0b67fa",
   "metadata": {},
   "source": [
    "First, we will look at the ECHR-OD API. \n",
    "This API has a function of getting statistics about the number of cases.\n",
    "We need to specify the URL:"
   ]
  },
  {
   "cell_type": "code",
   "execution_count": null,
   "id": "4f43a27a-ca3c-4e02-b776-d1d7a39e0d90",
   "metadata": {},
   "outputs": [],
   "source": [
    "URL = 'https://echr-opendata.eu/api/v1/stats'"
   ]
  },
  {
   "cell_type": "markdown",
   "id": "2508d261-4762-4072-b2c0-d79c78c140a7",
   "metadata": {},
   "source": [
    "Now, we can get the data.\n",
    "We use the request library's `.get()` function to fetch the data,\n",
    "and then the method `.json()` to parse the results into Python lists and dictionaries."
   ]
  },
  {
   "cell_type": "code",
   "execution_count": null,
   "id": "adc97f46-57af-4364-943e-f3d238798d48",
   "metadata": {},
   "outputs": [],
   "source": [
    "request = requests.get(URL)\n",
    "data = request.json()"
   ]
  },
  {
   "cell_type": "markdown",
   "id": "1676dcb3-964a-40a1-8fd9-ed2eb91e8d06",
   "metadata": {},
   "source": [
    "The result is a list of dictionaries with statistics about the numbers of violations and non-violations for different articles of the ECHR.\n",
    "We can display the first few articles:"
   ]
  },
  {
   "cell_type": "code",
   "execution_count": null,
   "id": "e318bf41-97e7-4806-b7ee-633771992c34",
   "metadata": {},
   "outputs": [],
   "source": [
    "display(data[:5])"
   ]
  },
  {
   "cell_type": "markdown",
   "id": "0b849fbf-0d33-411b-8201-ef750549ebe6",
   "metadata": {},
   "source": [
    "Let's try to get some cases.\n",
    "This query has a different URL:"
   ]
  },
  {
   "cell_type": "code",
   "execution_count": null,
   "id": "2c1e41b9-03a8-4382-aab6-f1c1f1d1cdb7",
   "metadata": {},
   "outputs": [],
   "source": [
    "URL = 'https://echr-opendata.eu/api/v1/cases'"
   ]
  },
  {
   "cell_type": "markdown",
   "id": "2a0da7ad-cd05-4356-81f3-91575eaca236",
   "metadata": {},
   "source": [
    "This query will result in all the cases in ECHR-OD, which are several thousand.\n",
    "Therefore, the query results are split into several \"pages\" of results.\n",
    "We must specify the page size, called `limit`.\n",
    "We usually start with page number 1.\n",
    "We specify both these parameters in a dictionary."
   ]
  },
  {
   "cell_type": "code",
   "execution_count": null,
   "id": "4e0f0ace-b1c2-47e8-8600-269426c9ee63",
   "metadata": {
    "tags": []
   },
   "outputs": [],
   "source": [
    "parameters = {'page': 1,\n",
    "              'limit': 3}"
   ]
  },
  {
   "cell_type": "markdown",
   "id": "434c95f8-fdcb-4cc0-aea5-a4e0b4bf23f6",
   "metadata": {},
   "source": [
    "Now, we can get the results.\n",
    "We include the parameters in the query as a parameter to the `.get()` function."
   ]
  },
  {
   "cell_type": "code",
   "execution_count": null,
   "id": "aefa3bc3-82bf-4875-8f77-de1e7b824393",
   "metadata": {},
   "outputs": [],
   "source": [
    "cases = requests.get(URL, params=parameters).json()"
   ]
  },
  {
   "cell_type": "markdown",
   "id": "ea6f3276-2f00-43e6-aedd-3e5599557e4e",
   "metadata": {},
   "source": [
    ":::{tip} \n",
    "We can fetch the results and parse the JSON in two steps or in one line.\n",
    "Both are fine, and this is a matter of preference.\n",
    ":::"
   ]
  },
  {
   "cell_type": "markdown",
   "id": "d97752f7-22b5-4e25-86e7-a5701c6ffda0",
   "metadata": {
    "tags": []
   },
   "source": [
    "### Inspecting the Data"
   ]
  },
  {
   "cell_type": "markdown",
   "id": "bbf93036-3fc1-4e1c-985d-eced0f176b36",
   "metadata": {},
   "source": [
    "We can display the data, however this is a lot of text:"
   ]
  },
  {
   "cell_type": "code",
   "execution_count": null,
   "id": "a164fbd1-86b0-4875-9180-e8605b1c3f75",
   "metadata": {
    "tags": [
     "hide-output",
     "output_scroll"
    ]
   },
   "outputs": [],
   "source": [
    "display(cases)"
   ]
  },
  {
   "cell_type": "markdown",
   "id": "f32369c8-fb53-4964-a2c7-475b6d605053",
   "metadata": {},
   "source": [
    "JSON data can be contained in a list or dictionary at the top level.\n",
    "Let's check which type we got:"
   ]
  },
  {
   "cell_type": "code",
   "execution_count": null,
   "id": "cc2c19e9-ecce-4cbf-b7ca-c458574ab60c",
   "metadata": {},
   "outputs": [],
   "source": [
    "type(cases)"
   ]
  },
  {
   "cell_type": "markdown",
   "id": "033e2506-2690-4274-8098-69114f455ada",
   "metadata": {},
   "source": [
    "Our data is a list of cases. Let's check the type of case 0:"
   ]
  },
  {
   "cell_type": "code",
   "execution_count": null,
   "id": "3213289e-5c72-4368-91b5-8c41c460a950",
   "metadata": {},
   "outputs": [],
   "source": [
    "type(cases[0])"
   ]
  },
  {
   "cell_type": "markdown",
   "id": "468a4936-64e7-4b67-bca9-d03a6e8fa467",
   "metadata": {},
   "source": [
    "The data about each case is in a dictionary.\n",
    "We can print the keys using `list()`:"
   ]
  },
  {
   "cell_type": "code",
   "execution_count": null,
   "id": "166aa94b-41d0-4926-bd36-62653ba95620",
   "metadata": {
    "tags": []
   },
   "outputs": [],
   "source": [
    "keys = list(cases[0])\n",
    "print(keys)"
   ]
  },
  {
   "cell_type": "markdown",
   "id": "f72b9c35-0128-4c67-b2a4-edd202a7960b",
   "metadata": {},
   "source": [
    "We can loop over the list to get the title of each case:"
   ]
  },
  {
   "cell_type": "code",
   "execution_count": null,
   "id": "60484109-5217-4750-9932-02aadc15a22f",
   "metadata": {},
   "outputs": [],
   "source": [
    "for case in cases:\n",
    "    print(case['docname'])"
   ]
  },
  {
   "cell_type": "markdown",
   "id": "7eff8e3b-2add-46d9-bff3-a457776baf88",
   "metadata": {},
   "source": [
    "Each case has a decision or judgment date."
   ]
  },
  {
   "cell_type": "code",
   "execution_count": null,
   "id": "65f43c37-59ee-4383-9d1a-4d366432657b",
   "metadata": {},
   "outputs": [],
   "source": [
    "for case in cases:\n",
    "    print(case['docname'])\n",
    "    print(case.get('decisiondate'))\n",
    "    print(case.get('judgementdate'))\n",
    "    print()"
   ]
  },
  {
   "cell_type": "markdown",
   "id": "f4b12f9b-368b-4b8e-8935-bd2f5b647c00",
   "metadata": {},
   "source": [
    "## Using Harvard’s CAP API\n",
    "Again, we need to specify the URL to the data we want to fetch."
   ]
  },
  {
   "cell_type": "code",
   "execution_count": null,
   "id": "fd877f87-0c0f-4396-b0bc-4375ce1111a5",
   "metadata": {},
   "outputs": [],
   "source": [
    "URL = \"https://api.case.law/v1/cases/\""
   ]
  },
  {
   "cell_type": "markdown",
   "id": "aefd185f-db9a-4bb5-9b2f-b303e3f10d8e",
   "metadata": {},
   "source": [
    "We include some parameters that specifies which cases we want to load:"
   ]
  },
  {
   "cell_type": "code",
   "execution_count": null,
   "id": "8b3cb550-aca8-4d7b-aa43-22ca9b1e8923",
   "metadata": {},
   "outputs": [],
   "source": [
    "parameters = {'jurisdiction': 'ill',\n",
    "              'full_case': 'true',\n",
    "              'decision_date_min': '2011-01-01',\n",
    "              'page_size': 3}"
   ]
  },
  {
   "cell_type": "markdown",
   "id": "4a6a7fe6-7635-49ca-8dea-eff6329fbdd4",
   "metadata": {},
   "source": [
    "- `jurisdiction` is Illinois in this example\n",
    "- `full_case` include the full text of each case\n",
    "- `decision_date_min` is the minimum date, we only want decisions later than this date\n",
    "- `page_size` is the number of items\n",
    "\n",
    "More parameters are listed in the [CAP documentation](https://case.law/docs/site_features/api#endpoint-cases)."
   ]
  },
  {
   "cell_type": "markdown",
   "id": "b4862f70-ec81-415b-944b-45381d699c3d",
   "metadata": {},
   "source": [
    "Now, let's fetch the data."
   ]
  },
  {
   "cell_type": "code",
   "execution_count": null,
   "id": "ea75d10a-5710-4541-bda2-645f62e87559",
   "metadata": {},
   "outputs": [],
   "source": [
    "request = requests.get(URL, params=parameters)\n",
    "data = request.json()"
   ]
  },
  {
   "cell_type": "markdown",
   "id": "983d4617-be8f-45e9-acde-1d796af41559",
   "metadata": {
    "tags": []
   },
   "source": [
    "### Inspecting the Data"
   ]
  },
  {
   "cell_type": "markdown",
   "id": "5263d181-1584-47b2-b016-5c521643399f",
   "metadata": {},
   "source": [
    "JSON data can be contained in a list or dictionary at the top level.\n",
    "Let's check which type we got:"
   ]
  },
  {
   "cell_type": "code",
   "execution_count": null,
   "id": "9065c4f6-905e-48ff-b563-ab1b15b7421a",
   "metadata": {},
   "outputs": [],
   "source": [
    "type(data)"
   ]
  },
  {
   "cell_type": "markdown",
   "id": "4801c5c1-46e0-4308-a348-b367eb52dccb",
   "metadata": {},
   "source": [
    "Since our data is in a dictionary, we can print the keys using `list()`:"
   ]
  },
  {
   "cell_type": "code",
   "execution_count": null,
   "id": "ba0b764a-1cc2-498b-aa10-e22a1cda5069",
   "metadata": {},
   "outputs": [],
   "source": [
    "keys = list(data)\n",
    "print(keys)"
   ]
  },
  {
   "cell_type": "markdown",
   "id": "188148f1-273a-487b-84bd-aaa85782950f",
   "metadata": {},
   "source": [
    "The field `count` contains the number of hits in the database.\n",
    "This is usually different from the number of items we requested.\n",
    "If the `count` is zero, we don't have any results and need to check the URL and the parameters."
   ]
  },
  {
   "cell_type": "code",
   "execution_count": null,
   "id": "391f270d-8c0c-4e6b-b057-2c766f3d2ee7",
   "metadata": {},
   "outputs": [],
   "source": [
    "print(data[\"count\"])"
   ]
  },
  {
   "cell_type": "markdown",
   "id": "2836267f-570b-42bb-80de-de50470819c0",
   "metadata": {},
   "source": [
    "That looks good. Let's fetch the list of cases, which are located in `results`:"
   ]
  },
  {
   "cell_type": "code",
   "execution_count": null,
   "id": "f76a08f4-555d-44ca-873d-aa3c297fee81",
   "metadata": {},
   "outputs": [],
   "source": [
    "cases = data[\"results\"]"
   ]
  },
  {
   "cell_type": "markdown",
   "id": "2495ac85-4f8d-48b9-91af-d99c9a1740e3",
   "metadata": {},
   "source": [
    "Now we can inspect each case. Let's loop over the cases and get some of the information.\n",
    "The data contains various metadata about each case, such as the case name and the abbreviated case name."
   ]
  },
  {
   "cell_type": "code",
   "execution_count": null,
   "id": "f53d76a7-8a61-4ca3-ae56-5dde8f8e8e0d",
   "metadata": {},
   "outputs": [],
   "source": [
    "for case in cases:\n",
    "    print(\"Case name:\", case[\"name_abbreviation\"])"
   ]
  },
  {
   "cell_type": "markdown",
   "id": "2fe33080-fcf5-43ef-9fd2-f9a75e3926c8",
   "metadata": {},
   "source": [
    "It's often useful to look at the data in a web browser to get an overview.\n",
    "We can do that by opening the full URL, including the parameters:"
   ]
  },
  {
   "cell_type": "code",
   "execution_count": null,
   "id": "54d653ef-723b-495d-abde-40dcde4ca42a",
   "metadata": {},
   "outputs": [],
   "source": [
    "print(request.url)"
   ]
  }
 ],
 "metadata": {
  "kernelspec": {
   "display_name": "Python 3 (ipykernel)",
   "language": "python",
   "name": "python3"
  },
  "language_info": {
   "codemirror_mode": {
    "name": "ipython",
    "version": 3
   },
   "file_extension": ".py",
   "mimetype": "text/x-python",
   "name": "python",
   "nbconvert_exporter": "python",
   "pygments_lexer": "ipython3",
   "version": "3.9.13"
  }
 },
 "nbformat": 4,
 "nbformat_minor": 5
}
