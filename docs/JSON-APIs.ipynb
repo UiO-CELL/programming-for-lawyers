{
 "cells": [
  {
   "cell_type": "markdown",
   "id": "64f3940e-d9b0-4a5b-86e8-564e412214f9",
   "metadata": {},
   "source": [
    "# JSON and web APIs\n",
    "\n",
    "In {ref}`files_exceptions` we saw how to read data from files.\n",
    "In this part, we will look at how to read data directly from web APIs.\n",
    "Web APIs are *machine-readable* online data sources.\n",
    "\n",
    "We will use real-world data from Harvard’s\n",
    "[Caselaw Access Project](https://case.law/) (\"CAP\").\n",
    "CAP aims to make all published US courts decisions freely available in a standard,\n",
    "machine-readable format.\n",
    "CAP and the data format is [documented here](https://case.law/api/)."
   ]
  },
  {
   "cell_type": "markdown",
   "id": "2f13441b-b2f0-4548-a36c-822600b5481e",
   "metadata": {},
   "source": [
    "```{admonition} ECHR-OD API\n",
    "The European Court of Human Rights Open Data (ECHR-OD) project provides data about ECHR cases.\n",
    "ECHR-OD provides [machine-readable data for download](https://echr-opendata.eu/download/),\n",
    "but also a public [ECHR-OD API](https://echr-opendata.eu/connect/) for online use.\n",
    "Here is the [ECHR-OD API documentation](https://echr-opendata.eu/api/v1/docs).\n",
    "Unfortunately, this API is out of order at the time of writing.\n",
    "```"
   ]
  },
  {
   "cell_type": "markdown",
   "id": "b7ca5e0d-7ce1-4a14-9fe6-3605db345204",
   "metadata": {},
   "source": [
    "## Reading JSON from file"
   ]
  },
  {
   "cell_type": "markdown",
   "id": "52836ec6-e660-4d6b-817a-fca7d71af2db",
   "metadata": {},
   "source": [
    "```{admonition} JSON\n",
    "JSON (JavaScript Object Notation) is a machine-readable data format.\n",
    "Machine-readable data makes it easy to read and process the information with a computer.\n",
    "JSON data is usually tree structured, with multiple levels containing information.\n",
    "\n",
    "In Python, JSON data is stored as lists and dictionaries.\n",
    "The top level can be either a list or a dictionary.\n",
    "```"
   ]
  },
  {
   "cell_type": "markdown",
   "id": "8c2cf352-8dc0-47f8-95d3-bce9328e7467",
   "metadata": {},
   "source": [
    "First, let's look at how we can read JSON data from a local file.\n",
    "Here we read a file containing a few ECHR cases."
   ]
  },
  {
   "cell_type": "code",
   "execution_count": null,
   "id": "6559f192-047d-4ad7-a9dc-e903b269e2ea",
   "metadata": {},
   "outputs": [],
   "source": [
    "import json\n",
    "\n",
    "def read_json_file(filename):\n",
    "    with open(filename, 'r') as file:\n",
    "        text_data = file.read()\n",
    "        return json.loads(text_data)\n",
    "    \n",
    "cases = read_json_file('cases-5.json')"
   ]
  },
  {
   "cell_type": "markdown",
   "id": "f24e708d-9fdd-4118-89ea-1b3b3ed45d9f",
   "metadata": {},
   "source": [
    "However, this approach has some drawbacks.\n",
    "Firstly, we must manually download the data set.\n",
    "Secondly, we must keep the data set updated.\n",
    "Case law databases are updated regularly, and we probably want to include the latest data.\n",
    "Therefore, using online data directly is sometimes preferable."
   ]
  },
  {
   "cell_type": "markdown",
   "id": "68e98ea3-883d-44c9-8ae0-573e8bc2c5ed",
   "metadata": {},
   "source": [
    "## Reading JSON from a web API"
   ]
  },
  {
   "cell_type": "markdown",
   "id": "28906657-c32a-4e73-a3db-4a73fabb324c",
   "metadata": {},
   "source": [
    "To fetch data from the web, we can use a library called requests that makes this task quite easy.\n",
    "First, we import this:"
   ]
  },
  {
   "cell_type": "code",
   "execution_count": null,
   "id": "cb431ef6-3cc6-4263-9466-98feb67c7a67",
   "metadata": {},
   "outputs": [],
   "source": [
    "import requests"
   ]
  },
  {
   "cell_type": "markdown",
   "id": "f4b12f9b-368b-4b8e-8935-bd2f5b647c00",
   "metadata": {},
   "source": [
    "We need to specify the URL to the data we want to fetch."
   ]
  },
  {
   "cell_type": "code",
   "execution_count": null,
   "id": "fd877f87-0c0f-4396-b0bc-4375ce1111a5",
   "metadata": {},
   "outputs": [],
   "source": [
    "URL = \"https://api.case.law/v1/cases/\""
   ]
  },
  {
   "cell_type": "markdown",
   "id": "aefd185f-db9a-4bb5-9b2f-b303e3f10d8e",
   "metadata": {},
   "source": [
    "We include some parameters that specifies which cases we want to load:"
   ]
  },
  {
   "cell_type": "code",
   "execution_count": null,
   "id": "8b3cb550-aca8-4d7b-aa43-22ca9b1e8923",
   "metadata": {},
   "outputs": [],
   "source": [
    "parameters = {'jurisdiction': 'ill',\n",
    "              'full_case': 'true',\n",
    "              'decision_date_min': '2011-01-01',\n",
    "              'page_size': 3}"
   ]
  },
  {
   "cell_type": "markdown",
   "id": "4a6a7fe6-7635-49ca-8dea-eff6329fbdd4",
   "metadata": {},
   "source": [
    "- `jurisdiction` is Illinois in this example\n",
    "- `full_case` include the full text of each case\n",
    "- `decision_date_min` is the minimum date, we only want decisions later than this date\n",
    "- `page_size` is the number of items\n",
    "\n",
    "More parameters are listed in the [CAP documentation](https://case.law/docs/site_features/api#endpoint-cases)."
   ]
  },
  {
   "cell_type": "markdown",
   "id": "b4862f70-ec81-415b-944b-45381d699c3d",
   "metadata": {},
   "source": [
    "Now, let's fetch the data."
   ]
  },
  {
   "cell_type": "code",
   "execution_count": null,
   "id": "ea75d10a-5710-4541-bda2-645f62e87559",
   "metadata": {},
   "outputs": [],
   "source": [
    "request = requests.get(URL, params=parameters)\n",
    "data = request.json()"
   ]
  },
  {
   "cell_type": "markdown",
   "id": "983d4617-be8f-45e9-acde-1d796af41559",
   "metadata": {},
   "source": [
    "## Inspecting the Data"
   ]
  },
  {
   "cell_type": "markdown",
   "id": "ff394e2b-c2e6-4aa3-b2d9-de3a836423bd",
   "metadata": {},
   "source": [
    "We can display the data, however this is a lot of text:"
   ]
  },
  {
   "cell_type": "code",
   "execution_count": null,
   "id": "74c6c8f3-75b9-4826-b6f1-cc7f40277745",
   "metadata": {
    "tags": [
     "hide-output",
     "output_scroll"
    ]
   },
   "outputs": [],
   "source": [
    "display(data)"
   ]
  },
  {
   "cell_type": "markdown",
   "id": "5263d181-1584-47b2-b016-5c521643399f",
   "metadata": {},
   "source": [
    "JSON data can be contained in a list or dictionary at the top level.\n",
    "Let's check which type we got:"
   ]
  },
  {
   "cell_type": "code",
   "execution_count": null,
   "id": "9065c4f6-905e-48ff-b563-ab1b15b7421a",
   "metadata": {},
   "outputs": [],
   "source": [
    "type(data)"
   ]
  },
  {
   "cell_type": "markdown",
   "id": "4801c5c1-46e0-4308-a348-b367eb52dccb",
   "metadata": {},
   "source": [
    "Since our data is in a dictionary, we can print the keys using `list()`:"
   ]
  },
  {
   "cell_type": "code",
   "execution_count": null,
   "id": "ba0b764a-1cc2-498b-aa10-e22a1cda5069",
   "metadata": {},
   "outputs": [],
   "source": [
    "keys = list(data)\n",
    "print(keys)"
   ]
  },
  {
   "cell_type": "markdown",
   "id": "188148f1-273a-487b-84bd-aaa85782950f",
   "metadata": {},
   "source": [
    "The field `count` contains the number of hits in the database.\n",
    "This is usually different from the number of items we requested.\n",
    "If the `count` is zero, we don't have any results and need to check the URL and the parameters."
   ]
  },
  {
   "cell_type": "code",
   "execution_count": null,
   "id": "391f270d-8c0c-4e6b-b057-2c766f3d2ee7",
   "metadata": {},
   "outputs": [],
   "source": [
    "print(data[\"count\"])"
   ]
  },
  {
   "cell_type": "markdown",
   "id": "2836267f-570b-42bb-80de-de50470819c0",
   "metadata": {},
   "source": [
    "That looks good. Let's fetch the list of cases, which are located in `results`:"
   ]
  },
  {
   "cell_type": "code",
   "execution_count": null,
   "id": "f76a08f4-555d-44ca-873d-aa3c297fee81",
   "metadata": {},
   "outputs": [],
   "source": [
    "cases = data[\"results\"]"
   ]
  },
  {
   "cell_type": "markdown",
   "id": "2495ac85-4f8d-48b9-91af-d99c9a1740e3",
   "metadata": {},
   "source": [
    "Now we can inspect each case. Let's loop over the cases and get some of the information.\n",
    "The data contains various metadata about each case, such as the case name and the abbreviated case name."
   ]
  },
  {
   "cell_type": "code",
   "execution_count": null,
   "id": "f53d76a7-8a61-4ca3-ae56-5dde8f8e8e0d",
   "metadata": {},
   "outputs": [],
   "source": [
    "for case in cases:\n",
    "    print(\"Case name:\", case[\"name_abbreviation\"])"
   ]
  },
  {
   "cell_type": "markdown",
   "id": "2fe33080-fcf5-43ef-9fd2-f9a75e3926c8",
   "metadata": {},
   "source": [
    "It's often useful to look at the data in a web browser to get an overview.\n",
    "We can do that by opening the full URL, including the parameters:"
   ]
  },
  {
   "cell_type": "code",
   "execution_count": null,
   "id": "54d653ef-723b-495d-abde-40dcde4ca42a",
   "metadata": {},
   "outputs": [],
   "source": [
    "print(request.url)"
   ]
  }
 ],
 "metadata": {
  "kernelspec": {
   "display_name": "Python 3",
   "language": "python",
   "name": "python3"
  },
  "language_info": {
   "codemirror_mode": {
    "name": "ipython",
    "version": 3
   },
   "file_extension": ".py",
   "mimetype": "text/x-python",
   "name": "python",
   "nbconvert_exporter": "python",
   "pygments_lexer": "ipython3",
   "version": "3.8.10"
  }
 },
 "nbformat": 4,
 "nbformat_minor": 5
}
